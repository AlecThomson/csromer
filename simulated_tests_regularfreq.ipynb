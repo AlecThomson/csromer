{
 "cells": [
  {
   "cell_type": "code",
   "execution_count": 1,
   "id": "705f45e8",
   "metadata": {
    "ExecuteTime": {
     "end_time": "2021-08-02T15:58:08.347406Z",
     "start_time": "2021-08-02T15:58:08.286292Z"
    }
   },
   "outputs": [
    {
     "ename": "ModuleNotFoundError",
     "evalue": "No module named 'framework.io_functions'",
     "output_type": "error",
     "traceback": [
      "\u001b[0;31m---------------------------------------------------------------------------\u001b[0m",
      "\u001b[0;31mModuleNotFoundError\u001b[0m                       Traceback (most recent call last)",
      "\u001b[0;32m<ipython-input-1-44fcc241339e>\u001b[0m in \u001b[0;36m<module>\u001b[0;34m\u001b[0m\n\u001b[1;32m      1\u001b[0m \u001b[0;32mfrom\u001b[0m \u001b[0mIPython\u001b[0m\u001b[0;34m.\u001b[0m\u001b[0mdisplay\u001b[0m \u001b[0;32mimport\u001b[0m \u001b[0mclear_output\u001b[0m\u001b[0;34m\u001b[0m\u001b[0;34m\u001b[0m\u001b[0m\n\u001b[1;32m      2\u001b[0m \u001b[0;32mimport\u001b[0m \u001b[0mnumpy\u001b[0m \u001b[0;32mas\u001b[0m \u001b[0mnp\u001b[0m\u001b[0;34m\u001b[0m\u001b[0;34m\u001b[0m\u001b[0m\n\u001b[0;32m----> 3\u001b[0;31m \u001b[0;32mfrom\u001b[0m \u001b[0mframework\u001b[0m\u001b[0;34m.\u001b[0m\u001b[0mio_functions\u001b[0m \u001b[0;32mimport\u001b[0m \u001b[0mReader\u001b[0m\u001b[0;34m,\u001b[0m \u001b[0mWriter\u001b[0m\u001b[0;34m\u001b[0m\u001b[0;34m\u001b[0m\u001b[0m\n\u001b[0m\u001b[1;32m      4\u001b[0m \u001b[0;32mfrom\u001b[0m \u001b[0mframework\u001b[0m\u001b[0;34m.\u001b[0m\u001b[0mpre_processing\u001b[0m \u001b[0;32mimport\u001b[0m \u001b[0mPreProcessor\u001b[0m\u001b[0;34m\u001b[0m\u001b[0;34m\u001b[0m\u001b[0m\n\u001b[1;32m      5\u001b[0m \u001b[0;32mfrom\u001b[0m \u001b[0mframework\u001b[0m\u001b[0;34m.\u001b[0m\u001b[0mdfts\u001b[0m \u001b[0;32mimport\u001b[0m \u001b[0mDFT1D\u001b[0m\u001b[0;34m\u001b[0m\u001b[0;34m\u001b[0m\u001b[0m\n",
      "\u001b[0;31mModuleNotFoundError\u001b[0m: No module named 'framework.io_functions'"
     ]
    }
   ],
   "source": [
    "from IPython.display import clear_output\n",
    "import numpy as np\n",
    "from framework.io_functions import Reader, Writer\n",
    "from framework.pre_processing import PreProcessor\n",
    "from framework.dfts import DFT1D\n",
    "import matplotlib.pyplot as plt\n",
    "from framework.ofunction import OFunction\n",
    "from framework.utilities import real_to_complex, complex_to_real, find_pixel\n",
    "from framework.priors import TV, L1, Chi2\n",
    "from framework.optimizer import FISTA, ADMM, SDMM, GradientBasedMethod\n",
    "from framework.analytical_functions import Gaussian\n",
    "from scipy.constants import c\n",
    "from pynufft import NUFFT\n",
    "from scipy import signal as sci_signal\n",
    "from pandas.plotting import autocorrelation_plot\n",
    "import itertools"
   ]
  },
  {
   "cell_type": "code",
   "execution_count": null,
   "id": "a72f5dd0",
   "metadata": {
    "ExecuteTime": {
     "end_time": "2021-08-02T15:58:08.349643Z",
     "start_time": "2021-08-02T15:58:08.200Z"
    }
   },
   "outputs": [],
   "source": [
    "def normalize(x, a, b):\n",
    "    xmin = np.min(x)\n",
    "    xmax = np.max(x)\n",
    "    x_norm = a + (x-xmin)*(b-a)/(xmax-xmin)\n",
    "    return x_norm"
   ]
  },
  {
   "cell_type": "code",
   "execution_count": null,
   "id": "bdcb1928",
   "metadata": {
    "ExecuteTime": {
     "end_time": "2021-08-02T15:58:08.350004Z",
     "start_time": "2021-08-02T15:58:08.200Z"
    }
   },
   "outputs": [],
   "source": [
    "def gridding(W, P, l2, dl2, epsilon=1e-12):\n",
    "    l2_grid = np.arange(start=0+epsilon, stop=np.max(l2)+dl2, step=dl2)\n",
    "    m_grid = len(l2_grid)\n",
    "    print(\"The lambda-squared grid will have a size of: {0}\".format(m_grid))\n",
    "    P_grid_real = np.zeros(m_grid)\n",
    "    P_grid_imag = np.zeros(m_grid)\n",
    "    W_grid = np.zeros(m_grid)\n",
    "    \n",
    "    for i in range(0,len(l2)):\n",
    "        l2_grid_pos = int(np.floor(l2[i]/dl2))\n",
    "        if l2_grid_pos >= 0 and l2_grid_pos < m_grid:\n",
    "            P_grid_real[l2_grid_pos] += W[i] * P[i].real\n",
    "            P_grid_imag[l2_grid_pos] += W[i] * P[i].imag\n",
    "            W_grid[l2_grid_pos] += W[i]\n",
    "    \n",
    "    valid_idx = np.where(W_grid > 0.0)\n",
    "    P_grid_real[valid_idx] /= W_grid[valid_idx]\n",
    "    P_grid_imag[valid_idx] /= W_grid[valid_idx]\n",
    "    \n",
    "    P_grid = P_grid_real + 1j * P_grid_imag\n",
    "    \n",
    "    K_grid = np.sum(W)\n",
    "    return W_grid, K_grid, P_grid, l2_grid\n",
    "    "
   ]
  },
  {
   "cell_type": "code",
   "execution_count": null,
   "id": "a9e5d848",
   "metadata": {
    "ExecuteTime": {
     "end_time": "2021-08-02T15:58:08.350319Z",
     "start_time": "2021-08-02T15:58:08.200Z"
    }
   },
   "outputs": [],
   "source": [
    "def remove_channels(nu, remove_frac):\n",
    "    _chansremoved = []\n",
    "    while True:\n",
    "        pos = np.random.randint(0,len(nu))  # get position\n",
    "        width = np.random.uniform(0,100)  # get chunk size\n",
    "        low = int(pos - 0.5*width)\n",
    "        if low<0: low = 0\n",
    "        high= int(pos + 0.5*width)\n",
    "        if high>=len(nu): high = len(nu)-1\n",
    "\n",
    "        _chansremoved.append(list(np.arange(low,high)))\n",
    "        merged = list(itertools.chain(*_chansremoved))\n",
    "\n",
    "        chans_removed = np.unique(np.ravel(np.array(merged)))\n",
    "        frac = float(len(chans_removed))/float(len(nu))\n",
    "        if frac > remove_frac: break\n",
    "\n",
    "    # adjust back towards specified fraction\n",
    "    # using single channel adjustments:\n",
    "    while True:\n",
    "        idx = np.random.randint(0,len(chans_removed))\n",
    "        chans_removed = np.delete(chans_removed, idx)\n",
    "        frac = float(len(chans_removed))/float(len(nu))\n",
    "        if frac<=remove_frac: break\n",
    "    return chans_removed"
   ]
  },
  {
   "cell_type": "code",
   "execution_count": null,
   "id": "bd50e576",
   "metadata": {
    "ExecuteTime": {
     "end_time": "2021-08-02T15:58:08.350741Z",
     "start_time": "2021-08-02T15:58:08.200Z"
    }
   },
   "outputs": [],
   "source": [
    "def make_scenario1(phi_gal, l2, nu0, p0=1.0, phi_0=0.0, alpha=0.0):\n",
    "    \n",
    "    nu = c/np.sqrt(l2)\n",
    "    k = (nu/nu0)**(-1.0*alpha)\n",
    "    mu_q = p0*k*np.cos(2.*(phi_gal-phi_0)*l2)\n",
    "    mu_u = p0*k*np.sin(2.*(phi_gal-phi_0)*l2)\n",
    "    \n",
    "    p = np.mean(np.sqrt(mu_q**2+mu_u**2))\n",
    "    \n",
    "    return mu_q, mu_u"
   ]
  },
  {
   "cell_type": "code",
   "execution_count": null,
   "id": "53c0906b",
   "metadata": {
    "ExecuteTime": {
     "end_time": "2021-08-02T15:58:08.351122Z",
     "start_time": "2021-08-02T15:58:08.200Z"
    }
   },
   "outputs": [],
   "source": [
    "def make_scenario2(phi_fg, phi_gal, l2, p_fg=1.0, p_gal=0.25):\n",
    "    \n",
    "    mu_q = p_fg*np.sin(2*phi_fg*l2)/(2.*phi_fg*l2) + p_gal*np.cos(2.*phi_gal*l2)\n",
    "    mu_u = p_gal*np.sin(2.*phi_gal*l2)\n",
    "    \n",
    "    return mu_q, mu_u"
   ]
  },
  {
   "cell_type": "code",
   "execution_count": null,
   "id": "59a8c9cb",
   "metadata": {
    "ExecuteTime": {
     "end_time": "2021-08-02T15:58:08.351434Z",
     "start_time": "2021-08-02T15:58:08.200Z"
    }
   },
   "outputs": [],
   "source": [
    "def apply_noise(P, noise=1.0):\n",
    "    q_noise = np.random.normal(loc=0.0, scale=noise, size=len(P))\n",
    "    u_noise = np.random.normal(loc=0.0, scale=noise, size=len(P))\n",
    "    p_noise = q_noise + 1j * u_noise\n",
    "    \n",
    "    P_noisy = P + p_noise\n",
    "    return P_noisy"
   ]
  },
  {
   "cell_type": "code",
   "execution_count": null,
   "id": "75f2e7ed",
   "metadata": {
    "ExecuteTime": {
     "end_time": "2021-08-02T15:58:08.351934Z",
     "start_time": "2021-08-02T15:58:08.200Z"
    }
   },
   "outputs": [],
   "source": [
    "class Test:\n",
    "    def __init__(self, nu_min=None, nu_max=None, nchannels=None, noise_frac=None, remove_frac=None, gridding=True):\n",
    "        self.nu_min = nu_min\n",
    "        self.nu_max = nu_max\n",
    "        self.nchannels = nchannels\n",
    "        self.noise_frac = noise_frac\n",
    "        self.remove_frac = 1.0-remove_frac\n",
    "        self.gridding=gridding\n",
    "        \n",
    "        if nu_min is not None:\n",
    "            self.l2_max = (c/nu_min)**2\n",
    "        if nu_max is not None:\n",
    "            self.l2_min = (c/nu_max)**2\n",
    "            \n",
    "        if nu_min is not None and nu_max is not None:\n",
    "            self.nu0 = (nu_max+nu_min)/2\n",
    "        \n",
    "        if nu_min is not None and nu_max is not None and nchannels is not None:\n",
    "            self.nu = np.linspace(nu_min, nu_max, nchannels)\n",
    "            self.pre_proc = PreProcessor(freqs=self.nu)\n",
    "        \n",
    "        if remove_frac is not None and self.remove_frac < 1.0:\n",
    "            self._remove_channels()\n",
    "    \n",
    "    def _remove_channels(self):\n",
    "        chans_removed = remove_channels(self.nu, self.remove_frac)\n",
    "        self.nu = self.nu[chans_removed]\n",
    "        self.pre_proc.freqs = self.nu\n",
    "    \n",
    "    def get_faraday_data(self, sigma=None):\n",
    "        _sigma = np.ones(len(self.nu))\n",
    "        if sigma is not None:\n",
    "            _sigma = sigma\n",
    "        self.W, self.K = self.pre_proc.calculate_W_K(sigma=_sigma)\n",
    "        self.l2, self.l2_ref, self.phi, self.phi_r = self.pre_proc.calculate_phi(self.W, self.K, times=8, verbose=True)\n",
    "        self.dft = DFT1D(W=self.W, lambda2=self.l2, lambda2_ref=self.l2_ref, phi=self.phi)\n",
    "        \n",
    "    def create_faraday_data(self, phi_fg=None, phi_gal=None, p_gal=1.0, p_fg=0.25, scenario=\"1\"):\n",
    "        if scenario == \"1\":\n",
    "            if phi_gal is not None:\n",
    "                stokesQ, stokesU = make_scenario1(phi_gal, self.l2, self.nu0, p_gal)\n",
    "                P = stokesQ + 1j * stokesU\n",
    "            else:\n",
    "                print(\"Couldn't create Faraday Data\")\n",
    "        else:\n",
    "            if phi_gal is not None and phi_fg is not None:\n",
    "                stokesQ, stokesU = make_scenario2(phi_fg, phi_gal, self.l2, self.nu0, p_fg, p_gal)\n",
    "                P = stokesQ + 1j * stokesU\n",
    "            else:\n",
    "                print(\"Couldn't create Faraday Data\")\n",
    "        self.P = P\n",
    "    \n",
    "    def _apply_noise(self):\n",
    "        if self.noise_frac > 0.0:\n",
    "            print(\"Applying noise: {0}\".format(self.noise_frac))\n",
    "            self.old_P = self.P\n",
    "            self.P = apply_noise(self.P, self.noise_frac)\n",
    "            \n",
    "    def do_gridding(self):\n",
    "        self.old_P = self.P\n",
    "        self.old_l2 = self.l2\n",
    "        self.old_phi = self.phi\n",
    "        \n",
    "        self.W, self.K, self.P, self.l2 = gridding(self.W, self.P, self.l2, self.pre_proc.delta_l2_mean)\n",
    "        self.old_nu = self.nu\n",
    "        self.nu = c/np.sqrt(self.l2)\n",
    "        self.nu = self.nu[::-1]\n",
    "        self.pre_proc.freqs = self.nu\n",
    "        self.l2, self.l2_ref, self.phi, self.phi_r = self.pre_proc.calculate_phi(self.W, self.K, times=8, verbose=True)\n",
    "        self.dft = DFT1D(W=self.W, lambda2=self.l2, lambda2_ref=self.l2_ref, phi=self.phi)\n",
    "    \n",
    "    \n",
    "    def get_rmtf(self, phi_x = 0.0):\n",
    "        R = self.dft.RMTF(phi_x = phi_x)\n",
    "        return R\n",
    "    \n",
    "    def get_dirty(self):\n",
    "        F = self.dft.backward(self.P)\n",
    "        # Get noise from dirty Faraday Spectrum\n",
    "        idx_noise = np.where(np.abs(self.phi)>8000)\n",
    "        self.noise_F = np.std(0.5*(F[idx_noise].real + F[idx_noise].imag))\n",
    "        return F\n",
    "    \n",
    "    def run(self, phi_gal=-27.0918, p0=0.0035, lambda_l1=None, lambda_tv=None):\n",
    "        self.get_faraday_data()\n",
    "        self.p0 = p0\n",
    "        self.create_faraday_data(phi_gal=phi_gal, p_gal=self.p0)\n",
    "        self._apply_noise()\n",
    "        \n",
    "        F_dirty_nogrid = self.get_dirty()\n",
    "        \n",
    "        if self.gridding:\n",
    "            self.do_gridding()\n",
    "            \n",
    "        self.rmtf = self.get_rmtf()\n",
    "        self.F_dirty = self.get_dirty()#/self.pre_proc.rmtf_fwhm\n",
    "        \n",
    "        noise_fista = self.noise_F#/self.pre_proc.rmtf_fwhm\n",
    "        print(\"Noise in dirty Faraday Spectrum {0}\".format(noise_fista))\n",
    "        if lambda_l1 is None:\n",
    "            lambda_l1 = np.sqrt(2 * len(self.P) + 4 * np.sqrt(len(self.P)))*noise_fista\n",
    "        \n",
    "        if lambda_tv is None:\n",
    "            lambda_tv = 0.0\n",
    "            \n",
    "        print(lambda_l1, noise_fista)\n",
    "\n",
    "        chi2 = Chi2(b=self.P, dft_obj=self.dft, w=self.W)\n",
    "        l1 = L1(reg=lambda_l1)\n",
    "        tv = TV(reg=lambda_tv)\n",
    "        \n",
    "        F_func = [chi2, l1]\n",
    "        f_func = [chi2]\n",
    "        g_func = [l1]\n",
    "\n",
    "        F_obj = OFunction(F_func)\n",
    "        f_obj = OFunction(f_func)\n",
    "        g_obj = OFunction(g_func)\n",
    "\n",
    "        F_real = complex_to_real(self.F_dirty)\n",
    "        \n",
    "        opt = FISTA(F_obj=F_obj, i_guess=np.zeros_like(F_real), verbose=True, fx=chi2, gx=g_obj, noise=noise_fista)\n",
    "        #opt = GradientBasedMethod(F_obj=F_obj, i_guess=F_real, maxiter=100, verbose=True)\n",
    "        obj, X = opt.run()\n",
    "        X = real_to_complex(X)\n",
    "        \n",
    "        F_recon = X * self.K/len(self.phi)\n",
    "        self.F_recon_test = F_recon\n",
    "        \n",
    "        self.P_recon = self.dft.forward_normalized(X)\n",
    "        \n",
    "        # Residuals\n",
    "        self.P_residual = self.P-self.P_recon\n",
    "        self.F_residual = self.dft.backward(self.P_residual)\n",
    "        \n",
    "        # Make clean beam Gaussian\n",
    "        self.clean_rmtf = Gaussian(x=self.phi, fwhm=self.pre_proc.rmtf_fwhm)\n",
    "        clean_beam_kernel = self.clean_rmtf.run(normalized=True)\n",
    "        \n",
    "        #print(\"Max kernel: {0}\".format(np.max(clean_beam_kernel)))\n",
    "        #print(\"Min kernel: {0}\".format(np.min(clean_beam_kernel)))\n",
    "        \n",
    "        # Convolve model with clean beam and sum residuals up\n",
    "        F_conv = sci_signal.convolve(F_recon, clean_beam_kernel, mode='full', method='auto')\n",
    "        F_restored = F_conv[len(self.phi)//2:(len(self.phi)//2)+len(self.phi)] + self.F_residual\n",
    "        P_restored = self.dft.forward_normalized(F_restored * len(self.phi) / self.K)\n",
    "           \n",
    "        # Do the plots\n",
    "        fig, ax = plt.subplots(1, 4, figsize=(12,8), tight_layout=True, sharey=True, squeeze=True)\n",
    "        \n",
    "        ax[0].plot(self.old_l2, self.old_P.real, 'k.', label=r\"Stokes $Q$\")\n",
    "        ax[0].plot(self.old_l2, self.old_P.imag, 'c.', label=r\"Stokes $U$\")\n",
    "        ax[0].plot(self.old_l2, np.abs(self.old_P), 'g.', label=r\"$|P|$\")\n",
    "        #ax[0].set_box_aspect(1)\n",
    "        \n",
    "        ax[1].plot(self.l2, self.P.real, 'k.', label=r\"Stokes $Q$\")\n",
    "        ax[1].plot(self.l2, self.P.imag, 'c.', label=r\"Stokes $U$\")\n",
    "        ax[1].plot(self.l2, np.abs(self.P), 'g.', label=r\"$|P|$\")\n",
    "        #ax[1].set_box_aspect(1)\n",
    "        \n",
    "        ax[2].plot(self.l2, self.P_recon.real, 'k.', label=r\"Stokes $Q$\")\n",
    "        ax[2].plot(self.l2, self.P_recon.imag, 'c.', label=r\"Stokes $U$\")\n",
    "        ax[2].plot(self.l2, np.abs(self.P_recon), 'g.', label=r\"$|P|$\")\n",
    "        #ax[2].set_box_aspect(1)\n",
    "        \n",
    "        ax[3].plot(self.l2, self.P_residual.real, 'k.', label=r\"Stokes $Q$\")\n",
    "        ax[3].plot(self.l2, self.P_residual.imag, 'c.', label=r\"Stokes $U$\")\n",
    "        ax[3].plot(self.l2, np.abs(self.P_residual), 'g.', label=r\"$|P|$\")\n",
    "        #ax[3].set_box_aspect(1)\n",
    "        \n",
    "        #ax[4].plot(self.l2, P_restored.real, 'k.', label=r\"Stokes $Q$\")\n",
    "        #ax[4].plot(self.l2, P_restored.imag, 'c.', label=r\"Stokes $U$\")\n",
    "        #ax[4].plot(self.l2, np.abs(P_restored), 'g.', label=r\"$|P|$\")\n",
    "        #ax[4].set_box_aspect(1)\n",
    "        \n",
    "        fig2, ax2 = plt.subplots(1, 5, figsize=(12,8), tight_layout=True, sharey=True, squeeze=True)\n",
    "        \n",
    "        ax2[0].plot(self.old_phi, F_dirty_nogrid.real, 'c--', label=r\"Real part\")\n",
    "        ax2[0].plot(self.old_phi, F_dirty_nogrid.imag, 'c:', label=r\"Imaginary part\")\n",
    "        ax2[0].plot(self.old_phi, np.abs(F_dirty_nogrid), 'k-', label=r\"Amplitude\")\n",
    "        ax2[0].set_xlim([-500,500])\n",
    "        #ax2[0].set_box_aspect(1)\n",
    "        \n",
    "        ax2[1].plot(self.phi, self.F_dirty.real, 'c--', label=r\"Real part\")\n",
    "        ax2[1].plot(self.phi, self.F_dirty.imag, 'c:', label=r\"Imaginary part\")\n",
    "        ax2[1].plot(self.phi, np.abs(self.F_dirty), 'k-', label=r\"Amplitude\")\n",
    "        ax2[1].set_xlim([-500,500])\n",
    "        #ax2[1].set_box_aspect(1)\n",
    "        \n",
    "        ax2[2].plot(self.phi, F_recon.real, 'c--', label=r\"Real part\")\n",
    "        ax2[2].plot(self.phi, F_recon.imag, 'c:', label=r\"Imaginary part\")\n",
    "        ax2[2].plot(self.phi, np.abs(F_recon), 'k-', label=r\"Amplitude\")\n",
    "        ax2[2].set_xlim([-500,500])\n",
    "        #ax2[2].set_box_aspect(1)\n",
    "        \n",
    "        ax2[3].plot(self.phi, self.F_residual .real, 'c--', label=r\"Real part\")\n",
    "        ax2[3].plot(self.phi, self.F_residual .imag, 'c:', label=r\"Imaginary part\")\n",
    "        ax2[3].plot(self.phi, np.abs(self.F_residual), 'k-', label=r\"Amplitude\")\n",
    "        ax2[3].set_xlim([-500,500])\n",
    "        #ax2[3].set_box_aspect(1)\n",
    "        \n",
    "        ax2[4].plot(self.phi, F_restored.real, 'c--', label=r\"Real part\")\n",
    "        ax2[4].plot(self.phi, F_restored.imag, 'c:', label=r\"Imaginary part\")\n",
    "        ax2[4].plot(self.phi, np.abs(F_restored), 'k-', label=r\"Amplitude\")\n",
    "        ax2[4].set_xlim([-500,500])\n",
    "        #ax2[4].set_box_aspect(1)\n",
    "        \n",
    "        fig.tight_layout()\n",
    "        fig2.tight_layout()\n",
    "        \n",
    "        self.lambda2_fig = fig\n",
    "        self.phi_fig = fig2\n",
    "        \n",
    "        # Return important statistics\n",
    "        # - SNR\n",
    "        # - Root mean squared\n",
    "        res_noise = 0.5*(np.std(self.F_residual.real) + np.std(self.F_residual.imag))\n",
    "        meaningful_signal = np.where(np.abs(self.phi) < self.pre_proc.max_faraday_depth)\n",
    "        signal = np.mean(np.abs(F_recon[meaningful_signal]))\n",
    "        peak_signal = np.max(np.abs(F_recon))\n",
    "        \n",
    "        self.peak = peak_signal\n",
    "        self.noise = res_noise\n",
    "        self.snr = signal / res_noise\n",
    "        self.psnr = peak_signal / res_noise\n",
    "        self.rmse = np.abs(np.abs(self.p0) - peak_signal)/self.p0\n",
    "        \n",
    "        print(\"Absolute model peak: {0}\".format(self.peak))\n",
    "        print(\"Original peak value: {0}\".format(np.abs(self.p0)))\n",
    "        print(\"Signal-to-noise ratio: {0}\".format(self.snr))\n",
    "        print(\"Peak Signal-to-noise ratio: {0}\".format(self.psnr))\n",
    "        print(\"Root mean squared error: {0}\".format(self.rmse))"
   ]
  },
  {
   "cell_type": "code",
   "execution_count": null,
   "id": "44448d87",
   "metadata": {
    "ExecuteTime": {
     "end_time": "2021-08-02T15:58:08.352257Z",
     "start_time": "2021-08-02T15:58:08.200Z"
    }
   },
   "outputs": [],
   "source": [
    "np.random.seed(666)"
   ]
  },
  {
   "cell_type": "code",
   "execution_count": null,
   "id": "12dcd5cf",
   "metadata": {
    "ExecuteTime": {
     "end_time": "2021-08-02T15:58:08.352688Z",
     "start_time": "2021-08-02T15:58:08.200Z"
    }
   },
   "outputs": [],
   "source": [
    "p0 = 0.004\n",
    "nsigma = [3.0, 4.0, 5.0, 6.0, 8.0, 10.0] # 3.5\n",
    "remove_frac = [0.0, 0.05, 0.1, 0.25, 0.5, 0.53, 0.7] # 0.53"
   ]
  },
  {
   "cell_type": "code",
   "execution_count": null,
   "id": "5697184c",
   "metadata": {
    "ExecuteTime": {
     "end_time": "2021-08-02T15:58:08.353047Z",
     "start_time": "2021-08-02T15:58:08.200Z"
    }
   },
   "outputs": [],
   "source": [
    "test_objs = []\n",
    "\n",
    "for nsig in nsigma:\n",
    "    for remv_frac in remove_frac:\n",
    "        test_objs.append(Test(nu_min=1.008e9, nu_max=2.031e9, nchannels=1000, noise_frac=p0/nsig, remove_frac=remv_frac, gridding=True))"
   ]
  },
  {
   "cell_type": "code",
   "execution_count": null,
   "id": "022bc606",
   "metadata": {
    "ExecuteTime": {
     "end_time": "2021-08-02T15:58:08.353368Z",
     "start_time": "2021-08-02T15:58:08.200Z"
    }
   },
   "outputs": [],
   "source": [
    "nid = len(nsigma)*len(remove_frac)\n",
    "for _id in range(0, nid):\n",
    "    test_objs[_id].run(p0=p0)"
   ]
  },
  {
   "cell_type": "code",
   "execution_count": null,
   "id": "8fa55a2b",
   "metadata": {
    "ExecuteTime": {
     "end_time": "2021-08-02T15:58:08.353657Z",
     "start_time": "2021-08-02T15:58:08.200Z"
    }
   },
   "outputs": [],
   "source": [
    "test_objs[6].lambda2_fig"
   ]
  },
  {
   "cell_type": "code",
   "execution_count": null,
   "id": "253f4576",
   "metadata": {
    "ExecuteTime": {
     "end_time": "2021-08-02T15:58:08.354012Z",
     "start_time": "2021-08-02T15:58:08.200Z"
    }
   },
   "outputs": [],
   "source": [
    "test_objs[6].phi_fig"
   ]
  },
  {
   "cell_type": "code",
   "execution_count": null,
   "id": "a3a1a6b2",
   "metadata": {
    "ExecuteTime": {
     "end_time": "2021-08-02T15:58:08.354326Z",
     "start_time": "2021-08-02T15:58:08.300Z"
    }
   },
   "outputs": [],
   "source": [
    "#nsigma = [2.0, 3.5, 5.0, 10.0, 50.0, 100.0] # 3.5\n",
    "#remove_frac = [0.0, 0.05, 0.1, 0.25, 0.5, 0.53, 0.7] # 0.53\n",
    "str_frac = str(remove_frac).replace(\"[\", \"\").replace(\"]\",\"\").replace(\",\", \"\")\n",
    "print(\"N\\R\", end=\"|\")\n",
    "print(\" \"+str_frac, end=\" \\n\")\n",
    "print(\"=\"*8*len(remove_frac))\n",
    "for i in range(0, len(nsigma)):\n",
    "    for j in range(0, len(remove_frac)):\n",
    "        _id = len(remove_frac)*i + j\n",
    "        if j==0:\n",
    "            print(nsigma[i], end=\" \")\n",
    "            print(\"|\", end=\" \")\n",
    "        print(\"{0:.3f}\".format(test_objs[_id].psnr), end=\" \")\n",
    "        if j==len(remove_frac)-1:\n",
    "            print(\"|\", end=\" \")\n",
    "    print(\"\\n\")\n",
    "print(\"=\"*8*len(remove_frac))"
   ]
  },
  {
   "cell_type": "code",
   "execution_count": null,
   "id": "4898420a",
   "metadata": {
    "ExecuteTime": {
     "end_time": "2021-08-02T15:58:08.354750Z",
     "start_time": "2021-08-02T15:58:08.300Z"
    }
   },
   "outputs": [],
   "source": [
    "#nsigma = [2.0, 3.5, 5.0, 10.0, 50.0, 100.0] # 3.5\n",
    "#remove_frac = [0.0, 0.05, 0.1, 0.25, 0.5, 0.53, 0.7] # 0.53\n",
    "str_frac = str(remove_frac).replace(\"[\", \"\").replace(\"]\",\"\").replace(\",\", \"\")\n",
    "print(\"N\\R\", end=\"|\")\n",
    "print(\" \"+str_frac, end=\" \\n\")\n",
    "print(\"=\"*8*len(remove_frac))\n",
    "for i in range(0, len(nsigma)):\n",
    "    for j in range(0, len(remove_frac)):\n",
    "        _id = len(remove_frac)*i + j\n",
    "        if j==0:\n",
    "            print(nsigma[i], end=\" \")\n",
    "            print(\"|\", end=\" \")\n",
    "        print(\"{0:.3f}\".format(test_objs[_id].rmse), end=\" \")\n",
    "        if j==len(remove_frac)-1:\n",
    "            print(\"|\", end=\" \")\n",
    "    print(\"\\n\")\n",
    "print(\"=\"*8*len(remove_frac))"
   ]
  },
  {
   "cell_type": "code",
   "execution_count": null,
   "id": "502971f8",
   "metadata": {
    "ExecuteTime": {
     "end_time": "2021-08-02T15:58:08.355090Z",
     "start_time": "2021-08-02T15:58:08.300Z"
    }
   },
   "outputs": [],
   "source": [
    "_id = 6\n",
    "old_lambda2 = test_objs[_id].old_l2\n",
    "lambda2 = test_objs[_id].l2\n",
    "phi = test_objs[_id].phi\n",
    "gauss_rmtf = Gaussian(x=phi, fwhm=test_objs[_id].pre_proc.rmtf_fwhm)\n",
    "gauss_rmtf_array = gauss_rmtf.run(normalized=True)\n",
    "gauss_rmtf_nonor = gauss_rmtf.run(normalized=False)\n",
    "F_recon = test_objs[_id].F_recon_test#/gauss_rmtf.fwhm\n",
    "residual = test_objs[_id].F_residual\n",
    "P_recon = test_objs[_id].P_recon\n",
    "P_residual = test_objs[_id].P_residual\n",
    "F_conv = sci_signal.convolve(F_recon, gauss_rmtf_array, mode='full', method='auto') \n",
    "F_restored_conv = F_conv[len(phi)//2:(len(phi)//2)+len(phi)] + residual\n",
    "\n",
    "F_truth = np.zeros_like(F_recon, dtype=np.complex128)\n",
    "idx = np.argmax(np.abs(F_recon))#np.where(phi==-27.0918)\n",
    "F_truth[idx] = 0.004\n",
    "F_truth_c = sci_signal.convolve(F_truth, gauss_rmtf_array, mode='full', method='auto')\n",
    "F_truth_conv = F_truth_c[len(phi)//2:(len(phi)//2)+len(phi)]"
   ]
  },
  {
   "cell_type": "code",
   "execution_count": null,
   "id": "e296561d",
   "metadata": {
    "ExecuteTime": {
     "end_time": "2021-08-02T15:58:08.355399Z",
     "start_time": "2021-08-02T15:58:08.300Z"
    }
   },
   "outputs": [],
   "source": [
    "fig, ax = plt.subplots(1, 3, figsize=(12,12), tight_layout=True, sharey=True, squeeze=True)\n",
    "\n",
    "#ax[1].plot(test_objs[_id].phi, gauss_rmtf)\n",
    "#ax[1].set_xlim([-200,200])\n",
    "\n",
    "ax[0].plot(phi, F_recon.real, 'c--', label=r\"Real part\")\n",
    "ax[0].plot(phi, F_recon.imag, 'c-', label=r\"Imaginary part\")\n",
    "ax[0].plot(phi, np.abs(F_recon), 'k-', label=r\"Amplitude\")\n",
    "ax[0].set_xlim([-500,500])\n",
    "\n",
    "ax[1].plot(phi, F_restored.real, 'c--', label=r\"Real part\")\n",
    "ax[1].plot(phi, F_restored.imag, 'c-', label=r\"Imaginary part\")\n",
    "ax[1].plot(phi, np.abs(F_restored), 'k-', label=r\"Amplitude\")\n",
    "ax[1].set_xlim([-500,500])\n",
    "\n",
    "ax[2].plot(phi, F_truth_conv.real, 'c--', label=r\"Real part\")\n",
    "ax[2].plot(phi, F_truth_conv.imag, 'c-', label=r\"Imaginary part\")\n",
    "ax[2].plot(phi, np.abs(F_truth_conv), 'k-', label=r\"Amplitude\")\n",
    "ax[2].set_xlim([-500,500])"
   ]
  },
  {
   "cell_type": "code",
   "execution_count": null,
   "id": "db055844",
   "metadata": {
    "ExecuteTime": {
     "end_time": "2021-08-02T15:58:08.355924Z",
     "start_time": "2021-08-02T15:58:08.300Z"
    }
   },
   "outputs": [],
   "source": [
    "def autocorr(x):\n",
    "    result = sci_signal.correlate(x/np.std(x), x/np.std(x), mode='full', method='auto')\n",
    "    result /= len(x)\n",
    "    return result[result.size//2:]"
   ]
  },
  {
   "cell_type": "code",
   "execution_count": null,
   "id": "bee55833",
   "metadata": {
    "ExecuteTime": {
     "end_time": "2021-08-02T15:58:08.356263Z",
     "start_time": "2021-08-02T15:58:08.300Z"
    }
   },
   "outputs": [],
   "source": [
    "# Do the same by hand\n",
    "autocorr_real = autocorr(P_residual.real)\n",
    "autocorr_imag = autocorr(P_residual.imag)\n",
    "autocorr_res = autocorr_real + 1j * autocorr_imag\n",
    "\n",
    "lags = sci_signal.correlation_lags(len(lambda2), len(lambda2), mode=\"full\")\n",
    "lags_pos = np.where(lags >= 0)\n",
    "lags = lags[lags_pos]"
   ]
  },
  {
   "cell_type": "code",
   "execution_count": null,
   "id": "ddb67e49",
   "metadata": {
    "ExecuteTime": {
     "end_time": "2021-08-02T15:58:08.356577Z",
     "start_time": "2021-08-02T15:58:08.300Z"
    }
   },
   "outputs": [],
   "source": [
    "from scipy import special\n",
    "\n",
    "vcrit = np.sqrt(2)*special.erfinv(0.95)\n",
    "print(vcrit)\n",
    "bound= vcrit/np.sqrt(len(lambda2))\n",
    "print(bound)\n",
    "\n",
    "fig_acorr, ax2_acorr = plt.subplots(1, 2, figsize=(5,5), tight_layout=True, sharey=True, squeeze=True)\n",
    "\n",
    "ax2_acorr[0].plot(lags, autocorr_res.real, 'c-', label=r\"Real part\")\n",
    "ax2_acorr[1].plot(lags, autocorr_res.imag, 'c--', label=r\"Imaginary part\")\n",
    "ax2_acorr[0].axhline(-bound)\n",
    "ax2_acorr[0].axhline(bound)\n",
    "ax2_acorr[1].axhline(-bound)\n",
    "ax2_acorr[1].axhline(bound)\n",
    "ax2_acorr[0].grid()\n",
    "ax2_acorr[1].grid()\n",
    "#plt.plot(lags, np.abs(autocorr_res), 'k-', label=r\"Amplitude\")\n",
    "ax2_acorr[0].set_xlim([-20,len(lags)-1])\n",
    "ax2_acorr[1].set_xlim([-20,len(lags)-1])"
   ]
  },
  {
   "cell_type": "code",
   "execution_count": null,
   "id": "ee0deb49",
   "metadata": {
    "ExecuteTime": {
     "end_time": "2021-08-02T15:58:08.356897Z",
     "start_time": "2021-08-02T15:58:08.300Z"
    }
   },
   "outputs": [],
   "source": [
    "elem_real = ((autocorr_res.real > -bound) & (autocorr_res.real < bound)).sum()\n",
    "100.0*elem_real/len(lags)"
   ]
  },
  {
   "cell_type": "code",
   "execution_count": null,
   "id": "0bc02ac8",
   "metadata": {
    "ExecuteTime": {
     "end_time": "2021-08-02T15:58:08.357204Z",
     "start_time": "2021-08-02T15:58:08.300Z"
    }
   },
   "outputs": [],
   "source": [
    "elem_imag = ((autocorr_res.imag > -bound) & (autocorr_res.imag < bound)).sum()\n",
    "100.0*elem_imag/len(lags)"
   ]
  },
  {
   "cell_type": "code",
   "execution_count": null,
   "id": "f453e82c",
   "metadata": {
    "ExecuteTime": {
     "end_time": "2021-08-02T15:58:08.357542Z",
     "start_time": "2021-08-02T15:58:08.300Z"
    }
   },
   "outputs": [],
   "source": [
    "from scipy.interpolate import interp1d\n",
    "f_func = interp1d(lambda2, P_residual, kind='cubic')#, fill_value=\"extrapolate\")\n",
    "f_mod_func = interp1d(lambda2, P_recon, kind='cubic')#, fill_value=\"extrapolate\")"
   ]
  },
  {
   "cell_type": "code",
   "execution_count": null,
   "id": "3878b2d2",
   "metadata": {
    "ExecuteTime": {
     "end_time": "2021-08-02T15:58:08.357967Z",
     "start_time": "2021-08-02T15:58:08.300Z"
    }
   },
   "outputs": [],
   "source": [
    "P_interp = f_func(old_lambda2)\n",
    "P_mod = f_mod_func(old_lambda2)"
   ]
  },
  {
   "cell_type": "code",
   "execution_count": null,
   "id": "29c59397",
   "metadata": {
    "ExecuteTime": {
     "end_time": "2021-08-02T15:58:08.358288Z",
     "start_time": "2021-08-02T15:58:08.300Z"
    }
   },
   "outputs": [],
   "source": [
    "plt.plot(old_lambda2, P_interp.real, 'k.', label=r\"Stokes $Q$\")\n",
    "plt.plot(old_lambda2, P_interp.imag, 'c.', label=r\"Stokes $U$\")\n",
    "plt.plot(old_lambda2, np.abs(P_interp), 'g.', label=r\"$|P|$\")"
   ]
  },
  {
   "cell_type": "code",
   "execution_count": null,
   "id": "c8b8c5e1",
   "metadata": {
    "ExecuteTime": {
     "end_time": "2021-08-02T15:58:08.358578Z",
     "start_time": "2021-08-02T15:58:08.300Z"
    }
   },
   "outputs": [],
   "source": [
    "plt.plot(old_lambda2, P_mod.real, 'k.', label=r\"Stokes $Q$\")\n",
    "plt.plot(old_lambda2, P_mod.imag, 'c.', label=r\"Stokes $U$\")\n",
    "plt.plot(old_lambda2, np.abs(P_mod), 'g.', label=r\"$|P|$\")"
   ]
  },
  {
   "cell_type": "code",
   "execution_count": null,
   "id": "8d3ceb25",
   "metadata": {
    "ExecuteTime": {
     "end_time": "2021-08-02T15:58:08.358880Z",
     "start_time": "2021-08-02T15:58:08.300Z"
    }
   },
   "outputs": [],
   "source": [
    "autocorr_real = autocorr(P_interp.real)\n",
    "autocorr_imag = autocorr(P_interp.imag)\n",
    "autocorr_res = autocorr_real + 1j * autocorr_imag\n",
    "\n",
    "lags = sci_signal.correlation_lags(len(old_lambda2), len(old_lambda2), mode=\"full\")\n",
    "lags_pos = np.where(lags >= 0)\n",
    "lags = lags[lags_pos]"
   ]
  },
  {
   "cell_type": "code",
   "execution_count": null,
   "id": "7896629b",
   "metadata": {
    "ExecuteTime": {
     "end_time": "2021-08-02T15:58:08.359190Z",
     "start_time": "2021-08-02T15:58:08.300Z"
    }
   },
   "outputs": [],
   "source": [
    "from scipy import special\n",
    "\n",
    "vcrit = np.sqrt(2)*special.erfinv(0.95)\n",
    "print(vcrit)\n",
    "bound= vcrit/np.sqrt(len(old_lambda2));\n",
    "print(bound)\n",
    "\n",
    "fig_acorr, ax2_acorr = plt.subplots(1, 2, figsize=(5,5), tight_layout=True, sharey=True, squeeze=True)\n",
    "\n",
    "ax2_acorr[0].plot(lags, autocorr_res.real, 'c-', label=r\"Real part\")\n",
    "ax2_acorr[1].plot(lags, autocorr_res.imag, 'c--', label=r\"Imaginary part\")\n",
    "ax2_acorr[0].axhline(-bound)\n",
    "ax2_acorr[0].axhline(bound)\n",
    "ax2_acorr[1].axhline(-bound)\n",
    "ax2_acorr[1].axhline(bound)\n",
    "ax2_acorr[0].grid()\n",
    "ax2_acorr[1].grid()\n",
    "#plt.plot(lags, np.abs(autocorr_res), 'k-', label=r\"Amplitude\")\n",
    "ax2_acorr[0].set_xlim([-20,len(lags)])\n",
    "ax2_acorr[1].set_xlim([-20,len(lags)])"
   ]
  },
  {
   "cell_type": "code",
   "execution_count": null,
   "id": "966741d9",
   "metadata": {
    "ExecuteTime": {
     "end_time": "2021-08-02T15:58:08.359556Z",
     "start_time": "2021-08-02T15:58:08.300Z"
    }
   },
   "outputs": [],
   "source": [
    "elem_real = ((autocorr_res.real > -bound) & (autocorr_res.real < bound)).sum()\n",
    "100.0*elem_real/len(lags)"
   ]
  },
  {
   "cell_type": "code",
   "execution_count": null,
   "id": "badcd39d",
   "metadata": {
    "ExecuteTime": {
     "end_time": "2021-08-02T15:58:08.359968Z",
     "start_time": "2021-08-02T15:58:08.300Z"
    }
   },
   "outputs": [],
   "source": [
    "elem_imag = ((autocorr_res.imag > -bound) & (autocorr_res.imag < bound)).sum()\n",
    "100.0*elem_imag/len(lags)"
   ]
  },
  {
   "cell_type": "code",
   "execution_count": null,
   "id": "77c6e328",
   "metadata": {
    "ExecuteTime": {
     "end_time": "2021-08-02T15:58:08.360347Z",
     "start_time": "2021-08-02T15:58:08.300Z"
    }
   },
   "outputs": [],
   "source": [
    "pre_proc = PreProcessor(freqs=test_objs[_id].old_nu)"
   ]
  },
  {
   "cell_type": "code",
   "execution_count": null,
   "id": "b4d1ce48",
   "metadata": {
    "ExecuteTime": {
     "end_time": "2021-08-02T15:58:08.360696Z",
     "start_time": "2021-08-02T15:58:08.300Z"
    }
   },
   "outputs": [],
   "source": [
    "W, K = pre_proc.calculate_W_K(sigma=np.ones_like(old_lambda2))\n",
    "l2, l2_ref, phi, phi_r = pre_proc.calculate_phi(W, K, times=8, verbose=True)\n",
    "dft = DFT1D(W=W, lambda2=l2, lambda2_ref=l2_ref, phi=phi)"
   ]
  },
  {
   "cell_type": "code",
   "execution_count": null,
   "id": "7768d315",
   "metadata": {
    "ExecuteTime": {
     "end_time": "2021-08-02T15:58:08.361005Z",
     "start_time": "2021-08-02T15:58:08.300Z"
    }
   },
   "outputs": [],
   "source": [
    "F_res = dft.backward(P_mod)"
   ]
  },
  {
   "cell_type": "code",
   "execution_count": null,
   "id": "2278eab3",
   "metadata": {
    "ExecuteTime": {
     "end_time": "2021-08-02T15:58:08.361438Z",
     "start_time": "2021-08-02T15:58:08.300Z"
    }
   },
   "outputs": [],
   "source": [
    "plt.plot(phi, F_res.real, 'c--', label=r\"Real part\")\n",
    "plt.plot(phi, F_res.imag, 'c:', label=r\"Imaginary part\")\n",
    "plt.plot(phi, np.abs(F_res), 'k-', label=r\"Amplitude\")\n",
    "plt.xlim([-700,700])"
   ]
  },
  {
   "cell_type": "code",
   "execution_count": null,
   "id": "2f7eb8a6",
   "metadata": {},
   "outputs": [],
   "source": []
  }
 ],
 "metadata": {
  "kernelspec": {
   "display_name": "Python 3 (ipykernel)",
   "language": "python",
   "name": "python3"
  },
  "language_info": {
   "codemirror_mode": {
    "name": "ipython",
    "version": 3
   },
   "file_extension": ".py",
   "mimetype": "text/x-python",
   "name": "python",
   "nbconvert_exporter": "python",
   "pygments_lexer": "ipython3",
   "version": "3.9.6"
  },
  "latex_envs": {
   "LaTeX_envs_menu_present": true,
   "autoclose": false,
   "autocomplete": true,
   "bibliofile": "biblio.bib",
   "cite_by": "apalike",
   "current_citInitial": 1,
   "eqLabelWithNumbers": true,
   "eqNumInitial": 1,
   "hotkeys": {
    "equation": "Ctrl-E",
    "itemize": "Ctrl-I"
   },
   "labels_anchors": false,
   "latex_user_defs": false,
   "report_style_numbering": false,
   "user_envs_cfg": false
  },
  "toc": {
   "base_numbering": 1,
   "nav_menu": {},
   "number_sections": true,
   "sideBar": true,
   "skip_h1_title": false,
   "title_cell": "Table of Contents",
   "title_sidebar": "Contents",
   "toc_cell": false,
   "toc_position": {},
   "toc_section_display": true,
   "toc_window_display": false
  },
  "varInspector": {
   "cols": {
    "lenName": 16,
    "lenType": 16,
    "lenVar": 40
   },
   "kernels_config": {
    "python": {
     "delete_cmd_postfix": "",
     "delete_cmd_prefix": "del ",
     "library": "var_list.py",
     "varRefreshCmd": "print(var_dic_list())"
    },
    "r": {
     "delete_cmd_postfix": ") ",
     "delete_cmd_prefix": "rm(",
     "library": "var_list.r",
     "varRefreshCmd": "cat(var_dic_list()) "
    }
   },
   "types_to_exclude": [
    "module",
    "function",
    "builtin_function_or_method",
    "instance",
    "_Feature"
   ],
   "window_display": false
  }
 },
 "nbformat": 4,
 "nbformat_minor": 5
}
