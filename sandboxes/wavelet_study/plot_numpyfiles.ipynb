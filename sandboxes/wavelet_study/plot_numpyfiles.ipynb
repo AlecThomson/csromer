{
 "cells": [
  {
   "cell_type": "code",
   "execution_count": 1,
   "id": "0142b612",
   "metadata": {
    "ExecuteTime": {
     "end_time": "2022-03-25T11:23:09.678710Z",
     "start_time": "2022-03-25T11:23:09.168104Z"
    }
   },
   "outputs": [],
   "source": [
    "import os\n",
    "import matplotlib.pyplot as plt\n",
    "import pywt\n",
    "import numpy as np\n",
    "%matplotlib inline"
   ]
  },
  {
   "cell_type": "code",
   "execution_count": 2,
   "id": "a4bd04c0",
   "metadata": {
    "ExecuteTime": {
     "end_time": "2022-03-25T11:23:09.681960Z",
     "start_time": "2022-03-25T11:23:09.679500Z"
    }
   },
   "outputs": [],
   "source": [
    "SMALL_SIZE = 17\n",
    "MEDIUM_SIZE = 18\n",
    "BIGGER_SIZE = 19\n",
    "\n",
    "plt.rcParams.update({\n",
    "                \"font.family\": \"serif\",\n",
    "                \"text.usetex\": True,\n",
    "                \"pgf.rcfonts\": False,\n",
    "                \"pgf.texsystem\": 'pdflatex',  # default is xetex\n",
    "            })\n",
    "\n",
    "plt.rc('font', size=MEDIUM_SIZE)  # controls default text sizes\n",
    "plt.rc('axes', titlesize=SMALL_SIZE)  # fontsize of the axes title\n",
    "plt.rc('axes', labelsize=MEDIUM_SIZE)  # fontsize of the x and y labels\n",
    "plt.rc('xtick', labelsize=SMALL_SIZE)  # fontsize of the tick labels\n",
    "plt.rc('ytick', labelsize=SMALL_SIZE)  # fontsize of the tick labels\n",
    "plt.rc('legend', fontsize=SMALL_SIZE)  # legend fontsize"
   ]
  },
  {
   "cell_type": "code",
   "execution_count": 3,
   "id": "aad9a921",
   "metadata": {
    "ExecuteTime": {
     "end_time": "2022-03-25T11:23:09.748062Z",
     "start_time": "2022-03-25T11:23:09.682970Z"
    }
   },
   "outputs": [],
   "source": [
    "nscenarios = 3"
   ]
  },
  {
   "cell_type": "code",
   "execution_count": 4,
   "id": "c60e4f67",
   "metadata": {
    "ExecuteTime": {
     "end_time": "2022-03-25T11:23:09.797385Z",
     "start_time": "2022-03-25T11:23:09.748869Z"
    }
   },
   "outputs": [],
   "source": [
    "undecimated = \"undecimated_\"\n",
    "radiotelescope = \"jvla\""
   ]
  },
  {
   "cell_type": "code",
   "execution_count": 5,
   "id": "de8154f9",
   "metadata": {
    "ExecuteTime": {
     "end_time": "2022-03-25T11:23:09.846350Z",
     "start_time": "2022-03-25T11:23:09.798531Z"
    }
   },
   "outputs": [],
   "source": [
    "means_file = undecimated+\"wavelet_\"+radiotelescope+\"_means.npy\""
   ]
  },
  {
   "cell_type": "code",
   "execution_count": 6,
   "id": "cb34f850",
   "metadata": {
    "ExecuteTime": {
     "end_time": "2022-03-25T11:23:09.894615Z",
     "start_time": "2022-03-25T11:23:09.847718Z"
    }
   },
   "outputs": [],
   "source": [
    "stds_file = undecimated+\"wavelet_\"+radiotelescope+\"_stds.npy\""
   ]
  },
  {
   "cell_type": "code",
   "execution_count": 7,
   "id": "0fe0d5e2",
   "metadata": {
    "ExecuteTime": {
     "end_time": "2022-03-25T11:23:09.944757Z",
     "start_time": "2022-03-25T11:23:09.895829Z"
    }
   },
   "outputs": [],
   "source": [
    "scenarios_means = np.load(means_file)\n",
    "scenarios_stds = np.load(stds_file)"
   ]
  },
  {
   "cell_type": "code",
   "execution_count": 8,
   "id": "f1b9f681",
   "metadata": {
    "ExecuteTime": {
     "end_time": "2022-03-25T11:23:09.992845Z",
     "start_time": "2022-03-25T11:23:09.946005Z"
    }
   },
   "outputs": [],
   "source": [
    "families=[\"bior\", \"coif\", \"db\", \"dmey\", \"rbio\", \"sym\"]"
   ]
  },
  {
   "cell_type": "code",
   "execution_count": 9,
   "id": "7ba3cb20",
   "metadata": {
    "ExecuteTime": {
     "end_time": "2022-03-25T11:23:10.041711Z",
     "start_time": "2022-03-25T11:23:09.994123Z"
    }
   },
   "outputs": [],
   "source": [
    "use_wavelet = [\"bior\", \"coif\", \"db\", \"dmey\", \"rbio\", \"sym\"]\n",
    "# use_wavelet.remove(\"haar\")\n",
    "nwavelets = len(use_wavelet)\n",
    "idx_coif = [use_wavelet.index(\"coif\") - 0.5, use_wavelet.index(\"db\") - 0.5, use_wavelet.index(\"dmey\") - 0.5,  use_wavelet.index(\"rbio\") - 0.5, use_wavelet.index(\"sym\") - 0.5]"
   ]
  },
  {
   "cell_type": "code",
   "execution_count": 10,
   "id": "45874e4c",
   "metadata": {
    "ExecuteTime": {
     "end_time": "2022-03-25T11:23:10.090370Z",
     "start_time": "2022-03-25T11:23:10.042990Z"
    }
   },
   "outputs": [],
   "source": [
    "# Getting minimum AICs\n",
    "idx_sc1 = np.argmin(scenarios_means[0, 2])\n",
    "idx_sc2 = np.argmin(scenarios_means[1, 2])\n",
    "idx_sc3 = np.argmin(scenarios_means[2, 2])"
   ]
  },
  {
   "cell_type": "code",
   "execution_count": 11,
   "id": "38e4ffc7",
   "metadata": {
    "ExecuteTime": {
     "end_time": "2022-03-25T11:23:10.140245Z",
     "start_time": "2022-03-25T11:23:10.093613Z"
    }
   },
   "outputs": [
    {
     "name": "stdout",
     "output_type": "stream",
     "text": [
      "Scenario 1: Best AIC Wavelet family {0} : {1:.3f} \n",
      "Scenario 1: Best AIC Wavelet: dmey -22674.703+-126.18879\n",
      "Scenario 2: Best AIC Wavelet: coif -22553.348+-151.52919\n",
      "Scenario 3: Best AIC Wavelet: coif -22234.25+-214.72023\n"
     ]
    }
   ],
   "source": [
    "print(\"Scenario 1: Best AIC Wavelet family {0} : {1:.3f} \")\n",
    "\n",
    "print(\"Scenario 1: Best AIC Wavelet: \"+families[idx_sc1]+\" \"+str(scenarios_means[0, 2, idx_sc1])+\"+-\"+str(scenarios_stds[0, 2, idx_sc1]))\n",
    "print(\"Scenario 2: Best AIC Wavelet: \"+families[idx_sc2]+\" \"+str(scenarios_means[1, 2, idx_sc2])+\"+-\"+str(scenarios_stds[1, 2, idx_sc2]))\n",
    "print(\"Scenario 3: Best AIC Wavelet: \"+families[idx_sc3]+\" \"+str(scenarios_means[2, 2, idx_sc3])+\"+-\"+str(scenarios_stds[2, 2, idx_sc3]))"
   ]
  },
  {
   "cell_type": "code",
   "execution_count": 12,
   "id": "4d427510",
   "metadata": {
    "ExecuteTime": {
     "end_time": "2022-03-25T11:23:10.192241Z",
     "start_time": "2022-03-25T11:23:10.141555Z"
    }
   },
   "outputs": [
    {
     "name": "stdout",
     "output_type": "stream",
     "text": [
      "Scenario 1: Best AIC Wavelet BIC: dmey -22275.67+-161.52362\n",
      "Scenario 2: Best AIC Wavelet BIC: coif -22173.242+-181.2607\n",
      "Scenario 3: Best AIC Wavelet BIC: coif -21737.164+-222.3737\n"
     ]
    }
   ],
   "source": [
    "print(\"Scenario 1: Best AIC Wavelet BIC: \"+families[idx_sc1]+\" \"+str(scenarios_means[0, 3, idx_sc1])+\"+-\"+str(scenarios_stds[0, 3, idx_sc1]))\n",
    "print(\"Scenario 2: Best AIC Wavelet BIC: \"+families[idx_sc2]+\" \"+str(scenarios_means[1, 3, idx_sc2])+\"+-\"+str(scenarios_stds[1, 3, idx_sc2]))\n",
    "print(\"Scenario 3: Best AIC Wavelet BIC: \"+families[idx_sc3]+\" \"+str(scenarios_means[2, 3, idx_sc3])+\"+-\"+str(scenarios_stds[2, 3, idx_sc3]))"
   ]
  },
  {
   "cell_type": "code",
   "execution_count": 13,
   "id": "87dfadd7",
   "metadata": {
    "ExecuteTime": {
     "end_time": "2022-03-25T11:23:10.268512Z",
     "start_time": "2022-03-25T11:23:10.193614Z"
    }
   },
   "outputs": [
    {
     "name": "stdout",
     "output_type": "stream",
     "text": [
      "Scenario 1: Best AIC Wavelet PSNR: dmey 106.03568+-10.598696\n",
      "Scenario 2: Best AIC Wavelet PSNR: coif 91.31866+-6.8195386\n",
      "Scenario 3: Best AIC Wavelet PSNR: coif 95.81245+-9.629461\n"
     ]
    }
   ],
   "source": [
    "print(\"Scenario 1: Best AIC Wavelet PSNR: \"+families[idx_sc1]+\" \"+str(scenarios_means[0, 0, idx_sc1])+\"+-\"+str(scenarios_stds[0, 0, idx_sc1]))\n",
    "print(\"Scenario 2: Best AIC Wavelet PSNR: \"+families[idx_sc2]+\" \"+str(scenarios_means[1, 0, idx_sc2])+\"+-\"+str(scenarios_stds[1, 0, idx_sc2]))\n",
    "print(\"Scenario 3: Best AIC Wavelet PSNR: \"+families[idx_sc3]+\" \"+str(scenarios_means[2, 0, idx_sc3])+\"+-\"+str(scenarios_stds[2, 0, idx_sc3]))"
   ]
  },
  {
   "cell_type": "code",
   "execution_count": 14,
   "id": "3154850d",
   "metadata": {
    "ExecuteTime": {
     "end_time": "2022-03-25T11:23:10.325770Z",
     "start_time": "2022-03-25T11:23:10.270470Z"
    }
   },
   "outputs": [
    {
     "name": "stdout",
     "output_type": "stream",
     "text": [
      "Scenario 1: Best AIC Wavelet RMSE: dmey 0.0007994866+-2.9289125e-05\n",
      "Scenario 2: Best AIC Wavelet RMSE: coif 0.0008325643+-3.9486687e-05\n",
      "Scenario 3: Best AIC Wavelet RMSE: coif 0.00090855727+-6.324544e-05\n"
     ]
    }
   ],
   "source": [
    "print(\"Scenario 1: Best AIC Wavelet RMSE: \"+families[idx_sc1]+\" \"+str(scenarios_means[0, 1, idx_sc1])+\"+-\"+str(scenarios_stds[0, 1, idx_sc1]))\n",
    "print(\"Scenario 2: Best AIC Wavelet RMSE: \"+families[idx_sc2]+\" \"+str(scenarios_means[1, 1, idx_sc2])+\"+-\"+str(scenarios_stds[1, 1, idx_sc2]))\n",
    "print(\"Scenario 3: Best AIC Wavelet RMSE: \"+families[idx_sc3]+\" \"+str(scenarios_means[2, 1, idx_sc3])+\"+-\"+str(scenarios_stds[2, 1, idx_sc3]))"
   ]
  },
  {
   "cell_type": "code",
   "execution_count": 15,
   "id": "3550867a",
   "metadata": {
    "ExecuteTime": {
     "end_time": "2022-03-25T11:23:10.380682Z",
     "start_time": "2022-03-25T11:23:10.327253Z"
    }
   },
   "outputs": [],
   "source": [
    "#coif2_idx = [x for x in range(len(use_wavelet)) if use_wavelet[x] == \"coif2\"][0]\n",
    "#sym6_idx = [x for x in range(len(use_wavelet)) if use_wavelet[x] == \"sym6\"][0]"
   ]
  },
  {
   "cell_type": "code",
   "execution_count": 16,
   "id": "14bf0797",
   "metadata": {
    "ExecuteTime": {
     "end_time": "2022-03-25T11:23:10.437586Z",
     "start_time": "2022-03-25T11:23:10.382151Z"
    }
   },
   "outputs": [],
   "source": [
    "#print(\"AIC Scenario 2 coif2: \"+str(scenarios_means[1, 2, coif2_idx]))"
   ]
  },
  {
   "cell_type": "code",
   "execution_count": 17,
   "id": "9f97f268",
   "metadata": {
    "ExecuteTime": {
     "end_time": "2022-03-25T11:23:10.493521Z",
     "start_time": "2022-03-25T11:23:10.439196Z"
    }
   },
   "outputs": [],
   "source": [
    "#print(\"AIC Scenario 2 sym6: \"+str(scenarios_means[1, 2, sym6_idx]))"
   ]
  },
  {
   "cell_type": "code",
   "execution_count": 18,
   "id": "153fef86",
   "metadata": {
    "ExecuteTime": {
     "end_time": "2022-03-25T11:23:11.827398Z",
     "start_time": "2022-03-25T11:23:10.495047Z"
    }
   },
   "outputs": [
    {
     "data": {
      "image/png": "[encoded data removed]",
      "text/plain": [
       "<Figure size 1296x360 with 12 Axes>"
      ]
     },
     "metadata": {
      "needs_background": "light"
     },
     "output_type": "display_data"
    }
   ],
   "source": [
    "_id = np.arange(0, nwavelets)\n",
    "names = [\"PSNR\", \"RMSE\", \"AIC\", \"BIC\"]  \n",
    "fig, ax = plt.subplots(nrows=scenarios_means.shape[0], ncols=len(names), sharey='none', sharex='all', figsize=(18, 5))\n",
    "#cmap = plt.get_cmap('tab20')\n",
    "cmap = plt.get_cmap('Set2')\n",
    "colors = [cmap(i) for i in np.linspace(0, 1, nwavelets)]\n",
    "\n",
    "for i in range(scenarios_means.shape[0]):\n",
    "    for j in range(len(names)):\n",
    "        for k in range(scenarios_means.shape[2]):\n",
    "            ax[i,j].plot(_id[k], scenarios_means[i,j,k], label=use_wavelet[k], color=colors[k])\n",
    "            ax[i,j].errorbar(_id[k], scenarios_means[i,j,k], yerr = scenarios_stds[i,j,k], fmt ='.', capsize=4, color=colors[k])\n",
    "            #if names[f] == \"PSNR\" and sc==3:\n",
    "            #ax[sc-1,f].legend(loc='upper center', bbox_to_anchor=(0.5, -0.5), ncol=19, fancybox=True, shadow=True, title=\"Wavelets\")\n",
    "            ax[i,j].set_ylabel(names[j])\n",
    "        if i==2:\n",
    "            ax[i,j].set_xlabel(\"Wavelet\")\n",
    "\n",
    "#for k in range(len(idx_coif)):\n",
    "#    for i in range(scenarios_means.shape[0]):\n",
    "#        for j in range(len(names)):\n",
    "#            ax[i,j].axvline(x = idx_coif[k], color = 'k', linestyle=\"--\", alpha=0.8)\n",
    "            \n",
    "#for i in range(scenarios_means.shape[0]):\n",
    "    #ax[i,1].set_ylim([0,0.0015])\n",
    "    #ax[i,2].set_ylim([-25000,-20000])\n",
    "    #ax[i,3].set_ylim([-25000,-20000])\n",
    "\n",
    "    #ax[i,2].set_ylim([-25000,-15000]) #undecimated\n",
    "    #ax[i,3].set_ylim([-25000,17500]) #undecimated\n",
    "\n",
    "ofile_name = undecimated+\"wavelets_\"+radiotelescope+\".png\"\n",
    "#fig.legend(loc='lower center', bbox_to_anchor=(0.5, -0.5), ncol=19, fancybox=True, shadow=True, title=\"Wavelets\")\n",
    "#ax[len(scenarios)-1, 1].legend(loc='upper left', bbox_to_anchor=[1.0, -0.5], ncol=19, fancybox=True, shadow=True, title=\"Wavelets\")\n",
    "h, l = ax[0,0].get_legend_handles_labels()\n",
    "legend = fig.legend(h, l, loc='lower center', ncol=18, fancybox=True, bbox_to_anchor=[0.52, -0.375], shadow=True, title=\"Wavelets\")\n",
    "fig.suptitle(\"Delta dirac basis + Undecimated Wavelet\")\n",
    "fig.tight_layout()\n",
    "if os.path.isfile(ofile_name):\n",
    "    os.remove(ofile_name)   # Opt.: os.system(\"rm \"+strFile)\n",
    "fig.savefig(ofile_name, dpi=100, bbox_inches='tight')#"
   ]
  },
  {
   "cell_type": "code",
   "execution_count": null,
   "id": "9290e6e0",
   "metadata": {},
   "outputs": [],
   "source": []
  }
 ],
 "metadata": {
  "kernelspec": {
   "display_name": "Python 3 (ipykernel)",
   "language": "python",
   "name": "python3"
  },
  "language_info": {
   "codemirror_mode": {
    "name": "ipython",
    "version": 3
   },
   "file_extension": ".py",
   "mimetype": "text/x-python",
   "name": "python",
   "nbconvert_exporter": "python",
   "pygments_lexer": "ipython3",
   "version": "3.10.2"
  },
  "latex_envs": {
   "LaTeX_envs_menu_present": true,
   "autoclose": false,
   "autocomplete": true,
   "bibliofile": "biblio.bib",
   "cite_by": "apalike",
   "current_citInitial": 1,
   "eqLabelWithNumbers": true,
   "eqNumInitial": 1,
   "hotkeys": {
    "equation": "Ctrl-E",
    "itemize": "Ctrl-I"
   },
   "labels_anchors": false,
   "latex_user_defs": false,
   "report_style_numbering": false,
   "user_envs_cfg": false
  },
  "varInspector": {
   "cols": {
    "lenName": 16,
    "lenType": 16,
    "lenVar": 40
   },
   "kernels_config": {
    "python": {
     "delete_cmd_postfix": "",
     "delete_cmd_prefix": "del ",
     "library": "var_list.py",
     "varRefreshCmd": "print(var_dic_list())"
    },
    "r": {
     "delete_cmd_postfix": ") ",
     "delete_cmd_prefix": "rm(",
     "library": "var_list.r",
     "varRefreshCmd": "cat(var_dic_list()) "
    }
   },
   "types_to_exclude": [
    "module",
    "function",
    "builtin_function_or_method",
    "instance",
    "_Feature"
   ],
   "window_display": false
  }
 },
 "nbformat": 4,
 "nbformat_minor": 5
}
