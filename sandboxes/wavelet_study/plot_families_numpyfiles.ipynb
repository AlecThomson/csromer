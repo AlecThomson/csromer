{
 "cells": [
  {
   "cell_type": "code",
   "execution_count": 1,
   "id": "0142b612",
   "metadata": {
    "ExecuteTime": {
     "end_time": "2022-04-05T21:23:15.060434Z",
     "start_time": "2022-04-05T21:23:14.567767Z"
    }
   },
   "outputs": [],
   "source": [
    "import os\n",
    "import matplotlib.pyplot as plt\n",
    "import pywt\n",
    "import numpy as np\n",
    "%matplotlib inline"
   ]
  },
  {
   "cell_type": "code",
   "execution_count": 2,
   "id": "9a257732",
   "metadata": {
    "ExecuteTime": {
     "end_time": "2022-04-05T21:23:15.063944Z",
     "start_time": "2022-04-05T21:23:15.061460Z"
    }
   },
   "outputs": [],
   "source": [
    "SMALL_SIZE = 17\n",
    "MEDIUM_SIZE = 18\n",
    "BIGGER_SIZE = 19\n",
    "\n",
    "plt.rcParams.update({\n",
    "                \"font.family\": \"serif\",\n",
    "                \"text.usetex\": True,\n",
    "                \"pgf.rcfonts\": False,\n",
    "                \"pgf.texsystem\": 'pdflatex',  # default is xetex\n",
    "            })\n",
    "\n",
    "plt.rc('font', size=MEDIUM_SIZE)  # controls default text sizes\n",
    "plt.rc('axes', titlesize=SMALL_SIZE)  # fontsize of the axes title\n",
    "plt.rc('axes', labelsize=MEDIUM_SIZE)  # fontsize of the x and y labels\n",
    "plt.rc('xtick', labelsize=SMALL_SIZE)  # fontsize of the tick labels\n",
    "plt.rc('ytick', labelsize=SMALL_SIZE)  # fontsize of the tick labels\n",
    "plt.rc('legend', fontsize=SMALL_SIZE)  # legend fontsize"
   ]
  },
  {
   "cell_type": "code",
   "execution_count": 3,
   "id": "aad9a921",
   "metadata": {
    "ExecuteTime": {
     "end_time": "2022-04-05T21:23:15.109430Z",
     "start_time": "2022-04-05T21:23:15.064521Z"
    }
   },
   "outputs": [],
   "source": [
    "nscenarios = 3"
   ]
  },
  {
   "cell_type": "code",
   "execution_count": 4,
   "id": "c60e4f67",
   "metadata": {
    "ExecuteTime": {
     "end_time": "2022-04-05T21:23:15.158481Z",
     "start_time": "2022-04-05T21:23:15.110155Z"
    }
   },
   "outputs": [],
   "source": [
    "undecimated = \"undecimated_\"\n",
    "radiotelescope = \"jvla\""
   ]
  },
  {
   "cell_type": "code",
   "execution_count": 5,
   "id": "de8154f9",
   "metadata": {
    "ExecuteTime": {
     "end_time": "2022-04-05T21:23:15.219152Z",
     "start_time": "2022-04-05T21:23:15.159103Z"
    }
   },
   "outputs": [],
   "source": [
    "means_file = undecimated+\"wavelet_\"+radiotelescope+\"_means_50.npy\""
   ]
  },
  {
   "cell_type": "code",
   "execution_count": 6,
   "id": "cb34f850",
   "metadata": {
    "ExecuteTime": {
     "end_time": "2022-04-05T21:23:15.268208Z",
     "start_time": "2022-04-05T21:23:15.219738Z"
    }
   },
   "outputs": [],
   "source": [
    "stds_file = undecimated+\"wavelet_\"+radiotelescope+\"_stds_50.npy\""
   ]
  },
  {
   "cell_type": "code",
   "execution_count": 7,
   "id": "0fe0d5e2",
   "metadata": {
    "ExecuteTime": {
     "end_time": "2022-04-05T21:23:15.317472Z",
     "start_time": "2022-04-05T21:23:15.269372Z"
    }
   },
   "outputs": [],
   "source": [
    "scenarios_means = np.load(means_file)\n",
    "scenarios_stds = np.load(stds_file)"
   ]
  },
  {
   "cell_type": "code",
   "execution_count": 8,
   "id": "4f8504ae",
   "metadata": {
    "ExecuteTime": {
     "end_time": "2022-04-05T21:23:15.368597Z",
     "start_time": "2022-04-05T21:23:15.319834Z"
    }
   },
   "outputs": [
    {
     "data": {
      "text/plain": [
       "(3, 4, 4)"
      ]
     },
     "execution_count": 8,
     "metadata": {},
     "output_type": "execute_result"
    }
   ],
   "source": [
    "scenarios_means.shape"
   ]
  },
  {
   "cell_type": "code",
   "execution_count": 9,
   "id": "7ba3cb20",
   "metadata": {
    "ExecuteTime": {
     "end_time": "2022-04-05T21:23:15.415101Z",
     "start_time": "2022-04-05T21:23:15.369977Z"
    }
   },
   "outputs": [],
   "source": [
    "use_wavelet = [\"coif\", \"db\", \"dmey\", \"sym\"]\n",
    "# use_wavelet.remove(\"haar\")\n",
    "nwavelets = len(use_wavelet)\n",
    "#idx_coif = [use_wavelet.index(\"coif\") - 0.5, use_wavelet.index(\"db\") - 0.5, use_wavelet.index(\"dmey\") - 0.5,  use_wavelet.index(\"rbio\") - 0.5, use_wavelet.index(\"sym\") - 0.5]"
   ]
  },
  {
   "cell_type": "code",
   "execution_count": 10,
   "id": "45874e4c",
   "metadata": {
    "ExecuteTime": {
     "end_time": "2022-04-05T21:23:15.463327Z",
     "start_time": "2022-04-05T21:23:15.416424Z"
    }
   },
   "outputs": [],
   "source": [
    "# Getting minimum AICs\n",
    "idx_sc1 = np.argmin(scenarios_means[0, 2])\n",
    "idx_sc2 = np.argmin(scenarios_means[1, 2])\n",
    "idx_sc3 = np.argmin(scenarios_means[2, 2])"
   ]
  },
  {
   "cell_type": "code",
   "execution_count": 11,
   "id": "38e4ffc7",
   "metadata": {
    "ExecuteTime": {
     "end_time": "2022-04-05T21:23:15.513454Z",
     "start_time": "2022-04-05T21:23:15.464569Z"
    }
   },
   "outputs": [
    {
     "name": "stdout",
     "output_type": "stream",
     "text": [
      "Scenario 1: Best AIC Wavelet family coif : -21382.26 \\pm 400.68\n",
      "Scenario 2: Best AIC Wavelet family coif : -21330.32 \\pm 412.00\n",
      "Scenario 3: Best AIC Wavelet family sym : -20579.63 \\pm 478.81\n"
     ]
    }
   ],
   "source": [
    "print(\"Scenario 1: Best AIC Wavelet family {0} : {1:.2f} \\pm {2:.2f}\".format(use_wavelet[idx_sc1], scenarios_means[0, 2, idx_sc1], scenarios_stds[0, 2, idx_sc1]))\n",
    "print(\"Scenario 2: Best AIC Wavelet family {0} : {1:.2f} \\pm {2:.2f}\".format(use_wavelet[idx_sc2], scenarios_means[1, 2, idx_sc2], scenarios_stds[1, 2, idx_sc2]))\n",
    "print(\"Scenario 3: Best AIC Wavelet family {0} : {1:.2f} \\pm {2:.2f}\".format(use_wavelet[idx_sc3], scenarios_means[2, 2, idx_sc3], scenarios_stds[2, 2, idx_sc3]))"
   ]
  },
  {
   "cell_type": "code",
   "execution_count": 12,
   "id": "4d427510",
   "metadata": {
    "ExecuteTime": {
     "end_time": "2022-04-05T21:23:15.561116Z",
     "start_time": "2022-04-05T21:23:15.514712Z"
    }
   },
   "outputs": [
    {
     "name": "stdout",
     "output_type": "stream",
     "text": [
      "Scenario 1: Best BIC Wavelet family coif : -17371.75 \\pm 1385.33\n",
      "Scenario 2: Best BIC Wavelet family coif : -17364.58 \\pm 1400.86\n",
      "Scenario 3: Best BIC Wavelet family sym : -15008.18 \\pm 1640.27\n"
     ]
    }
   ],
   "source": [
    "print(\"Scenario 1: Best BIC Wavelet family {0} : {1:.2f} \\pm {2:.2f}\".format(use_wavelet[idx_sc1], scenarios_means[0, 3, idx_sc1], scenarios_stds[0, 3, idx_sc1]))\n",
    "print(\"Scenario 2: Best BIC Wavelet family {0} : {1:.2f} \\pm {2:.2f}\".format(use_wavelet[idx_sc2], scenarios_means[1, 3, idx_sc2], scenarios_stds[1, 3, idx_sc2]))\n",
    "print(\"Scenario 3: Best BIC Wavelet family {0} : {1:.2f} \\pm {2:.2f}\".format(use_wavelet[idx_sc3], scenarios_means[2, 3, idx_sc3], scenarios_stds[2, 3, idx_sc3]))"
   ]
  },
  {
   "cell_type": "code",
   "execution_count": 13,
   "id": "87dfadd7",
   "metadata": {
    "ExecuteTime": {
     "end_time": "2022-04-05T21:23:15.614889Z",
     "start_time": "2022-04-05T21:23:15.562590Z"
    }
   },
   "outputs": [
    {
     "name": "stdout",
     "output_type": "stream",
     "text": [
      "Scenario 1: Best PSNR Wavelet family coif : 111.87 \\pm 7.25\n",
      "Scenario 2: Best PSNR Wavelet family coif : 92.26 \\pm 6.30\n",
      "Scenario 3: Best PSNR Wavelet family sym : 103.61 \\pm 7.84\n"
     ]
    }
   ],
   "source": [
    "print(\"Scenario 1: Best PSNR Wavelet family {0} : {1:.2f} \\pm {2:.2f}\".format(use_wavelet[idx_sc1], scenarios_means[0, 0, idx_sc1], scenarios_stds[0, 0, idx_sc1]))\n",
    "print(\"Scenario 2: Best PSNR Wavelet family {0} : {1:.2f} \\pm {2:.2f}\".format(use_wavelet[idx_sc2], scenarios_means[1, 0, idx_sc2], scenarios_stds[1, 0, idx_sc2]))\n",
    "print(\"Scenario 3: Best PSNR Wavelet family {0} : {1:.2f} \\pm {2:.2f}\".format(use_wavelet[idx_sc3], scenarios_means[2, 0, idx_sc3], scenarios_stds[2, 0, idx_sc3]))"
   ]
  },
  {
   "cell_type": "code",
   "execution_count": 14,
   "id": "3154850d",
   "metadata": {
    "ExecuteTime": {
     "end_time": "2022-04-05T21:23:16.050182Z",
     "start_time": "2022-04-05T21:23:15.616213Z"
    }
   },
   "outputs": [
    {
     "name": "stdout",
     "output_type": "stream",
     "text": [
      "Scenario 1: Best RMSE Wavelet family coif : (78.71 \\pm 3.46)*1e-5\n",
      "Scenario 2: Best RMSE Wavelet family coif : (80.42 \\pm 3.50)*1e-5\n",
      "Scenario 3: Best RMSE Wavelet family sym : (84.39 \\pm 4.09)*1e-5\n"
     ]
    }
   ],
   "source": [
    "print(\"Scenario 1: Best RMSE Wavelet family {0} : ({1:.2f} \\pm {2:.2f})*1e-5\".format(use_wavelet[idx_sc1], scenarios_means[0, 1, idx_sc1]*10**5, scenarios_stds[0, 1, idx_sc1]*10**5))\n",
    "print(\"Scenario 2: Best RMSE Wavelet family {0} : ({1:.2f} \\pm {2:.2f})*1e-5\".format(use_wavelet[idx_sc2], scenarios_means[1, 1, idx_sc2]*10**5, scenarios_stds[1, 1, idx_sc2]*10**5))\n",
    "print(\"Scenario 3: Best RMSE Wavelet family {0} : ({1:.2f} \\pm {2:.2f})*1e-5\".format(use_wavelet[idx_sc3], scenarios_means[2, 1, idx_sc3]*10**5, scenarios_stds[2, 1, idx_sc3]*10**5))"
   ]
  },
  {
   "cell_type": "code",
   "execution_count": 15,
   "id": "3550867a",
   "metadata": {
    "ExecuteTime": {
     "end_time": "2022-04-05T21:23:16.105239Z",
     "start_time": "2022-04-05T21:23:16.051309Z"
    }
   },
   "outputs": [],
   "source": [
    "#coif2_idx = [x for x in range(len(use_wavelet)) if use_wavelet[x] == \"coif2\"][0]\n",
    "#sym6_idx = [x for x in range(len(use_wavelet)) if use_wavelet[x] == \"sym6\"][0]"
   ]
  },
  {
   "cell_type": "code",
   "execution_count": 16,
   "id": "14bf0797",
   "metadata": {
    "ExecuteTime": {
     "end_time": "2022-04-05T21:23:16.161112Z",
     "start_time": "2022-04-05T21:23:16.106413Z"
    }
   },
   "outputs": [],
   "source": [
    "#print(\"AIC Scenario 2 coif2: \"+str(scenarios_means[1, 2, coif2_idx]))"
   ]
  },
  {
   "cell_type": "code",
   "execution_count": 17,
   "id": "9f97f268",
   "metadata": {
    "ExecuteTime": {
     "end_time": "2022-04-05T21:23:16.250499Z",
     "start_time": "2022-04-05T21:23:16.162130Z"
    }
   },
   "outputs": [],
   "source": [
    "#print(\"AIC Scenario 2 sym6: \"+str(scenarios_means[1, 2, sym6_idx]))"
   ]
  },
  {
   "cell_type": "code",
   "execution_count": 18,
   "id": "d86a96a2",
   "metadata": {
    "ExecuteTime": {
     "end_time": "2022-04-05T21:23:16.307453Z",
     "start_time": "2022-04-05T21:23:16.251586Z"
    }
   },
   "outputs": [],
   "source": [
    "delta_basis_means = np.load(\"deltaf_jvla_scenarios_means_50.npy\")\n",
    "delta_basis_stds = np.load(\"deltaf_jvla_scenarios_stds_50.npy\")"
   ]
  },
  {
   "cell_type": "code",
   "execution_count": 19,
   "id": "153fef86",
   "metadata": {
    "ExecuteTime": {
     "end_time": "2022-04-05T21:23:17.657523Z",
     "start_time": "2022-04-05T21:23:16.309058Z"
    }
   },
   "outputs": [
    {
     "data": {
      "image/png": "[encoded data removed]",
      "text/plain": [
       "<Figure size 1296x360 with 12 Axes>"
      ]
     },
     "metadata": {
      "needs_background": "light"
     },
     "output_type": "display_data"
    }
   ],
   "source": [
    "_id = np.arange(0, nwavelets)\n",
    "names = [\"PSNR\", \"RMSE\", \"AIC\", \"BIC\"]  \n",
    "fig, ax = plt.subplots(nrows=scenarios_means.shape[0], ncols=len(names), sharey='col', sharex='all', figsize=(18, 5))\n",
    "#cmap = plt.get_cmap('tab20')\n",
    "cmap = plt.get_cmap('tab10')\n",
    "colors = [cmap(i) for i in np.linspace(0, 1, nwavelets)]\n",
    "\n",
    "for i in range(scenarios_means.shape[0]):\n",
    "    for j in range(len(names)):\n",
    "        for k in range(scenarios_means.shape[2]):\n",
    "            ax[i,j].plot(_id[k], scenarios_means[i,j,k], label=use_wavelet[k], color=colors[k])\n",
    "            ax[i,j].errorbar(_id[k], scenarios_means[i,j,k], yerr = scenarios_stds[i,j,k], fmt ='.', capsize=4, color=colors[k])\n",
    "            #if names[f] == \"PSNR\" and sc==3:\n",
    "            #ax[sc-1,f].legend(loc='upper center', bbox_to_anchor=(0.5, -0.5), ncol=19, fancybox=True, shadow=True, title=\"Wavelets\")\n",
    "            ax[i,j].set_ylabel(names[j])\n",
    "        if i==2:\n",
    "            ax[i,j].set_xlabel(\"Family\")\n",
    "        ax[i,j].plot(_id[-1]+1, delta_basis_means[i,j], label=\"delta\", color=\"orange\")\n",
    "        ax[i,j].errorbar(_id[-1]+1, delta_basis_means[i,j], yerr=delta_basis_stds[i,j], fmt ='.', capsize=4, color=\"orange\")\n",
    "\n",
    "#for k in range(len(idx_coif)):\n",
    "#    for i in range(scenarios_means.shape[0]):\n",
    "#        for j in range(len(names)):\n",
    "#            ax[i,j].axvline(x = idx_coif[k], color = 'k', linestyle=\"--\", alpha=0.8)\n",
    "            \n",
    "#for i in range(scenarios_means.shape[0]):\n",
    "    #ax[i,1].set_ylim([0,0.0015])\n",
    "    #ax[i,2].set_ylim([-25000,-20000])\n",
    "    #ax[i,3].set_ylim([-25000,-20000])\n",
    "\n",
    "    #ax[i,2].set_ylim([-25000,-15000]) #undecimated\n",
    "    #ax[i,3].set_ylim([-25000,17500]) #undecimated\n",
    "\n",
    "ofile_name = \"families_\"+undecimated+\"wavelets_\"+radiotelescope+\".pdf\"\n",
    "#fig.legend(loc='lower center', bbox_to_anchor=(0.5, -0.5), ncol=19, fancybox=True, shadow=True, title=\"Wavelets\")\n",
    "#ax[len(scenarios)-1, 1].legend(loc='upper left', bbox_to_anchor=[1.0, -0.5], ncol=19, fancybox=True, shadow=True, title=\"Wavelets\")\n",
    "h, l = ax[0,0].get_legend_handles_labels()\n",
    "legend = fig.legend(h, l, loc='lower center', ncol=18, fancybox=True, bbox_to_anchor=[0.52, -0.2], shadow=True, title=\"Wavelet families\")\n",
    "# fig.suptitle(\"Delta dirac basis + Undecimated Wavelet\")\n",
    "fig.tight_layout()\n",
    "if os.path.isfile(ofile_name):\n",
    "    os.remove(ofile_name)   # Opt.: os.system(\"rm \"+strFile)\n",
    "fig.savefig(ofile_name, dpi=100, bbox_inches='tight')#"
   ]
  },
  {
   "cell_type": "code",
   "execution_count": null,
   "id": "9290e6e0",
   "metadata": {},
   "outputs": [],
   "source": []
  }
 ],
 "metadata": {
  "kernelspec": {
   "display_name": "Python 3 (ipykernel)",
   "language": "python",
   "name": "python3"
  },
  "language_info": {
   "codemirror_mode": {
    "name": "ipython",
    "version": 3
   },
   "file_extension": ".py",
   "mimetype": "text/x-python",
   "name": "python",
   "nbconvert_exporter": "python",
   "pygments_lexer": "ipython3",
   "version": "3.10.2"
  },
  "latex_envs": {
   "LaTeX_envs_menu_present": true,
   "autoclose": false,
   "autocomplete": true,
   "bibliofile": "biblio.bib",
   "cite_by": "apalike",
   "current_citInitial": 1,
   "eqLabelWithNumbers": true,
   "eqNumInitial": 1,
   "hotkeys": {
    "equation": "Ctrl-E",
    "itemize": "Ctrl-I"
   },
   "labels_anchors": false,
   "latex_user_defs": false,
   "report_style_numbering": false,
   "user_envs_cfg": false
  },
  "varInspector": {
   "cols": {
    "lenName": 16,
    "lenType": 16,
    "lenVar": 40
   },
   "kernels_config": {
    "python": {
     "delete_cmd_postfix": "",
     "delete_cmd_prefix": "del ",
     "library": "var_list.py",
     "varRefreshCmd": "print(var_dic_list())"
    },
    "r": {
     "delete_cmd_postfix": ") ",
     "delete_cmd_prefix": "rm(",
     "library": "var_list.r",
     "varRefreshCmd": "cat(var_dic_list()) "
    }
   },
   "types_to_exclude": [
    "module",
    "function",
    "builtin_function_or_method",
    "instance",
    "_Feature"
   ],
   "window_display": false
  }
 },
 "nbformat": 4,
 "nbformat_minor": 5
}
