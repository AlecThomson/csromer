{
 "cells": [
  {
   "cell_type": "code",
   "execution_count": 1,
   "id": "024c325a",
   "metadata": {
    "ExecuteTime": {
     "end_time": "2022-03-29T21:33:59.696366Z",
     "start_time": "2022-03-29T21:33:58.748225Z"
    }
   },
   "outputs": [],
   "source": [
    "from csromer.simulation import FaradayThinSource,FaradayThickSource\n",
    "from csromer.reconstruction import Parameter\n",
    "import numpy as np\n",
    "from IPython.display import clear_output\n",
    "from csromer.io import Reader, Writer\n",
    "from csromer.base import Dataset\n",
    "from csromer.transformers import DFT1D, NUFFT1D\n",
    "import matplotlib.pyplot as plt\n",
    "from csromer.objectivefunction import OFunction\n",
    "from csromer.utils import real_to_complex, complex_to_real\n",
    "from csromer.objectivefunction import TSV, TV, L1, Chi2\n",
    "from csromer.optimization import FISTA, ADMM, SDMM, GradientBasedMethod\n",
    "from csromer.utils import Gaussian\n",
    "from csromer.dictionaries.discrete import DiscreteWavelet\n",
    "from csromer.dictionaries.undecimated import UndecimatedWavelet\n",
    "from csromer.transformers import Gridding\n",
    "from scipy.constants import c\n",
    "from pynufft import NUFFT\n",
    "from scipy import signal as sci_signal\n",
    "import itertools\n",
    "import copy\n",
    "import pandas as pd\n",
    "import time \n",
    "%matplotlib inline\n",
    "#np.random.seed(666)"
   ]
  },
  {
   "cell_type": "code",
   "execution_count": 2,
   "id": "188778b7",
   "metadata": {
    "ExecuteTime": {
     "end_time": "2022-03-29T21:33:59.700071Z",
     "start_time": "2022-03-29T21:33:59.697328Z"
    }
   },
   "outputs": [],
   "source": [
    "SMALL_SIZE = 17\n",
    "MEDIUM_SIZE = 18\n",
    "BIGGER_SIZE = 19\n",
    "\n",
    "plt.rcParams.update({\n",
    "                \"font.family\": \"serif\",\n",
    "                \"text.usetex\": True,\n",
    "                \"pgf.rcfonts\": False,\n",
    "                \"pgf.texsystem\": 'pdflatex',  # default is xetex\n",
    "            })\n",
    "\n",
    "plt.rc('font', size=MEDIUM_SIZE)  # controls default text sizes\n",
    "plt.rc('axes', titlesize=SMALL_SIZE)  # fontsize of the axes title\n",
    "plt.rc('axes', labelsize=MEDIUM_SIZE)  # fontsize of the x and y labels\n",
    "plt.rc('xtick', labelsize=SMALL_SIZE)  # fontsize of the tick labels\n",
    "plt.rc('ytick', labelsize=SMALL_SIZE)  # fontsize of the tick labels\n",
    "plt.rc('legend', fontsize=SMALL_SIZE)  # legend fontsize"
   ]
  },
  {
   "cell_type": "code",
   "execution_count": 3,
   "id": "1d59c1d4",
   "metadata": {
    "ExecuteTime": {
     "end_time": "2022-03-29T21:33:59.752444Z",
     "start_time": "2022-03-29T21:33:59.700705Z"
    }
   },
   "outputs": [],
   "source": [
    "def gini_coefficient(w):\n",
    "    # Order vector\n",
    "    w_ordered = np.sort(np.abs(w), kind=\"stable\")\n",
    "    l1_norm = np.sum(np.abs(w_ordered))\n",
    "    M = len(w_ordered)\n",
    "    m = np.arange(0, M)\n",
    "    const = (M - m + 1.5)/M\n",
    "    if l1_norm == 0.0:\n",
    "        coeff = np.nan\n",
    "    else:\n",
    "        coeff = np.sum((w_ordered/l1_norm)*const)\n",
    "    return 1.0 - 2.0 * coeff"
   ]
  },
  {
   "cell_type": "code",
   "execution_count": 4,
   "id": "8c3ce1c3",
   "metadata": {
    "ExecuteTime": {
     "end_time": "2022-03-29T21:33:59.800090Z",
     "start_time": "2022-03-29T21:33:59.753165Z"
    }
   },
   "outputs": [],
   "source": [
    "def chi2_calc(residuals):\n",
    "    if residuals.dtype == np.complex64 or residuals.dtype == np.complex128:\n",
    "        data = residuals.real**2 + residuals.imag**2\n",
    "    else:\n",
    "        data = residuals**2\n",
    "    return np.sum(data)"
   ]
  },
  {
   "cell_type": "code",
   "execution_count": 5,
   "id": "30848b9d",
   "metadata": {
    "ExecuteTime": {
     "end_time": "2022-03-29T21:33:59.861305Z",
     "start_time": "2022-03-29T21:33:59.800851Z"
    }
   },
   "outputs": [],
   "source": [
    "def aicbic(residuals, x):\n",
    "    rss = chi2_calc(residuals)\n",
    "    if x.dtype == np.complex64 or x.dtype == np.complex128:\n",
    "        df = np.count_nonzero(x.real) + np.count_nonzero(x.imag)\n",
    "    else:     \n",
    "        df = np.count_nonzero(x)\n",
    "    l = 2*len(residuals)\n",
    "    return l*np.log(rss/l) + 2*df, l*np.log(rss/l) + df*np.log(l)"
   ]
  },
  {
   "cell_type": "code",
   "execution_count": 6,
   "id": "c4b50cda",
   "metadata": {
    "ExecuteTime": {
     "end_time": "2022-03-29T21:33:59.958142Z",
     "start_time": "2022-03-29T21:33:59.862679Z"
    }
   },
   "outputs": [],
   "source": [
    "def list_to2darray(x: list = None, cols: int = None, dtype=None):\n",
    "    b = list(map(list, zip(*[iter(x)]*cols)))\n",
    "    #b = [x[cols*i : cols*(i+1)] for i in range(rows)]\n",
    "    if dtype is None:\n",
    "        return np.array(b)\n",
    "    else:\n",
    "        return np.array(b, dtype=dtype)\n",
    "    "
   ]
  },
  {
   "cell_type": "code",
   "execution_count": 7,
   "id": "441e68a2",
   "metadata": {
    "ExecuteTime": {
     "end_time": "2022-03-29T21:34:00.006029Z",
     "start_time": "2022-03-29T21:33:59.959483Z"
    }
   },
   "outputs": [],
   "source": [
    "class statistics:\n",
    "    def __init__(self, m, n, z):\n",
    "        self.sum = np.zeros((m,n), dtype=np.float32)\n",
    "        self.sum2 = np.zeros((m,n), dtype=np.float32)\n",
    "        self.n = z * np.ones((m,n), dtype=np.int32)\n",
    "    \n",
    "    def cumul(self, x):\n",
    "        x_values = np.where(x != np.nan, x, 0.0)\n",
    "        subtract = np.where(x == np.nan, -1, 0)\n",
    "        self.sum  += x_values\n",
    "        self.sum2 += x_values * x_values\n",
    "        self.n += subtract\n",
    "    \n",
    "    def mean(self):\n",
    "        return np.where(self.n > 0, self.sum / self.n, np.nan)\n",
    "    \n",
    "    def std(self):\n",
    "        return np.where(self.n > 0, np.sqrt(self.sum2/self.n - self.sum*self.sum/self.n/self.n), np.nan)"
   ]
  },
  {
   "cell_type": "code",
   "execution_count": 8,
   "id": "74c19991",
   "metadata": {
    "ExecuteTime": {
     "end_time": "2022-03-29T21:34:00.059578Z",
     "start_time": "2022-03-29T21:34:00.006874Z"
    }
   },
   "outputs": [],
   "source": [
    "class Test:\n",
    "    def __init__(self, nu_min=None, nu_max=None, nchannels=None, noise_frac=None, remove_frac=None, use_gridding=False, ftransform=\"nufft\", use_wavelet=None, source_1=None, source_2=None, scenario=1, append_signal=False):\n",
    "        self.nu_min = nu_min\n",
    "        self.nu_max = nu_max\n",
    "        self.nchannels = nchannels\n",
    "        self.noise_frac = noise_frac\n",
    "        self.remove_frac = remove_frac\n",
    "        self.use_gridding=use_gridding\n",
    "        self.use_wavelet = use_wavelet\n",
    "        self.ftransform = ftransform\n",
    "        self.scenario = scenario\n",
    "        self.append_signal = append_signal\n",
    "        self.nu = np.linspace(start=nu_min, stop=nu_max, num=nchannels)\n",
    "        self.source_1 = copy.deepcopy(source_1)\n",
    "        self.source_2 = copy.deepcopy(source_2)\n",
    "\n",
    "        if self.source_1 is not None:\n",
    "            self.source_1.nu = self.nu\n",
    "            self.source_1.simulate()\n",
    "                \n",
    "        if self.source_2 is not None:\n",
    "            self.source_2.nu = self.nu\n",
    "            self.source_2.simulate()\n",
    "                \n",
    "        if scenario == 1:\n",
    "            self.source = self.source_1\n",
    "        elif scenario == 2:\n",
    "            self.source = self.source_2\n",
    "        elif scenario == 3:\n",
    "            self.source = self.source_1 + self.source_2\n",
    "        else:\n",
    "            raise ValueError(\"This scenario does not exist\")\n",
    "            \n",
    "        if remove_frac:\n",
    "            self.source.remove_channels(remove_frac, np.random.RandomState(int(time.time())))\n",
    "        \n",
    "        self.noiseless_source = copy.deepcopy(self.source)\n",
    "        \n",
    "        if scenario == 1:\n",
    "            self.avg_signal = np.abs(self.source_1.s_nu)\n",
    "        elif scenario == 2:\n",
    "            self.avg_signal = np.abs(self.source_2.s_nu)\n",
    "        else:\n",
    "            self.avg_signal = (np.abs(self.source_1.s_nu) + np.abs(self.source_2.s_nu))/2.0\n",
    "        \n",
    "        if noise_frac:\n",
    "            self.source.apply_noise(self.avg_signal*self.noise_frac, np.random.RandomState(int(time.time())))\n",
    "                \n",
    "        if use_gridding:\n",
    "            gridding = Gridding(self.source)\n",
    "            gridding_noiseless = Gridding(self.noiseless_source)\n",
    "            self.source = gridding.run()\n",
    "            self.noiseless_source = gridding_noiseless.run()\n",
    "    \n",
    "    def apply_noise(self):\n",
    "        if self.noise_frac:\n",
    "            self.source.apply_noise(self.avg_signal*self.noise_frac, np.random.RandomState(int(time.time())))\n",
    "            \n",
    "    def run(self, lambda_tv:float=None, lambda_tsv:float=None):\n",
    "        self.parameter = Parameter()\n",
    "        self.parameter.calculate_cellsize(dataset=self.source)\n",
    "        \n",
    "        dft = DFT1D(dataset=self.source, parameter=self.parameter)\n",
    "        \n",
    "        self.F_dirty = dft.backward(self.source.data)\n",
    "\n",
    "        if self.use_wavelet:\n",
    "            self.wavelet = DiscreteWavelet(wavelet_name=self.use_wavelet, mode=\"periodization\", append_signal=self.append_signal)\n",
    "            #self.wavelet = UndecimatedWavelet(wavelet_name=self.use_wavelet, mode=\"periodization\", append_signal=self.append_signal)\n",
    "        \n",
    "        self.lambda_l1 = np.sqrt(self.source.m + 2*np.sqrt(self.source.m)) * 2.0 * self.source.theo_noise\n",
    "        \n",
    "        if lambda_tv is None:\n",
    "            lambda_tv = 0.0\n",
    "        \n",
    "        if lambda_tsv is None:\n",
    "            lambda_tsv = 0.0\n",
    "            \n",
    "        if self.ftransform == \"nufft\":\n",
    "            nufft = NUFFT1D(dataset=self.source, parameter=self.parameter, solve=True)\n",
    "            if self.use_wavelet:\n",
    "                chi2 = Chi2(dft_obj=nufft, wavelet=self.wavelet)\n",
    "            else:\n",
    "                chi2 = Chi2(dft_obj=nufft)\n",
    "        else:\n",
    "            if self.use_wavelet:\n",
    "                chi2 = Chi2(dft_obj=dft, wavelet=self.wavelet)\n",
    "            else:\n",
    "                chi2 = Chi2(dft_obj=dft)\n",
    "            \n",
    "        l1 = L1(reg=self.lambda_l1)\n",
    "        tsv = TSV(reg=lambda_tsv)\n",
    "        tv = TV(reg=lambda_tv)\n",
    "        F_func = [chi2, l1, tsv]\n",
    "        f_func = [chi2]\n",
    "        g_func = [l1, tsv]\n",
    "\n",
    "        F_obj = OFunction(F_func)\n",
    "        f_obj = OFunction(f_func)\n",
    "        g_obj = OFunction(g_func)\n",
    "        \n",
    "        self.parameter.data = self.F_dirty\n",
    "        \n",
    "        self.parameter.complex_data_to_real()\n",
    "        \n",
    "        if self.use_wavelet:\n",
    "            self.parameter.data = self.wavelet.decompose(self.parameter.data)\n",
    "        \n",
    "        opt = FISTA(guess_param=self.parameter, F_obj=F_obj, fx=chi2, gx=g_obj, noise=2.*self.source.theo_noise, verbose=True)\n",
    "        self.obj, self.X = opt.run()\n",
    "        \n",
    "        if self.use_wavelet is not None:\n",
    "            self.coeffs = copy.deepcopy(self.X.data)\n",
    "            k = np.count_nonzero(self.coeffs)\n",
    "            self.sparsity = k/len(self.coeffs)\n",
    "            self.gini = gini_coefficient(self.coeffs)\n",
    "            self.X.data = self.wavelet.reconstruct(self.X.data)\n",
    "            self.aic, self.bic = aicbic(self.source.residual, self.coeffs)\n",
    "            \n",
    "        else:\n",
    "            k = np.count_nonzero(self.X.data)\n",
    "            self.sparsity = k/len(self.X.data)\n",
    "            self.gini = gini_coefficient(self.X.data)\n",
    "            self.aic, self.bic = aicbic(self.source.residual, self.X.data)\n",
    "        \n",
    "        \n",
    "        self.X.real_data_to_complex()\n",
    "        \n",
    "        self.X_residual = dft.backward(self.source.residual)\n",
    "        \n",
    "        self.X_restored = self.X.convolve() + self.X_residual\n",
    "        \n",
    "        self.res_noise = 0.5*(np.std(self.X_residual.real) + np.std(self.X_residual.imag))\n",
    "        self.rmse = np.sqrt(np.sum(self.source.residual.real**2 + self.source.residual.imag**2)/(2.*self.source.m))\n",
    "        meaningful_signal = np.where(np.abs(self.parameter.phi) < self.parameter.max_faraday_depth)\n",
    "        self.signal = np.mean(np.abs(self.X_restored[meaningful_signal]))\n",
    "        self.peak_signal = np.max(np.abs(self.X_restored))\n",
    "        \n",
    "        self.snr = self.signal / self.res_noise\n",
    "        self.psnr = self.peak_signal / self.res_noise\n",
    "        \n",
    "        print(\"Signal-to-noise ratio: {0}\".format(self.snr))\n",
    "        print(\"Peak Signal-to-noise ratio: {0}\".format(self.psnr))\n",
    "        print(\"Standard deviation: {0}\".format(self.res_noise))\n",
    "        \n",
    "        # self.lags, self.autocorr_res, self.autocorr_res_sq, self.bound, self.percentage_real_in, self.percentage_imag_in, self.percentage_real_in_sq, self.percentage_imag_in_sq = self.source.assess_residuals()\n",
    "        \n",
    "        # self.residual_comparison = self.noiseless_source.data - self.source.model_data\n",
    "        \"\"\"\n",
    "        \n",
    "        self.fig, self.ax = plt.subplots(nrows=2, ncols=4, sharey='row', figsize=(18, 5))\n",
    "\n",
    "        # Data\n",
    "        self.ax[0,0].plot(self.source.lambda2, self.source.data.real, 'k.', label=r\"Stokes $Q$\")\n",
    "        self.ax[0,0].plot(self.source.lambda2, self.source.data.imag, 'c.', label=r\"Stokes $U$\")\n",
    "        self.ax[0,0].plot(self.source.lambda2, np.abs(self.source.data), 'g.', label=r\"$|P|$\")\n",
    "        self.ax[0,0].set_xlabel(r'$\\lambda^2$[m$^{2}$]')\n",
    "        self.ax[0,0].set_ylabel(r'Jy/beam')\n",
    "        self.ax[0,0].title.set_text(\"Data\")\n",
    "\n",
    "        self.ax[1,0].plot(self.parameter.phi, self.F_dirty.real, 'c--', label=r\"Stokes $Q$\")\n",
    "        self.ax[1,0].plot(self.parameter.phi, self.F_dirty.imag, 'c:', label=r\"Stokes $U$\")\n",
    "        self.ax[1,0].plot(self.parameter.phi, np.abs(self.F_dirty), 'k-', label=r\"|P|\")\n",
    "        self.ax[1,0].set_xlabel(r'$\\phi$[rad m$^{-2}$]')\n",
    "        self.ax[1,0].set_ylabel(r'Jy/beam m$^2$ rad$^{-1}$ rmtf$^{-1}$')\n",
    "        self.ax[1,0].set_xlim([-1000,1000])\n",
    "\n",
    "        # Model\n",
    "        self.ax[0,1].plot(self.source.lambda2, self.source.model_data.real, 'k.', label=r\"Stokes $Q$\")\n",
    "        self.ax[0,1].plot(self.source.lambda2, self.source.model_data.imag, 'c.', label=r\"Stokes $U$\")\n",
    "        self.ax[0,1].plot(self.source.lambda2, np.abs(self.source.model_data), 'g.', label=r\"$|P|$\")\n",
    "        self.ax[0,1].set_xlabel(r'$\\lambda^2$[m$^{2}$]')\n",
    "        self.ax[0,1].set_ylabel(r'Jy/beam')\n",
    "        self.ax[0,1].title.set_text(\"Model\")\n",
    "\n",
    "        self.ax[1,1].get_shared_y_axes().remove(self.ax[1,1])\n",
    "        self.ax[1,1].clear()\n",
    "        self.ax[1,1].plot(self.parameter.phi, self.X.data.real, 'c--', label=r\"Stokes $Q$\")\n",
    "        self.ax[1,1].plot(self.parameter.phi, self.X.data.imag, 'c:', label=r\"Stokes $U$\")\n",
    "        self.ax[1,1].plot(self.parameter.phi, np.abs(self.X.data), 'k-', label=r\"$|P|$\")\n",
    "        self.ax[1,1].set_xlabel(r'$\\phi$[rad m$^{-2}$]')\n",
    "        self.ax[1,1].set_ylabel(r'Jy/beam m$^2$ rad$^{-1}$ pix$^{-1}$')\n",
    "        self.ax[1,1].set_xlim([-1000,1000])\n",
    "        \n",
    "        # Residual\n",
    "\n",
    "        self.ax[0,2].plot(self.source.lambda2, self.source.residual.real, 'k.', label=r\"Stokes $Q$\")\n",
    "        self.ax[0,2].plot(self.source.lambda2, self.source.residual.imag, 'c.', label=r\"Stokes $U$\")\n",
    "        self.ax[0,2].plot(self.source.lambda2, np.abs(self.source.residual), 'g.', label=r\"$|P|$\")\n",
    "        self.ax[0,2].set_xlabel(r'$\\lambda^2$[m$^{2}$]')\n",
    "        self.ax[0,2].set_ylabel(r'Jy/beam')\n",
    "        self.ax[0,2].title.set_text(\"Residual\")\n",
    "\n",
    "        self.ax[1,2].plot(self.parameter.phi, self.X_residual.real, 'c--', label=r\"Stokes $Q$\")\n",
    "        self.ax[1,2].plot(self.parameter.phi, self.X_residual.imag, 'c:', label=r\"Stokes $U$\")\n",
    "        self.ax[1,2].plot(self.parameter.phi, np.abs(self.X_residual), 'k-', label=r\"$|P|$\")\n",
    "        self.ax[1,2].set_xlabel(r'$\\phi$[rad m$^{-2}$]')\n",
    "        self.ax[1,2].set_ylabel(r'Jy/beam m$^2$ rad$^{-1}$ rmtf$^{-1}$')\n",
    "        self.ax[1,2].set_xlim([-1000,1000])\n",
    "        \n",
    "        if self.use_wavelet:\n",
    "            self.ax[0,3].get_shared_y_axes().remove(self.ax[0,3])\n",
    "            self.ax[0,3].clear()\n",
    "            self.ax[0,3].plot(self.coeffs)\n",
    "            self.ax[0,3].title.set_text(\"Coefficients\")\n",
    "\n",
    "        self.ax[1,3].plot(self.parameter.phi, self.X_restored.real, 'c--', label=r\"Stokes $Q$\")\n",
    "        self.ax[1,3].plot(self.parameter.phi, self.X_restored.imag, 'c:', label=r\"Stokes $U$\")\n",
    "        self.ax[1,3].plot(self.parameter.phi, np.abs(self.X_restored), 'k-', label=r\"$|P|$\")\n",
    "        self.ax[1,3].set_xlim([-1000,1000])\n",
    "        self.ax[1,3].set_xlabel(r'$\\phi$[rad m$^{-2}$]')\n",
    "        self.ax[1,3].set_ylabel(r'Jy/beam m$^2$ rad$^{-1}$ rmtf$^{-1}$')\n",
    "        self.ax[1,3].title.set_text(\"Restored\")\n",
    "        \n",
    "        self.fig.tight_layout()\n",
    "        \"\"\""
   ]
  },
  {
   "cell_type": "code",
   "execution_count": 9,
   "id": "dd9c11eb",
   "metadata": {
    "ExecuteTime": {
     "end_time": "2022-03-29T21:34:00.123838Z",
     "start_time": "2022-03-29T21:34:00.061149Z"
    }
   },
   "outputs": [],
   "source": [
    "def run_test(source_1, source_2, nsigma, remove_frac, nu_min=1.008e9, nu_max=2.031e9, nchannels=1000, scenario=1, use_wavelet=None, append_signal=False):\n",
    "    nosigma_objs = []\n",
    "    for remv_frac in remove_frac:\n",
    "        nosigma_objs.append(Test(nu_min=nu_min, nu_max=nu_max, nchannels=nchannels, noise_frac=0.0, remove_frac=remv_frac, scenario=scenario, source_1=source_1, source_2=source_2, use_wavelet=use_wavelet, append_signal=append_signal))\n",
    "\n",
    "    test_objs = []\n",
    "    for nsig in nsigma:\n",
    "        for i in range(0, len(remove_frac)):\n",
    "            copy_object = copy.deepcopy(nosigma_objs[i])\n",
    "            copy_object.noise_frac = nsig\n",
    "            copy_object.apply_noise()\n",
    "            test_objs.append(copy_object)\n",
    "\n",
    "    del nosigma_objs\n",
    "\n",
    "    nid = len(nsigma)*len(remove_frac)\n",
    "    for _id in range(0, nid):\n",
    "        test_objs[_id].run()\n",
    "    \n",
    "    return test_objs "
   ]
  },
  {
   "cell_type": "code",
   "execution_count": 10,
   "id": "edfe2e9b",
   "metadata": {
    "ExecuteTime": {
     "end_time": "2022-03-29T21:34:00.184990Z",
     "start_time": "2022-03-29T21:34:00.125370Z"
    }
   },
   "outputs": [],
   "source": [
    "# JVLA 1.008 - 2.031 GHz 546 channels\n",
    "# MeerKAT 0.9 GHz-1.420 GHz 546\n",
    "# eMERLIN 1.230 - 1.740 GHz 4096\n",
    "def run_tests(source_1, source_2, nsigma, remove_frac, nsamples, nu_min=1.008e9, nu_max=2.031e9, nchannels=1000, scenario=1, use_wavelet=None, append_signal=False):\n",
    "    m = len(nsigma)\n",
    "    n = len(remove_frac)\n",
    "    psnrs = statistics(m, n, nsamples)\n",
    "    rmses = statistics(m, n, nsamples)\n",
    "    #noises = statistics(m, n, nsamples)\n",
    "    sparsities = statistics(m, n, nsamples)\n",
    "    #ginies = statistics(m, n, nsamples)\n",
    "    aics = statistics(m, n, nsamples)\n",
    "    bics = statistics(m, n, nsamples)\n",
    "\n",
    "    for i in range(0, nsamples):\n",
    "        test = run_test(source_1, source_2, nsigma, remove_frac, nu_min=nu_min, nu_max=nu_max, nchannels=nchannels, scenario=scenario, use_wavelet=use_wavelet, append_signal=append_signal)\n",
    "        psnrs.cumul(list_to2darray([x.psnr for x in test], n, dtype=np.float32))\n",
    "        #noises.cumul(list_to2darray([x.res_noise for x in test], n, dtype=np.float32))\n",
    "        sparsities.cumul(list_to2darray([x.sparsity*100.0 for x in test], n, dtype=np.float32))\n",
    "        #ginies.cumul(list_to2darray([x.gini for x in test], n, dtype=np.float32))\n",
    "        rmses.cumul(list_to2darray([x.rmse for x in test], n, dtype=np.float32))\n",
    "        aics.cumul(list_to2darray([x.aic for x in test], n, dtype=np.float32))\n",
    "        bics.cumul(list_to2darray([x.bic for x in test], n, dtype=np.float32))\n",
    "        for t in test:\n",
    "            del t\n",
    "        test = []\n",
    "            \n",
    "    psnr_mean, psnr_std = psnrs.mean(), psnrs.std()\n",
    "    rmse_mean, rmse_std = rmses.mean(), rmses.std()\n",
    "    #noise_mean, noise_std = noises.mean(), noises.std()\n",
    "    sparsity_mean, sparsity_std = sparsities.mean(), sparsities.std()\n",
    "    #gini_mean, gini_std = ginies.mean(), ginies.std()\n",
    "    aic_mean, aic_std = aics.mean(), aics.std()\n",
    "    bic_mean, bic_std = bics.mean(), bics.std()\n",
    "    return psnr_mean, psnr_std, rmse_mean, rmse_std, aic_mean, aic_std, bic_mean, bic_std, sparsity_mean, sparsity_std"
   ]
  },
  {
   "cell_type": "code",
   "execution_count": 11,
   "id": "2df5426b",
   "metadata": {
    "ExecuteTime": {
     "end_time": "2022-03-29T21:34:00.247685Z",
     "start_time": "2022-03-29T21:34:00.185844Z"
    }
   },
   "outputs": [],
   "source": [
    "source_1 = FaradayThinSource(s_nu=0.0035, phi_gal=-200, spectral_idx=1.0)\n",
    "source_2 = FaradayThickSource(s_nu=0.0035, phi_fg=140, phi_center=200, spectral_idx=1.0)"
   ]
  },
  {
   "cell_type": "code",
   "execution_count": 12,
   "id": "e7e34513",
   "metadata": {
    "ExecuteTime": {
     "end_time": "2022-03-29T21:34:00.323407Z",
     "start_time": "2022-03-29T21:34:00.249076Z"
    }
   },
   "outputs": [],
   "source": [
    "nsigma = [0.1, 0.2, 0.3, 0.4, 0.5, 0.6, 0.7, 0.8, 0.9]\n",
    "remove_frac = [0.1, 0.2, 0.3, 0.4, 0.5, 0.6]\n",
    "scenario=2\n",
    "use_wavelet=\"db23\"\n",
    "#use_wavelet=None\n",
    "append_signal=True\n",
    "samples=50"
   ]
  },
  {
   "cell_type": "code",
   "execution_count": 13,
   "id": "2ceb5c1d",
   "metadata": {
    "ExecuteTime": {
     "end_time": "2022-03-29T21:45:17.164670Z",
     "start_time": "2022-03-29T21:34:00.324271Z"
    }
   },
   "outputs": [
    {
     "name": "stdout",
     "output_type": "stream",
     "text": [
      "FWHM of the main peak of the RMTF: 52.102 rad/m^2\n",
      "Maximum recovered width structure: 144.188 rad/m^2\n",
      "Maximum Faraday Depth to which one has more than 50% sensitivity: 23419.848\n",
      "Iterations set to 30\n",
      "Iteration:  0  objective function value: 101461.63692\n",
      "Iteration:  10  objective function value: 10776.05427\n",
      "Iteration:  20  objective function value: 4185.19760\n",
      "Signal-to-noise ratio: 1.8312162284597064\n",
      "Peak Signal-to-noise ratio: 225.37607362689567\n",
      "Standard deviation: 1.307404090766795e-05\n",
      "FWHM of the main peak of the RMTF: 53.569 rad/m^2\n",
      "Maximum recovered width structure: 133.070 rad/m^2\n",
      "Maximum Faraday Depth to which one has more than 50% sensitivity: 21400.700\n",
      "Iterations set to 29\n",
      "Iteration:  0  objective function value: 105450.61738\n",
      "Iteration:  10  objective function value: 8566.83023\n",
      "Iteration:  20  objective function value: 2898.50138\n",
      "Signal-to-noise ratio: 1.958685874749613\n",
      "Peak Signal-to-noise ratio: 236.22169887353087\n",
      "Standard deviation: 1.2660804713959806e-05\n",
      "FWHM of the main peak of the RMTF: 53.631 rad/m^2\n",
      "Maximum recovered width structure: 132.651 rad/m^2\n",
      "Maximum Faraday Depth to which one has more than 50% sensitivity: 18743.865\n",
      "Iterations set to 27\n",
      "Iteration:  0  objective function value: 88124.65600\n",
      "Iteration:  10  objective function value: 10047.35414\n",
      "Iteration:  20  objective function value: 2519.11865\n",
      "Signal-to-noise ratio: 1.9778009322527264\n",
      "Peak Signal-to-noise ratio: 213.5099248629303\n",
      "Standard deviation: 1.4317274690256454e-05\n",
      "FWHM of the main peak of the RMTF: 53.693 rad/m^2\n",
      "Maximum recovered width structure: 132.233 rad/m^2\n",
      "Maximum Faraday Depth to which one has more than 50% sensitivity: 16080.980\n",
      "Iterations set to 25\n",
      "Iteration:  0  objective function value: 92569.48208\n",
      "Iteration:  10  objective function value: 10075.45818\n",
      "Iteration:  20  objective function value: 2213.80653\n",
      "Signal-to-noise ratio: 1.9387439165435902\n",
      "Peak Signal-to-noise ratio: 166.7093355696098\n",
      "Standard deviation: 1.7183183445013128e-05\n",
      "FWHM of the main peak of the RMTF: 56.404 rad/m^2\n",
      "Maximum recovered width structure: 116.967 rad/m^2\n",
      "Maximum Faraday Depth to which one has more than 50% sensitivity: 14072.702\n",
      "Iterations set to 23\n",
      "Iteration:  0  objective function value: 103810.18238\n",
      "Iteration:  10  objective function value: 9274.46969\n",
      "Iteration:  20  objective function value: 1275.99855\n",
      "Signal-to-noise ratio: 1.952185009896151\n",
      "Peak Signal-to-noise ratio: 168.21154174653216\n",
      "Standard deviation: 1.8002894648816437e-05\n",
      "FWHM of the main peak of the RMTF: 56.431 rad/m^2\n",
      "Maximum recovered width structure: 116.836 rad/m^2\n",
      "Maximum Faraday Depth to which one has more than 50% sensitivity: 11258.038\n",
      "Iterations set to 20\n",
      "Iteration:  0  objective function value: 83811.14097\n",
      "Iteration:  10  objective function value: 10146.67901\n",
      "Signal-to-noise ratio: 1.7352347079595831\n",
      "Peak Signal-to-noise ratio: 100.71650073761698\n",
      "Standard deviation: 2.9572362109320238e-05\n",
      "FWHM of the main peak of the RMTF: 52.102 rad/m^2\n",
      "Maximum recovered width structure: 144.188 rad/m^2\n",
      "Maximum Faraday Depth to which one has more than 50% sensitivity: 23419.848\n",
      "Iterations set to 30\n",
      "Iteration:  0  objective function value: 21377.56192\n",
      "Iteration:  10  objective function value: 8914.35943\n",
      "Iteration:  20  objective function value: 3416.62285\n",
      "Signal-to-noise ratio: 1.54292374521618\n",
      "Peak Signal-to-noise ratio: 119.6848218078864\n",
      "Standard deviation: 2.49214717769064e-05\n",
      "FWHM of the main peak of the RMTF: 53.569 rad/m^2\n",
      "Maximum recovered width structure: 133.070 rad/m^2\n",
      "Maximum Faraday Depth to which one has more than 50% sensitivity: 21400.700\n",
      "Iterations set to 29\n",
      "Iteration:  0  objective function value: 21434.71768\n",
      "Iteration:  10  objective function value: 7502.11315\n",
      "Iteration:  20  objective function value: 2440.34632\n",
      "Signal-to-noise ratio: 1.6179953385989916\n",
      "Peak Signal-to-noise ratio: 120.21313093513108\n",
      "Standard deviation: 2.4820850740070455e-05\n",
      "FWHM of the main peak of the RMTF: 53.631 rad/m^2\n",
      "Maximum recovered width structure: 132.651 rad/m^2\n",
      "Maximum Faraday Depth to which one has more than 50% sensitivity: 18743.865\n",
      "Iterations set to 27\n",
      "Iteration:  0  objective function value: 17598.75708\n",
      "Iteration:  10  objective function value: 7928.20084\n",
      "Iteration:  20  objective function value: 2366.46151\n",
      "Signal-to-noise ratio: 1.6330951199433874\n",
      "Peak Signal-to-noise ratio: 110.86809138080137\n",
      "Standard deviation: 2.7554699045140296e-05\n",
      "FWHM of the main peak of the RMTF: 53.693 rad/m^2\n",
      "Maximum recovered width structure: 132.233 rad/m^2\n",
      "Maximum Faraday Depth to which one has more than 50% sensitivity: 16080.980\n",
      "Iterations set to 25\n",
      "Iteration:  0  objective function value: 16091.28252\n",
      "Iteration:  10  objective function value: 7321.27589\n",
      "Iteration:  20  objective function value: 2024.61902\n",
      "Signal-to-noise ratio: 1.5993666152023036\n",
      "Peak Signal-to-noise ratio: 86.24017212259507\n",
      "Standard deviation: 3.2913962058955804e-05\n",
      "FWHM of the main peak of the RMTF: 56.404 rad/m^2\n",
      "Maximum recovered width structure: 116.967 rad/m^2\n",
      "Maximum Faraday Depth to which one has more than 50% sensitivity: 14072.702\n",
      "Iterations set to 23\n",
      "Iteration:  0  objective function value: 15575.47051\n",
      "Iteration:  10  objective function value: 7574.14867\n",
      "Iteration:  20  objective function value: 1167.71422\n",
      "Signal-to-noise ratio: 1.5748614037309334\n",
      "Peak Signal-to-noise ratio: 85.61715480446604\n",
      "Standard deviation: 3.551808913471177e-05\n",
      "FWHM of the main peak of the RMTF: 56.431 rad/m^2\n",
      "Maximum recovered width structure: 116.836 rad/m^2\n",
      "Maximum Faraday Depth to which one has more than 50% sensitivity: 11258.038\n",
      "Iterations set to 20\n",
      "Iteration:  0  objective function value: 11980.26735\n",
      "Iteration:  10  objective function value: 6133.54925\n",
      "Signal-to-noise ratio: 1.3541115051159638\n",
      "Peak Signal-to-noise ratio: 47.52501925250495\n",
      "Standard deviation: 6.06662142672576e-05\n",
      "FWHM of the main peak of the RMTF: 52.102 rad/m^2\n",
      "Maximum recovered width structure: 144.188 rad/m^2\n",
      "Maximum Faraday Depth to which one has more than 50% sensitivity: 23419.848\n",
      "Iterations set to 30\n",
      "Iteration:  0  objective function value: 9652.52516\n",
      "Iteration:  10  objective function value: 6970.77603\n",
      "Iteration:  20  objective function value: 3144.82932\n",
      "Signal-to-noise ratio: 1.4396601900307373\n",
      "Peak Signal-to-noise ratio: 81.65236317900346\n",
      "Standard deviation: 3.682095848489553e-05\n",
      "FWHM of the main peak of the RMTF: 53.569 rad/m^2\n",
      "Maximum recovered width structure: 133.070 rad/m^2\n",
      "Maximum Faraday Depth to which one has more than 50% sensitivity: 21400.700\n",
      "Iterations set to 29\n",
      "Iteration:  0  objective function value: 9242.31355\n",
      "Iteration:  10  objective function value: 6079.93462\n",
      "Iteration:  20  objective function value: 2400.37218\n",
      "Signal-to-noise ratio: 1.4979638987874753\n",
      "Peak Signal-to-noise ratio: 80.52365558983905\n",
      "Standard deviation: 3.7015837733633816e-05\n",
      "FWHM of the main peak of the RMTF: 53.631 rad/m^2\n",
      "Maximum recovered width structure: 132.651 rad/m^2\n",
      "Maximum Faraday Depth to which one has more than 50% sensitivity: 18743.865\n",
      "Iterations set to 27\n",
      "Iteration:  0  objective function value: 7818.64132\n",
      "Iteration:  10  objective function value: 5987.94159\n",
      "Iteration:  20  objective function value: 2257.61687\n",
      "Signal-to-noise ratio: 1.5106384958430692\n",
      "Peak Signal-to-noise ratio: 73.34235178289633\n",
      "Standard deviation: 4.100759542779997e-05\n",
      "FWHM of the main peak of the RMTF: 53.693 rad/m^2\n",
      "Maximum recovered width structure: 132.233 rad/m^2\n",
      "Maximum Faraday Depth to which one has more than 50% sensitivity: 16080.980\n",
      "Iterations set to 25\n",
      "Iteration:  0  objective function value: 6815.21394\n",
      "Iteration:  10  objective function value: 5123.35266\n",
      "Iteration:  20  objective function value: 1802.57905\n",
      "Signal-to-noise ratio: 1.4826502573947433\n",
      "Peak Signal-to-noise ratio: 58.4281198489492\n",
      "Standard deviation: 4.855710722040385e-05\n",
      "FWHM of the main peak of the RMTF: 56.404 rad/m^2\n",
      "Maximum recovered width structure: 116.967 rad/m^2\n",
      "Maximum Faraday Depth to which one has more than 50% sensitivity: 14072.702\n",
      "Iterations set to 23\n",
      "Iteration:  0  objective function value: 6088.42020\n",
      "Iteration:  10  objective function value: 4285.41635\n",
      "Iteration:  20  objective function value: 1196.29110\n",
      "Signal-to-noise ratio: 1.4502749442492442\n",
      "Peak Signal-to-noise ratio: 56.58379478747031\n",
      "Standard deviation: 5.3276926337275654e-05\n",
      "FWHM of the main peak of the RMTF: 56.431 rad/m^2\n",
      "Maximum recovered width structure: 116.836 rad/m^2\n",
      "Maximum Faraday Depth to which one has more than 50% sensitivity: 11258.038\n",
      "Iterations set to 20\n",
      "Iteration:  0  objective function value: 4659.84605\n",
      "Iteration:  10  objective function value: 3764.08763\n"
     ]
    },
    {
     "name": "stdout",
     "output_type": "stream",
     "text": [
      "Signal-to-noise ratio: 1.2288489751232932\n",
      "Peak Signal-to-noise ratio: 31.215899848070045\n",
      "Standard deviation: 9.161417256109416e-05\n",
      "FWHM of the main peak of the RMTF: 52.102 rad/m^2\n",
      "Maximum recovered width structure: 144.188 rad/m^2\n",
      "Maximum Faraday Depth to which one has more than 50% sensitivity: 23419.848\n",
      "Iterations set to 30\n",
      "Iteration:  0  objective function value: 5869.62310\n",
      "Iteration:  10  objective function value: 5429.92815\n",
      "Iteration:  20  objective function value: 3016.07996\n",
      "Signal-to-noise ratio: 1.38450219290612\n",
      "Peak Signal-to-noise ratio: 62.17733377326063\n",
      "Standard deviation: 4.879017797065899e-05\n",
      "FWHM of the main peak of the RMTF: 53.569 rad/m^2\n",
      "Maximum recovered width structure: 133.070 rad/m^2\n",
      "Maximum Faraday Depth to which one has more than 50% sensitivity: 21400.700\n",
      "Iterations set to 29\n",
      "Iteration:  0  objective function value: 5366.17789\n",
      "Iteration:  10  objective function value: 4666.09745\n",
      "Iteration:  20  objective function value: 2324.11762\n",
      "Signal-to-noise ratio: 1.4420491888162035\n",
      "Peak Signal-to-noise ratio: 60.48939706612869\n",
      "Standard deviation: 4.9029167712433264e-05\n",
      "FWHM of the main peak of the RMTF: 53.631 rad/m^2\n",
      "Maximum recovered width structure: 132.651 rad/m^2\n",
      "Maximum Faraday Depth to which one has more than 50% sensitivity: 18743.865\n",
      "Iterations set to 27\n",
      "Iteration:  0  objective function value: 4690.15262\n",
      "Iteration:  10  objective function value: 4462.51718\n",
      "Iteration:  20  objective function value: 2093.97860\n",
      "Signal-to-noise ratio: 1.4488397774087367\n",
      "Peak Signal-t"
     ]
    },
    {
     "data": {
      "text/html": [
       "<b>limit_output extension: Maximum message size of 10000 exceeded with 10433 characters</b>"
      ]
     },
     "metadata": {},
     "output_type": "display_data"
    }
   ],
   "source": [
    "psnr_mean, psnr_std, rmse_mean, rmse_std, aic_mean, aic_std, bic_mean, bic_std, sparsity_mean, sparsity_std = run_tests(source_1, source_2, nsigma, remove_frac, samples, scenario=scenario, use_wavelet=use_wavelet, append_signal=append_signal)"
   ]
  },
  {
   "cell_type": "code",
   "execution_count": 14,
   "id": "9da12e2c",
   "metadata": {
    "ExecuteTime": {
     "end_time": "2022-03-29T21:45:17.167345Z",
     "start_time": "2022-03-29T21:45:17.165547Z"
    }
   },
   "outputs": [],
   "source": [
    "means = [psnr_mean, rmse_mean, aic_mean, bic_mean]\n",
    "stds = [psnr_std, rmse_std, aic_std, bic_std]\n",
    "names = [\"PSNR\", \"RMSE\", \"AIC\", \"BIC\"]"
   ]
  },
  {
   "cell_type": "code",
   "execution_count": 15,
   "id": "e82bc4a2",
   "metadata": {
    "ExecuteTime": {
     "end_time": "2022-03-29T21:45:17.583686Z",
     "start_time": "2022-03-29T21:45:17.168067Z"
    }
   },
   "outputs": [
    {
     "data": {
      "text/plain": [
       "(9, 6)"
      ]
     },
     "execution_count": 15,
     "metadata": {},
     "output_type": "execute_result"
    }
   ],
   "source": [
    "stds[1].shape"
   ]
  },
  {
   "cell_type": "code",
   "execution_count": 18,
   "id": "ad2cba86",
   "metadata": {
    "ExecuteTime": {
     "end_time": "2022-03-29T21:55:26.509671Z",
     "start_time": "2022-03-29T21:55:25.942307Z"
    }
   },
   "outputs": [
    {
     "data": {
      "image/png": "[encoded data removed]",
      "text/plain": [
       "<Figure size 1296x360 with 4 Axes>"
      ]
     },
     "metadata": {
      "needs_background": "light"
     },
     "output_type": "display_data"
    }
   ],
   "source": [
    "import os\n",
    "\n",
    "if use_wavelet is None:\n",
    "    ofile_name = \"deltaf_basis_scenario_\"+str(scenario)+\".pdf\"\n",
    "else:\n",
    "    ofile_name = \"csbasis_scenario_\"+str(scenario)+\".pdf\"\n",
    "fig, ax = plt.subplots(nrows=1, ncols=4, sharey='none', sharex='all', figsize=(18, 5))\n",
    "cmap = plt.get_cmap('tab20')\n",
    "\n",
    "for f in range(4):\n",
    "    number = means[f].shape[1]\n",
    "    colors = [cmap(i) for i in np.linspace(0, 1, number)]\n",
    "\n",
    "    for i, color in enumerate(colors, start=0):\n",
    "        lowers = np.minimum(stds[f][:,i], means[f][:,i])\n",
    "        ax[f].plot(nsigma, means[f][:,i], label=str(remove_frac[i]), color=color)\n",
    "        if f==0 or f==1:\n",
    "            ax[f].errorbar(nsigma, means[f][:,i], yerr = [lowers, stds[f][:,i]], fmt ='.', capsize=4, color=color)\n",
    "        else:\n",
    "            ax[f].errorbar(nsigma, means[f][:,i], yerr = stds[f][:,i], fmt ='.', capsize=4, color=color)\n",
    "        #ax[f].fill_between(nsigma, means[f][:,i]+stds[f][:,i], color=color, alpha=.5)\n",
    "        #ax[f].fill_between(nsigma, means[f][:,i]-stds[f][:,i], color=color, alpha=.5)\n",
    "        \n",
    "    #if scenario == 1 and names[f] == \"BIC\":\n",
    "    #    ax[f].legend(bbox_to_anchor=(1., 1.02), ncol=2, fancybox=True, shadow=True, title=\"Removal fraction\")\n",
    "    \n",
    "    if scenario == 3:\n",
    "        ax[f].set_xlabel(\"Noise fraction\")\n",
    "    else:\n",
    "        ax[f].xaxis.set_ticklabels([])\n",
    "        \n",
    "    ax[f].set_ylabel(names[f])\n",
    "    \n",
    "h, l = ax[0].get_legend_handles_labels()\n",
    "#if scenario ==3:\n",
    "legend = fig.legend(h, l, loc='lower center', ncol=10, fancybox=True, bbox_to_anchor=[0.5, -0.2], shadow=True, title=\"Removal fraction\")\n",
    "fig.tight_layout()\n",
    "if os.path.isfile(ofile_name):\n",
    "    os.remove(ofile_name)   # Opt.: os.system(\"rm \"+strFile)\n",
    "fig.savefig(ofile_name, dpi=100, bbox_inches='tight')"
   ]
  },
  {
   "cell_type": "code",
   "execution_count": 17,
   "id": "5d8b6913",
   "metadata": {
    "ExecuteTime": {
     "end_time": "2022-03-29T21:45:18.344200Z",
     "start_time": "2022-03-29T21:45:18.341638Z"
    }
   },
   "outputs": [
    {
     "data": {
      "text/plain": [
       "'\\nfor i in [2, 5, 8]:\\n    for j in [2, 5, 8]:\\n        idx = len(remove_frac)*i + j\\n        #print(idx)\\n        selected_test = test_objs[idx]\\n        print(np.max(selected_test.source.lambda2))\\n        plt.clf()\\n        plt.plot(selected_test.source.lambda2, selected_test.source.data.real, \\'k.\\', label=r\"Stokes $Q$\")\\n        plt.plot(selected_test.source.lambda2, selected_test.source.data.imag, \\'c.\\', label=r\"Stokes $U$\")\\n        plt.plot(selected_test.source.lambda2, np.abs(selected_test.source.data), \\'g.\\', label=r\"$|P|$\")\\n        if i==8:\\n            plt.xlabel(r\\'$\\\\lambda^2$[m$^{2}$]\\')\\n        else:\\n            plt.xticks([])\\n        if j==2:\\n            plt.ylabel(r\\'Jy/beam\\')\\n        else:\\n            plt.yticks([])\\n        #plt.legend(loc=(1.04, 0.755), fancybox=True, shadow=True)\\n        plt.xlim([0.0,0.09])\\n        plt.ylim([-0.01,0.01])\\n        plt.tight_layout()\\n        plt.savefig(\"pol_sim_rem_\"+str(remove_frac[j])+\"_noise_\"+str(nsigma[i])+\"_\"+str(idx)+\".png\", dpi=100)\\n'"
      ]
     },
     "execution_count": 17,
     "metadata": {},
     "output_type": "execute_result"
    }
   ],
   "source": [
    "# [0.2, 0.5, 0.8] Removal fraction [2, 5, 8]\n",
    "# [0.2, 0.5, 0.8] Noise # [2, 5, 8]\n",
    "\"\"\"\n",
    "for i in [2, 5, 8]:\n",
    "    for j in [2, 5, 8]:\n",
    "        idx = len(remove_frac)*i + j\n",
    "        #print(idx)\n",
    "        selected_test = test_objs[idx]\n",
    "        print(np.max(selected_test.source.lambda2))\n",
    "        plt.clf()\n",
    "        plt.plot(selected_test.source.lambda2, selected_test.source.data.real, 'k.', label=r\"Stokes $Q$\")\n",
    "        plt.plot(selected_test.source.lambda2, selected_test.source.data.imag, 'c.', label=r\"Stokes $U$\")\n",
    "        plt.plot(selected_test.source.lambda2, np.abs(selected_test.source.data), 'g.', label=r\"$|P|$\")\n",
    "        if i==8:\n",
    "            plt.xlabel(r'$\\lambda^2$[m$^{2}$]')\n",
    "        else:\n",
    "            plt.xticks([])\n",
    "        if j==2:\n",
    "            plt.ylabel(r'Jy/beam')\n",
    "        else:\n",
    "            plt.yticks([])\n",
    "        #plt.legend(loc=(1.04, 0.755), fancybox=True, shadow=True)\n",
    "        plt.xlim([0.0,0.09])\n",
    "        plt.ylim([-0.01,0.01])\n",
    "        plt.tight_layout()\n",
    "        plt.savefig(\"pol_sim_rem_\"+str(remove_frac[j])+\"_noise_\"+str(nsigma[i])+\"_\"+str(idx)+\".png\", dpi=100)\n",
    "\"\"\""
   ]
  },
  {
   "cell_type": "code",
   "execution_count": null,
   "id": "3cbb91a8",
   "metadata": {},
   "outputs": [],
   "source": []
  }
 ],
 "metadata": {
  "kernelspec": {
   "display_name": "Python 3 (ipykernel)",
   "language": "python",
   "name": "python3"
  },
  "language_info": {
   "codemirror_mode": {
    "name": "ipython",
    "version": 3
   },
   "file_extension": ".py",
   "mimetype": "text/x-python",
   "name": "python",
   "nbconvert_exporter": "python",
   "pygments_lexer": "ipython3",
   "version": "3.10.2"
  },
  "latex_envs": {
   "LaTeX_envs_menu_present": true,
   "autoclose": false,
   "autocomplete": true,
   "bibliofile": "biblio.bib",
   "cite_by": "apalike",
   "current_citInitial": 1,
   "eqLabelWithNumbers": true,
   "eqNumInitial": 1,
   "hotkeys": {
    "equation": "Ctrl-E",
    "itemize": "Ctrl-I"
   },
   "labels_anchors": false,
   "latex_user_defs": false,
   "report_style_numbering": false,
   "user_envs_cfg": false
  },
  "toc": {
   "base_numbering": 1,
   "nav_menu": {},
   "number_sections": true,
   "sideBar": true,
   "skip_h1_title": false,
   "title_cell": "Table of Contents",
   "title_sidebar": "Contents",
   "toc_cell": false,
   "toc_position": {},
   "toc_section_display": true,
   "toc_window_display": false
  },
  "varInspector": {
   "cols": {
    "lenName": 16,
    "lenType": 16,
    "lenVar": 40
   },
   "kernels_config": {
    "python": {
     "delete_cmd_postfix": "",
     "delete_cmd_prefix": "del ",
     "library": "var_list.py",
     "varRefreshCmd": "print(var_dic_list())"
    },
    "r": {
     "delete_cmd_postfix": ") ",
     "delete_cmd_prefix": "rm(",
     "library": "var_list.r",
     "varRefreshCmd": "cat(var_dic_list()) "
    }
   },
   "types_to_exclude": [
    "module",
    "function",
    "builtin_function_or_method",
    "instance",
    "_Feature"
   ],
   "window_display": false
  }
 },
 "nbformat": 4,
 "nbformat_minor": 5
}
