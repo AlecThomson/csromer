{
 "cells": [
  {
   "cell_type": "code",
   "execution_count": 1,
   "id": "0142b612",
   "metadata": {
    "ExecuteTime": {
     "end_time": "2022-03-26T13:43:37.490138Z",
     "start_time": "2022-03-26T13:43:36.709267Z"
    }
   },
   "outputs": [],
   "source": [
    "import os\n",
    "import matplotlib.pyplot as plt\n",
    "import pywt\n",
    "import numpy as np\n",
    "%matplotlib inline"
   ]
  },
  {
   "cell_type": "code",
   "execution_count": 2,
   "id": "9a257732",
   "metadata": {
    "ExecuteTime": {
     "end_time": "2022-03-26T13:43:37.499966Z",
     "start_time": "2022-03-26T13:43:37.495624Z"
    }
   },
   "outputs": [],
   "source": [
    "SMALL_SIZE = 17\n",
    "MEDIUM_SIZE = 18\n",
    "BIGGER_SIZE = 19\n",
    "\n",
    "plt.rcParams.update({\n",
    "                \"font.family\": \"serif\",\n",
    "                \"text.usetex\": True,\n",
    "                \"pgf.rcfonts\": False,\n",
    "                \"pgf.texsystem\": 'pdflatex',  # default is xetex\n",
    "            })\n",
    "\n",
    "plt.rc('font', size=MEDIUM_SIZE)  # controls default text sizes\n",
    "plt.rc('axes', titlesize=SMALL_SIZE)  # fontsize of the axes title\n",
    "plt.rc('axes', labelsize=MEDIUM_SIZE)  # fontsize of the x and y labels\n",
    "plt.rc('xtick', labelsize=SMALL_SIZE)  # fontsize of the tick labels\n",
    "plt.rc('ytick', labelsize=SMALL_SIZE)  # fontsize of the tick labels\n",
    "plt.rc('legend', fontsize=SMALL_SIZE)  # legend fontsize"
   ]
  },
  {
   "cell_type": "code",
   "execution_count": 3,
   "id": "aad9a921",
   "metadata": {
    "ExecuteTime": {
     "end_time": "2022-03-26T13:43:37.590359Z",
     "start_time": "2022-03-26T13:43:37.505753Z"
    }
   },
   "outputs": [],
   "source": [
    "nscenarios = 3"
   ]
  },
  {
   "cell_type": "code",
   "execution_count": 4,
   "id": "8460ebfe",
   "metadata": {
    "ExecuteTime": {
     "end_time": "2022-03-26T13:43:37.638133Z",
     "start_time": "2022-03-26T13:43:37.595927Z"
    }
   },
   "outputs": [],
   "source": [
    "undecimated=\"\"\n",
    "radiotelescope=\"jvla\""
   ]
  },
  {
   "cell_type": "code",
   "execution_count": 5,
   "id": "0fe0d5e2",
   "metadata": {
    "ExecuteTime": {
     "end_time": "2022-03-26T13:43:38.305524Z",
     "start_time": "2022-03-26T13:43:38.146078Z"
    }
   },
   "outputs": [],
   "source": [
    "scenario_1_means = np.load(undecimated+\"wavelet_\"+radiotelescope+\"_scenario_1_means.npy\")\n",
    "scenario_1_stds = np.load(undecimated+\"wavelet_\"+radiotelescope+\"_scenario_1_stds.npy\")\n",
    "\n",
    "scenario_2_means = np.load(undecimated+\"wavelet_\"+radiotelescope+\"_scenario_2_means.npy\")\n",
    "scenario_2_stds = np.load(undecimated+\"wavelet_\"+radiotelescope+\"_scenario_2_stds.npy\")\n",
    "\n",
    "scenario_3_means = np.load(undecimated+\"wavelet_\"+radiotelescope+\"_scenario_3_means.npy\")\n",
    "scenario_3_stds = np.load(undecimated+\"wavelet_\"+radiotelescope+\"_scenario_3_stds.npy\")"
   ]
  },
  {
   "cell_type": "code",
   "execution_count": 8,
   "id": "8d0be00a",
   "metadata": {
    "ExecuteTime": {
     "end_time": "2022-03-26T13:43:47.188645Z",
     "start_time": "2022-03-26T13:43:47.186187Z"
    }
   },
   "outputs": [],
   "source": [
    "family_per_scenario=[\"coif\",\"coif\",\"coif\"]"
   ]
  },
  {
   "cell_type": "code",
   "execution_count": 9,
   "id": "7ba3cb20",
   "metadata": {
    "ExecuteTime": {
     "end_time": "2022-03-26T13:43:47.591844Z",
     "start_time": "2022-03-26T13:43:47.589380Z"
    }
   },
   "outputs": [],
   "source": [
    "wavelist_per_scenario = [pywt.wavelist(i, kind=\"discrete\") for i in family_per_scenario]"
   ]
  },
  {
   "cell_type": "code",
   "execution_count": 10,
   "id": "45874e4c",
   "metadata": {
    "ExecuteTime": {
     "end_time": "2022-03-26T13:43:48.422901Z",
     "start_time": "2022-03-26T13:43:48.420067Z"
    }
   },
   "outputs": [],
   "source": [
    "# Getting minimum AICs\n",
    "idx_sc1 = np.argmin(scenario_1_means[2])\n",
    "idx_sc2 = np.argmin(scenario_2_means[2])\n",
    "idx_sc3 = np.argmin(scenario_3_means[2])"
   ]
  },
  {
   "cell_type": "code",
   "execution_count": 16,
   "id": "38e4ffc7",
   "metadata": {
    "ExecuteTime": {
     "end_time": "2022-03-26T13:47:11.538346Z",
     "start_time": "2022-03-26T13:47:11.533758Z"
    }
   },
   "outputs": [
    {
     "name": "stdout",
     "output_type": "stream",
     "text": [
      "Scenario 1: Best AIC Wavelet family {0} : {1:.3f} \n",
      "Scenario 1: Best AIC Wavelet: coif3 -22703.863+-116.23359\n",
      "Scenario 2: Best AIC Wavelet: coif3 -22647.234+-113.42274\n",
      "Scenario 3: Best AIC Wavelet: coif3 -22385.555+-84.31499\n"
     ]
    }
   ],
   "source": [
    "print(\"Scenario 1: Best AIC Wavelet: \"+wavelist_per_scenario[0][idx_sc1]+\" \"+str(scenario_1_means[2, idx_sc1])+\"+-\"+str(scenario_1_stds[2, idx_sc1]))\n",
    "print(\"Scenario 2: Best AIC Wavelet: \"+wavelist_per_scenario[1][idx_sc1]+\" \"+str(scenario_2_means[2, idx_sc2])+\"+-\"+str(scenario_2_stds[2, idx_sc2]))\n",
    "print(\"Scenario 3: Best AIC Wavelet: \"+wavelist_per_scenario[2][idx_sc1]+\" \"+str(scenario_3_means[2, idx_sc3])+\"+-\"+str(scenario_3_stds[2, idx_sc3]))"
   ]
  },
  {
   "cell_type": "code",
   "execution_count": 17,
   "id": "4d427510",
   "metadata": {
    "ExecuteTime": {
     "end_time": "2022-03-26T13:47:53.688784Z",
     "start_time": "2022-03-26T13:47:53.684431Z"
    }
   },
   "outputs": [
    {
     "name": "stdout",
     "output_type": "stream",
     "text": [
      "Scenario 1: Best AIC Wavelet: coif3 -22344.734+-132.99687\n",
      "Scenario 2: Best AIC Wavelet: coif3 -22356.95+-132.96606\n",
      "Scenario 3: Best AIC Wavelet: coif3 -21943.828+-118.3429\n"
     ]
    }
   ],
   "source": [
    "print(\"Scenario 1: Best AIC Wavelet: \"+wavelist_per_scenario[0][idx_sc1]+\" \"+str(scenario_1_means[3, idx_sc1])+\"+-\"+str(scenario_1_stds[3, idx_sc1]))\n",
    "print(\"Scenario 2: Best AIC Wavelet: \"+wavelist_per_scenario[1][idx_sc1]+\" \"+str(scenario_2_means[3, idx_sc2])+\"+-\"+str(scenario_2_stds[3, idx_sc2]))\n",
    "print(\"Scenario 3: Best AIC Wavelet: \"+wavelist_per_scenario[2][idx_sc1]+\" \"+str(scenario_3_means[3, idx_sc3])+\"+-\"+str(scenario_3_stds[3, idx_sc3]))"
   ]
  },
  {
   "cell_type": "code",
   "execution_count": 18,
   "id": "87dfadd7",
   "metadata": {
    "ExecuteTime": {
     "end_time": "2022-03-26T13:48:15.392206Z",
     "start_time": "2022-03-26T13:48:15.387925Z"
    }
   },
   "outputs": [
    {
     "name": "stdout",
     "output_type": "stream",
     "text": [
      "Scenario 1: Best AIC Wavelet: coif3 108.389984+-10.565841\n",
      "Scenario 2: Best AIC Wavelet: coif3 95.07451+-4.6249433\n",
      "Scenario 3: Best AIC Wavelet: coif3 103.57941+-7.9270706\n"
     ]
    }
   ],
   "source": [
    "print(\"Scenario 1: Best AIC Wavelet: \"+wavelist_per_scenario[0][idx_sc1]+\" \"+str(scenario_1_means[0, idx_sc1])+\"+-\"+str(scenario_1_stds[0, idx_sc1]))\n",
    "print(\"Scenario 2: Best AIC Wavelet: \"+wavelist_per_scenario[1][idx_sc1]+\" \"+str(scenario_2_means[0, idx_sc2])+\"+-\"+str(scenario_2_stds[0, idx_sc2]))\n",
    "print(\"Scenario 3: Best AIC Wavelet: \"+wavelist_per_scenario[2][idx_sc1]+\" \"+str(scenario_3_means[0, idx_sc3])+\"+-\"+str(scenario_3_stds[0, idx_sc3]))"
   ]
  },
  {
   "cell_type": "code",
   "execution_count": 19,
   "id": "3154850d",
   "metadata": {
    "ExecuteTime": {
     "end_time": "2022-03-26T13:48:49.458139Z",
     "start_time": "2022-03-26T13:48:49.453873Z"
    }
   },
   "outputs": [
    {
     "name": "stdout",
     "output_type": "stream",
     "text": [
      "Scenario 1: Best AIC Wavelet: coif3 0.00079588825+-2.8539494e-05\n",
      "Scenario 2: Best AIC Wavelet: coif3 0.0008165414+-2.7943068e-05\n",
      "Scenario 3: Best AIC Wavelet: coif3 0.0008705169+-2.4603525e-05\n"
     ]
    }
   ],
   "source": [
    "print(\"Scenario 1: Best AIC Wavelet: \"+wavelist_per_scenario[0][idx_sc1]+\" \"+str(scenario_1_means[1, idx_sc1])+\"+-\"+str(scenario_1_stds[1, idx_sc1]))\n",
    "print(\"Scenario 2: Best AIC Wavelet: \"+wavelist_per_scenario[1][idx_sc1]+\" \"+str(scenario_2_means[1, idx_sc2])+\"+-\"+str(scenario_2_stds[1, idx_sc2]))\n",
    "print(\"Scenario 3: Best AIC Wavelet: \"+wavelist_per_scenario[2][idx_sc1]+\" \"+str(scenario_3_means[1, idx_sc3])+\"+-\"+str(scenario_3_stds[1, idx_sc3]))"
   ]
  },
  {
   "cell_type": "code",
   "execution_count": 22,
   "id": "153fef86",
   "metadata": {
    "ExecuteTime": {
     "end_time": "2022-03-26T14:09:45.305022Z",
     "start_time": "2022-03-26T14:09:43.324016Z"
    }
   },
   "outputs": [
    {
     "data": {
      "image/png": "[encoded data removed]",
      "text/plain": [
       "<Figure size 1296x360 with 12 Axes>"
      ]
     },
     "metadata": {
      "needs_background": "light"
     },
     "output_type": "display_data"
    }
   ],
   "source": [
    "names = [\"PSNR\", \"RMSE\", \"AIC\", \"BIC\"]  \n",
    "fig, ax = plt.subplots(nrows=3, ncols=len(names), sharey='col', sharex='row', figsize=(18, 5))\n",
    "#cmap = plt.get_cmap('tab20')\n",
    "cmap = plt.get_cmap('Set2')\n",
    "\n",
    "\n",
    "for i in range(3):\n",
    "    wavelets = wavelist_per_scenario[i]\n",
    "    nwavelets = len(wavelets)\n",
    "    id_wav = np.arange(0, nwavelets)\n",
    "    colors = [cmap(i) for i in np.linspace(0, 1, nwavelets)]\n",
    "    for j in range(len(names)):\n",
    "        for k in range(nwavelets):\n",
    "            if i==0:\n",
    "                ax[i,j].plot(id_wav[k], scenario_1_means[j,k], label=wavelets[k], color=colors[k])\n",
    "                ax[i,j].errorbar(id_wav[k], scenario_1_means[j,k], yerr = scenario_1_means[j,k], fmt ='.', capsize=4, color=colors[k])\n",
    "            elif i==1:\n",
    "                ax[i,j].plot(id_wav[k], scenario_2_means[j,k], label=wavelets[k], color=colors[k])\n",
    "                ax[i,j].errorbar(id_wav[k], scenario_2_means[j,k], yerr = scenario_2_means[j,k], fmt ='.', capsize=4, color=colors[k])\n",
    "            else:\n",
    "                ax[i,j].plot(id_wav[k], scenario_3_means[j,k], label=wavelets[k], color=colors[k])\n",
    "                ax[i,j].errorbar(id_wav[k], scenario_3_means[j,k], yerr = scenario_3_means[j,k], fmt ='.', capsize=4, color=colors[k])\n",
    "                ax[i,j].set_xlabel(\"Wavelet\")\n",
    "            ax[i,j].set_ylabel(names[j])\n",
    "\n",
    "#for i in range(3):\n",
    "#    for j in range(len(names)):\n",
    "#        for k in range(scenarios_means.shape[2]):\n",
    "#            ax[i,j].plot(_id[k], scenarios_means[i,j,k], label=use_wavelet[k], color=colors[k])\n",
    "#            ax[i,j].errorbar(_id[k], scenarios_means[i,j,k], yerr = scenarios_stds[i,j,k], fmt ='.', capsize=4, color=colors[k])\n",
    "#            #if names[f] == \"PSNR\" and sc==3:\n",
    "#            #ax[sc-1,f].legend(loc='upper center', bbox_to_anchor=(0.5, -0.5), ncol=19, fancybox=True, shadow=True, title=\"Wavelets\")\n",
    "#            ax[i,j].set_ylabel(names[j])\n",
    "#        if i==2:\n",
    "#            ax[i,j].set_xlabel(\"Wavelet\")\n",
    "\n",
    "#for k in range(len(idx_coif)):\n",
    "#    for i in range(scenarios_means.shape[0]):\n",
    "#        for j in range(len(names)):\n",
    "#            ax[i,j].axvline(x = idx_coif[k], color = 'k', linestyle=\"--\", alpha=0.8)\n",
    "            \n",
    "#for i in range(scenarios_means.shape[0]):\n",
    "    #ax[i,1].set_ylim([0,0.0015])\n",
    "    #ax[i,2].set_ylim([-25000,-20000])\n",
    "    #ax[i,3].set_ylim([-25000,-20000])\n",
    "\n",
    "    #ax[i,2].set_ylim([-25000,-15000]) #undecimated\n",
    "    #ax[i,3].set_ylim([-25000,17500]) #undecimated\n",
    "\n",
    "ofile_name = \"family_\"+undecimated+\"wavelets_\"+radiotelescope+\".pdf\"\n",
    "#fig.legend(loc='lower center', bbox_to_anchor=(0.5, -0.5), ncol=19, fancybox=True, shadow=True, title=\"Wavelets\")\n",
    "#ax[len(scenarios)-1, 1].legend(loc='upper left', bbox_to_anchor=[1.0, -0.5], ncol=19, fancybox=True, shadow=True, title=\"Wavelets\")\n",
    "h, l = ax[0,0].get_legend_handles_labels()\n",
    "legend = fig.legend(h, l, loc='lower center', ncol=18, fancybox=True, bbox_to_anchor=[0.52, -0.375], shadow=True, title=\"Wavelet families\")\n",
    "# fig.suptitle(\"Delta dirac basis + Undecimated Wavelet\")\n",
    "fig.tight_layout()\n",
    "if os.path.isfile(ofile_name):\n",
    "    os.remove(ofile_name)   # Opt.: os.system(\"rm \"+strFile)\n",
    "fig.savefig(ofile_name, dpi=100, bbox_inches='tight')#"
   ]
  },
  {
   "cell_type": "code",
   "execution_count": null,
   "id": "9290e6e0",
   "metadata": {},
   "outputs": [],
   "source": []
  }
 ],
 "metadata": {
  "kernelspec": {
   "display_name": "Python 3 (ipykernel)",
   "language": "python",
   "name": "python3"
  },
  "language_info": {
   "codemirror_mode": {
    "name": "ipython",
    "version": 3
   },
   "file_extension": ".py",
   "mimetype": "text/x-python",
   "name": "python",
   "nbconvert_exporter": "python",
   "pygments_lexer": "ipython3",
   "version": "3.10.2"
  },
  "latex_envs": {
   "LaTeX_envs_menu_present": true,
   "autoclose": false,
   "autocomplete": true,
   "bibliofile": "biblio.bib",
   "cite_by": "apalike",
   "current_citInitial": 1,
   "eqLabelWithNumbers": true,
   "eqNumInitial": 1,
   "hotkeys": {
    "equation": "Ctrl-E",
    "itemize": "Ctrl-I"
   },
   "labels_anchors": false,
   "latex_user_defs": false,
   "report_style_numbering": false,
   "user_envs_cfg": false
  },
  "varInspector": {
   "cols": {
    "lenName": 16,
    "lenType": 16,
    "lenVar": 40
   },
   "kernels_config": {
    "python": {
     "delete_cmd_postfix": "",
     "delete_cmd_prefix": "del ",
     "library": "var_list.py",
     "varRefreshCmd": "print(var_dic_list())"
    },
    "r": {
     "delete_cmd_postfix": ") ",
     "delete_cmd_prefix": "rm(",
     "library": "var_list.r",
     "varRefreshCmd": "cat(var_dic_list()) "
    }
   },
   "types_to_exclude": [
    "module",
    "function",
    "builtin_function_or_method",
    "instance",
    "_Feature"
   ],
   "window_display": false
  }
 },
 "nbformat": 4,
 "nbformat_minor": 5
}