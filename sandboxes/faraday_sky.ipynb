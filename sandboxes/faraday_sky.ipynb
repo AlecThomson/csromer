{
 "cells": [
  {
   "cell_type": "code",
   "execution_count": 9,
   "id": "d21229a7",
   "metadata": {
    "ExecuteTime": {
     "end_time": "2021-12-08T17:31:27.134072Z",
     "start_time": "2021-12-08T17:31:27.125831Z"
    }
   },
   "outputs": [],
   "source": [
    "from csromer.faraday_sky import FaradaySky\n",
    "from astropy.io import fits\n",
    "import matplotlib.pyplot as plt"
   ]
  },
  {
   "cell_type": "code",
   "execution_count": 10,
   "id": "e74616af",
   "metadata": {
    "ExecuteTime": {
     "end_time": "2021-12-08T17:31:31.794309Z",
     "start_time": "2021-12-08T17:31:31.628177Z"
    }
   },
   "outputs": [],
   "source": [
    "f_sky = FaradaySky(filename=\"./../faradaysky/faraday2020v2.hdf5\")"
   ]
  },
  {
   "cell_type": "code",
   "execution_count": 11,
   "id": "10e4022f",
   "metadata": {
    "ExecuteTime": {
     "end_time": "2021-12-08T17:31:31.983731Z",
     "start_time": "2021-12-08T17:31:31.963598Z"
    }
   },
   "outputs": [],
   "source": [
    "hdul = fits.open(\"/home/miguel/Documents/A1314_MFS/briggs2/A1314_IQUV.fits\")[0]"
   ]
  },
  {
   "cell_type": "code",
   "execution_count": 12,
   "id": "2e3f6914",
   "metadata": {
    "ExecuteTime": {
     "end_time": "2021-12-08T17:31:32.988974Z",
     "start_time": "2021-12-08T17:31:32.433090Z"
    }
   },
   "outputs": [],
   "source": [
    "mean, std = f_sky.galactic_rm_image(hdul.header, use_bilinear_interpolation=False)"
   ]
  },
  {
   "cell_type": "code",
   "execution_count": 13,
   "id": "d4209464",
   "metadata": {
    "ExecuteTime": {
     "end_time": "2021-12-08T17:31:33.243498Z",
     "start_time": "2021-12-08T17:31:33.001618Z"
    }
   },
   "outputs": [
    {
     "data": {
      "text/plain": [
       "<matplotlib.colorbar.Colorbar at 0x7f4f64739fa0>"
      ]
     },
     "execution_count": 13,
     "metadata": {},
     "output_type": "execute_result"
    },
    {
     "data": {
      "image/png": "[encoded data removed]",
      "text/plain": [
       "<Figure size 432x288 with 2 Axes>"
      ]
     },
     "metadata": {
      "needs_background": "light"
     },
     "output_type": "display_data"
    }
   ],
   "source": [
    "plt.imshow(mean)\n",
    "plt.colorbar()"
   ]
  },
  {
   "cell_type": "code",
   "execution_count": null,
   "id": "ebc47c7e",
   "metadata": {},
   "outputs": [],
   "source": []
  }
 ],
 "metadata": {
  "kernelspec": {
   "display_name": "Python 3 (ipykernel)",
   "language": "python",
   "name": "python3"
  },
  "language_info": {
   "codemirror_mode": {
    "name": "ipython",
    "version": 3
   },
   "file_extension": ".py",
   "mimetype": "text/x-python",
   "name": "python",
   "nbconvert_exporter": "python",
   "pygments_lexer": "ipython3",
   "version": "3.9.7"
  },
  "latex_envs": {
   "LaTeX_envs_menu_present": true,
   "autoclose": false,
   "autocomplete": true,
   "bibliofile": "biblio.bib",
   "cite_by": "apalike",
   "current_citInitial": 1,
   "eqLabelWithNumbers": true,
   "eqNumInitial": 1,
   "hotkeys": {
    "equation": "Ctrl-E",
    "itemize": "Ctrl-I"
   },
   "labels_anchors": false,
   "latex_user_defs": false,
   "report_style_numbering": false,
   "user_envs_cfg": false
  },
  "toc": {
   "base_numbering": 1,
   "nav_menu": {},
   "number_sections": true,
   "sideBar": true,
   "skip_h1_title": false,
   "title_cell": "Table of Contents",
   "title_sidebar": "Contents",
   "toc_cell": false,
   "toc_position": {},
   "toc_section_display": true,
   "toc_window_display": false
  },
  "varInspector": {
   "cols": {
    "lenName": 16,
    "lenType": 16,
    "lenVar": 40
   },
   "kernels_config": {
    "python": {
     "delete_cmd_postfix": "",
     "delete_cmd_prefix": "del ",
     "library": "var_list.py",
     "varRefreshCmd": "print(var_dic_list())"
    },
    "r": {
     "delete_cmd_postfix": ") ",
     "delete_cmd_prefix": "rm(",
     "library": "var_list.r",
     "varRefreshCmd": "cat(var_dic_list()) "
    }
   },
   "types_to_exclude": [
    "module",
    "function",
    "builtin_function_or_method",
    "instance",
    "_Feature"
   ],
   "window_display": false
  }
 },
 "nbformat": 4,
 "nbformat_minor": 5
}
