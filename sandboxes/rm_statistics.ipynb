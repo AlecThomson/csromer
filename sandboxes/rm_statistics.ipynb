{
 "cells": [
  {
   "cell_type": "code",
   "execution_count": 1,
   "id": "daa033e5",
   "metadata": {
    "ExecuteTime": {
     "end_time": "2022-02-01T12:03:29.986976Z",
     "start_time": "2022-02-01T12:03:29.143981Z"
    }
   },
   "outputs": [],
   "source": [
    "import numpy as np\n",
    "from astropy.io import fits\n",
    "import matplotlib.pyplot as plt\n",
    "from astropy.wcs import WCS\n",
    "from astropy.io import fits\n",
    "import astropy.units as un\n",
    "from astropy.coordinates import SkyCoord\n",
    "from astropy.units import Quantity\n",
    "from astropy.stats import median_absolute_deviation as mad\n",
    "from astropy.cosmology import Planck18"
   ]
  },
  {
   "cell_type": "code",
   "execution_count": 2,
   "id": "91c94b2b",
   "metadata": {
    "ExecuteTime": {
     "end_time": "2022-02-01T12:03:29.991158Z",
     "start_time": "2022-02-01T12:03:29.987691Z"
    }
   },
   "outputs": [],
   "source": [
    "def get_lims(wcs: WCS = None, radius: Quantity=None, center_coord: SkyCoord=None):\n",
    "    if isinstance(radius, Quantity):\n",
    "        if radius.isscalar:\n",
    "            radius_x = radius_y = radius\n",
    "        else:\n",
    "            radius_x = radius[0]\n",
    "            radius_y = radius[1]\n",
    "\n",
    "    else:\n",
    "        if isinstance(radius, list):\n",
    "            radius_x = radius[0] * un.deg\n",
    "            radius_y = radius[1] * un.deg\n",
    "        else:\n",
    "            radius_x = radius_y = radius * un.deg\n",
    "\n",
    "    left_corner = SkyCoord(ra=center_coord.ra - radius_x, dec=center_coord.dec - radius_y)\n",
    "    right_corner = SkyCoord(ra=center_coord.ra + radius_x, dec=center_coord.dec + radius_y)\n",
    "    left, up = left_corner.to_pixel(wcs, origin=0)\n",
    "    right, down = right_corner.to_pixel(wcs, origin=0)\n",
    "    xlim = [int(right), int(left)]\n",
    "    ylim = [int(up), int(down)]\n",
    "    return xlim, ylim"
   ]
  },
  {
   "cell_type": "code",
   "execution_count": 3,
   "id": "00f39775",
   "metadata": {
    "ExecuteTime": {
     "end_time": "2022-02-01T12:03:30.173379Z",
     "start_time": "2022-02-01T12:03:29.992335Z"
    }
   },
   "outputs": [],
   "source": [
    "rm_hdu=fits.open(\"/home/miguel/Documents/datasets/A1314_JVLA/mfs/rm_images/max_faraday_depth.fits\")[0]\n",
    "p_hdu= fits.open(\"/home/miguel/Documents/datasets/A1314_JVLA/mfs/rm_images/max_rotated_intensity.fits\")[0]\n",
    "sigma_qu_hdu=fits.open(\"/home/miguel/Documents/datasets/A1314_JVLA/mfs/rm_images/sigma_qu_faraday.fits\")[0]\n",
    "sigma_phi_hdu=fits.open(\"/home/miguel/Documents/datasets/A1314_JVLA/mfs/rm_images/sigma_phi_peak.fits\")[0]"
   ]
  },
  {
   "cell_type": "code",
   "execution_count": 4,
   "id": "43dab090",
   "metadata": {
    "ExecuteTime": {
     "end_time": "2022-02-01T12:03:30.272661Z",
     "start_time": "2022-02-01T12:03:30.174009Z"
    }
   },
   "outputs": [],
   "source": [
    "cluster_center_coord = SkyCoord(ra=173.714 * un.deg, dec=49.091 * un.deg, frame=\"fk5\")"
   ]
  },
  {
   "cell_type": "code",
   "execution_count": 5,
   "id": "db0b06b6",
   "metadata": {
    "ExecuteTime": {
     "end_time": "2022-02-01T12:03:30.352983Z",
     "start_time": "2022-02-01T12:03:30.273327Z"
    }
   },
   "outputs": [],
   "source": [
    "#center_coord = SkyCoord(ra=173.705 * un.deg,dec=49.077 *un.deg, frame=\"fk5\") # Center Source\n",
    "#center_coord = SkyCoord(ra=173.479 * un.deg,dec=49.064 *un.deg, frame=\"fk5\") # C-W Source\n",
    "#center_coord = SkyCoord(ra=173.654 * un.deg,dec=48.978 *un.deg, frame=\"fk5\") # C-S Extended\n",
    "#center_coord = SkyCoord(ra=173.453 * un.deg,dec=48.985 *un.deg, frame=\"fk5\") # S-W Source\n",
    "#center_coord = SkyCoord(ra=173.803 * un.deg,dec=48.966 *un.deg, frame=\"fk5\") # S-E Source"
   ]
  },
  {
   "cell_type": "code",
   "execution_count": 6,
   "id": "38c8e057",
   "metadata": {
    "ExecuteTime": {
     "end_time": "2022-02-01T12:03:30.426535Z",
     "start_time": "2022-02-01T12:03:30.353555Z"
    }
   },
   "outputs": [],
   "source": [
    "# Centers based on core centers\n",
    "#center_coord = SkyCoord(ra=173.705 * un.deg,dec=49.077 *un.deg, frame=\"fk5\") # Center Source\n",
    "#center_coord = SkyCoord(ra=173.496 * un.deg,dec=49.062 *un.deg, frame=\"fk5\") # C-W Source\n",
    "#center_coord = SkyCoord(ra=173.693 * un.deg,dec=48.956 *un.deg, frame=\"fk5\") # C-S Extended\n",
    "#center_coord = SkyCoord(ra=173.453 * un.deg,dec=48.985 *un.deg, frame=\"fk5\") # S-W Source\n",
    "#center_coord = SkyCoord(ra=173.803 * un.deg,dec=48.966 *un.deg, frame=\"fk5\") # S-E Source\n",
    "#center_coord = SkyCoord(ra=173.521 * un.deg,dec=49.106 *un.deg, frame=\"fk5\") # 5\n",
    "#center_coord = SkyCoord(ra=173.762 * un.deg,dec=49.193 *un.deg, frame=\"fk5\") # 12\n",
    "center_coord = SkyCoord(ra=173.943 * un.deg,dec=48.921 *un.deg, frame=\"fk5\") # 15"
   ]
  },
  {
   "cell_type": "code",
   "execution_count": 7,
   "id": "a2771671",
   "metadata": {
    "ExecuteTime": {
     "end_time": "2022-02-01T12:03:30.550165Z",
     "start_time": "2022-02-01T12:03:30.427251Z"
    }
   },
   "outputs": [],
   "source": [
    "dist_to_center = center_coord.separation(cluster_center_coord)"
   ]
  },
  {
   "cell_type": "code",
   "execution_count": 8,
   "id": "d67ef418",
   "metadata": {
    "ExecuteTime": {
     "end_time": "2022-02-01T12:03:30.667604Z",
     "start_time": "2022-02-01T12:03:30.550906Z"
    }
   },
   "outputs": [
    {
     "data": {
      "text/latex": [
       "$816.6985 \\; \\mathrm{{}^{\\prime\\prime}}$"
      ],
      "text/plain": [
       "<Quantity 816.69849618 arcsec>"
      ]
     },
     "execution_count": 8,
     "metadata": {},
     "output_type": "execute_result"
    }
   ],
   "source": [
    "dist_to_center.arcsec * un.arcsec"
   ]
  },
  {
   "cell_type": "code",
   "execution_count": 9,
   "id": "7328296f",
   "metadata": {
    "ExecuteTime": {
     "end_time": "2022-02-01T12:03:30.759233Z",
     "start_time": "2022-02-01T12:03:30.668310Z"
    }
   },
   "outputs": [],
   "source": [
    "redshift_z = 0.034 # X-Ray Center\n",
    "#redshift_z = 0.033 # Center Source\n",
    "#redshift_z = 0.032 # C-W Source\n",
    "#redshift_z = 0.032 # C-S Extended"
   ]
  },
  {
   "cell_type": "code",
   "execution_count": 10,
   "id": "d39d6115",
   "metadata": {
    "ExecuteTime": {
     "end_time": "2022-02-01T12:03:30.897067Z",
     "start_time": "2022-02-01T12:03:30.759877Z"
    }
   },
   "outputs": [],
   "source": [
    "dist = Planck18.comoving_distance(redshift_z)\n",
    "scale = Planck18.arcsec_per_kpc_comoving(redshift_z)"
   ]
  },
  {
   "cell_type": "code",
   "execution_count": 11,
   "id": "59d49ded",
   "metadata": {
    "ExecuteTime": {
     "end_time": "2022-02-01T12:03:31.070451Z",
     "start_time": "2022-02-01T12:03:30.897785Z"
    }
   },
   "outputs": [],
   "source": [
    "dist_kpc = dist_to_center.arcsecond * un.arcsec / scale"
   ]
  },
  {
   "cell_type": "code",
   "execution_count": 12,
   "id": "8ed22e61",
   "metadata": {
    "ExecuteTime": {
     "end_time": "2022-02-01T12:03:31.224461Z",
     "start_time": "2022-02-01T12:03:31.072154Z"
    }
   },
   "outputs": [
    {
     "data": {
      "text/latex": [
       "$591.72751 \\; \\mathrm{kpc}$"
      ],
      "text/plain": [
       "<Quantity 591.72751038 kpc>"
      ]
     },
     "execution_count": 12,
     "metadata": {},
     "output_type": "execute_result"
    }
   ],
   "source": [
    "dist_kpc"
   ]
  },
  {
   "cell_type": "code",
   "execution_count": 13,
   "id": "86927f35",
   "metadata": {
    "ExecuteTime": {
     "end_time": "2022-02-01T12:03:31.318800Z",
     "start_time": "2022-02-01T12:03:31.225229Z"
    }
   },
   "outputs": [
    {
     "name": "stderr",
     "output_type": "stream",
     "text": [
      "WARNING: FITSFixedWarning: 'obsfix' made the change 'Set OBSGEO-L to  -107.618000 from OBSGEO-[XYZ].\n",
      "Set OBSGEO-B to    34.078827 from OBSGEO-[XYZ].\n",
      "Set OBSGEO-H to     2115.607 from OBSGEO-[XYZ]'. [astropy.wcs.wcs]\n"
     ]
    }
   ],
   "source": [
    "wcs = WCS(rm_hdu.header, naxis=2)"
   ]
  },
  {
   "cell_type": "code",
   "execution_count": 14,
   "id": "799fef8a",
   "metadata": {
    "ExecuteTime": {
     "end_time": "2022-02-01T12:03:31.451190Z",
     "start_time": "2022-02-01T12:03:31.319612Z"
    }
   },
   "outputs": [],
   "source": [
    "rm = rm_hdu.data\n",
    "p = p_hdu.data\n",
    "sigma_qu = sigma_qu_hdu.data\n",
    "sigma_phi = sigma_phi_hdu.data"
   ]
  },
  {
   "cell_type": "code",
   "execution_count": 15,
   "id": "294baf8b",
   "metadata": {
    "ExecuteTime": {
     "end_time": "2022-02-01T12:03:31.661274Z",
     "start_time": "2022-02-01T12:03:31.452151Z"
    }
   },
   "outputs": [],
   "source": [
    "rm = np.where(p>6*sigma_qu, rm, np.nan)\n",
    "sigma_phi = np.where(p>6*sigma_qu, sigma_phi, np.nan)"
   ]
  },
  {
   "cell_type": "code",
   "execution_count": 16,
   "id": "c7956ef8",
   "metadata": {
    "ExecuteTime": {
     "end_time": "2022-02-01T12:03:31.795890Z",
     "start_time": "2022-02-01T12:03:31.662053Z"
    }
   },
   "outputs": [],
   "source": [
    "x_lim, y_lim = get_lims(wcs, radius=0.02*un.deg, center_coord=center_coord)"
   ]
  },
  {
   "cell_type": "code",
   "execution_count": 17,
   "id": "c878f1d0",
   "metadata": {
    "ExecuteTime": {
     "end_time": "2022-02-01T12:03:31.889166Z",
     "start_time": "2022-02-01T12:03:31.796861Z"
    }
   },
   "outputs": [],
   "source": [
    "rm = rm[y_lim[0]:y_lim[1], x_lim[0]:x_lim[1]]\n",
    "sigma_phi = sigma_phi[y_lim[0]:y_lim[1], x_lim[0]:x_lim[1]]"
   ]
  },
  {
   "cell_type": "code",
   "execution_count": 18,
   "id": "55ca5d04",
   "metadata": {
    "ExecuteTime": {
     "end_time": "2022-02-01T12:03:32.430097Z",
     "start_time": "2022-02-01T12:03:31.889971Z"
    }
   },
   "outputs": [
    {
     "data": {
      "image/png": "[encoded data removed]",
      "text/plain": [
       "<Figure size 432x288 with 1 Axes>"
      ]
     },
     "metadata": {
      "needs_background": "light"
     },
     "output_type": "display_data"
    }
   ],
   "source": [
    "ax = plt.subplot(projection=wcs)\n",
    "ax.imshow(rm)\n",
    "#ax.set_xlim(x_lim[1], x_lim[0])\n",
    "#ax.set_ylim(y_lim[1], y_lim[0])\n",
    "plt.show()"
   ]
  },
  {
   "cell_type": "code",
   "execution_count": 19,
   "id": "016991cc",
   "metadata": {
    "ExecuteTime": {
     "end_time": "2022-02-01T12:03:32.433952Z",
     "start_time": "2022-02-01T12:03:32.430954Z"
    }
   },
   "outputs": [],
   "source": [
    "avg_rm = np.nanmean(rm)\n",
    "med_rm = np.nanmedian(rm)\n",
    "mad_rm = np.nanmedian(np.abs(rm-np.nanmedian(rm)))\n",
    "sigma_rm_obs = np.nanstd(rm)\n",
    "med_sigma_phi = np.nanmedian(sigma_phi)\n",
    "sigma_rm = np.sqrt(sigma_rm_obs**2 - med_sigma_phi**2)"
   ]
  },
  {
   "cell_type": "code",
   "execution_count": 20,
   "id": "81d26ff1",
   "metadata": {
    "ExecuteTime": {
     "end_time": "2022-02-01T12:03:32.586861Z",
     "start_time": "2022-02-01T12:03:32.434669Z"
    }
   },
   "outputs": [],
   "source": [
    "npixels = np.count_nonzero(~np.isnan(rm))"
   ]
  },
  {
   "cell_type": "code",
   "execution_count": 21,
   "id": "796a5401",
   "metadata": {
    "ExecuteTime": {
     "end_time": "2022-02-01T12:03:32.741195Z",
     "start_time": "2022-02-01T12:03:32.587666Z"
    }
   },
   "outputs": [],
   "source": [
    "dx = rm_hdu.header[\"CDELT1\"] * un.deg\n",
    "dy = rm_hdu.header[\"CDELT2\"] * un.deg"
   ]
  },
  {
   "cell_type": "code",
   "execution_count": 22,
   "id": "016c52cb",
   "metadata": {
    "ExecuteTime": {
     "end_time": "2022-02-01T12:03:32.894752Z",
     "start_time": "2022-02-01T12:03:32.742130Z"
    }
   },
   "outputs": [],
   "source": [
    "bmaj = 12.36950969696045 * un.arcsec \n",
    "bmin = 11.706433296203613 * un.arcsec\n",
    "area_pixels = np.pi * bmaj.to(un.deg) * bmin.to(un.deg) / (4.*np.log(2)) /(-dx*dy)\n",
    "nbeams = npixels / area_pixels"
   ]
  },
  {
   "cell_type": "code",
   "execution_count": 23,
   "id": "89dae14b",
   "metadata": {
    "ExecuteTime": {
     "end_time": "2022-02-01T12:03:32.996132Z",
     "start_time": "2022-02-01T12:03:32.895512Z"
    }
   },
   "outputs": [],
   "source": [
    "mean_error = sigma_rm_obs/np.sqrt(nbeams)\n",
    "sigma_error = sigma_rm/np.sqrt(nbeams)"
   ]
  },
  {
   "cell_type": "code",
   "execution_count": 24,
   "id": "ab3725f9",
   "metadata": {
    "ExecuteTime": {
     "end_time": "2022-02-01T12:03:33.167214Z",
     "start_time": "2022-02-01T12:03:32.996867Z"
    },
    "scrolled": true
   },
   "outputs": [
    {
     "name": "stdout",
     "output_type": "stream",
     "text": [
      "<RM> : 0.589\n",
      "sigma(RM): 67.149\n",
      "med(RM): 19.685\n",
      "MAD(RM): 6.562\n",
      "med(sigma_phi): 2.753\n",
      "nbeams: 0.803\n",
      "sigma(RM)_obs:  67.206\n",
      "mean error:  74.979\n",
      "sigma error:  74.916\n"
     ]
    }
   ],
   "source": [
    "print(\"<RM> : {0:.3f}\".format(avg_rm))\n",
    "print(\"sigma(RM): {0:.3f}\".format(sigma_rm))\n",
    "print(\"med(RM): {0:.3f}\".format(med_rm))\n",
    "print(\"MAD(RM): {0:.3f}\".format(mad_rm))\n",
    "print(\"med(sigma_phi): {0:.3f}\".format(med_sigma_phi))\n",
    "print(\"nbeams: {0:.3f}\".format(nbeams))\n",
    "print(\"sigma(RM)_obs: {0: .3f}\".format(sigma_rm_obs))\n",
    "print(\"mean error: {0: .3f}\".format(mean_error))\n",
    "print(\"sigma error: {0: .3f}\".format(sigma_error))"
   ]
  },
  {
   "cell_type": "code",
   "execution_count": null,
   "id": "135d2d65",
   "metadata": {},
   "outputs": [],
   "source": []
  }
 ],
 "metadata": {
  "kernelspec": {
   "display_name": "Python 3 (ipykernel)",
   "language": "python",
   "name": "python3"
  },
  "language_info": {
   "codemirror_mode": {
    "name": "ipython",
    "version": 3
   },
   "file_extension": ".py",
   "mimetype": "text/x-python",
   "name": "python",
   "nbconvert_exporter": "python",
   "pygments_lexer": "ipython3",
   "version": "3.10.1"
  },
  "latex_envs": {
   "LaTeX_envs_menu_present": true,
   "autoclose": false,
   "autocomplete": true,
   "bibliofile": "biblio.bib",
   "cite_by": "apalike",
   "current_citInitial": 1,
   "eqLabelWithNumbers": true,
   "eqNumInitial": 1,
   "hotkeys": {
    "equation": "Ctrl-E",
    "itemize": "Ctrl-I"
   },
   "labels_anchors": false,
   "latex_user_defs": false,
   "report_style_numbering": false,
   "user_envs_cfg": false
  },
  "varInspector": {
   "cols": {
    "lenName": 16,
    "lenType": 16,
    "lenVar": 40
   },
   "kernels_config": {
    "python": {
     "delete_cmd_postfix": "",
     "delete_cmd_prefix": "del ",
     "library": "var_list.py",
     "varRefreshCmd": "print(var_dic_list())"
    },
    "r": {
     "delete_cmd_postfix": ") ",
     "delete_cmd_prefix": "rm(",
     "library": "var_list.r",
     "varRefreshCmd": "cat(var_dic_list()) "
    }
   },
   "types_to_exclude": [
    "module",
    "function",
    "builtin_function_or_method",
    "instance",
    "_Feature"
   ],
   "window_display": false
  }
 },
 "nbformat": 4,
 "nbformat_minor": 5
}
