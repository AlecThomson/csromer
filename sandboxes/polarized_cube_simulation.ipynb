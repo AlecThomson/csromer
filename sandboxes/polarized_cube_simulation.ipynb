{
 "cells": [
  {
   "cell_type": "code",
   "execution_count": 1,
   "id": "30dd100c",
   "metadata": {
    "ExecuteTime": {
     "end_time": "2022-05-03T10:45:30.831556Z",
     "start_time": "2022-05-03T10:45:29.621286Z"
    }
   },
   "outputs": [],
   "source": [
    "import numpy as np\n",
    "from scipy.constants import c\n",
    "import matplotlib.pyplot as plt\n",
    "from astropy.io import fits\n",
    "import copy\n",
    "import scipy.signal as signal\n",
    "import scipy.stats as st\n",
    "import itertools"
   ]
  },
  {
   "cell_type": "code",
   "execution_count": 2,
   "id": "c083bd44",
   "metadata": {
    "ExecuteTime": {
     "end_time": "2022-05-03T10:45:30.835328Z",
     "start_time": "2022-05-03T10:45:30.832901Z"
    }
   },
   "outputs": [],
   "source": [
    "def gkern(kernlen=21, nsig=3):\n",
    "    \"\"\"Returns a 2D Gaussian kernel.\"\"\"\n",
    "\n",
    "    x = np.linspace(-nsig, nsig, kernlen+1)\n",
    "    kern1d = np.diff(st.norm.cdf(x))\n",
    "    kern2d = np.outer(kern1d, kern1d)\n",
    "    return kern2d/np.max(kern2d)"
   ]
  },
  {
   "cell_type": "code",
   "execution_count": 3,
   "id": "689323e0",
   "metadata": {
    "ExecuteTime": {
     "end_time": "2022-05-03T10:45:30.902793Z",
     "start_time": "2022-05-03T10:45:30.836170Z"
    }
   },
   "outputs": [],
   "source": [
    "def calculate_l2ref(lambda2, w):\n",
    "    k = np.sum(w)\n",
    "    return np.sum(w * lambda2) / k"
   ]
  },
  {
   "cell_type": "code",
   "execution_count": 4,
   "id": "5a5b6566",
   "metadata": {
    "ExecuteTime": {
     "end_time": "2022-05-03T10:45:30.951956Z",
     "start_time": "2022-05-03T10:45:30.904145Z"
    }
   },
   "outputs": [],
   "source": [
    "def thinsource_simulation(lambda2, l2_ref, nu_0, spectral_idx, phi_gal, s_nu):\n",
    "    nu = c / np.sqrt(lambda2)\n",
    "    k = (nu / nu_0) ** (-1.0 * spectral_idx)\n",
    "    mu_q = np.cos(2. * phi_gal * (lambda2 - l2_ref))\n",
    "    mu_u = np.sin(2. * phi_gal * (lambda2 - l2_ref))\n",
    "\n",
    "    # p = np.mean(np.sqrt(mu_q ** 2 + mu_u ** 2))\n",
    "\n",
    "    return s_nu * k * (mu_q + 1j * mu_u)"
   ]
  },
  {
   "cell_type": "code",
   "execution_count": 5,
   "id": "102a986b",
   "metadata": {
    "ExecuteTime": {
     "end_time": "2022-05-03T10:45:30.999715Z",
     "start_time": "2022-05-03T10:45:30.952981Z"
    }
   },
   "outputs": [],
   "source": [
    "def thicksource_simulation(lambda2, l2_ref, nu_0, spectral_idx, phi_fg, phi_center, s_nu):\n",
    "    nu = c / np.sqrt(lambda2)\n",
    "    k = (nu / nu_0) ** (-1.0 * spectral_idx)\n",
    "    phi_fg = phi_fg / 2.\n",
    "    j = 2. * (lambda2 - l2_ref) * (phi_center + phi_fg)\n",
    "    k = 2. * (lambda2 - l2_ref) * (phi_center - phi_fg)\n",
    "    mu_q = np.sin(j) - np.sin(k)\n",
    "    const = s_nu * k / (2. * phi_fg * (lambda2 - l2_ref))\n",
    "    mu_u = np.cos(j) - np.cos(k)\n",
    "\n",
    "    return const * (mu_q + mu_u / 1j)"
   ]
  },
  {
   "cell_type": "code",
   "execution_count": 6,
   "id": "96041294",
   "metadata": {
    "ExecuteTime": {
     "end_time": "2022-05-03T10:45:31.050223Z",
     "start_time": "2022-05-03T10:45:31.000537Z"
    }
   },
   "outputs": [],
   "source": [
    "def remove_channels(lambda2=None, remove_frac=None, random_state=None, chunksize=None):\n",
    "\n",
    "    remove_frac = 1.0 - remove_frac\n",
    "    m = len(lambda2)\n",
    "    if chunksize is None:\n",
    "        chunksize = m // (10  + (10 * (1. - remove_frac)))\n",
    "\n",
    "    _chansremoved = []\n",
    "    while True:\n",
    "        if random_state is None:\n",
    "            pos = np.random.randint(0, m)  # get position\n",
    "            width = np.random.uniform(0, chunksize)  # get chunk size\n",
    "        else:\n",
    "            pos = random_state.randint(0, m)  # get position\n",
    "            width = random_state.uniform(0, chunksize)  # get chunk size\n",
    "        low = int(pos - 0.5 * width)\n",
    "        if low < 0:\n",
    "            low = 0\n",
    "        high = int(pos + 0.5 * width)\n",
    "        if high >= m:\n",
    "            high = m - 1\n",
    "\n",
    "        _chansremoved.append(list(np.arange(low, high)))\n",
    "        merged = list(itertools.chain(*_chansremoved))\n",
    "\n",
    "        chans_removed = np.unique(np.ravel(np.array(merged)))\n",
    "        frac = float(len(chans_removed)) / float(m)\n",
    "        if frac > remove_frac:\n",
    "            break\n",
    "\n",
    "    # adjust back towards specified fraction\n",
    "    # using single channel adjustments:\n",
    "    while True:\n",
    "        if random_state is None:\n",
    "            idx = np.random.randint(0, len(chans_removed))\n",
    "        else:\n",
    "            idx = random_state.randint(0, len(chans_removed))\n",
    "        chans_removed = np.delete(chans_removed, idx)\n",
    "        frac = float(len(chans_removed)) / float(m)\n",
    "        if frac <= remove_frac:\n",
    "            break\n",
    "\n",
    "    return chans_removed"
   ]
  },
  {
   "cell_type": "code",
   "execution_count": 7,
   "id": "aecaa33a",
   "metadata": {
    "ExecuteTime": {
     "end_time": "2022-05-03T10:45:31.109623Z",
     "start_time": "2022-05-03T10:45:31.051556Z"
    }
   },
   "outputs": [],
   "source": [
    "np.random.seed(666)"
   ]
  },
  {
   "cell_type": "code",
   "execution_count": 8,
   "id": "251248ca",
   "metadata": {
    "ExecuteTime": {
     "end_time": "2022-05-03T10:45:31.158711Z",
     "start_time": "2022-05-03T10:45:31.110473Z"
    }
   },
   "outputs": [],
   "source": [
    "antenna_diameter = 13.5 # meters\n",
    "min_baseline = 29 # meters\n",
    "max_baseline = 7700 # meters"
   ]
  },
  {
   "cell_type": "code",
   "execution_count": 9,
   "id": "c16dfa90",
   "metadata": {
    "ExecuteTime": {
     "end_time": "2022-05-03T10:45:33.970071Z",
     "start_time": "2022-05-03T10:45:31.159555Z"
    }
   },
   "outputs": [],
   "source": [
    "# Image cube\n",
    "m = 256\n",
    "n = 256\n",
    "nu_size = 1000\n",
    "flux_peak = 0.01\n",
    "noise = 0.1 * flux_peak\n",
    "q_noise = np.random.normal(loc=0.0, scale=noise, size=(nu_size,m,n)).astype(np.float32)\n",
    "u_noise = np.random.normal(loc=0.0, scale=noise, size=(nu_size,m,n)).astype(np.float32)\n",
    "cube = q_noise + 1j * u_noise"
   ]
  },
  {
   "cell_type": "code",
   "execution_count": 10,
   "id": "ed87b2bc",
   "metadata": {
    "ExecuteTime": {
     "end_time": "2022-05-03T10:45:33.972637Z",
     "start_time": "2022-05-03T10:45:33.970959Z"
    }
   },
   "outputs": [],
   "source": [
    "nu_start=0.9e9\n",
    "nu_end=1.67e9"
   ]
  },
  {
   "cell_type": "code",
   "execution_count": 11,
   "id": "06210787",
   "metadata": {
    "ExecuteTime": {
     "end_time": "2022-05-03T10:45:34.454274Z",
     "start_time": "2022-05-03T10:45:33.974204Z"
    }
   },
   "outputs": [],
   "source": [
    "oversampling_factor = 7\n",
    "lambda_min = (c/nu_end)\n",
    "pix_size = lambda_min/max_baseline/oversampling_factor\n",
    "pix_size_arcsec = pix_size * (180.0 / np.pi) * 3600.0"
   ]
  },
  {
   "cell_type": "code",
   "execution_count": 12,
   "id": "0880f5e4",
   "metadata": {
    "ExecuteTime": {
     "end_time": "2022-05-03T10:45:34.515616Z",
     "start_time": "2022-05-03T10:45:34.455130Z"
    }
   },
   "outputs": [
    {
     "name": "stdout",
     "output_type": "stream",
     "text": [
      "The pixel size at L-band is ~0.69 arcsec\n"
     ]
    }
   ],
   "source": [
    "print(\"The pixel size at L-band is ~{0:.2f} arcsec\".format(pix_size_arcsec))"
   ]
  },
  {
   "cell_type": "code",
   "execution_count": 13,
   "id": "392e25eb",
   "metadata": {
    "ExecuteTime": {
     "end_time": "2022-05-03T10:45:34.563611Z",
     "start_time": "2022-05-03T10:45:34.516474Z"
    }
   },
   "outputs": [],
   "source": [
    "nu = np.linspace(start=nu_start, stop=nu_end, num=nu_size, dtype=np.float32)\n",
    "nu_0 = np.median(nu)"
   ]
  },
  {
   "cell_type": "code",
   "execution_count": 14,
   "id": "16b898cd",
   "metadata": {
    "ExecuteTime": {
     "end_time": "2022-05-03T10:45:34.612327Z",
     "start_time": "2022-05-03T10:45:34.564483Z"
    }
   },
   "outputs": [],
   "source": [
    "lambda_sq = (c/nu)**2\n",
    "lambda_sq = lambda_sq[::-1]"
   ]
  },
  {
   "cell_type": "code",
   "execution_count": 15,
   "id": "72e301bb",
   "metadata": {
    "ExecuteTime": {
     "end_time": "2022-05-03T10:45:34.661560Z",
     "start_time": "2022-05-03T10:45:34.613187Z"
    }
   },
   "outputs": [],
   "source": [
    "sigma = noise * np.ones_like(lambda_sq).astype(np.float32)\n",
    "weights = 1./sigma**2"
   ]
  },
  {
   "cell_type": "code",
   "execution_count": 16,
   "id": "dd2d142d",
   "metadata": {
    "ExecuteTime": {
     "end_time": "2022-05-03T10:45:34.709943Z",
     "start_time": "2022-05-03T10:45:34.662449Z"
    }
   },
   "outputs": [],
   "source": [
    "l2_ref = calculate_l2ref(lambda_sq, weights)"
   ]
  },
  {
   "cell_type": "code",
   "execution_count": 17,
   "id": "070415aa",
   "metadata": {
    "ExecuteTime": {
     "end_time": "2022-05-03T10:45:34.835469Z",
     "start_time": "2022-05-03T10:45:34.711389Z"
    }
   },
   "outputs": [],
   "source": [
    "n_random_pixels = 100\n",
    "random_pixels = np.random.choice(m*n, size=n_random_pixels, replace=False).astype(np.int32)\n",
    "random_pixels = np.unravel_index(random_pixels, (m,n))\n",
    "random_source = np.random.randint(low=0, high=3, size=n_random_pixels, dtype=np.int32)\n",
    "random_depolarized = np.random.randint(low=0, high=2, size=n_random_pixels, dtype=np.int32)"
   ]
  },
  {
   "cell_type": "code",
   "execution_count": 18,
   "id": "52b73203",
   "metadata": {
    "ExecuteTime": {
     "end_time": "2022-05-03T10:45:34.890375Z",
     "start_time": "2022-05-03T10:45:34.836547Z"
    }
   },
   "outputs": [],
   "source": [
    "idx_thinsources = np.where(random_source == 0)[0]\n",
    "idx_thicksources = np.where(random_source == 1)[0]\n",
    "idx_mixsources = np.where(random_source==2)[0]\n",
    "idx_depolarized = np.where(random_depolarized == 1)[0]"
   ]
  },
  {
   "cell_type": "code",
   "execution_count": 19,
   "id": "83d13037",
   "metadata": {
    "ExecuteTime": {
     "end_time": "2022-05-03T10:45:34.939852Z",
     "start_time": "2022-05-03T10:45:34.891223Z"
    }
   },
   "outputs": [],
   "source": [
    "random_phi_center_thin = np.random.uniform(low=-200, high=200, size=len(idx_thinsources)).astype(np.float32)\n",
    "random_phi_center_thick = np.random.uniform(low=-200, high=200, size=len(idx_thicksources)).astype(np.float32)\n",
    "random_phi_center_mix = np.random.uniform(low=-200, high=200, size=(2, len(idx_mixsources))).astype(np.float32)\n",
    "random_phi_width_thick = np.random.uniform(low=40, high=90, size=len(idx_thicksources)).astype(np.float32)\n",
    "random_phi_width_mix = np.random.uniform(low=40, high=90, size=len(idx_mixsources)).astype(np.float32)\n",
    "random_sigma_rm_depol = np.random.uniform(low=0, high=30, size=len(idx_depolarized)).astype(np.float32)"
   ]
  },
  {
   "cell_type": "code",
   "execution_count": 20,
   "id": "32cfdf03",
   "metadata": {
    "ExecuteTime": {
     "end_time": "2022-05-03T10:45:34.988474Z",
     "start_time": "2022-05-03T10:45:34.940708Z"
    }
   },
   "outputs": [],
   "source": [
    "random_peak_thin = np.random.uniform(low=flux_peak*0.8, high=flux_peak, size=len(idx_thinsources)).astype(np.float32)\n",
    "random_peak_thick = np.random.uniform(low=flux_peak*0.8, high=flux_peak, size=len(idx_thicksources)).astype(np.float32)\n",
    "random_peak_mix = np.random.uniform(low=flux_peak*0.8, high=flux_peak, size=(2,len(idx_mixsources))).astype(np.float32)"
   ]
  },
  {
   "cell_type": "code",
   "execution_count": 21,
   "id": "7ea2075e",
   "metadata": {
    "ExecuteTime": {
     "end_time": "2022-05-03T10:45:35.054675Z",
     "start_time": "2022-05-03T10:45:34.989314Z"
    }
   },
   "outputs": [],
   "source": [
    "x_idx_thin = random_pixels[0][idx_thinsources]\n",
    "y_idx_thin = random_pixels[1][idx_thinsources]\n",
    "cube[:, y_idx_thin, x_idx_thin] += thinsource_simulation(lambda_sq[:, np.newaxis], l2_ref, nu_0, 0.0, random_phi_center_thin, random_peak_thin)"
   ]
  },
  {
   "cell_type": "code",
   "execution_count": 22,
   "id": "e899562f",
   "metadata": {
    "ExecuteTime": {
     "end_time": "2022-05-03T10:45:35.105182Z",
     "start_time": "2022-05-03T10:45:35.055561Z"
    }
   },
   "outputs": [],
   "source": [
    "x_idx_thick = random_pixels[0][idx_thicksources]\n",
    "y_idx_thick = random_pixels[1][idx_thicksources]\n",
    "cube[:, y_idx_thick, x_idx_thick] += thicksource_simulation(lambda_sq[:, np.newaxis], l2_ref, nu_0, 0.0, random_phi_width_thick, random_phi_center_thick, random_peak_thick)"
   ]
  },
  {
   "cell_type": "code",
   "execution_count": 23,
   "id": "e927abe0",
   "metadata": {
    "ExecuteTime": {
     "end_time": "2022-05-03T10:45:35.155101Z",
     "start_time": "2022-05-03T10:45:35.106040Z"
    }
   },
   "outputs": [],
   "source": [
    "x_idx_mix = random_pixels[0][idx_mixsources]\n",
    "y_idx_mix = random_pixels[1][idx_mixsources]\n",
    "cube[:, y_idx_mix, x_idx_mix] += thinsource_simulation(lambda_sq[:, np.newaxis], l2_ref, nu_0, 0.0, random_phi_center_mix[0], random_peak_mix[0]) + thicksource_simulation(lambda_sq[:, np.newaxis], l2_ref, nu_0, 0.0, random_phi_width_mix, random_phi_center_mix[1], random_peak_mix[1])"
   ]
  },
  {
   "cell_type": "code",
   "execution_count": 24,
   "id": "bba119d4",
   "metadata": {
    "ExecuteTime": {
     "end_time": "2022-05-03T10:45:35.378764Z",
     "start_time": "2022-05-03T10:45:35.155955Z"
    }
   },
   "outputs": [],
   "source": [
    "cube_before_depolarization = copy.deepcopy(cube)"
   ]
  },
  {
   "cell_type": "code",
   "execution_count": 25,
   "id": "c8b54c96",
   "metadata": {
    "ExecuteTime": {
     "end_time": "2022-05-03T10:45:35.390574Z",
     "start_time": "2022-05-03T10:45:35.379668Z"
    }
   },
   "outputs": [],
   "source": [
    "x_idx_depolarized = random_pixels[0][idx_depolarized]\n",
    "y_idx_depolarized = random_pixels[1][idx_depolarized]\n",
    "cube[:, y_idx_depolarized, x_idx_depolarized] *= np.exp(-2. * random_sigma_rm_depol**2 * lambda_sq[:, np.newaxis]**2)"
   ]
  },
  {
   "cell_type": "code",
   "execution_count": 26,
   "id": "3dcd908d",
   "metadata": {
    "ExecuteTime": {
     "end_time": "2022-05-03T10:45:35.441835Z",
     "start_time": "2022-05-03T10:45:35.391453Z"
    }
   },
   "outputs": [],
   "source": [
    "# Convolution with clean-beam\n",
    "# Assumming bmaj == bmin for now\n",
    "fwhm = 6.4 # arcseconds\n",
    "bmaj = fwhm/np.sqrt(8*np.log(2.)) # arcseconds\n",
    "bmaj_pix = bmaj / pix_size_arcsec\n",
    "bmin_pix = bmaj_pix"
   ]
  },
  {
   "cell_type": "code",
   "execution_count": 27,
   "id": "53ee9a9e",
   "metadata": {
    "ExecuteTime": {
     "end_time": "2022-05-03T10:45:35.499454Z",
     "start_time": "2022-05-03T10:45:35.442628Z"
    }
   },
   "outputs": [
    {
     "data": {
      "text/plain": [
       "3.9562310778877747"
      ]
     },
     "execution_count": 27,
     "metadata": {},
     "output_type": "execute_result"
    }
   ],
   "source": [
    "bmaj_pix"
   ]
  },
  {
   "cell_type": "code",
   "execution_count": 28,
   "id": "eca1c64c",
   "metadata": {
    "ExecuteTime": {
     "end_time": "2022-05-03T10:45:35.555090Z",
     "start_time": "2022-05-03T10:45:35.500220Z"
    }
   },
   "outputs": [],
   "source": [
    "gkernel = gkern(11, bmaj_pix)"
   ]
  },
  {
   "cell_type": "code",
   "execution_count": 29,
   "id": "07ed0bec",
   "metadata": {
    "ExecuteTime": {
     "end_time": "2022-05-03T10:45:35.611441Z",
     "start_time": "2022-05-03T10:45:35.555930Z"
    }
   },
   "outputs": [
    {
     "data": {
      "text/plain": [
       "(11, 11)"
      ]
     },
     "execution_count": 29,
     "metadata": {},
     "output_type": "execute_result"
    }
   ],
   "source": [
    "gkernel.shape"
   ]
  },
  {
   "cell_type": "code",
   "execution_count": 30,
   "id": "159b8cdb",
   "metadata": {
    "ExecuteTime": {
     "end_time": "2022-05-03T10:45:35.770640Z",
     "start_time": "2022-05-03T10:45:35.612204Z"
    }
   },
   "outputs": [
    {
     "data": {
      "text/plain": [
       "<matplotlib.colorbar.Colorbar at 0x7f3a918fe590>"
      ]
     },
     "execution_count": 30,
     "metadata": {},
     "output_type": "execute_result"
    },
    {
     "data": {
      "image/png": "[encoded data removed]",
      "text/plain": [
       "<Figure size 432x288 with 2 Axes>"
      ]
     },
     "metadata": {
      "needs_background": "light"
     },
     "output_type": "display_data"
    }
   ],
   "source": [
    "plt.imshow(gkernel)\n",
    "plt.colorbar()"
   ]
  },
  {
   "cell_type": "code",
   "execution_count": 31,
   "id": "0c9d5391",
   "metadata": {
    "ExecuteTime": {
     "end_time": "2022-05-03T10:45:35.773861Z",
     "start_time": "2022-05-03T10:45:35.771470Z"
    }
   },
   "outputs": [
    {
     "data": {
      "text/plain": [
       "1.0"
      ]
     },
     "execution_count": 31,
     "metadata": {},
     "output_type": "execute_result"
    }
   ],
   "source": [
    "np.max(gkernel)"
   ]
  },
  {
   "cell_type": "code",
   "execution_count": 32,
   "id": "1eb0cf4a",
   "metadata": {
    "ExecuteTime": {
     "end_time": "2022-05-03T10:45:41.463940Z",
     "start_time": "2022-05-03T10:45:35.774600Z"
    }
   },
   "outputs": [],
   "source": [
    "cube = signal.convolve(cube, gkernel[np.newaxis, :, :], mode=\"same\")\n",
    "cube_before_depolarization = signal.convolve(cube_before_depolarization, gkernel[np.newaxis, :, :], mode=\"same\")"
   ]
  },
  {
   "cell_type": "code",
   "execution_count": 33,
   "id": "462a8d6c",
   "metadata": {
    "ExecuteTime": {
     "end_time": "2022-05-03T10:45:41.469091Z",
     "start_time": "2022-05-03T10:45:41.464924Z"
    }
   },
   "outputs": [],
   "source": [
    "remove_frac = 0.3\n",
    "final_idxs = remove_channels(lambda2=lambda_sq, remove_frac=remove_frac, random_state=None, chunksize=None)"
   ]
  },
  {
   "cell_type": "code",
   "execution_count": 34,
   "id": "6eed7b46",
   "metadata": {
    "ExecuteTime": {
     "end_time": "2022-05-03T10:45:41.727133Z",
     "start_time": "2022-05-03T10:45:41.469942Z"
    }
   },
   "outputs": [],
   "source": [
    "cube = cube[final_idxs]\n",
    "cube_before_depolarization = cube_before_depolarization[final_idxs]\n",
    "lambda_sq = lambda_sq[final_idxs]"
   ]
  },
  {
   "cell_type": "code",
   "execution_count": 35,
   "id": "2d3560f7",
   "metadata": {
    "ExecuteTime": {
     "end_time": "2022-05-03T10:45:41.830861Z",
     "start_time": "2022-05-03T10:45:41.728153Z"
    }
   },
   "outputs": [
    {
     "data": {
      "text/plain": [
       "<matplotlib.colorbar.Colorbar at 0x7f3a7047e800>"
      ]
     },
     "execution_count": 35,
     "metadata": {},
     "output_type": "execute_result"
    },
    {
     "data": {
      "image/png": "[encoded data removed]",
      "text/plain": [
       "<Figure size 432x288 with 2 Axes>"
      ]
     },
     "metadata": {
      "needs_background": "light"
     },
     "output_type": "display_data"
    }
   ],
   "source": [
    "plt.imshow(np.abs(cube[5].real))\n",
    "plt.colorbar()"
   ]
  },
  {
   "cell_type": "code",
   "execution_count": 36,
   "id": "d36ede1f",
   "metadata": {
    "ExecuteTime": {
     "end_time": "2022-05-03T10:45:41.833741Z",
     "start_time": "2022-05-03T10:45:41.831793Z"
    }
   },
   "outputs": [
    {
     "name": "stdout",
     "output_type": "stream",
     "text": [
      "[142 233  10 212 123  61  32  90 222  94 129 144  40 109  84  41 168 229\n",
      "  71  89 218  77  74  33 147  25  75]\n"
     ]
    }
   ],
   "source": [
    "print(y_idx_thin)"
   ]
  },
  {
   "cell_type": "code",
   "execution_count": 37,
   "id": "42f56846",
   "metadata": {
    "ExecuteTime": {
     "end_time": "2022-05-03T10:45:41.948251Z",
     "start_time": "2022-05-03T10:45:41.834609Z"
    }
   },
   "outputs": [
    {
     "name": "stdout",
     "output_type": "stream",
     "text": [
      "[ 24  69 156  68  73 236 119 119 191 182 150  34 213 164 210 156 222 187\n",
      "   9 236 116 241 212 126 252  78  34]\n"
     ]
    }
   ],
   "source": [
    "print(x_idx_thin)"
   ]
  },
  {
   "cell_type": "code",
   "execution_count": 38,
   "id": "a590d936",
   "metadata": {
    "ExecuteTime": {
     "end_time": "2022-05-03T10:45:41.997459Z",
     "start_time": "2022-05-03T10:45:41.951725Z"
    }
   },
   "outputs": [
    {
     "name": "stdout",
     "output_type": "stream",
     "text": [
      "[103  11 199 207  87 136  10 180  42  75 192  78 122 245  12 204  53  56\n",
      " 116  26  55 194  52 244  47 214  52  86 167 159 205 116  33 128]\n"
     ]
    }
   ],
   "source": [
    "print(y_idx_thick)"
   ]
  },
  {
   "cell_type": "code",
   "execution_count": 39,
   "id": "f2886105",
   "metadata": {
    "ExecuteTime": {
     "end_time": "2022-05-03T10:45:42.046489Z",
     "start_time": "2022-05-03T10:45:41.999084Z"
    }
   },
   "outputs": [
    {
     "name": "stdout",
     "output_type": "stream",
     "text": [
      "[ 26 188 175 190  65 218  49 191 163 139 125 225  93 158 234  97  46 115\n",
      " 146 115   3 160  73  62  82  80  85  85  90 190  60 142   7 122]\n"
     ]
    }
   ],
   "source": [
    "print(x_idx_thick)"
   ]
  },
  {
   "cell_type": "code",
   "execution_count": 49,
   "id": "0f37ab2d",
   "metadata": {
    "ExecuteTime": {
     "end_time": "2022-05-03T14:40:59.731335Z",
     "start_time": "2022-05-03T14:40:59.729464Z"
    }
   },
   "outputs": [
    {
     "name": "stdout",
     "output_type": "stream",
     "text": [
      "[150 102 126 233 230 135 191  91 113  23 193 200  30 220 175 165 211  18\n",
      "  59  42 112 247  16  18 211  99  24 195 137 178 114  46  30  48  69 110\n",
      " 199 109 120]\n"
     ]
    }
   ],
   "source": [
    "print(x_idx_mix)"
   ]
  },
  {
   "cell_type": "code",
   "execution_count": 50,
   "id": "4e041ec2",
   "metadata": {
    "ExecuteTime": {
     "end_time": "2022-05-03T14:41:09.214401Z",
     "start_time": "2022-05-03T14:41:09.212563Z"
    }
   },
   "outputs": [
    {
     "name": "stdout",
     "output_type": "stream",
     "text": [
      "[  8 122  51 129 138 106 105   8 195  80 172 134 181  60  66   6 124 166\n",
      "  34 253  45 151 195 248 158  29  77  13 179 118 245 117 154 192  19 200\n",
      " 139 167 242]\n"
     ]
    }
   ],
   "source": [
    "print(y_idx_mix)"
   ]
  },
  {
   "cell_type": "code",
   "execution_count": 40,
   "id": "7846156c",
   "metadata": {
    "ExecuteTime": {
     "end_time": "2022-05-03T10:45:42.095504Z",
     "start_time": "2022-05-03T10:45:42.048121Z"
    }
   },
   "outputs": [
    {
     "data": {
      "text/plain": [
       "array([ 24,  26, 233, 230, 156, 175, 190, 191, 236, 113,  49,  23, 193,\n",
       "       119, 139, 150, 200, 125, 158,  97, 164, 165, 156, 211, 115,   3,\n",
       "       222, 187,  59,   9, 247,  73,  16,  62, 116,  82, 126,  99, 137,\n",
       "       190,  30,  48,   7, 199, 109,  78, 120])"
      ]
     },
     "execution_count": 40,
     "metadata": {},
     "output_type": "execute_result"
    }
   ],
   "source": [
    "x_idx_depolarized"
   ]
  },
  {
   "cell_type": "code",
   "execution_count": 41,
   "id": "f5eeaeaa",
   "metadata": {
    "ExecuteTime": {
     "end_time": "2022-05-03T10:45:42.144846Z",
     "start_time": "2022-05-03T10:45:42.097010Z"
    }
   },
   "outputs": [
    {
     "data": {
      "text/plain": [
       "array([142, 103, 129, 138,  10, 199, 207, 105,  61, 195,  10,  80, 172,\n",
       "        90,  75, 129, 134, 192, 245, 204, 109,   6,  41, 124,  26,  55,\n",
       "       168, 229,  34,  71, 151,  52, 195, 244, 218,  47,  33,  29, 179,\n",
       "       159, 154, 192,  33, 139, 167,  25, 242])"
      ]
     },
     "execution_count": 41,
     "metadata": {},
     "output_type": "execute_result"
    }
   ],
   "source": [
    "y_idx_depolarized"
   ]
  },
  {
   "cell_type": "code",
   "execution_count": 42,
   "id": "b6ac859d",
   "metadata": {
    "ExecuteTime": {
     "end_time": "2022-05-03T10:45:42.576912Z",
     "start_time": "2022-05-03T10:45:42.146310Z"
    }
   },
   "outputs": [
    {
     "data": {
      "text/plain": [
       "array([26.681015  , 26.741003  , 21.609388  , 22.898264  ,  1.3726676 ,\n",
       "       25.222868  ,  7.131686  , 28.791878  , 11.849089  , 24.830963  ,\n",
       "       27.432995  ,  1.576371  , 19.422611  , 21.794407  ,  7.698731  ,\n",
       "        9.974227  ,  0.1537907 , 16.26625   , 22.504898  , 12.768759  ,\n",
       "       11.848907  , 18.143623  ,  6.6683455 , 13.712088  , 22.326824  ,\n",
       "       22.605562  , 26.512144  ,  2.650123  ,  6.3475313 ,  4.062576  ,\n",
       "       26.945267  , 23.758457  , 21.317373  ,  9.421618  , 21.073895  ,\n",
       "        7.040702  , 23.986229  , 11.567172  ,  0.34632427, 17.860058  ,\n",
       "       24.586576  , 11.745337  ,  0.56204706,  7.24374   , 16.343443  ,\n",
       "       25.035666  ,  5.183109  ], dtype=float32)"
      ]
     },
     "execution_count": 42,
     "metadata": {},
     "output_type": "execute_result"
    }
   ],
   "source": [
    "random_sigma_rm_depol"
   ]
  },
  {
   "cell_type": "code",
   "execution_count": 43,
   "id": "4ef29d7e",
   "metadata": {
    "ExecuteTime": {
     "end_time": "2022-05-03T10:45:42.674310Z",
     "start_time": "2022-05-03T10:45:42.578450Z"
    }
   },
   "outputs": [],
   "source": [
    "x_idx_test = 120\n",
    "y_idx_test = 242"
   ]
  },
  {
   "cell_type": "code",
   "execution_count": 44,
   "id": "91663e31",
   "metadata": {
    "ExecuteTime": {
     "end_time": "2022-05-03T10:45:42.909956Z",
     "start_time": "2022-05-03T10:45:42.675973Z"
    }
   },
   "outputs": [
    {
     "data": {
      "text/plain": [
       "[<matplotlib.lines.Line2D at 0x7f3ad014a590>]"
      ]
     },
     "execution_count": 44,
     "metadata": {},
     "output_type": "execute_result"
    },
    {
     "data": {
      "image/png": "[encoded data removed]",
      "text/plain": [
       "<Figure size 432x288 with 1 Axes>"
      ]
     },
     "metadata": {
      "needs_background": "light"
     },
     "output_type": "display_data"
    }
   ],
   "source": [
    "plt.plot(lambda_sq, cube_before_depolarization[:, y_idx_test, x_idx_test].real, '.')\n",
    "plt.plot(lambda_sq, cube_before_depolarization[:, y_idx_test, x_idx_test].imag, '.')\n",
    "plt.plot(lambda_sq, np.abs(cube_before_depolarization[:, y_idx_test, x_idx_test]), '.')"
   ]
  },
  {
   "cell_type": "code",
   "execution_count": 45,
   "id": "e2a68383",
   "metadata": {
    "ExecuteTime": {
     "end_time": "2022-05-03T10:45:42.975229Z",
     "start_time": "2022-05-03T10:45:42.910779Z"
    }
   },
   "outputs": [
    {
     "data": {
      "text/plain": [
       "[<matplotlib.lines.Line2D at 0x7f3ace7f8280>]"
      ]
     },
     "execution_count": 45,
     "metadata": {},
     "output_type": "execute_result"
    },
    {
     "data": {
      "image/png": "[encoded data removed]",
      "text/plain": [
       "<Figure size 432x288 with 1 Axes>"
      ]
     },
     "metadata": {
      "needs_background": "light"
     },
     "output_type": "display_data"
    }
   ],
   "source": [
    "plt.plot(lambda_sq, cube[:, y_idx_test, x_idx_test].real, '.')\n",
    "plt.plot(lambda_sq, cube[:, y_idx_test, x_idx_test].imag, '.')\n",
    "plt.plot(lambda_sq, np.abs(cube[:, y_idx_test, x_idx_test]), '.')"
   ]
  },
  {
   "cell_type": "code",
   "execution_count": 46,
   "id": "507dde06",
   "metadata": {
    "ExecuteTime": {
     "end_time": "2022-05-03T10:45:43.129349Z",
     "start_time": "2022-05-03T10:45:42.976064Z"
    }
   },
   "outputs": [],
   "source": [
    "output_cube = np.concatenate((cube.real[:,None],cube.imag[:,None]),axis=1)"
   ]
  },
  {
   "cell_type": "code",
   "execution_count": 47,
   "id": "15d4ead2",
   "metadata": {
    "ExecuteTime": {
     "end_time": "2022-05-03T10:45:43.782520Z",
     "start_time": "2022-05-03T10:45:43.130308Z"
    }
   },
   "outputs": [],
   "source": [
    "fits.writeto(\"test.fits\", output_cube, overwrite=True)"
   ]
  },
  {
   "cell_type": "code",
   "execution_count": null,
   "id": "7c6f0095",
   "metadata": {},
   "outputs": [],
   "source": []
  }
 ],
 "metadata": {
  "kernelspec": {
   "display_name": "Python 3 (ipykernel)",
   "language": "python",
   "name": "python3"
  },
  "language_info": {
   "codemirror_mode": {
    "name": "ipython",
    "version": 3
   },
   "file_extension": ".py",
   "mimetype": "text/x-python",
   "name": "python",
   "nbconvert_exporter": "python",
   "pygments_lexer": "ipython3",
   "version": "3.10.4"
  },
  "latex_envs": {
   "LaTeX_envs_menu_present": true,
   "autoclose": false,
   "autocomplete": true,
   "bibliofile": "biblio.bib",
   "cite_by": "apalike",
   "current_citInitial": 1,
   "eqLabelWithNumbers": true,
   "eqNumInitial": 1,
   "hotkeys": {
    "equation": "Ctrl-E",
    "itemize": "Ctrl-I"
   },
   "labels_anchors": false,
   "latex_user_defs": false,
   "report_style_numbering": false,
   "user_envs_cfg": false
  },
  "varInspector": {
   "cols": {
    "lenName": 16,
    "lenType": 16,
    "lenVar": 40
   },
   "kernels_config": {
    "python": {
     "delete_cmd_postfix": "",
     "delete_cmd_prefix": "del ",
     "library": "var_list.py",
     "varRefreshCmd": "print(var_dic_list())"
    },
    "r": {
     "delete_cmd_postfix": ") ",
     "delete_cmd_prefix": "rm(",
     "library": "var_list.r",
     "varRefreshCmd": "cat(var_dic_list()) "
    }
   },
   "types_to_exclude": [
    "module",
    "function",
    "builtin_function_or_method",
    "instance",
    "_Feature"
   ],
   "window_display": false
  }
 },
 "nbformat": 4,
 "nbformat_minor": 5
}
