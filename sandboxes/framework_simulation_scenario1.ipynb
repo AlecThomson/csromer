{
 "cells": [
  {
   "cell_type": "code",
   "execution_count": 1,
   "id": "71d19339",
   "metadata": {
    "ExecuteTime": {
     "end_time": "2022-03-11T17:20:59.647183Z",
     "start_time": "2022-03-11T17:20:57.639661Z"
    }
   },
   "outputs": [],
   "source": [
    "from csromer.simulation import FaradayThinSource,FaradayThickSource\n",
    "from csromer.reconstruction import Parameter\n",
    "import numpy as np\n",
    "from IPython.display import clear_output\n",
    "from csromer.io import Reader, Writer\n",
    "from csromer.base import Dataset\n",
    "from csromer.transformers import DFT1D, NUFFT1D\n",
    "import matplotlib.pyplot as plt\n",
    "from csromer.objectivefunction import OFunction\n",
    "from csromer.utils import real_to_complex, complex_to_real\n",
    "from csromer.objectivefunction import TSV, TV, L1, Chi2\n",
    "from csromer.dictionaries import UndecimatedWavelet, DiscreteWavelet\n",
    "from csromer.optimization import FISTA, ADMM, SDMM, GradientBasedMethod\n",
    "from csromer.utils import Gaussian\n",
    "from csromer.transformers import Gridding\n",
    "from scipy.constants import c\n",
    "from pynufft import NUFFT\n",
    "from scipy import signal as sci_signal\n",
    "import itertools\n",
    "import copy\n",
    "from scipy.stats import median_abs_deviation\n",
    "from scipy import stats"
   ]
  },
  {
   "cell_type": "code",
   "execution_count": 2,
   "id": "aad05405",
   "metadata": {
    "ExecuteTime": {
     "end_time": "2022-03-11T17:20:59.656710Z",
     "start_time": "2022-03-11T17:20:59.651344Z"
    }
   },
   "outputs": [],
   "source": [
    "def chi2_calc(residuals):\n",
    "    if residuals.dtype == np.complex64 or residuals.dtype == np.complex128:\n",
    "        data = (residuals.real * residuals.real) + (residuals.imag * residuals.imag)\n",
    "    else:\n",
    "        data = residuals**2\n",
    "    return np.sum(data)"
   ]
  },
  {
   "cell_type": "code",
   "execution_count": 3,
   "id": "6d90a423",
   "metadata": {
    "ExecuteTime": {
     "end_time": "2022-03-11T17:20:59.666542Z",
     "start_time": "2022-03-11T17:20:59.660015Z"
    }
   },
   "outputs": [],
   "source": [
    "def aicbic(residuals_coeffs, x_coeffs):\n",
    "    rss = chi2_calc(residuals)\n",
    "    if x.dtype == np.complex64 or x.dtype == np.complex128:\n",
    "        df = np.count_nonzero(x.real) + np.count_nonzero(x.imag)\n",
    "    else:     \n",
    "        df = np.count_nonzero(x)\n",
    "    l = len(residuals)\n",
    "    return l*np.log(rss/l) + 2*df, l*np.log(rss/l) + df*np.log(l)"
   ]
  },
  {
   "cell_type": "code",
   "execution_count": 4,
   "id": "a7cdb152",
   "metadata": {
    "ExecuteTime": {
     "end_time": "2022-03-11T17:20:59.676452Z",
     "start_time": "2022-03-11T17:20:59.669469Z"
    }
   },
   "outputs": [],
   "source": [
    "def aicbic(residuals, x):\n",
    "    rss = chi2_calc(residuals)\n",
    "    if x.dtype == np.complex64 or x.dtype == np.complex128:\n",
    "        df = np.count_nonzero(x.real) + np.count_nonzero(x.imag)\n",
    "        lcoeffs = 2*len(x)\n",
    "    else:     \n",
    "        df = np.count_nonzero(x)\n",
    "        lcoeffs = len(x)\n",
    "    l = len(residuals)\n",
    "    print(\"len(coeffs):\", lcoeffs)\n",
    "    print(\"l:\", l)\n",
    "    print(\"df:\", df)\n",
    "    print(\"rss:\",rss)\n",
    "    print(\"rss/l\", rss/l)\n",
    "    print(\"log(rss/l)\", np.log(rss/l))\n",
    "    print(\"log(l)\", np.log(l))\n",
    "    return l*np.log(rss/l) + 2*df, l*np.log(rss/l) + df*np.log(l)"
   ]
  },
  {
   "cell_type": "code",
   "execution_count": 5,
   "id": "6f447fc3",
   "metadata": {
    "ExecuteTime": {
     "end_time": "2022-03-11T17:20:59.682120Z",
     "start_time": "2022-03-11T17:20:59.678749Z"
    }
   },
   "outputs": [],
   "source": [
    "np.random.seed(666)"
   ]
  },
  {
   "cell_type": "code",
   "execution_count": 6,
   "id": "2b1f698e",
   "metadata": {
    "ExecuteTime": {
     "end_time": "2022-03-11T17:20:59.688521Z",
     "start_time": "2022-03-11T17:20:59.684607Z"
    }
   },
   "outputs": [],
   "source": [
    "# JVLA 1.008e9 2.031e9 1000\n",
    "nu = np.linspace(start=1.008e9, stop=2.031e9, num=1000)"
   ]
  },
  {
   "cell_type": "code",
   "execution_count": 7,
   "id": "2feeb06e",
   "metadata": {
    "ExecuteTime": {
     "end_time": "2022-03-11T17:20:59.696225Z",
     "start_time": "2022-03-11T17:20:59.693107Z"
    }
   },
   "outputs": [],
   "source": [
    "peak_thinsource = 0.0035\n",
    "peak_thicksource = 0.0035"
   ]
  },
  {
   "cell_type": "code",
   "execution_count": 8,
   "id": "e509e5bc",
   "metadata": {
    "ExecuteTime": {
     "end_time": "2022-03-11T17:20:59.702825Z",
     "start_time": "2022-03-11T17:20:59.698657Z"
    }
   },
   "outputs": [],
   "source": [
    "thinsource = FaradayThinSource(nu=nu, s_nu=peak_thinsource, phi_gal=-200, spectral_idx=1.0)"
   ]
  },
  {
   "cell_type": "code",
   "execution_count": 9,
   "id": "bef0d552",
   "metadata": {
    "ExecuteTime": {
     "end_time": "2022-03-11T17:20:59.709605Z",
     "start_time": "2022-03-11T17:20:59.705188Z"
    }
   },
   "outputs": [],
   "source": [
    "#140 JVLA\n",
    "# 95 MeerKAT\n",
    "thicksource = FaradayThickSource(nu=nu, s_nu=peak_thicksource, phi_fg=140, phi_center=200, spectral_idx=0.0)"
   ]
  },
  {
   "cell_type": "code",
   "execution_count": 10,
   "id": "63d62855",
   "metadata": {
    "ExecuteTime": {
     "end_time": "2022-03-11T17:20:59.715758Z",
     "start_time": "2022-03-11T17:20:59.712075Z"
    }
   },
   "outputs": [],
   "source": [
    "thinsource.simulate()\n",
    "thicksource.simulate()"
   ]
  },
  {
   "cell_type": "code",
   "execution_count": 11,
   "id": "116ef402",
   "metadata": {
    "ExecuteTime": {
     "end_time": "2022-03-11T17:20:59.723817Z",
     "start_time": "2022-03-11T17:20:59.718265Z"
    }
   },
   "outputs": [],
   "source": [
    "simsource = thinsource"
   ]
  },
  {
   "cell_type": "code",
   "execution_count": 12,
   "id": "bb0580c1",
   "metadata": {
    "ExecuteTime": {
     "end_time": "2022-03-11T17:20:59.735192Z",
     "start_time": "2022-03-11T17:20:59.729216Z"
    }
   },
   "outputs": [],
   "source": [
    "original_source = copy.deepcopy(simsource)"
   ]
  },
  {
   "cell_type": "code",
   "execution_count": 13,
   "id": "8d531c09",
   "metadata": {
    "ExecuteTime": {
     "end_time": "2022-03-11T17:20:59.746296Z",
     "start_time": "2022-03-11T17:20:59.738781Z"
    }
   },
   "outputs": [],
   "source": [
    "simsource.remove_channels(0.3)"
   ]
  },
  {
   "cell_type": "code",
   "execution_count": 14,
   "id": "d28ebab4",
   "metadata": {
    "ExecuteTime": {
     "end_time": "2022-03-11T17:20:59.756209Z",
     "start_time": "2022-03-11T17:20:59.748542Z"
    }
   },
   "outputs": [],
   "source": [
    "peak_thinsource"
   ]
  },
  {
   "cell_type": "code",
   "execution_count": 15,
   "id": "f1fe0b9a",
   "metadata": {
    "ExecuteTime": {
     "end_time": "2022-03-11T17:20:59.760803Z",
     "start_time": "2022-03-11T17:20:59.758471Z"
    }
   },
   "outputs": [],
   "source": [
    "applied_noise = 0.9*peak_thinsource"
   ]
  },
  {
   "cell_type": "code",
   "execution_count": 16,
   "id": "308f6613",
   "metadata": {
    "ExecuteTime": {
     "end_time": "2022-03-11T17:20:59.767136Z",
     "start_time": "2022-03-11T17:20:59.763130Z"
    }
   },
   "outputs": [],
   "source": [
    "applied_noise * 1000.0"
   ]
  },
  {
   "cell_type": "code",
   "execution_count": 17,
   "id": "356a432d",
   "metadata": {
    "ExecuteTime": {
     "end_time": "2022-03-11T17:20:59.772187Z",
     "start_time": "2022-03-11T17:20:59.769497Z"
    }
   },
   "outputs": [],
   "source": [
    "#simsource.data = np.random.normal(loc=0.0, scale=applied_noise, size=simsource.m) + 1j * np.random.normal(loc=0.0, scale=applied_noise, size=simsource.m) "
   ]
  },
  {
   "cell_type": "code",
   "execution_count": 18,
   "id": "3e1b2761",
   "metadata": {
    "ExecuteTime": {
     "end_time": "2022-03-11T17:20:59.778320Z",
     "start_time": "2022-03-11T17:20:59.774787Z"
    }
   },
   "outputs": [],
   "source": [
    "simsource.apply_noise(applied_noise)"
   ]
  },
  {
   "cell_type": "code",
   "execution_count": 19,
   "id": "d33c2701",
   "metadata": {
    "ExecuteTime": {
     "end_time": "2022-03-11T17:20:59.784958Z",
     "start_time": "2022-03-11T17:20:59.780825Z"
    }
   },
   "outputs": [],
   "source": [
    "simsource.theo_noise"
   ]
  },
  {
   "cell_type": "code",
   "execution_count": 20,
   "id": "2076db37",
   "metadata": {
    "ExecuteTime": {
     "end_time": "2022-03-11T17:21:00.519702Z",
     "start_time": "2022-03-11T17:20:59.787242Z"
    }
   },
   "outputs": [],
   "source": [
    "plt.plot(simsource.lambda2, simsource.data.real, 'k.', label=r\"Stokes $Q$\")\n",
    "plt.plot(simsource.lambda2, simsource.data.imag, 'c.', label=r\"Stokes $U$\")\n",
    "plt.plot(simsource.lambda2, np.abs(simsource.data), 'g.', label=r\"$|P|$\")\n",
    "plt.xlabel(r'$\\lambda^2$[m$^{2}$]')\n",
    "plt.ylabel(r'Jy/beam')\n",
    "plt.legend(loc=(1.04, 0.755), fancybox=True, shadow=True)\n",
    "plt.tight_layout()\n",
    "#plt.ylim([-0.01,0.01])\n",
    "#plt.savefig(\"pol_sim1.png\", dpi=100)"
   ]
  },
  {
   "cell_type": "code",
   "execution_count": 21,
   "id": "11f2af1e",
   "metadata": {
    "ExecuteTime": {
     "end_time": "2022-03-11T17:21:00.526612Z",
     "start_time": "2022-03-11T17:21:00.521893Z"
    }
   },
   "outputs": [],
   "source": [
    "sigma_qu = 0.5 * (np.std(simsource.data.real) + np.std(simsource.data.imag))\n",
    "sigma_qu * 1000.0"
   ]
  },
  {
   "cell_type": "code",
   "execution_count": 22,
   "id": "d04a08cd",
   "metadata": {
    "ExecuteTime": {
     "end_time": "2022-03-11T17:21:00.744602Z",
     "start_time": "2022-03-11T17:21:00.528708Z"
    }
   },
   "outputs": [],
   "source": [
    "import astropy.units as u\n",
    "plt.plot(simsource.lambda2, simsource.calculate_polangle('data').to(u.deg), 'k.', label=r\"Polarization angle\")\n",
    "plt.xlabel(r'$\\lambda^2$[m$^{2}$]')\n",
    "plt.ylabel(r'Polarization angle (deg)')\n",
    "plt.legend(loc='upper right')\n",
    "plt.tight_layout()"
   ]
  },
  {
   "cell_type": "code",
   "execution_count": 23,
   "id": "4389f066",
   "metadata": {
    "ExecuteTime": {
     "end_time": "2022-03-11T17:21:00.879447Z",
     "start_time": "2022-03-11T17:21:00.745986Z"
    }
   },
   "outputs": [],
   "source": [
    "plt.plot(simsource.lambda2, simsource.s, 'k.', label=r\"Spectral index\")\n",
    "plt.xlabel(r'$\\lambda^2$[m$^{2}$]')\n",
    "plt.ylabel(r'Unitless')\n",
    "plt.legend(loc='upper right')\n",
    "plt.tight_layout()"
   ]
  },
  {
   "cell_type": "code",
   "execution_count": 24,
   "id": "2a35c6e1",
   "metadata": {
    "ExecuteTime": {
     "end_time": "2022-03-11T17:21:00.882840Z",
     "start_time": "2022-03-11T17:21:00.880716Z"
    }
   },
   "outputs": [],
   "source": [
    "dataset = simsource"
   ]
  },
  {
   "cell_type": "code",
   "execution_count": 25,
   "id": "8797f242",
   "metadata": {
    "ExecuteTime": {
     "end_time": "2022-03-11T17:21:00.890733Z",
     "start_time": "2022-03-11T17:21:00.884439Z"
    }
   },
   "outputs": [],
   "source": [
    "parameter = Parameter()\n",
    "original_parameter = Parameter()"
   ]
  },
  {
   "cell_type": "code",
   "execution_count": 26,
   "id": "aeb1afbe",
   "metadata": {
    "ExecuteTime": {
     "end_time": "2022-03-11T17:21:00.904343Z",
     "start_time": "2022-03-11T17:21:00.892474Z"
    }
   },
   "outputs": [],
   "source": [
    "original_parameter.calculate_cellsize(dataset=original_source, oversampling=8)"
   ]
  },
  {
   "cell_type": "code",
   "execution_count": 27,
   "id": "8ebe2b87",
   "metadata": {
    "ExecuteTime": {
     "end_time": "2022-03-11T17:21:00.914912Z",
     "start_time": "2022-03-11T17:21:00.906930Z"
    }
   },
   "outputs": [],
   "source": [
    "parameter.calculate_cellsize(dataset=dataset, oversampling=8)"
   ]
  },
  {
   "cell_type": "code",
   "execution_count": 28,
   "id": "b3b85184",
   "metadata": {
    "ExecuteTime": {
     "end_time": "2022-03-11T17:21:01.017604Z",
     "start_time": "2022-03-11T17:21:00.918832Z"
    }
   },
   "outputs": [],
   "source": [
    "nufft = NUFFT1D(dataset=dataset, parameter=parameter, solve=True)"
   ]
  },
  {
   "cell_type": "code",
   "execution_count": 29,
   "id": "3adf7bed",
   "metadata": {
    "ExecuteTime": {
     "end_time": "2022-03-11T17:21:01.025817Z",
     "start_time": "2022-03-11T17:21:01.021127Z"
    }
   },
   "outputs": [],
   "source": [
    "dft = DFT1D(dataset=dataset, parameter=parameter)\n",
    "dft_original = DFT1D(dataset=original_source, parameter=original_parameter)"
   ]
  },
  {
   "cell_type": "code",
   "execution_count": 30,
   "id": "e6543653",
   "metadata": {
    "ExecuteTime": {
     "end_time": "2022-03-11T17:21:02.094501Z",
     "start_time": "2022-03-11T17:21:01.028479Z"
    }
   },
   "outputs": [],
   "source": [
    "F_dirty = dft.backward(dataset.data)\n",
    "F_dirty_original = dft_original.backward(original_source.data)"
   ]
  },
  {
   "cell_type": "code",
   "execution_count": 31,
   "id": "d0474456",
   "metadata": {
    "ExecuteTime": {
     "end_time": "2022-03-11T17:21:02.340607Z",
     "start_time": "2022-03-11T17:21:02.095900Z"
    },
    "scrolled": false
   },
   "outputs": [],
   "source": [
    "plt.plot(original_parameter.phi, F_dirty_original.real, 'c--', label=r\"Stokes $Q$\")\n",
    "plt.plot(original_parameter.phi, F_dirty_original.imag, 'c:', label=r\"Stokes $U$\")\n",
    "plt.plot(original_parameter.phi, np.abs(F_dirty_original), '-', c='grey', label=r\"|P|\")\n",
    "plt.plot([-200.,-200.],[0.,0.0035],ls='-',lw=2.,c='black')\n",
    "plt.plot(original_parameter.phi,np.zeros(len(original_parameter.phi)),ls='-',lw=2.,c='black')\n",
    "plt.xlabel(r'$\\phi$[rad m$^{-2}$]')\n",
    "plt.ylabel(r'Jy/beam m$^2$ rad$^{-1}$ rmtf$^{-1}$')\n",
    "plt.legend(loc='upper right')\n",
    "plt.xlim([-1000,1000])\n",
    "plt.tight_layout()\n",
    "#plt.savefig(\"fds_sim1.png\", dpi=100)"
   ]
  },
  {
   "cell_type": "code",
   "execution_count": null,
   "id": "41202cd3",
   "metadata": {
    "ExecuteTime": {
     "start_time": "2022-03-11T17:20:57.700Z"
    }
   },
   "outputs": [],
   "source": [
    "plt.plot(parameter.phi, F_dirty.real, 'c--', label=r\"Stokes $Q$\")\n",
    "plt.plot(parameter.phi, F_dirty.imag, 'c:', label=r\"Stokes $U$\")\n",
    "plt.plot(parameter.phi, np.abs(F_dirty), '-', c='grey', label=r\"|P|\")\n",
    "plt.plot([-200.,-200.],[0.,0.0035],ls='-',lw=2.,c='black')\n",
    "plt.plot(parameter.phi,np.zeros(len(parameter.phi)),ls='-',lw=2.,c='black')\n",
    "plt.xlabel(r'$\\phi$[rad m$^{-2}$]')\n",
    "plt.ylabel(r'Jy/beam m$^2$ rad$^{-1}$ rmtf$^{-1}$')\n",
    "plt.legend(loc='upper right')\n",
    "plt.xlim([-1000,1000])\n",
    "plt.tight_layout()\n",
    "#plt.savefig(\"fds_sim1.png\", dpi=100)"
   ]
  },
  {
   "cell_type": "code",
   "execution_count": null,
   "id": "0c8859d0",
   "metadata": {
    "ExecuteTime": {
     "start_time": "2022-03-11T17:20:57.700Z"
    }
   },
   "outputs": [],
   "source": [
    "idx_noise = np.where(np.abs(parameter.phi)>0.8*parameter.max_faraday_depth)\n",
    "noise_F = 0.5*(median_abs_deviation(F_dirty[idx_noise].real, scale=\"normal\") + median_abs_deviation(F_dirty[idx_noise].imag, scale=\"normal\"))\n",
    "noise_F*1000.0"
   ]
  },
  {
   "cell_type": "code",
   "execution_count": null,
   "id": "15ddb287",
   "metadata": {
    "ExecuteTime": {
     "start_time": "2022-03-11T17:20:57.700Z"
    }
   },
   "outputs": [],
   "source": [
    "noise_from_w = 1.0/np.sqrt(np.sum(dataset.w))\n",
    "noise_from_w * 1000.0"
   ]
  },
  {
   "cell_type": "code",
   "execution_count": null,
   "id": "92cfd55a",
   "metadata": {
    "ExecuteTime": {
     "start_time": "2022-03-11T17:20:57.700Z"
    }
   },
   "outputs": [],
   "source": [
    "F_back = dft.backward(dataset.data)"
   ]
  },
  {
   "cell_type": "code",
   "execution_count": null,
   "id": "7f01d647",
   "metadata": {
    "ExecuteTime": {
     "start_time": "2022-03-11T17:20:57.700Z"
    }
   },
   "outputs": [],
   "source": [
    "plt.plot(parameter.phi, F_back.real, 'c--', label=r\"Real part\")\n",
    "plt.plot(parameter.phi, F_back.imag, 'c:', label=r\"Imaginary part\")\n",
    "plt.plot(parameter.phi, np.abs(F_back), 'k-', label=r\"Amplitude\")\n",
    "plt.xlim([-1000,1000])"
   ]
  },
  {
   "cell_type": "code",
   "execution_count": null,
   "id": "aec6fb73",
   "metadata": {
    "ExecuteTime": {
     "start_time": "2022-03-11T17:20:57.700Z"
    }
   },
   "outputs": [],
   "source": [
    "P_back = nufft.forward_normalized(F_back)\n",
    "plt.plot(dataset.lambda2, P_back.real, 'k.', label=r\"Stokes $Q$\")\n",
    "plt.plot(dataset.lambda2, P_back.imag, 'c.', label=r\"Stokes $U$\")\n",
    "plt.plot(dataset.lambda2, np.abs(P_back), 'g.', label=r\"$|P|$\")"
   ]
  },
  {
   "cell_type": "code",
   "execution_count": null,
   "id": "3f8fecd3",
   "metadata": {
    "ExecuteTime": {
     "start_time": "2022-03-11T17:20:57.700Z"
    }
   },
   "outputs": [],
   "source": [
    "wav = None\n",
    "#wav = DiscreteWavelet(wavelet_name=\"db3\", mode=\"periodization\", append_signal=True)\n",
    "#wav = UndecimatedWavelet(wavelet_name=\"coif2\", append_signal=True)"
   ]
  },
  {
   "cell_type": "code",
   "execution_count": null,
   "id": "0ba60f85",
   "metadata": {
    "ExecuteTime": {
     "start_time": "2022-03-11T17:20:57.800Z"
    }
   },
   "outputs": [],
   "source": [
    "parameter.data = F_dirty\n",
    "parameter.complex_data_to_real()\n",
    "if wav is not None:\n",
    "    wav.calculate_max_level(parameter.data)\n",
    "    parameter.data = wav.decompose(parameter.data)\n",
    "    plt.plot(parameter.data*1000.0)\n",
    "    coeff_noise = median_abs_deviation(parameter.data[-1000:-1]) / 0.6745\n",
    "    print(coeff_noise * 1000.0)"
   ]
  },
  {
   "cell_type": "code",
   "execution_count": null,
   "id": "f7df4037",
   "metadata": {
    "ExecuteTime": {
     "start_time": "2022-03-11T17:20:57.800Z"
    }
   },
   "outputs": [],
   "source": [
    "len(parameter.data)"
   ]
  },
  {
   "cell_type": "code",
   "execution_count": null,
   "id": "de413480",
   "metadata": {
    "ExecuteTime": {
     "start_time": "2022-03-11T17:20:57.800Z"
    }
   },
   "outputs": [],
   "source": [
    "lambda_l1 = np.sqrt(dataset.m + 2*np.sqrt(dataset.m)) * dataset.theo_noise/2\n",
    "#lambda_l1 = np.sqrt(dataset.m) * noise_F\n",
    "#print(lambda_l1)\n",
    "#lambda_l1 /= 2\n",
    "#lambda_l1=0.5\n",
    "lambda_tsv = 0.0\n",
    "chi2 = Chi2(dft_obj=nufft, wavelet=wav)\n",
    "l1 = L1(reg=lambda_l1)\n",
    "tsv = TSV(reg=lambda_tsv)\n",
    "# F_func = [chi2(P, dft, W), L1(lambda_l1)]\n",
    "F_func = [chi2, l1]\n",
    "f_func = [chi2]\n",
    "g_func = [l1]\n",
    "\n",
    "F_obj = OFunction(F_func)\n",
    "f_obj = OFunction(f_func)\n",
    "g_obj = OFunction(g_func)"
   ]
  },
  {
   "cell_type": "code",
   "execution_count": null,
   "id": "32f2daf9",
   "metadata": {
    "ExecuteTime": {
     "start_time": "2022-03-11T17:20:57.800Z"
    }
   },
   "outputs": [],
   "source": [
    "lambda_l1"
   ]
  },
  {
   "cell_type": "code",
   "execution_count": null,
   "id": "99992068",
   "metadata": {
    "ExecuteTime": {
     "start_time": "2022-03-11T17:20:57.800Z"
    }
   },
   "outputs": [],
   "source": [
    "dataset.theo_noise"
   ]
  },
  {
   "cell_type": "code",
   "execution_count": null,
   "id": "34f7a8b4",
   "metadata": {
    "ExecuteTime": {
     "start_time": "2022-03-11T17:20:57.800Z"
    }
   },
   "outputs": [],
   "source": [
    "lambda_l1 / dataset.theo_noise"
   ]
  },
  {
   "cell_type": "code",
   "execution_count": null,
   "id": "e6d1c713",
   "metadata": {
    "ExecuteTime": {
     "start_time": "2022-03-11T17:20:57.800Z"
    }
   },
   "outputs": [],
   "source": [
    "opt = FISTA(guess_param=parameter, F_obj=F_obj, fx=chi2, gx=g_obj, noise=dataset.theo_noise*2, verbose=True)\n",
    "#opt = FISTA(i_guess=F_real, F_obj=F_obj, fx=chi2, gx=g_obj, maxiter=1000, noise=1e-5, verbose=True)\n",
    "obj, X = opt.run()\n",
    "print(obj)"
   ]
  },
  {
   "cell_type": "code",
   "execution_count": null,
   "id": "88711e52",
   "metadata": {
    "ExecuteTime": {
     "start_time": "2022-03-11T17:20:57.800Z"
    }
   },
   "outputs": [],
   "source": [
    "if wav is not None:\n",
    "    plt.plot(X.data)"
   ]
  },
  {
   "cell_type": "code",
   "execution_count": null,
   "id": "f00f1b9d",
   "metadata": {
    "ExecuteTime": {
     "start_time": "2022-03-11T17:20:57.800Z"
    }
   },
   "outputs": [],
   "source": [
    "if wav is not None:\n",
    "    X.data = wav.reconstruct(X.data)\n",
    "X.real_data_to_complex()"
   ]
  },
  {
   "cell_type": "code",
   "execution_count": null,
   "id": "8029540a",
   "metadata": {
    "ExecuteTime": {
     "start_time": "2022-03-11T17:20:57.800Z"
    }
   },
   "outputs": [],
   "source": [
    "plt.plot(parameter.phi, X.data.real, 'c--', label=r\"Stokes $Q$\")\n",
    "plt.plot(parameter.phi, X.data.imag, 'c:', label=r\"Stokes $U$\")\n",
    "plt.plot(parameter.phi, np.abs(X.data), 'k-', label=r\"$|P|$\")\n",
    "plt.xlabel(r'$\\phi$[rad m$^{-2}$]')\n",
    "plt.ylabel(r'Jy/beam m$^2$ rad$^{-1}$ pix$^{-1}$')\n",
    "plt.legend(loc='upper right')\n",
    "plt.tight_layout()\n",
    "plt.xlim([-1000,1000])"
   ]
  },
  {
   "cell_type": "code",
   "execution_count": null,
   "id": "915c26c4",
   "metadata": {
    "ExecuteTime": {
     "start_time": "2022-03-11T17:20:57.800Z"
    }
   },
   "outputs": [],
   "source": [
    "model_data_2 = nufft.forward_normalized(X.data)"
   ]
  },
  {
   "cell_type": "code",
   "execution_count": null,
   "id": "84fc247b",
   "metadata": {
    "ExecuteTime": {
     "start_time": "2022-03-11T17:20:57.800Z"
    }
   },
   "outputs": [],
   "source": [
    "plt.plot(dataset.lambda2, dataset.model_data.real, 'k.', label=r\"Stokes $Q$\")\n",
    "plt.plot(dataset.lambda2, dataset.model_data.imag, 'c.', label=r\"Stokes $U$\")\n",
    "plt.plot(dataset.lambda2, np.abs(dataset.model_data), 'g.', label=r\"$|P|$\")"
   ]
  },
  {
   "cell_type": "code",
   "execution_count": null,
   "id": "d4317572",
   "metadata": {
    "ExecuteTime": {
     "start_time": "2022-03-11T17:20:57.800Z"
    }
   },
   "outputs": [],
   "source": [
    "plt.plot(dataset.lambda2, dataset.residual.real, 'k.', label=r\"Stokes $Q$\")\n",
    "plt.plot(dataset.lambda2, dataset.residual.imag, 'c.', label=r\"Stokes $U$\")\n",
    "plt.plot(dataset.lambda2, np.abs(dataset.residual), 'g.', label=r\"$|P|$\")"
   ]
  },
  {
   "cell_type": "code",
   "execution_count": null,
   "id": "c0b18586",
   "metadata": {
    "ExecuteTime": {
     "start_time": "2022-03-11T17:20:57.800Z"
    }
   },
   "outputs": [],
   "source": [
    "plt.plot(dataset.lambda2, dataset.data.real, 'k.', label=r\"Stokes $Q$\")\n",
    "plt.plot(dataset.lambda2, dataset.data.imag, 'c.', label=r\"Stokes $U$\")\n",
    "plt.plot(dataset.lambda2, np.abs(dataset.data), 'g.', label=r\"$|P|$\")"
   ]
  },
  {
   "cell_type": "code",
   "execution_count": null,
   "id": "be6c5b9e",
   "metadata": {
    "ExecuteTime": {
     "start_time": "2022-03-11T17:20:57.800Z"
    }
   },
   "outputs": [],
   "source": [
    "sigma_res = 0.5*(np.std(dataset.residual.real) + np.std(dataset.residual.imag)) "
   ]
  },
  {
   "cell_type": "code",
   "execution_count": null,
   "id": "6860f092",
   "metadata": {
    "ExecuteTime": {
     "start_time": "2022-03-11T17:20:57.800Z"
    }
   },
   "outputs": [],
   "source": [
    "sigma_res * 1000.0"
   ]
  },
  {
   "cell_type": "code",
   "execution_count": null,
   "id": "94e895d5",
   "metadata": {
    "ExecuteTime": {
     "start_time": "2022-03-11T17:20:57.800Z"
    }
   },
   "outputs": [],
   "source": [
    "F_residual = dft.backward(dataset.residual)"
   ]
  },
  {
   "cell_type": "code",
   "execution_count": null,
   "id": "9696e5b0",
   "metadata": {
    "ExecuteTime": {
     "start_time": "2022-03-11T17:20:57.800Z"
    }
   },
   "outputs": [],
   "source": [
    "plt.plot(parameter.phi, F_residual.real, 'c--', label=r\"Stokes $Q$\")\n",
    "plt.plot(parameter.phi, F_residual.imag, 'c:', label=r\"Stokes $U$\")\n",
    "plt.plot(parameter.phi, np.abs(F_residual), '-', c='grey', label=r\"|P|\")\n",
    "#plt.plot([-200.,-200.],[0.,0.0035],ls='-',lw=2.,c='black')\n",
    "#plt.plot(parameter.phi,np.zeros(len(parameter.phi)),ls='-',lw=2.,c='black')\n",
    "plt.axhline (y = 5*dataset.theo_noise, color = 'crimson', alpha=0.7)\n",
    "plt.axhline (y = -5*dataset.theo_noise, color = 'crimson', alpha=0.7)\n",
    "plt.xlabel(r'$\\phi$[rad m$^{-2}$]')\n",
    "plt.ylabel(r'Jy/beam m$^2$ rad$^{-1}$ rmtf$^{-1}$')\n",
    "plt.legend(loc='upper right')\n",
    "plt.xlim([-1000,1000])\n",
    "plt.tight_layout()\n",
    "#plt.savefig(\"fds_sim1.png\", dpi=100)"
   ]
  },
  {
   "cell_type": "code",
   "execution_count": null,
   "id": "dd8b2315",
   "metadata": {
    "ExecuteTime": {
     "start_time": "2022-03-11T17:20:57.800Z"
    }
   },
   "outputs": [],
   "source": [
    "rms_residual = 0.5*(np.std(F_residual.real) + np.std(F_residual.imag))\n",
    "rms_residual*1000.0"
   ]
  },
  {
   "cell_type": "code",
   "execution_count": null,
   "id": "7c4f9a34",
   "metadata": {
    "ExecuteTime": {
     "start_time": "2022-03-11T17:20:57.800Z"
    }
   },
   "outputs": [],
   "source": [
    "dataset.theo_noise * 1000.0"
   ]
  },
  {
   "cell_type": "code",
   "execution_count": null,
   "id": "72f1dd64",
   "metadata": {
    "ExecuteTime": {
     "start_time": "2022-03-11T17:20:57.800Z"
    }
   },
   "outputs": [],
   "source": [
    "noise_F*1000.0"
   ]
  },
  {
   "cell_type": "code",
   "execution_count": null,
   "id": "23e5f261",
   "metadata": {
    "ExecuteTime": {
     "start_time": "2022-03-11T17:20:57.800Z"
    }
   },
   "outputs": [],
   "source": [
    "applied_noise * 1000.0"
   ]
  },
  {
   "cell_type": "code",
   "execution_count": null,
   "id": "8a91dccc",
   "metadata": {
    "ExecuteTime": {
     "start_time": "2022-03-11T17:20:57.800Z"
    }
   },
   "outputs": [],
   "source": [
    "sigma_qu*1000.0"
   ]
  },
  {
   "cell_type": "code",
   "execution_count": null,
   "id": "a744cbdf",
   "metadata": {
    "ExecuteTime": {
     "start_time": "2022-03-11T17:20:57.900Z"
    }
   },
   "outputs": [],
   "source": [
    "model_2 = dft.backward(dataset.model_data)"
   ]
  },
  {
   "cell_type": "code",
   "execution_count": null,
   "id": "bcdc5dcb",
   "metadata": {
    "ExecuteTime": {
     "start_time": "2022-03-11T17:20:57.900Z"
    }
   },
   "outputs": [],
   "source": [
    "plt.plot(parameter.phi, model_2.real, 'c--', label=r\"Stokes $Q$\")\n",
    "plt.plot(parameter.phi, model_2.imag, 'c:', label=r\"Stokes $U$\")\n",
    "plt.plot(parameter.phi, np.abs(model_2), '-', c='grey', label=r\"|P|\")\n",
    "#plt.plot([-200.,-200.],[0.,0.0035],ls='-',lw=2.,c='black')\n",
    "#plt.plot(parameter.phi,np.zeros(len(parameter.phi)),ls='-',lw=2.,c='black')\n",
    "plt.xlabel(r'$\\phi$[rad m$^{-2}$]')\n",
    "plt.ylabel(r'Jy/beam m$^2$ rad$^{-1}$ rmtf$^{-1}$')\n",
    "plt.legend(loc='upper right')\n",
    "plt.xlim([-1000,1000])\n",
    "plt.tight_layout()\n",
    "#plt.savefig(\"fds_sim1.png\", dpi=100)"
   ]
  },
  {
   "cell_type": "code",
   "execution_count": null,
   "id": "b2d0baf3",
   "metadata": {
    "ExecuteTime": {
     "start_time": "2022-03-11T17:20:57.900Z"
    }
   },
   "outputs": [],
   "source": [
    "residual_faraday = F_dirty - model_2"
   ]
  },
  {
   "cell_type": "code",
   "execution_count": null,
   "id": "78592696",
   "metadata": {
    "ExecuteTime": {
     "start_time": "2022-03-11T17:20:57.900Z"
    }
   },
   "outputs": [],
   "source": [
    "conv_model = X.convolve() + F_residual"
   ]
  },
  {
   "cell_type": "code",
   "execution_count": null,
   "id": "2a531d22",
   "metadata": {
    "ExecuteTime": {
     "start_time": "2022-03-11T17:20:57.900Z"
    }
   },
   "outputs": [],
   "source": [
    "SMALL_SIZE = 17\n",
    "MEDIUM_SIZE = 18\n",
    "BIGGER_SIZE = 19\n",
    "\n",
    "plt.rcParams.update({\n",
    "                \"font.family\": \"serif\",\n",
    "                \"text.usetex\": True,\n",
    "                \"pgf.rcfonts\": False,\n",
    "                \"pgf.texsystem\": 'pdflatex',  # default is xetex\n",
    "            })\n",
    "\n",
    "plt.rc('font', size=MEDIUM_SIZE)  # controls default text sizes\n",
    "plt.rc('axes', titlesize=SMALL_SIZE)  # fontsize of the axes title\n",
    "plt.rc('axes', labelsize=MEDIUM_SIZE)  # fontsize of the x and y labels\n",
    "plt.rc('xtick', labelsize=SMALL_SIZE)  # fontsize of the tick labels\n",
    "plt.rc('ytick', labelsize=SMALL_SIZE)  # fontsize of the tick labels\n",
    "plt.rc('legend', fontsize=SMALL_SIZE)  # legend fontsize"
   ]
  },
  {
   "cell_type": "code",
   "execution_count": null,
   "id": "364bf05e",
   "metadata": {
    "ExecuteTime": {
     "start_time": "2022-03-11T17:20:57.900Z"
    }
   },
   "outputs": [],
   "source": [
    "fig = plt.figure(figsize =(18,5))\n",
    "#fig, ax = plt.subplots(ncols=3, nrows=1, figsize=(18, 5))\n",
    "ax1 = fig.add_subplot(1, 3, 1)\n",
    "ax1.plot(original_source.lambda2, original_source.data.real, 'c--', label=r\"Stokes $Q$\")\n",
    "ax1.plot(original_source.lambda2, original_source.data.imag, 'c:', label=r\"Stokes $U$\")\n",
    "ax1.plot(original_source.lambda2, np.abs(original_source.data), '.', color=\"grey\", label=r\"$|P|$\")\n",
    "ax1.set_xlabel(r'$\\lambda^2$[m$^{2}$]')\n",
    "ax1.set_ylabel(r'Jy/beam')\n",
    "\n",
    "\n",
    "ax2 = fig.add_subplot(1, 3, 2)\n",
    "ax2.plot(original_parameter.phi, F_dirty_original.real, 'c--', label=r\"Stokes $Q$\")\n",
    "ax2.plot(original_parameter.phi, F_dirty_original.imag, 'c:', label=r\"Stokes $U$\")\n",
    "ax2.plot(original_parameter.phi, np.abs(F_dirty_original), '-', c='grey', label=r\"|P|\")\n",
    "ax2.plot([-200.,-200.],[0.,0.0035],ls='-',lw=2.,c='black')\n",
    "#ax2.plot([130.,130.],[0.,0.0035],ls='-',lw=2.,c='black')\n",
    "#ax2.plot([270.,270.],[0.,0.0035],ls='-',lw=2.,c='black')\n",
    "#ax2.plot([130.,270.],[0.0035,0.0035],ls='-',lw=2.,c='black')\n",
    "ax2.plot(original_parameter.phi,np.zeros(len(original_parameter.phi)),ls='-',lw=2.,c='black')\n",
    "#ax2.axhline (y = 5*original_source.theo_noise*1000.0, color = 'crimson', alpha=0.7)\n",
    "#ax2.axhline (y = -5*original_source.theo_noise*1000.0, color = 'crimson', alpha=0.7)\n",
    "ax2.set_xlabel(r'$\\phi$[rad m$^{-2}$]')\n",
    "ax2.set_ylabel(r'Jy/beam m$^2$ rad$^{-1}$ rmtf$^{-1}$')\n",
    "ax2.set_xlim([-1000,1000])\n",
    "\n",
    "ax3 = fig.add_subplot(1, 3, 3, sharex = ax2, sharey = ax2)\n",
    "ax3.plot(parameter.phi, conv_model.real, 'c--', label=r\"Stokes $Q$\")\n",
    "ax3.plot(parameter.phi, conv_model.imag, 'c:', label=r\"Stokes $U$\")\n",
    "ax3.plot(parameter.phi, np.abs(conv_model), '-', c='grey', label=r\"$|P|$\")\n",
    "ax3.plot([-200.,-200.],[0.,0.0035],ls='-',lw=2.,c='black')\n",
    "#ax3.plot([130.,130.],[0.,0.0035],ls='-',lw=2.,c='black')\n",
    "#ax3.plot([270.,270.],[0.,0.0035],ls='-',lw=2.,c='black')\n",
    "#ax3.plot([130.,270.],[0.0035,0.0035],ls='-',lw=2.,c='black')\n",
    "ax3.plot(parameter.phi,np.zeros(len(parameter.phi)),ls='-',lw=2.,c='black')\n",
    "#ax3.set_xlim([-1000,1000])\n",
    "ax3.axhline(y = 5*dataset.theo_noise, color = 'crimson', alpha=0.7)\n",
    "ax3.axhline(y = -5*dataset.theo_noise, color = 'crimson', alpha=0.7)\n",
    "ax3.set_xlabel(r'$\\phi$[rad m$^{-2}$]')\n",
    "ax3.set_ylabel(r'Jy/beam m$^2$ rad$^{-1}$ rmtf$^{-1}$')\n",
    "\n",
    "handles, labels = ax3.get_legend_handles_labels()\n",
    "legend = fig.legend(handles, labels, loc=\"upper right\", borderaxespad=0)\n",
    "legend.get_frame().set_alpha(1.0)\n",
    "fig.tight_layout()\n",
    "#fig.savefig(\"thinthick.pdf\", dpi=500)"
   ]
  },
  {
   "cell_type": "code",
   "execution_count": null,
   "id": "b33114ef",
   "metadata": {
    "ExecuteTime": {
     "start_time": "2022-03-11T17:20:57.900Z"
    }
   },
   "outputs": [],
   "source": [
    "plt.plot(parameter.phi, residual_faraday.real, 'c--', label=r\"Stokes $Q$\")\n",
    "plt.plot(parameter.phi, residual_faraday.imag, 'c:', label=r\"Stokes $U$\")\n",
    "plt.plot(parameter.phi, np.abs(residual_faraday), '-', c='grey', label=r\"$|P|$\")\n",
    "#plt.plot([-200.,-200.],[0.,0.0035],ls='-',lw=2.,c='black')\n",
    "#plt.plot(parameter.phi,np.zeros(len(parameter.phi)),ls='-',lw=2.,c='black')\n",
    "plt.axhline (y = 5*dataset.theo_noise, color = 'crimson', alpha=0.7)\n",
    "plt.axhline (y = -5*dataset.theo_noise, color = 'crimson', alpha=0.7)\n",
    "plt.xlabel(r'$\\phi$[rad m$^{-2}$]')\n",
    "plt.ylabel(r'Jy/beam m$^2$ rad$^{-1}$ rmtf$^{-1}$')\n",
    "plt.legend(loc='upper right')\n",
    "plt.xlim([-1000,1000])\n",
    "plt.tight_layout()\n",
    "#plt.savefig(\"fds_sim1.png\", dpi=100)"
   ]
  },
  {
   "cell_type": "code",
   "execution_count": null,
   "id": "8bc518c9",
   "metadata": {
    "ExecuteTime": {
     "start_time": "2022-03-11T17:20:57.900Z"
    }
   },
   "outputs": [],
   "source": [
    "plt.plot(parameter.phi, conv_model.real, 'c--', label=r\"Stokes $Q$\")\n",
    "plt.plot(parameter.phi, conv_model.imag, 'c:', label=r\"Stokes $U$\")\n",
    "plt.plot(parameter.phi, np.abs(conv_model), 'k-', label=r\"$|P|$\")\n",
    "plt.plot([-200.,-200.],[0.,0.0035],ls='-',lw=2.,c='black')\n",
    "plt.plot(parameter.phi,np.zeros(len(parameter.phi)),ls='-',lw=2.,c='black')\n",
    "plt.xlim([-1000,1000])\n",
    "plt.axhline (y = 5*noise_F, color = 'b')\n",
    "plt.axhline (y = -5*noise_F, color = 'b')\n",
    "plt.xlabel(r'$\\phi$[rad m$^{-2}$]')\n",
    "plt.ylabel(r'Jy/beam m$^2$ rad$^{-1}$ rmtf$^{-1}$')\n",
    "plt.legend(loc='upper right')\n",
    "plt.tight_layout()\n",
    "#plt.savefig(\"restored.png\", dpi=100)"
   ]
  },
  {
   "cell_type": "code",
   "execution_count": null,
   "id": "3ec3b41a",
   "metadata": {
    "ExecuteTime": {
     "start_time": "2022-03-11T17:20:57.900Z"
    }
   },
   "outputs": [],
   "source": [
    "P = np.sqrt(np.max(np.abs(conv_model))**2 - (2.3*rms_residual**2))"
   ]
  },
  {
   "cell_type": "code",
   "execution_count": null,
   "id": "c33691de",
   "metadata": {
    "ExecuteTime": {
     "start_time": "2022-03-11T17:20:57.900Z"
    }
   },
   "outputs": [],
   "source": [
    "parameter.rmtf_fwhm/(2*P/rms_residual)"
   ]
  },
  {
   "cell_type": "code",
   "execution_count": null,
   "id": "98b617ea",
   "metadata": {
    "ExecuteTime": {
     "start_time": "2022-03-11T17:20:57.900Z"
    }
   },
   "outputs": [],
   "source": [
    "residual_1d = np.concatenate([residual_faraday.real, residual_faraday.imag])\n",
    "#residual_1d = np.concatenate([dataset.residual.real, dataset.residual.imag])\n",
    "stat,p = stats.jarque_bera(residual_1d)"
   ]
  },
  {
   "cell_type": "code",
   "execution_count": null,
   "id": "d8f4532c",
   "metadata": {
    "ExecuteTime": {
     "start_time": "2022-03-11T17:20:57.900Z"
    }
   },
   "outputs": [],
   "source": [
    "print(\"stat={0:.3f}, p={1:.3f}\".format(stat, p))"
   ]
  },
  {
   "cell_type": "code",
   "execution_count": null,
   "id": "49334fa9",
   "metadata": {
    "ExecuteTime": {
     "start_time": "2022-03-11T17:20:57.900Z"
    }
   },
   "outputs": [],
   "source": [
    "p"
   ]
  },
  {
   "cell_type": "code",
   "execution_count": null,
   "id": "b30a533b",
   "metadata": {
    "ExecuteTime": {
     "start_time": "2022-03-11T17:20:58.000Z"
    }
   },
   "outputs": [],
   "source": [
    "if p > 0.05:\n",
    "    print(\"Probably Gaussian\")\n",
    "else:\n",
    "    print(\"Probably not Gaussian\")"
   ]
  }
 ],
 "metadata": {
  "kernelspec": {
   "display_name": "Python 3 (ipykernel)",
   "language": "python",
   "name": "python3"
  },
  "language_info": {
   "codemirror_mode": {
    "name": "ipython",
    "version": 3
   },
   "file_extension": ".py",
   "mimetype": "text/x-python",
   "name": "python",
   "nbconvert_exporter": "python",
   "pygments_lexer": "ipython3",
   "version": "3.10.2"
  },
  "latex_envs": {
   "LaTeX_envs_menu_present": true,
   "autoclose": false,
   "autocomplete": true,
   "bibliofile": "biblio.bib",
   "cite_by": "apalike",
   "current_citInitial": 1,
   "eqLabelWithNumbers": true,
   "eqNumInitial": 1,
   "hotkeys": {
    "equation": "Ctrl-E",
    "itemize": "Ctrl-I"
   },
   "labels_anchors": false,
   "latex_user_defs": false,
   "report_style_numbering": false,
   "user_envs_cfg": false
  },
  "toc": {
   "base_numbering": 1,
   "nav_menu": {},
   "number_sections": true,
   "sideBar": true,
   "skip_h1_title": false,
   "title_cell": "Table of Contents",
   "title_sidebar": "Contents",
   "toc_cell": false,
   "toc_position": {},
   "toc_section_display": true,
   "toc_window_display": false
  },
  "varInspector": {
   "cols": {
    "lenName": 16,
    "lenType": 16,
    "lenVar": 40
   },
   "kernels_config": {
    "python": {
     "delete_cmd_postfix": "",
     "delete_cmd_prefix": "del ",
     "library": "var_list.py",
     "varRefreshCmd": "print(var_dic_list())"
    },
    "r": {
     "delete_cmd_postfix": ") ",
     "delete_cmd_prefix": "rm(",
     "library": "var_list.r",
     "varRefreshCmd": "cat(var_dic_list()) "
    }
   },
   "types_to_exclude": [
    "module",
    "function",
    "builtin_function_or_method",
    "instance",
    "_Feature"
   ],
   "window_display": false
  }
 },
 "nbformat": 4,
 "nbformat_minor": 5
}
