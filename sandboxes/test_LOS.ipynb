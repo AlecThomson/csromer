{
 "cells": [
  {
   "cell_type": "code",
   "execution_count": 6,
   "id": "bf18aa88",
   "metadata": {
    "ExecuteTime": {
     "end_time": "2021-12-08T19:09:05.788370Z",
     "start_time": "2021-12-08T19:09:05.785102Z"
    }
   },
   "outputs": [],
   "source": [
    "from csromer.simulation import FaradayThinSource,FaradayThickSource\n",
    "from csromer.reconstruction import Parameter\n",
    "import numpy as np\n",
    "from IPython.display import clear_output\n",
    "from csromer.io import Reader, Writer\n",
    "from csromer.base import Dataset\n",
    "from csromer.transformers import DFT1D, NUFFT1D\n",
    "import matplotlib.pyplot as plt\n",
    "from csromer.objectivefunction import OFunction\n",
    "from csromer.utils import real_to_complex, complex_to_real\n",
    "from csromer.objectivefunction import TSV, TV, L1, Chi2\n",
    "from csromer.optimization import FISTA, ADMM, SDMM, GradientBasedMethod\n",
    "from csromer.utils import Gaussian\n",
    "from csromer.dictionaries.discrete import DiscreteWavelet\n",
    "from csromer.dictionaries.undecimated import UndecimatedWavelet\n",
    "from csromer.transformers import Gridding, MeanFlagger, HampelFlagger\n",
    "from csromer.faraday_sky import FaradaySky\n",
    "from scipy.constants import c\n",
    "from pynufft import NUFFT\n",
    "from scipy import signal as sci_signal\n",
    "import itertools\n",
    "from astropy.io import fits\n",
    "from astropy.coordinates import SkyCoord\n",
    "from astropy.wcs import WCS\n",
    "import astropy.units as un\n",
    "from astropy.stats import sigma_clipped_stats\n",
    "import pandas as pd"
   ]
  },
  {
   "cell_type": "code",
   "execution_count": 2,
   "id": "62cfa6c3",
   "metadata": {
    "ExecuteTime": {
     "end_time": "2021-12-08T19:08:57.720891Z",
     "start_time": "2021-12-08T19:08:57.599841Z"
    }
   },
   "outputs": [
    {
     "ename": "FileNotFoundError",
     "evalue": "[Errno 2] No such file or directory: '/home/miguel/Documents/A1314_LOS_check/A1314_Q_corrected.fits'",
     "output_type": "error",
     "traceback": [
      "\u001b[0;31m---------------------------------------------------------------------------\u001b[0m",
      "\u001b[0;31mFileNotFoundError\u001b[0m                         Traceback (most recent call last)",
      "\u001b[0;32m/tmp/ipykernel_92269/2624057293.py\u001b[0m in \u001b[0;36m<module>\u001b[0;34m\u001b[0m\n\u001b[1;32m      3\u001b[0m \u001b[0mU_name\u001b[0m \u001b[0;34m=\u001b[0m \u001b[0;34m\"/home/miguel/Documents/A1314_LOS_check/A1314_U_corrected.fits\"\u001b[0m\u001b[0;34m\u001b[0m\u001b[0;34m\u001b[0m\u001b[0m\n\u001b[1;32m      4\u001b[0m \u001b[0;34m\u001b[0m\u001b[0m\n\u001b[0;32m----> 5\u001b[0;31m \u001b[0mhdul_q\u001b[0m \u001b[0;34m=\u001b[0m \u001b[0mfits\u001b[0m\u001b[0;34m.\u001b[0m\u001b[0mopen\u001b[0m\u001b[0;34m(\u001b[0m\u001b[0mQ_name\u001b[0m\u001b[0;34m,\u001b[0m \u001b[0mmemmap\u001b[0m\u001b[0;34m=\u001b[0m\u001b[0;32mTrue\u001b[0m\u001b[0;34m)\u001b[0m\u001b[0;34m\u001b[0m\u001b[0;34m\u001b[0m\u001b[0m\n\u001b[0m\u001b[1;32m      6\u001b[0m \u001b[0mhdul_u\u001b[0m \u001b[0;34m=\u001b[0m \u001b[0mfits\u001b[0m\u001b[0;34m.\u001b[0m\u001b[0mopen\u001b[0m\u001b[0;34m(\u001b[0m\u001b[0mU_name\u001b[0m\u001b[0;34m,\u001b[0m \u001b[0mmemmap\u001b[0m\u001b[0;34m=\u001b[0m\u001b[0;32mTrue\u001b[0m\u001b[0;34m)\u001b[0m\u001b[0;34m\u001b[0m\u001b[0;34m\u001b[0m\u001b[0m\n",
      "\u001b[0;32m~/.local/lib/python3.9/site-packages/astropy/io/fits/hdu/hdulist.py\u001b[0m in \u001b[0;36mfitsopen\u001b[0;34m(name, mode, memmap, save_backup, cache, lazy_load_hdus, **kwargs)\u001b[0m\n\u001b[1;32m    162\u001b[0m         \u001b[0;32mraise\u001b[0m \u001b[0mValueError\u001b[0m\u001b[0;34m(\u001b[0m\u001b[0;34mf'Empty filename: {name!r}'\u001b[0m\u001b[0;34m)\u001b[0m\u001b[0;34m\u001b[0m\u001b[0;34m\u001b[0m\u001b[0m\n\u001b[1;32m    163\u001b[0m \u001b[0;34m\u001b[0m\u001b[0m\n\u001b[0;32m--> 164\u001b[0;31m     return HDUList.fromfile(name, mode, memmap, save_backup, cache,\n\u001b[0m\u001b[1;32m    165\u001b[0m                             lazy_load_hdus, **kwargs)\n\u001b[1;32m    166\u001b[0m \u001b[0;34m\u001b[0m\u001b[0m\n",
      "\u001b[0;32m~/.local/lib/python3.9/site-packages/astropy/io/fits/hdu/hdulist.py\u001b[0m in \u001b[0;36mfromfile\u001b[0;34m(cls, fileobj, mode, memmap, save_backup, cache, lazy_load_hdus, **kwargs)\u001b[0m\n\u001b[1;32m    399\u001b[0m         \"\"\"\n\u001b[1;32m    400\u001b[0m \u001b[0;34m\u001b[0m\u001b[0m\n\u001b[0;32m--> 401\u001b[0;31m         return cls._readfrom(fileobj=fileobj, mode=mode, memmap=memmap,\n\u001b[0m\u001b[1;32m    402\u001b[0m                              \u001b[0msave_backup\u001b[0m\u001b[0;34m=\u001b[0m\u001b[0msave_backup\u001b[0m\u001b[0;34m,\u001b[0m \u001b[0mcache\u001b[0m\u001b[0;34m=\u001b[0m\u001b[0mcache\u001b[0m\u001b[0;34m,\u001b[0m\u001b[0;34m\u001b[0m\u001b[0;34m\u001b[0m\u001b[0m\n\u001b[1;32m    403\u001b[0m                              lazy_load_hdus=lazy_load_hdus, **kwargs)\n",
      "\u001b[0;32m~/.local/lib/python3.9/site-packages/astropy/io/fits/hdu/hdulist.py\u001b[0m in \u001b[0;36m_readfrom\u001b[0;34m(cls, fileobj, data, mode, memmap, cache, lazy_load_hdus, **kwargs)\u001b[0m\n\u001b[1;32m   1050\u001b[0m             \u001b[0;32mif\u001b[0m \u001b[0;32mnot\u001b[0m \u001b[0misinstance\u001b[0m\u001b[0;34m(\u001b[0m\u001b[0mfileobj\u001b[0m\u001b[0;34m,\u001b[0m \u001b[0m_File\u001b[0m\u001b[0;34m)\u001b[0m\u001b[0;34m:\u001b[0m\u001b[0;34m\u001b[0m\u001b[0;34m\u001b[0m\u001b[0m\n\u001b[1;32m   1051\u001b[0m                 \u001b[0;31m# instantiate a FITS file object (ffo)\u001b[0m\u001b[0;34m\u001b[0m\u001b[0;34m\u001b[0m\u001b[0m\n\u001b[0;32m-> 1052\u001b[0;31m                 \u001b[0mfileobj\u001b[0m \u001b[0;34m=\u001b[0m \u001b[0m_File\u001b[0m\u001b[0;34m(\u001b[0m\u001b[0mfileobj\u001b[0m\u001b[0;34m,\u001b[0m \u001b[0mmode\u001b[0m\u001b[0;34m=\u001b[0m\u001b[0mmode\u001b[0m\u001b[0;34m,\u001b[0m \u001b[0mmemmap\u001b[0m\u001b[0;34m=\u001b[0m\u001b[0mmemmap\u001b[0m\u001b[0;34m,\u001b[0m \u001b[0mcache\u001b[0m\u001b[0;34m=\u001b[0m\u001b[0mcache\u001b[0m\u001b[0;34m)\u001b[0m\u001b[0;34m\u001b[0m\u001b[0;34m\u001b[0m\u001b[0m\n\u001b[0m\u001b[1;32m   1053\u001b[0m             \u001b[0;31m# The Astropy mode is determined by the _File initializer if the\u001b[0m\u001b[0;34m\u001b[0m\u001b[0;34m\u001b[0m\u001b[0m\n\u001b[1;32m   1054\u001b[0m             \u001b[0;31m# supplied mode was None\u001b[0m\u001b[0;34m\u001b[0m\u001b[0;34m\u001b[0m\u001b[0m\n",
      "\u001b[0;32m~/.local/lib/python3.9/site-packages/astropy/utils/decorators.py\u001b[0m in \u001b[0;36mwrapper\u001b[0;34m(*args, **kwargs)\u001b[0m\n\u001b[1;32m    533\u001b[0m                     \u001b[0mwarnings\u001b[0m\u001b[0;34m.\u001b[0m\u001b[0mwarn\u001b[0m\u001b[0;34m(\u001b[0m\u001b[0mmessage\u001b[0m\u001b[0;34m,\u001b[0m \u001b[0mwarning_type\u001b[0m\u001b[0;34m,\u001b[0m \u001b[0mstacklevel\u001b[0m\u001b[0;34m=\u001b[0m\u001b[0;36m2\u001b[0m\u001b[0;34m)\u001b[0m\u001b[0;34m\u001b[0m\u001b[0;34m\u001b[0m\u001b[0m\n\u001b[1;32m    534\u001b[0m \u001b[0;34m\u001b[0m\u001b[0m\n\u001b[0;32m--> 535\u001b[0;31m             \u001b[0;32mreturn\u001b[0m \u001b[0mfunction\u001b[0m\u001b[0;34m(\u001b[0m\u001b[0;34m*\u001b[0m\u001b[0margs\u001b[0m\u001b[0;34m,\u001b[0m \u001b[0;34m**\u001b[0m\u001b[0mkwargs\u001b[0m\u001b[0;34m)\u001b[0m\u001b[0;34m\u001b[0m\u001b[0;34m\u001b[0m\u001b[0m\n\u001b[0m\u001b[1;32m    536\u001b[0m \u001b[0;34m\u001b[0m\u001b[0m\n\u001b[1;32m    537\u001b[0m         \u001b[0;32mreturn\u001b[0m \u001b[0mwrapper\u001b[0m\u001b[0;34m\u001b[0m\u001b[0;34m\u001b[0m\u001b[0m\n",
      "\u001b[0;32m~/.local/lib/python3.9/site-packages/astropy/io/fits/file.py\u001b[0m in \u001b[0;36m__init__\u001b[0;34m(self, fileobj, mode, memmap, overwrite, cache)\u001b[0m\n\u001b[1;32m    173\u001b[0m             \u001b[0mself\u001b[0m\u001b[0;34m.\u001b[0m\u001b[0m_open_fileobj\u001b[0m\u001b[0;34m(\u001b[0m\u001b[0mfileobj\u001b[0m\u001b[0;34m,\u001b[0m \u001b[0mmode\u001b[0m\u001b[0;34m,\u001b[0m \u001b[0moverwrite\u001b[0m\u001b[0;34m)\u001b[0m\u001b[0;34m\u001b[0m\u001b[0;34m\u001b[0m\u001b[0m\n\u001b[1;32m    174\u001b[0m         \u001b[0;32melif\u001b[0m \u001b[0misinstance\u001b[0m\u001b[0;34m(\u001b[0m\u001b[0mfileobj\u001b[0m\u001b[0;34m,\u001b[0m \u001b[0;34m(\u001b[0m\u001b[0mstr\u001b[0m\u001b[0;34m,\u001b[0m \u001b[0mbytes\u001b[0m\u001b[0;34m)\u001b[0m\u001b[0;34m)\u001b[0m\u001b[0;34m:\u001b[0m\u001b[0;34m\u001b[0m\u001b[0;34m\u001b[0m\u001b[0m\n\u001b[0;32m--> 175\u001b[0;31m             \u001b[0mself\u001b[0m\u001b[0;34m.\u001b[0m\u001b[0m_open_filename\u001b[0m\u001b[0;34m(\u001b[0m\u001b[0mfileobj\u001b[0m\u001b[0;34m,\u001b[0m \u001b[0mmode\u001b[0m\u001b[0;34m,\u001b[0m \u001b[0moverwrite\u001b[0m\u001b[0;34m)\u001b[0m\u001b[0;34m\u001b[0m\u001b[0;34m\u001b[0m\u001b[0m\n\u001b[0m\u001b[1;32m    176\u001b[0m         \u001b[0;32melse\u001b[0m\u001b[0;34m:\u001b[0m\u001b[0;34m\u001b[0m\u001b[0;34m\u001b[0m\u001b[0m\n\u001b[1;32m    177\u001b[0m             \u001b[0mself\u001b[0m\u001b[0;34m.\u001b[0m\u001b[0m_open_filelike\u001b[0m\u001b[0;34m(\u001b[0m\u001b[0mfileobj\u001b[0m\u001b[0;34m,\u001b[0m \u001b[0mmode\u001b[0m\u001b[0;34m,\u001b[0m \u001b[0moverwrite\u001b[0m\u001b[0;34m)\u001b[0m\u001b[0;34m\u001b[0m\u001b[0;34m\u001b[0m\u001b[0m\n",
      "\u001b[0;32m~/.local/lib/python3.9/site-packages/astropy/io/fits/file.py\u001b[0m in \u001b[0;36m_open_filename\u001b[0;34m(self, filename, mode, overwrite)\u001b[0m\n\u001b[1;32m    562\u001b[0m \u001b[0;34m\u001b[0m\u001b[0m\n\u001b[1;32m    563\u001b[0m         \u001b[0;32mif\u001b[0m \u001b[0;32mnot\u001b[0m \u001b[0mself\u001b[0m\u001b[0;34m.\u001b[0m\u001b[0m_try_read_compressed\u001b[0m\u001b[0;34m(\u001b[0m\u001b[0mself\u001b[0m\u001b[0;34m.\u001b[0m\u001b[0mname\u001b[0m\u001b[0;34m,\u001b[0m \u001b[0mmagic\u001b[0m\u001b[0;34m,\u001b[0m \u001b[0mmode\u001b[0m\u001b[0;34m,\u001b[0m \u001b[0mext\u001b[0m\u001b[0;34m=\u001b[0m\u001b[0mext\u001b[0m\u001b[0;34m)\u001b[0m\u001b[0;34m:\u001b[0m\u001b[0;34m\u001b[0m\u001b[0;34m\u001b[0m\u001b[0m\n\u001b[0;32m--> 564\u001b[0;31m             \u001b[0mself\u001b[0m\u001b[0;34m.\u001b[0m\u001b[0m_file\u001b[0m \u001b[0;34m=\u001b[0m \u001b[0mfileobj_open\u001b[0m\u001b[0;34m(\u001b[0m\u001b[0mself\u001b[0m\u001b[0;34m.\u001b[0m\u001b[0mname\u001b[0m\u001b[0;34m,\u001b[0m \u001b[0mIO_FITS_MODES\u001b[0m\u001b[0;34m[\u001b[0m\u001b[0mmode\u001b[0m\u001b[0;34m]\u001b[0m\u001b[0;34m)\u001b[0m\u001b[0;34m\u001b[0m\u001b[0;34m\u001b[0m\u001b[0m\n\u001b[0m\u001b[1;32m    565\u001b[0m             \u001b[0mself\u001b[0m\u001b[0;34m.\u001b[0m\u001b[0mclose_on_error\u001b[0m \u001b[0;34m=\u001b[0m \u001b[0;32mTrue\u001b[0m\u001b[0;34m\u001b[0m\u001b[0;34m\u001b[0m\u001b[0m\n\u001b[1;32m    566\u001b[0m \u001b[0;34m\u001b[0m\u001b[0m\n",
      "\u001b[0;32m~/.local/lib/python3.9/site-packages/astropy/io/fits/util.py\u001b[0m in \u001b[0;36mfileobj_open\u001b[0;34m(filename, mode)\u001b[0m\n\u001b[1;32m    390\u001b[0m     \"\"\"\n\u001b[1;32m    391\u001b[0m \u001b[0;34m\u001b[0m\u001b[0m\n\u001b[0;32m--> 392\u001b[0;31m     \u001b[0;32mreturn\u001b[0m \u001b[0mopen\u001b[0m\u001b[0;34m(\u001b[0m\u001b[0mfilename\u001b[0m\u001b[0;34m,\u001b[0m \u001b[0mmode\u001b[0m\u001b[0;34m,\u001b[0m \u001b[0mbuffering\u001b[0m\u001b[0;34m=\u001b[0m\u001b[0;36m0\u001b[0m\u001b[0;34m)\u001b[0m\u001b[0;34m\u001b[0m\u001b[0;34m\u001b[0m\u001b[0m\n\u001b[0m\u001b[1;32m    393\u001b[0m \u001b[0;34m\u001b[0m\u001b[0m\n\u001b[1;32m    394\u001b[0m \u001b[0;34m\u001b[0m\u001b[0m\n",
      "\u001b[0;31mFileNotFoundError\u001b[0m: [Errno 2] No such file or directory: '/home/miguel/Documents/A1314_LOS_check/A1314_Q_corrected.fits'"
     ]
    }
   ],
   "source": [
    "# Read cubes\n",
    "Q_name = \"/home/miguel/Documents/A1314_LOS_check/A1314_Q_corrected.fits\"\n",
    "U_name = \"/home/miguel/Documents/A1314_LOS_check/A1314_U_corrected.fits\"\n",
    "\n",
    "hdul_q = fits.open(Q_name, memmap=True)\n",
    "hdul_u = fits.open(U_name, memmap=True)"
   ]
  },
  {
   "cell_type": "code",
   "execution_count": null,
   "id": "3a2b6e8b",
   "metadata": {
    "ExecuteTime": {
     "end_time": "2021-12-08T19:08:57.725511Z",
     "start_time": "2021-12-08T19:08:57.725505Z"
    }
   },
   "outputs": [],
   "source": [
    "# Read spectral index\n",
    "spc_idx_name = \"/home/miguel/Documents/A1314_LOS_check/alpha.fits\"\n",
    "hdul_alpha = fits.open(spc_idx_name, memmap=True)"
   ]
  },
  {
   "cell_type": "code",
   "execution_count": null,
   "id": "35f449d2",
   "metadata": {
    "ExecuteTime": {
     "end_time": "2021-12-08T19:08:57.727918Z",
     "start_time": "2021-12-08T19:08:57.727912Z"
    }
   },
   "outputs": [],
   "source": [
    "# Read frequencies\n",
    "freq_name = \"/home/miguel/Documents/A1314_LOS_check/freqs.npy\"\n",
    "freqs = np.load(freq_name)"
   ]
  },
  {
   "cell_type": "code",
   "execution_count": null,
   "id": "be98dde9",
   "metadata": {
    "ExecuteTime": {
     "end_time": "2021-12-08T19:08:57.731234Z",
     "start_time": "2021-12-08T19:08:57.731227Z"
    }
   },
   "outputs": [],
   "source": [
    "# Get LOS\n",
    "coord = SkyCoord(\"11:33:59.1755+49:03:44.108\", unit=(un.hourangle, un.deg), frame=\"fk5\")"
   ]
  },
  {
   "cell_type": "code",
   "execution_count": null,
   "id": "c86df204",
   "metadata": {
    "ExecuteTime": {
     "end_time": "2021-12-08T19:08:57.733723Z",
     "start_time": "2021-12-08T19:08:57.733717Z"
    }
   },
   "outputs": [],
   "source": [
    "# Get WCS\n",
    "wcs = WCS(hdul_q[0].header)"
   ]
  },
  {
   "cell_type": "code",
   "execution_count": null,
   "id": "6d52d0f0",
   "metadata": {
    "ExecuteTime": {
     "end_time": "2021-12-08T19:08:57.736045Z",
     "start_time": "2021-12-08T19:08:57.736039Z"
    }
   },
   "outputs": [],
   "source": [
    "# Get pixel\n",
    "x,y = coord.to_pixel(wcs, origin=0)\n",
    "x = int(x)\n",
    "y = int(y)"
   ]
  },
  {
   "cell_type": "code",
   "execution_count": null,
   "id": "3f07140e",
   "metadata": {
    "ExecuteTime": {
     "end_time": "2021-12-08T19:08:57.738662Z",
     "start_time": "2021-12-08T19:08:57.738654Z"
    }
   },
   "outputs": [],
   "source": [
    "q_data = np.flipud(hdul_q[0].data)\n",
    "u_data = np.flipud(hdul_u[0].data)"
   ]
  },
  {
   "cell_type": "code",
   "execution_count": null,
   "id": "28451774",
   "metadata": {
    "ExecuteTime": {
     "end_time": "2021-12-08T19:08:57.741737Z",
     "start_time": "2021-12-08T19:08:57.741731Z"
    },
    "scrolled": false
   },
   "outputs": [],
   "source": [
    "# Get sigma\n",
    "mean_q, median_q, std_q = sigma_clipped_stats(q_data[:, 0:300, 0:300], sigma=3, axis=(1,2))\n",
    "mean_u, median_u, std_u = sigma_clipped_stats(u_data[:, 0:300, 0:300], sigma=3, axis=(1,2))\n",
    "#std_q = np.nanstd(q_data[:, 0:100, 0:100], axis=(1, 2))\n",
    "#std_u = np.nanstd(u_data[:, 0:100, 0:100], axis=(1, 2))"
   ]
  },
  {
   "cell_type": "code",
   "execution_count": null,
   "id": "7236dd5c",
   "metadata": {
    "ExecuteTime": {
     "end_time": "2021-12-08T19:08:57.744487Z",
     "start_time": "2021-12-08T19:08:57.744480Z"
    }
   },
   "outputs": [],
   "source": [
    "sigma_qu = 0.5*(std_q + std_u)"
   ]
  },
  {
   "cell_type": "code",
   "execution_count": null,
   "id": "984c3967",
   "metadata": {
    "ExecuteTime": {
     "end_time": "2021-12-08T19:08:57.747285Z",
     "start_time": "2021-12-08T19:08:57.747279Z"
    }
   },
   "outputs": [],
   "source": [
    "data = q_data[:,y,x] + 1j * u_data[:,y,x]\n",
    "alpha = hdul_alpha[0].data[y,x]"
   ]
  },
  {
   "cell_type": "code",
   "execution_count": null,
   "id": "85ff24ae",
   "metadata": {
    "ExecuteTime": {
     "end_time": "2021-12-08T19:08:57.749602Z",
     "start_time": "2021-12-08T19:08:57.749596Z"
    }
   },
   "outputs": [],
   "source": [
    "measurements = Dataset(nu=freqs, data=data, sigma=sigma_qu, spectral_idx=alpha)"
   ]
  },
  {
   "cell_type": "code",
   "execution_count": null,
   "id": "e311bab5",
   "metadata": {
    "ExecuteTime": {
     "end_time": "2021-12-08T19:08:57.752574Z",
     "start_time": "2021-12-08T19:08:57.752563Z"
    }
   },
   "outputs": [],
   "source": [
    "# Get galactic RM contribution\n",
    "f_sky = FaradaySky(filename=\"./../faradaysky/faraday2020v2.hdf5\")\n",
    "gal_mean, gal_std = f_sky.galactic_rm(coord.ra, coord.dec, frame=\"fk5\")"
   ]
  },
  {
   "cell_type": "code",
   "execution_count": null,
   "id": "96ab0098",
   "metadata": {
    "ExecuteTime": {
     "end_time": "2021-12-08T19:08:57.755422Z",
     "start_time": "2021-12-08T19:08:57.755416Z"
    }
   },
   "outputs": [],
   "source": [
    "measurements.subtract_galacticrm(gal_mean.value)"
   ]
  },
  {
   "cell_type": "code",
   "execution_count": null,
   "id": "ce1a18f9",
   "metadata": {
    "ExecuteTime": {
     "end_time": "2021-12-08T19:08:57.758213Z",
     "start_time": "2021-12-08T19:08:57.758207Z"
    }
   },
   "outputs": [],
   "source": [
    "plt.plot(measurements.lambda2, measurements.data.real, 'k.', label=r\"Stokes $Q$\")\n",
    "plt.plot(measurements.lambda2, measurements.data.imag, 'c.', label=r\"Stokes $U$\")\n",
    "plt.plot(measurements.lambda2, np.abs(measurements.data), 'g.', label=r\"$|P|$\")\n",
    "plt.xlabel(r'$\\lambda^2$[m$^{2}$]')\n",
    "plt.ylabel(r'Jy/beam')\n",
    "#plt.legend(loc='upper right')\n",
    "plt.tight_layout()\n",
    "#plt.savefig('polarized.png', dpi=100, bbox_inches='tight')"
   ]
  },
  {
   "cell_type": "code",
   "execution_count": null,
   "id": "da64dc72",
   "metadata": {
    "ExecuteTime": {
     "end_time": "2021-12-08T19:08:57.760646Z",
     "start_time": "2021-12-08T19:08:57.760641Z"
    }
   },
   "outputs": [],
   "source": [
    "plt.plot(measurements.lambda2, measurements.sigma, 'k.', label=r\"$\\sigma$\")\n",
    "plt.xlabel(r'$\\lambda^2$[m$^{2}$]')\n",
    "plt.ylabel(r'1/(Jy/beam)$^2$')"
   ]
  },
  {
   "cell_type": "code",
   "execution_count": null,
   "id": "5433c591",
   "metadata": {
    "ExecuteTime": {
     "end_time": "2021-12-08T19:08:57.763182Z",
     "start_time": "2021-12-08T19:08:57.763175Z"
    }
   },
   "outputs": [],
   "source": [
    "## Flagging dataset ##\n",
    "normal_flagger = MeanFlagger(data=measurements, nsigma=5.0, delete_channels=True)\n",
    "idxs, outliers_idxs = normal_flagger.run()\n",
    "\n",
    "hampel_flagger = HampelFlagger(data=measurements, nsigma=5.0, delete_channels=True)\n",
    "idxs, outliers_idxs = hampel_flagger.run()"
   ]
  },
  {
   "cell_type": "code",
   "execution_count": 3,
   "id": "6146780f",
   "metadata": {
    "ExecuteTime": {
     "end_time": "2021-12-08T19:08:57.773740Z",
     "start_time": "2021-12-08T19:08:57.767863Z"
    }
   },
   "outputs": [
    {
     "ename": "NameError",
     "evalue": "name 'measurements' is not defined",
     "output_type": "error",
     "traceback": [
      "\u001b[0;31m---------------------------------------------------------------------------\u001b[0m",
      "\u001b[0;31mNameError\u001b[0m                                 Traceback (most recent call last)",
      "\u001b[0;32m/tmp/ipykernel_92269/2161997645.py\u001b[0m in \u001b[0;36m<module>\u001b[0;34m\u001b[0m\n\u001b[0;32m----> 1\u001b[0;31m \u001b[0mplt\u001b[0m\u001b[0;34m.\u001b[0m\u001b[0mplot\u001b[0m\u001b[0;34m(\u001b[0m\u001b[0mmeasurements\u001b[0m\u001b[0;34m.\u001b[0m\u001b[0mlambda2\u001b[0m\u001b[0;34m,\u001b[0m \u001b[0mmeasurements\u001b[0m\u001b[0;34m.\u001b[0m\u001b[0mdata\u001b[0m\u001b[0;34m.\u001b[0m\u001b[0mreal\u001b[0m\u001b[0;34m,\u001b[0m \u001b[0;34m'k.'\u001b[0m\u001b[0;34m,\u001b[0m \u001b[0mlabel\u001b[0m\u001b[0;34m=\u001b[0m\u001b[0;34mr\"Stokes $Q$\"\u001b[0m\u001b[0;34m)\u001b[0m\u001b[0;34m\u001b[0m\u001b[0;34m\u001b[0m\u001b[0m\n\u001b[0m\u001b[1;32m      2\u001b[0m \u001b[0mplt\u001b[0m\u001b[0;34m.\u001b[0m\u001b[0mplot\u001b[0m\u001b[0;34m(\u001b[0m\u001b[0mmeasurements\u001b[0m\u001b[0;34m.\u001b[0m\u001b[0mlambda2\u001b[0m\u001b[0;34m,\u001b[0m \u001b[0mmeasurements\u001b[0m\u001b[0;34m.\u001b[0m\u001b[0mdata\u001b[0m\u001b[0;34m.\u001b[0m\u001b[0mimag\u001b[0m\u001b[0;34m,\u001b[0m \u001b[0;34m'c.'\u001b[0m\u001b[0;34m,\u001b[0m \u001b[0mlabel\u001b[0m\u001b[0;34m=\u001b[0m\u001b[0;34mr\"Stokes $U$\"\u001b[0m\u001b[0;34m)\u001b[0m\u001b[0;34m\u001b[0m\u001b[0;34m\u001b[0m\u001b[0m\n\u001b[1;32m      3\u001b[0m \u001b[0mplt\u001b[0m\u001b[0;34m.\u001b[0m\u001b[0mplot\u001b[0m\u001b[0;34m(\u001b[0m\u001b[0mmeasurements\u001b[0m\u001b[0;34m.\u001b[0m\u001b[0mlambda2\u001b[0m\u001b[0;34m,\u001b[0m \u001b[0mnp\u001b[0m\u001b[0;34m.\u001b[0m\u001b[0mabs\u001b[0m\u001b[0;34m(\u001b[0m\u001b[0mmeasurements\u001b[0m\u001b[0;34m.\u001b[0m\u001b[0mdata\u001b[0m\u001b[0;34m)\u001b[0m\u001b[0;34m,\u001b[0m \u001b[0;34m'g.'\u001b[0m\u001b[0;34m,\u001b[0m \u001b[0mlabel\u001b[0m\u001b[0;34m=\u001b[0m\u001b[0;34mr\"$|P|$\"\u001b[0m\u001b[0;34m)\u001b[0m\u001b[0;34m\u001b[0m\u001b[0;34m\u001b[0m\u001b[0m\n\u001b[1;32m      4\u001b[0m \u001b[0mplt\u001b[0m\u001b[0;34m.\u001b[0m\u001b[0mxlabel\u001b[0m\u001b[0;34m(\u001b[0m\u001b[0;34mr'$\\lambda^2$[m$^{2}$]'\u001b[0m\u001b[0;34m)\u001b[0m\u001b[0;34m\u001b[0m\u001b[0;34m\u001b[0m\u001b[0m\n\u001b[1;32m      5\u001b[0m \u001b[0mplt\u001b[0m\u001b[0;34m.\u001b[0m\u001b[0mylabel\u001b[0m\u001b[0;34m(\u001b[0m\u001b[0;34mr'Jy/beam'\u001b[0m\u001b[0;34m)\u001b[0m\u001b[0;34m\u001b[0m\u001b[0;34m\u001b[0m\u001b[0m\n",
      "\u001b[0;31mNameError\u001b[0m: name 'measurements' is not defined"
     ]
    }
   ],
   "source": [
    "plt.plot(measurements.lambda2, measurements.data.real, 'k.', label=r\"Stokes $Q$\")\n",
    "plt.plot(measurements.lambda2, measurements.data.imag, 'c.', label=r\"Stokes $U$\")\n",
    "plt.plot(measurements.lambda2, np.abs(measurements.data), 'g.', label=r\"$|P|$\")\n",
    "plt.xlabel(r'$\\lambda^2$[m$^{2}$]')\n",
    "plt.ylabel(r'Jy/beam')\n",
    "#plt.legend(loc='upper right')\n",
    "plt.tight_layout()\n",
    "#plt.savefig('polarized.png', dpi=100, bbox_inches='tight')"
   ]
  },
  {
   "cell_type": "code",
   "execution_count": 4,
   "id": "7c24ae10",
   "metadata": {
    "ExecuteTime": {
     "end_time": "2021-12-08T19:08:57.976229Z",
     "start_time": "2021-12-08T19:08:57.970941Z"
    }
   },
   "outputs": [
    {
     "ename": "NameError",
     "evalue": "name 'measurements' is not defined",
     "output_type": "error",
     "traceback": [
      "\u001b[0;31m---------------------------------------------------------------------------\u001b[0m",
      "\u001b[0;31mNameError\u001b[0m                                 Traceback (most recent call last)",
      "\u001b[0;32m/tmp/ipykernel_92269/2526137851.py\u001b[0m in \u001b[0;36m<module>\u001b[0;34m\u001b[0m\n\u001b[0;32m----> 1\u001b[0;31m \u001b[0mplt\u001b[0m\u001b[0;34m.\u001b[0m\u001b[0mplot\u001b[0m\u001b[0;34m(\u001b[0m\u001b[0mmeasurements\u001b[0m\u001b[0;34m.\u001b[0m\u001b[0mlambda2\u001b[0m\u001b[0;34m,\u001b[0m \u001b[0mmeasurements\u001b[0m\u001b[0;34m.\u001b[0m\u001b[0msigma\u001b[0m\u001b[0;34m,\u001b[0m \u001b[0;34m'k.'\u001b[0m\u001b[0;34m,\u001b[0m \u001b[0mlabel\u001b[0m\u001b[0;34m=\u001b[0m\u001b[0;34mr\"$\\sigma$\"\u001b[0m\u001b[0;34m)\u001b[0m\u001b[0;34m\u001b[0m\u001b[0;34m\u001b[0m\u001b[0m\n\u001b[0m\u001b[1;32m      2\u001b[0m \u001b[0mplt\u001b[0m\u001b[0;34m.\u001b[0m\u001b[0mxlabel\u001b[0m\u001b[0;34m(\u001b[0m\u001b[0;34mr'$\\lambda^2$[m$^{2}$]'\u001b[0m\u001b[0;34m)\u001b[0m\u001b[0;34m\u001b[0m\u001b[0;34m\u001b[0m\u001b[0m\n\u001b[1;32m      3\u001b[0m \u001b[0mplt\u001b[0m\u001b[0;34m.\u001b[0m\u001b[0mylabel\u001b[0m\u001b[0;34m(\u001b[0m\u001b[0;34mr'Jy/beam'\u001b[0m\u001b[0;34m)\u001b[0m\u001b[0;34m\u001b[0m\u001b[0;34m\u001b[0m\u001b[0m\n",
      "\u001b[0;31mNameError\u001b[0m: name 'measurements' is not defined"
     ]
    }
   ],
   "source": [
    "plt.plot(measurements.lambda2, measurements.sigma, 'k.', label=r\"$\\sigma$\")\n",
    "plt.xlabel(r'$\\lambda^2$[m$^{2}$]')\n",
    "plt.ylabel(r'Jy/beam')"
   ]
  },
  {
   "cell_type": "code",
   "execution_count": 5,
   "id": "ac61a951",
   "metadata": {
    "ExecuteTime": {
     "end_time": "2021-12-08T19:08:58.139047Z",
     "start_time": "2021-12-08T19:08:58.137572Z"
    }
   },
   "outputs": [],
   "source": [
    "parameter = Parameter()"
   ]
  },
  {
   "cell_type": "code",
   "execution_count": null,
   "id": "cf4da55d",
   "metadata": {
    "ExecuteTime": {
     "end_time": "2021-12-08T19:08:11.132476Z",
     "start_time": "2021-12-08T19:08:11.132467Z"
    }
   },
   "outputs": [],
   "source": [
    "parameter.calculate_cellsize(dataset=measurements, oversampling=8)"
   ]
  },
  {
   "cell_type": "code",
   "execution_count": null,
   "id": "c43f4e1c",
   "metadata": {
    "ExecuteTime": {
     "end_time": "2021-12-08T19:08:11.133158Z",
     "start_time": "2021-12-08T19:08:11.133150Z"
    }
   },
   "outputs": [],
   "source": [
    "nufft = NUFFT1D(dataset=measurements, parameter=parameter, solve=True)"
   ]
  },
  {
   "cell_type": "code",
   "execution_count": null,
   "id": "903a3b8d",
   "metadata": {
    "ExecuteTime": {
     "end_time": "2021-12-08T19:08:11.133650Z",
     "start_time": "2021-12-08T19:08:11.133643Z"
    }
   },
   "outputs": [],
   "source": [
    "dft = DFT1D(dataset=measurements, parameter=parameter)"
   ]
  },
  {
   "cell_type": "code",
   "execution_count": null,
   "id": "4096bae2",
   "metadata": {
    "ExecuteTime": {
     "end_time": "2021-12-08T19:08:11.134067Z",
     "start_time": "2021-12-08T19:08:11.134057Z"
    }
   },
   "outputs": [],
   "source": [
    "F_dirty = dft.backward(measurements.data)"
   ]
  },
  {
   "cell_type": "code",
   "execution_count": null,
   "id": "0599b4f8",
   "metadata": {
    "ExecuteTime": {
     "end_time": "2021-12-08T19:08:11.134499Z",
     "start_time": "2021-12-08T19:08:11.134492Z"
    }
   },
   "outputs": [],
   "source": [
    "plt.plot(parameter.phi, F_dirty.real, 'c--', label=r\"Stokes $Q$\")\n",
    "plt.plot(parameter.phi, F_dirty.imag, 'c:', label=r\"Stokes $U$\")\n",
    "plt.plot(parameter.phi, np.abs(F_dirty), 'k-', label=r\"|P|\")\n",
    "plt.xlabel(r'$\\phi$[rad m$^{-2}$]')\n",
    "plt.ylabel(r'Jy/beam m$^2$ rad$^{-1}$ rmtf$^{-1}$')\n",
    "plt.legend(loc='upper right')\n",
    "plt.xlim([-1000,1000])\n",
    "plt.tight_layout()\n",
    "plt.savefig('fdirty.png', dpi=100, bbox_inches='tight')"
   ]
  },
  {
   "cell_type": "code",
   "execution_count": null,
   "id": "56e9f5b8",
   "metadata": {
    "ExecuteTime": {
     "end_time": "2021-12-08T19:08:11.134961Z",
     "start_time": "2021-12-08T19:08:11.134954Z"
    }
   },
   "outputs": [],
   "source": [
    "noise_weights = 1/np.sqrt(np.sum(measurements.w))\n",
    "noise_weights"
   ]
  },
  {
   "cell_type": "code",
   "execution_count": null,
   "id": "202bf356",
   "metadata": {
    "ExecuteTime": {
     "end_time": "2021-12-08T19:08:11.135281Z",
     "start_time": "2021-12-08T19:08:11.135275Z"
    }
   },
   "outputs": [],
   "source": [
    "parameter.data = F_dirty"
   ]
  },
  {
   "cell_type": "code",
   "execution_count": null,
   "id": "ce7b46e2",
   "metadata": {
    "ExecuteTime": {
     "end_time": "2021-12-08T19:08:11.135644Z",
     "start_time": "2021-12-08T19:08:11.135638Z"
    }
   },
   "outputs": [],
   "source": [
    "parameter.complex_data_to_real()"
   ]
  },
  {
   "cell_type": "code",
   "execution_count": null,
   "id": "9abc346e",
   "metadata": {
    "ExecuteTime": {
     "end_time": "2021-12-08T19:08:11.136086Z",
     "start_time": "2021-12-08T19:08:11.136079Z"
    }
   },
   "outputs": [],
   "source": [
    "lambda_l1 = np.sqrt(2 * len(measurements.data) + np.sqrt(4 * len(measurements.data))) * noise_weights\n",
    "#lambda_l1 = np.sqrt(len(measurements.data)) * noise_F\n",
    "#lambda_l1 /= 10\n",
    "#lambda_l1=0.5\n",
    "lambda_tsv = 0.0\n",
    "chi2 = Chi2(dft_obj=nufft)\n",
    "l1 = L1(reg=lambda_l1)\n",
    "tsv = TSV(reg=lambda_tsv)\n",
    "# F_func = [chi2(P, dft, W), L1(lambda_l1)]\n",
    "F_func = [chi2, l1, tsv]\n",
    "f_func = [chi2]\n",
    "g_func = [l1, tsv]\n",
    "\n",
    "F_obj = OFunction(F_func)\n",
    "f_obj = OFunction(f_func)\n",
    "g_obj = OFunction(g_func)"
   ]
  },
  {
   "cell_type": "code",
   "execution_count": null,
   "id": "36583fc4",
   "metadata": {
    "ExecuteTime": {
     "end_time": "2021-12-08T19:08:11.136479Z",
     "start_time": "2021-12-08T19:08:11.136473Z"
    }
   },
   "outputs": [],
   "source": [
    "opt = FISTA(guess_param=parameter, F_obj=F_obj, fx=chi2, gx=g_obj, noise=noise_weights, verbose=True)\n",
    "#opt = FISTA(i_guess=F_real, F_obj=F_obj, fx=chi2, gx=g_obj, maxiter=1000, noise=1e-5, verbose=True)\n",
    "obj, X = opt.run()"
   ]
  },
  {
   "cell_type": "code",
   "execution_count": null,
   "id": "3cc804c3",
   "metadata": {
    "ExecuteTime": {
     "end_time": "2021-12-08T19:08:11.136976Z",
     "start_time": "2021-12-08T19:08:11.136969Z"
    }
   },
   "outputs": [],
   "source": [
    "X.real_data_to_complex()"
   ]
  },
  {
   "cell_type": "code",
   "execution_count": null,
   "id": "898d5e5d",
   "metadata": {
    "ExecuteTime": {
     "end_time": "2021-12-08T19:08:11.137458Z",
     "start_time": "2021-12-08T19:08:11.137451Z"
    }
   },
   "outputs": [],
   "source": [
    "plt.plot(parameter.phi, X.data.real, 'c--', label=r\"Stokes $Q$\")\n",
    "plt.plot(parameter.phi, X.data.imag, 'c:', label=r\"Stokes $U$\")\n",
    "plt.plot(parameter.phi, np.abs(X.data), 'k-', label=r\"$|P|$\")\n",
    "plt.xlabel(r'$\\phi$[rad m$^{-2}$]')\n",
    "plt.ylabel(r'Jy/beam m$^2$ rad$^{-1}$ pix$^{-1}$')\n",
    "plt.legend(loc='upper right')\n",
    "plt.tight_layout()\n",
    "plt.xlim([-1000,1000])"
   ]
  },
  {
   "cell_type": "code",
   "execution_count": null,
   "id": "d7f96623",
   "metadata": {
    "ExecuteTime": {
     "end_time": "2021-12-08T19:08:11.137803Z",
     "start_time": "2021-12-08T19:08:11.137796Z"
    }
   },
   "outputs": [],
   "source": [
    "plt.plot(measurements.lambda2, measurements.model_data.real, 'k.', label=r\"Stokes $Q$\")\n",
    "plt.plot(measurements.lambda2, measurements.model_data.imag, 'c.', label=r\"Stokes $U$\")\n",
    "plt.plot(measurements.lambda2, np.abs(measurements.model_data), 'g.', label=r\"$|P|$\")\n",
    "#plt.ylim([-0.007,0.008])"
   ]
  },
  {
   "cell_type": "code",
   "execution_count": null,
   "id": "42b304ea",
   "metadata": {
    "ExecuteTime": {
     "end_time": "2021-12-08T19:08:11.138197Z",
     "start_time": "2021-12-08T19:08:11.138191Z"
    }
   },
   "outputs": [],
   "source": [
    "F_residual = nufft.backward(measurements.residual)\n",
    "plt.plot(parameter.phi, F_residual.real, 'c--', label=r\"Stokes $Q$\")\n",
    "plt.plot(parameter.phi, F_residual.imag, 'c:', label=r\"Stokes $U$\")\n",
    "plt.plot(parameter.phi, np.abs(F_residual), 'k-', label=r\"$|P|$\")\n",
    "plt.xlim([-1000,1000])"
   ]
  },
  {
   "cell_type": "code",
   "execution_count": null,
   "id": "5dd335b3",
   "metadata": {
    "ExecuteTime": {
     "end_time": "2021-12-08T19:08:11.138649Z",
     "start_time": "2021-12-08T19:08:11.138643Z"
    }
   },
   "outputs": [],
   "source": [
    "conv_model = X.convolve(normalized=True) + F_residual"
   ]
  },
  {
   "cell_type": "code",
   "execution_count": null,
   "id": "56c67f39",
   "metadata": {
    "ExecuteTime": {
     "end_time": "2021-12-08T19:08:11.139096Z",
     "start_time": "2021-12-08T19:08:11.139090Z"
    }
   },
   "outputs": [],
   "source": [
    "plt.plot(parameter.phi, conv_model.real, 'c--', label=r\"Stokes $Q$\")\n",
    "plt.plot(parameter.phi, conv_model.imag, 'c:', label=r\"Stokes $U$\")\n",
    "plt.plot(parameter.phi, np.abs(conv_model), 'k-', label=r\"$|P|$\")\n",
    "plt.xlim([-1000,1000])\n",
    "#plt.axhline (y = noise_weights, color = 'b')\n",
    "#plt.axhline (y = -noise_weights, color = 'b')\n",
    "plt.xlabel(r'$\\phi$[rad m$^{-2}$]')\n",
    "plt.ylabel(r'Jy/beam m$^2$ rad$^{-1}$ rmtf$^{-1}$')\n",
    "plt.legend(loc='upper right')\n",
    "plt.tight_layout()"
   ]
  },
  {
   "cell_type": "code",
   "execution_count": null,
   "id": "e955152d",
   "metadata": {
    "ExecuteTime": {
     "end_time": "2021-12-08T19:08:11.139595Z",
     "start_time": "2021-12-08T19:08:11.139589Z"
    }
   },
   "outputs": [],
   "source": [
    "phi_idx = np.argmax(np.abs(conv_model))\n",
    "parameter.phi[phi_idx]"
   ]
  },
  {
   "cell_type": "code",
   "execution_count": null,
   "id": "90202cf2",
   "metadata": {
    "ExecuteTime": {
     "end_time": "2021-12-08T19:08:11.140073Z",
     "start_time": "2021-12-08T19:08:11.140066Z"
    }
   },
   "outputs": [],
   "source": [
    "np.max(np.abs(conv_model))"
   ]
  },
  {
   "cell_type": "code",
   "execution_count": null,
   "id": "616b840d",
   "metadata": {},
   "outputs": [],
   "source": []
  },
  {
   "cell_type": "code",
   "execution_count": null,
   "id": "2bcae700",
   "metadata": {},
   "outputs": [],
   "source": []
  }
 ],
 "metadata": {
  "kernelspec": {
   "display_name": "Python 3 (ipykernel)",
   "language": "python",
   "name": "python3"
  },
  "language_info": {
   "codemirror_mode": {
    "name": "ipython",
    "version": 3
   },
   "file_extension": ".py",
   "mimetype": "text/x-python",
   "name": "python",
   "nbconvert_exporter": "python",
   "pygments_lexer": "ipython3",
   "version": "3.9.7"
  },
  "latex_envs": {
   "LaTeX_envs_menu_present": true,
   "autoclose": false,
   "autocomplete": true,
   "bibliofile": "biblio.bib",
   "cite_by": "apalike",
   "current_citInitial": 1,
   "eqLabelWithNumbers": true,
   "eqNumInitial": 1,
   "hotkeys": {
    "equation": "Ctrl-E",
    "itemize": "Ctrl-I"
   },
   "labels_anchors": false,
   "latex_user_defs": false,
   "report_style_numbering": false,
   "user_envs_cfg": false
  },
  "toc": {
   "base_numbering": 1,
   "nav_menu": {},
   "number_sections": true,
   "sideBar": true,
   "skip_h1_title": false,
   "title_cell": "Table of Contents",
   "title_sidebar": "Contents",
   "toc_cell": false,
   "toc_position": {},
   "toc_section_display": true,
   "toc_window_display": false
  },
  "varInspector": {
   "cols": {
    "lenName": 16,
    "lenType": 16,
    "lenVar": 40
   },
   "kernels_config": {
    "python": {
     "delete_cmd_postfix": "",
     "delete_cmd_prefix": "del ",
     "library": "var_list.py",
     "varRefreshCmd": "print(var_dic_list())"
    },
    "r": {
     "delete_cmd_postfix": ") ",
     "delete_cmd_prefix": "rm(",
     "library": "var_list.r",
     "varRefreshCmd": "cat(var_dic_list()) "
    }
   },
   "types_to_exclude": [
    "module",
    "function",
    "builtin_function_or_method",
    "instance",
    "_Feature"
   ],
   "window_display": false
  }
 },
 "nbformat": 4,
 "nbformat_minor": 5
}
