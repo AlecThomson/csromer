{
 "cells": [
  {
   "cell_type": "code",
   "execution_count": 1,
   "id": "02a019e2",
   "metadata": {
    "ExecuteTime": {
     "end_time": "2021-07-29T21:57:15.910300Z",
     "start_time": "2021-07-29T21:57:15.255859Z"
    }
   },
   "outputs": [
    {
     "ename": "ModuleNotFoundError",
     "evalue": "No module named 'framework.optimization.parameter'",
     "output_type": "error",
     "traceback": [
      "\u001b[0;31m---------------------------------------------------------------------------\u001b[0m",
      "\u001b[0;31mModuleNotFoundError\u001b[0m                       Traceback (most recent call last)",
      "\u001b[0;32m<ipython-input-1-8ba23571146a>\u001b[0m in \u001b[0;36m<module>\u001b[0;34m\u001b[0m\n\u001b[1;32m      8\u001b[0m \u001b[0;32mfrom\u001b[0m \u001b[0mframework\u001b[0m\u001b[0;34m.\u001b[0m\u001b[0mobjectivefunction\u001b[0m\u001b[0;34m.\u001b[0m\u001b[0mofunction\u001b[0m \u001b[0;32mimport\u001b[0m \u001b[0mOFunction\u001b[0m\u001b[0;34m\u001b[0m\u001b[0;34m\u001b[0m\u001b[0m\n\u001b[1;32m      9\u001b[0m \u001b[0;32mfrom\u001b[0m \u001b[0mframework\u001b[0m\u001b[0;34m.\u001b[0m\u001b[0mutils\u001b[0m\u001b[0;34m.\u001b[0m\u001b[0mutilities\u001b[0m \u001b[0;32mimport\u001b[0m \u001b[0mreal_to_complex\u001b[0m\u001b[0;34m,\u001b[0m \u001b[0mcomplex_to_real\u001b[0m\u001b[0;34m,\u001b[0m \u001b[0mfind_pixel\u001b[0m\u001b[0;34m\u001b[0m\u001b[0;34m\u001b[0m\u001b[0m\n\u001b[0;32m---> 10\u001b[0;31m \u001b[0;32mfrom\u001b[0m \u001b[0mframework\u001b[0m\u001b[0;34m.\u001b[0m\u001b[0mobjectivefunction\u001b[0m\u001b[0;34m.\u001b[0m\u001b[0mpriors\u001b[0m \u001b[0;32mimport\u001b[0m \u001b[0mTSV\u001b[0m\u001b[0;34m,\u001b[0m \u001b[0mTV\u001b[0m\u001b[0;34m,\u001b[0m \u001b[0mL1\u001b[0m\u001b[0;34m,\u001b[0m \u001b[0mChi2\u001b[0m\u001b[0;34m\u001b[0m\u001b[0;34m\u001b[0m\u001b[0m\n\u001b[0m\u001b[1;32m     11\u001b[0m \u001b[0;32mfrom\u001b[0m \u001b[0mframework\u001b[0m\u001b[0;34m.\u001b[0m\u001b[0moptimization\u001b[0m\u001b[0;34m.\u001b[0m\u001b[0moptimizer\u001b[0m \u001b[0;32mimport\u001b[0m \u001b[0mFISTA\u001b[0m\u001b[0;34m,\u001b[0m \u001b[0mADMM\u001b[0m\u001b[0;34m,\u001b[0m \u001b[0mSDMM\u001b[0m\u001b[0;34m,\u001b[0m \u001b[0mGradientBasedMethod\u001b[0m\u001b[0;34m\u001b[0m\u001b[0;34m\u001b[0m\u001b[0m\n\u001b[1;32m     12\u001b[0m \u001b[0;32mfrom\u001b[0m \u001b[0mframework\u001b[0m\u001b[0;34m.\u001b[0m\u001b[0mutils\u001b[0m\u001b[0;34m.\u001b[0m\u001b[0manalytical_functions\u001b[0m \u001b[0;32mimport\u001b[0m \u001b[0mGaussian\u001b[0m\u001b[0;34m\u001b[0m\u001b[0;34m\u001b[0m\u001b[0m\n",
      "\u001b[0;32m~/Documents/CS-Framework/framework/objectivefunction/priors.py\u001b[0m in \u001b[0;36m<module>\u001b[0;34m\u001b[0m\n\u001b[1;32m     10\u001b[0m \u001b[0;32mfrom\u001b[0m \u001b[0;34m.\u001b[0m\u001b[0;34m.\u001b[0m\u001b[0mutils\u001b[0m\u001b[0;34m.\u001b[0m\u001b[0mutilities\u001b[0m \u001b[0;32mimport\u001b[0m \u001b[0mreal_to_complex\u001b[0m\u001b[0;34m,\u001b[0m \u001b[0mcomplex_to_real\u001b[0m\u001b[0;34m\u001b[0m\u001b[0;34m\u001b[0m\u001b[0m\n\u001b[1;32m     11\u001b[0m \u001b[0;32mfrom\u001b[0m \u001b[0mabc\u001b[0m \u001b[0;32mimport\u001b[0m \u001b[0mABCMeta\u001b[0m\u001b[0;34m,\u001b[0m \u001b[0mabstractmethod\u001b[0m\u001b[0;34m\u001b[0m\u001b[0;34m\u001b[0m\u001b[0m\n\u001b[0;32m---> 12\u001b[0;31m \u001b[0;32mfrom\u001b[0m \u001b[0;34m.\u001b[0m\u001b[0;34m.\u001b[0m\u001b[0moptimization\u001b[0m\u001b[0;34m.\u001b[0m\u001b[0moptimizer\u001b[0m \u001b[0;32mimport\u001b[0m \u001b[0mFixedPointMethod\u001b[0m\u001b[0;34m,\u001b[0m \u001b[0mGradientBasedMethod\u001b[0m\u001b[0;34m\u001b[0m\u001b[0;34m\u001b[0m\u001b[0m\n\u001b[0m\u001b[1;32m     13\u001b[0m \u001b[0;32mimport\u001b[0m \u001b[0mpywt\u001b[0m\u001b[0;34m\u001b[0m\u001b[0;34m\u001b[0m\u001b[0m\n\u001b[1;32m     14\u001b[0m \u001b[0;32mimport\u001b[0m \u001b[0msys\u001b[0m\u001b[0;34m\u001b[0m\u001b[0;34m\u001b[0m\u001b[0m\n",
      "\u001b[0;32m~/Documents/CS-Framework/framework/optimization/optimizer.py\u001b[0m in \u001b[0;36m<module>\u001b[0;34m\u001b[0m\n\u001b[1;32m     14\u001b[0m \u001b[0;32mfrom\u001b[0m \u001b[0mabc\u001b[0m \u001b[0;32mimport\u001b[0m \u001b[0mABCMeta\u001b[0m\u001b[0;34m,\u001b[0m \u001b[0mabstractmethod\u001b[0m\u001b[0;34m\u001b[0m\u001b[0;34m\u001b[0m\u001b[0m\n\u001b[1;32m     15\u001b[0m \u001b[0;32mimport\u001b[0m \u001b[0msys\u001b[0m\u001b[0;34m\u001b[0m\u001b[0;34m\u001b[0m\u001b[0m\n\u001b[0;32m---> 16\u001b[0;31m \u001b[0;32mfrom\u001b[0m \u001b[0;34m.\u001b[0m\u001b[0mparameter\u001b[0m \u001b[0;32mimport\u001b[0m \u001b[0mParameter\u001b[0m\u001b[0;34m\u001b[0m\u001b[0;34m\u001b[0m\u001b[0m\n\u001b[0m\u001b[1;32m     17\u001b[0m \u001b[0;32mimport\u001b[0m \u001b[0mcopy\u001b[0m\u001b[0;34m\u001b[0m\u001b[0;34m\u001b[0m\u001b[0m\n\u001b[1;32m     18\u001b[0m \u001b[0;34m\u001b[0m\u001b[0m\n",
      "\u001b[0;31mModuleNotFoundError\u001b[0m: No module named 'framework.optimization.parameter'"
     ]
    }
   ],
   "source": [
    "from IPython.display import clear_output\n",
    "import numpy as np\n",
    "from framework.io.io_functions import Reader, Writer\n",
    "from framework.base.dataset import Dataset\n",
    "from framework.reconstruction.parameter import Parameter\n",
    "from framework.transformers.dfts import DFT1D, NUFFT1D\n",
    "import matplotlib.pyplot as plt\n",
    "from framework.objectivefunction.ofunction import OFunction\n",
    "from framework.utils.utilities import real_to_complex, complex_to_real, find_pixel\n",
    "from framework.objectivefunction.priors import TSV, TV, L1, Chi2\n",
    "from framework.optimization.optimizer import FISTA, ADMM, SDMM, GradientBasedMethod\n",
    "from framework.utils.analytical_functions import Gaussian\n",
    "from framework.transformers.gridding import Gridding\n",
    "from scipy.constants import c\n",
    "from pynufft import NUFFT\n",
    "from scipy import signal as sci_signal\n",
    "import itertools"
   ]
  },
  {
   "cell_type": "code",
   "execution_count": null,
   "id": "5d3755c2",
   "metadata": {
    "ExecuteTime": {
     "end_time": "2021-07-29T21:57:15.911660Z",
     "start_time": "2021-07-29T21:57:15.300Z"
    }
   },
   "outputs": [],
   "source": [
    "# Read data\n",
    "P = np.load(\"polarized_emission.npy\")\n",
    "sigma = np.load(\"sigmas.npy\")\n",
    "nu = np.load(\"freqs.npy\")"
   ]
  },
  {
   "cell_type": "code",
   "execution_count": null,
   "id": "e7f8cedb",
   "metadata": {
    "ExecuteTime": {
     "end_time": "2021-07-29T21:57:15.912013Z",
     "start_time": "2021-07-29T21:57:15.300Z"
    }
   },
   "outputs": [],
   "source": [
    "measurements = Dataset(nu=nu, data=P, sigma=sigma)"
   ]
  },
  {
   "cell_type": "code",
   "execution_count": null,
   "id": "e3b2b9d8",
   "metadata": {
    "ExecuteTime": {
     "end_time": "2021-07-29T21:57:15.912329Z",
     "start_time": "2021-07-29T21:57:15.300Z"
    }
   },
   "outputs": [],
   "source": [
    "plt.plot(measurements.lambda2, measurements.data.real, 'k.', label=r\"Stokes $Q$\")\n",
    "plt.plot(measurements.lambda2, measurements.data.imag, 'c.', label=r\"Stokes $U$\")\n",
    "#plt.plot(measurements.lambda2, np.abs(measurements.data), 'g.', label=r\"$|P|$\")\n",
    "plt.xlabel(r'$\\lambda^2$[m$^{2}$]')\n",
    "plt.ylabel(r'Jy/beam')\n",
    "plt.legend(loc='upper right')\n",
    "plt.tight_layout()\n",
    "plt.savefig('polarized.png', dpi=100, bbox_inches='tight')"
   ]
  },
  {
   "cell_type": "code",
   "execution_count": null,
   "id": "551f8de4",
   "metadata": {
    "ExecuteTime": {
     "end_time": "2021-07-29T21:57:15.912632Z",
     "start_time": "2021-07-29T21:57:15.300Z"
    }
   },
   "outputs": [],
   "source": [
    "parameter = Parameter()"
   ]
  },
  {
   "cell_type": "code",
   "execution_count": null,
   "id": "43aca9d5",
   "metadata": {
    "ExecuteTime": {
     "end_time": "2021-07-29T21:57:15.912963Z",
     "start_time": "2021-07-29T21:57:15.300Z"
    }
   },
   "outputs": [],
   "source": [
    "parameter.calculate_cellsize(dataset=measurements)"
   ]
  },
  {
   "cell_type": "code",
   "execution_count": null,
   "id": "5e80ae80",
   "metadata": {
    "ExecuteTime": {
     "end_time": "2021-07-29T21:57:15.913306Z",
     "start_time": "2021-07-29T21:57:15.300Z"
    }
   },
   "outputs": [],
   "source": [
    "nufft = NUFFT1D(dataset=measurements, parameter=parameter, solve=True)"
   ]
  },
  {
   "cell_type": "code",
   "execution_count": null,
   "id": "06f999e3",
   "metadata": {
    "ExecuteTime": {
     "end_time": "2021-07-29T21:57:15.913608Z",
     "start_time": "2021-07-29T21:57:15.300Z"
    }
   },
   "outputs": [],
   "source": [
    "dft = DFT1D(dataset=measurements, parameter=parameter)"
   ]
  },
  {
   "cell_type": "code",
   "execution_count": null,
   "id": "6fbfe204",
   "metadata": {
    "ExecuteTime": {
     "end_time": "2021-07-29T21:57:15.913910Z",
     "start_time": "2021-07-29T21:57:15.300Z"
    }
   },
   "outputs": [],
   "source": [
    "F_dirty = dft.backward(measurements.data)"
   ]
  },
  {
   "cell_type": "code",
   "execution_count": null,
   "id": "3a352517",
   "metadata": {
    "ExecuteTime": {
     "end_time": "2021-07-29T21:57:15.914218Z",
     "start_time": "2021-07-29T21:57:15.300Z"
    }
   },
   "outputs": [],
   "source": [
    "plt.plot(parameter.phi, F_dirty.real, 'c--', label=r\"Stokes $Q$\")\n",
    "plt.plot(parameter.phi, F_dirty.imag, 'c:', label=r\"Stokes $U$\")\n",
    "plt.plot(parameter.phi, np.abs(F_dirty), 'k-', label=r\"|P|\")\n",
    "plt.xlabel(r'$\\phi$[rad m$^{-2}$]')\n",
    "plt.ylabel(r'Jy/beam m$^2$ rad$^{-1}$ rmtf$^{-1}$')\n",
    "plt.legend(loc='upper right')\n",
    "plt.xlim([-1000,1000])\n",
    "plt.tight_layout()\n",
    "plt.savefig('fdirty.png', dpi=100, bbox_inches='tight')"
   ]
  },
  {
   "cell_type": "code",
   "execution_count": null,
   "id": "e4716fa8",
   "metadata": {
    "ExecuteTime": {
     "end_time": "2021-07-29T21:57:15.914518Z",
     "start_time": "2021-07-29T21:57:15.300Z"
    }
   },
   "outputs": [],
   "source": [
    "idx_noise = np.where(np.abs(parameter.phi)>14000)\n",
    "noise_F = np.std(0.5*(F_dirty[idx_noise].real + F_dirty[idx_noise].imag))\n",
    "noise_F"
   ]
  },
  {
   "cell_type": "code",
   "execution_count": null,
   "id": "8c3f7945",
   "metadata": {
    "ExecuteTime": {
     "end_time": "2021-07-29T21:57:15.914822Z",
     "start_time": "2021-07-29T21:57:15.300Z"
    }
   },
   "outputs": [],
   "source": [
    "P_back = nufft.forward_normalized(F_dirty)"
   ]
  },
  {
   "cell_type": "code",
   "execution_count": null,
   "id": "46dc6fa0",
   "metadata": {
    "ExecuteTime": {
     "end_time": "2021-07-29T21:57:15.915171Z",
     "start_time": "2021-07-29T21:57:15.300Z"
    }
   },
   "outputs": [],
   "source": [
    "plt.plot(measurements.lambda2, P_back.real, 'k.', label=r\"Stokes $Q$\")\n",
    "plt.plot(measurements.lambda2, P_back.imag, 'c.', label=r\"Stokes $U$\")\n",
    "plt.plot(measurements.lambda2, np.abs(P_back), 'g.', label=r\"$|P|$\")"
   ]
  },
  {
   "cell_type": "code",
   "execution_count": null,
   "id": "bff21db9",
   "metadata": {
    "ExecuteTime": {
     "end_time": "2021-07-29T21:57:15.915471Z",
     "start_time": "2021-07-29T21:57:15.300Z"
    }
   },
   "outputs": [],
   "source": [
    "F_back = nufft.backward(measurements.data)"
   ]
  },
  {
   "cell_type": "code",
   "execution_count": null,
   "id": "4ca9f6d9",
   "metadata": {
    "ExecuteTime": {
     "end_time": "2021-07-29T21:57:15.915770Z",
     "start_time": "2021-07-29T21:57:15.300Z"
    }
   },
   "outputs": [],
   "source": [
    "plt.plot(parameter.phi, F_back.real, 'c--', label=r\"Real part\")\n",
    "plt.plot(parameter.phi, F_back.imag, 'c:', label=r\"Imaginary part\")\n",
    "plt.plot(parameter.phi, np.abs(F_back), 'k-', label=r\"Amplitude\")\n",
    "plt.xlim([-1000,1000])"
   ]
  },
  {
   "cell_type": "code",
   "execution_count": null,
   "id": "faac2ca0",
   "metadata": {
    "ExecuteTime": {
     "end_time": "2021-07-29T21:57:15.916076Z",
     "start_time": "2021-07-29T21:57:15.300Z"
    }
   },
   "outputs": [],
   "source": [
    "P_back = nufft.forward_normalized(F_back)\n",
    "plt.plot(measurements.lambda2, P_back.real, 'k.', label=r\"Stokes $Q$\")\n",
    "plt.plot(measurements.lambda2, P_back.imag, 'c.', label=r\"Stokes $U$\")\n",
    "plt.plot(measurements.lambda2, np.abs(P_back), 'g.', label=r\"$|P|$\")"
   ]
  },
  {
   "cell_type": "code",
   "execution_count": null,
   "id": "34cd510f",
   "metadata": {
    "ExecuteTime": {
     "end_time": "2021-07-29T21:57:15.916431Z",
     "start_time": "2021-07-29T21:57:15.300Z"
    }
   },
   "outputs": [],
   "source": [
    "lambda_l1 = np.sqrt(2 * len(P) + 4 * np.sqrt(len(P)))*noise_F\n",
    "#lambda_l1 /= 10\n",
    "#lambda_l1=0.5\n",
    "lambda_tsv = 0.0\n",
    "chi2 = Chi2(dft_obj=nufft)\n",
    "l1 = L1(reg=lambda_l1)\n",
    "tsv = TSV(reg=lambda_tsv)\n",
    "# F_func = [chi2(P, dft, W), L1(lambda_l1)]\n",
    "F_func = [chi2, l1, tsv]\n",
    "f_func = [chi2]\n",
    "g_func = [l1, tsv]\n",
    "\n",
    "F_obj = OFunction(F_func)\n",
    "f_obj = OFunction(f_func)\n",
    "g_obj = OFunction(g_func)"
   ]
  },
  {
   "cell_type": "code",
   "execution_count": null,
   "id": "d275a94f",
   "metadata": {
    "ExecuteTime": {
     "end_time": "2021-07-29T21:57:15.916750Z",
     "start_time": "2021-07-29T21:57:15.300Z"
    }
   },
   "outputs": [],
   "source": [
    "len(F_back)"
   ]
  },
  {
   "cell_type": "code",
   "execution_count": null,
   "id": "5fa2effb",
   "metadata": {
    "ExecuteTime": {
     "end_time": "2021-07-29T21:57:15.917083Z",
     "start_time": "2021-07-29T21:57:15.300Z"
    }
   },
   "outputs": [],
   "source": [
    "len(parameter.data)"
   ]
  },
  {
   "cell_type": "code",
   "execution_count": null,
   "id": "bee5eadc",
   "metadata": {
    "ExecuteTime": {
     "end_time": "2021-07-29T21:57:15.917430Z",
     "start_time": "2021-07-29T21:57:15.300Z"
    }
   },
   "outputs": [],
   "source": [
    "parameter.data = F_back"
   ]
  },
  {
   "cell_type": "code",
   "execution_count": null,
   "id": "2de03816",
   "metadata": {
    "ExecuteTime": {
     "end_time": "2021-07-29T21:57:15.917741Z",
     "start_time": "2021-07-29T21:57:15.300Z"
    }
   },
   "outputs": [],
   "source": [
    "parameter.n"
   ]
  },
  {
   "cell_type": "code",
   "execution_count": null,
   "id": "5c54c375",
   "metadata": {
    "ExecuteTime": {
     "end_time": "2021-07-29T21:57:15.918066Z",
     "start_time": "2021-07-29T21:57:15.300Z"
    }
   },
   "outputs": [],
   "source": [
    "parameter.complex_data_to_real()"
   ]
  },
  {
   "cell_type": "code",
   "execution_count": null,
   "id": "217b5cb3",
   "metadata": {
    "ExecuteTime": {
     "end_time": "2021-07-29T21:57:15.918436Z",
     "start_time": "2021-07-29T21:57:15.300Z"
    }
   },
   "outputs": [],
   "source": [
    "nufft.parameter.n"
   ]
  },
  {
   "cell_type": "code",
   "execution_count": null,
   "id": "e8d816dc",
   "metadata": {
    "ExecuteTime": {
     "end_time": "2021-07-29T21:57:15.918739Z",
     "start_time": "2021-07-29T21:57:15.300Z"
    }
   },
   "outputs": [],
   "source": [
    "parameter.n"
   ]
  },
  {
   "cell_type": "code",
   "execution_count": null,
   "id": "21f9256d",
   "metadata": {
    "ExecuteTime": {
     "end_time": "2021-07-29T21:57:15.919055Z",
     "start_time": "2021-07-29T21:57:15.300Z"
    }
   },
   "outputs": [],
   "source": [
    "opt = FISTA(guess_param=parameter, F_obj=F_obj, fx=chi2, gx=g_obj, noise=noise_F, verbose=True)\n",
    "#opt = FISTA(i_guess=F_real, F_obj=F_obj, fx=chi2, gx=g_obj, maxiter=1000, noise=1e-5, verbose=True)\n",
    "obj, X = opt.run()"
   ]
  },
  {
   "cell_type": "code",
   "execution_count": null,
   "id": "1ed855ac",
   "metadata": {
    "ExecuteTime": {
     "end_time": "2021-07-29T21:57:15.919356Z",
     "start_time": "2021-07-29T21:57:15.300Z"
    }
   },
   "outputs": [],
   "source": [
    "X.real_data_to_complex()\n",
    "\n",
    "plt.plot(parameter.phi, X.data.real, 'c--', label=r\"Stokes $Q$\")\n",
    "plt.plot(parameter.phi, X.data.imag, 'c:', label=r\"Stokes $U$\")\n",
    "plt.plot(parameter.phi, np.abs(X.data), 'k-', label=r\"$|P|$\")\n",
    "plt.xlabel(r'$\\phi$[rad m$^{-2}$]')\n",
    "plt.ylabel(r'Jy/beam m$^2$ rad$^{-1}$ pix$^{-1}$')\n",
    "plt.legend(loc='upper right')\n",
    "plt.tight_layout()\n",
    "plt.xlim([-1000,1000])"
   ]
  },
  {
   "cell_type": "code",
   "execution_count": null,
   "id": "ca65ef0a",
   "metadata": {
    "ExecuteTime": {
     "end_time": "2021-07-29T21:57:15.919673Z",
     "start_time": "2021-07-29T21:57:15.300Z"
    }
   },
   "outputs": [],
   "source": [
    "plt.plot(measurements.lambda2, measurements.model_data.real, 'k.', label=r\"Stokes $Q$\")\n",
    "plt.plot(measurements.lambda2, measurements.model_data.imag, 'c.', label=r\"Stokes $U$\")\n",
    "plt.plot(measurements.lambda2, np.abs(measurements.model_data), 'g.', label=r\"$|P|$\")\n",
    "#plt.ylim([-0.007,0.008])"
   ]
  },
  {
   "cell_type": "code",
   "execution_count": null,
   "id": "04c78f2d",
   "metadata": {
    "ExecuteTime": {
     "end_time": "2021-07-29T21:57:15.919990Z",
     "start_time": "2021-07-29T21:57:15.300Z"
    }
   },
   "outputs": [],
   "source": [
    "plt.plot(measurements.lambda2, measurements.residual.real, 'k.', label=r\"Stokes $Q$\")\n",
    "plt.plot(measurements.lambda2, measurements.residual.imag, 'c.', label=r\"Stokes $U$\")\n",
    "plt.plot(measurements.lambda2, np.abs(measurements.residual), 'g.', label=r\"$|P|$\")"
   ]
  },
  {
   "cell_type": "code",
   "execution_count": null,
   "id": "93918918",
   "metadata": {
    "ExecuteTime": {
     "end_time": "2021-07-29T21:57:15.920293Z",
     "start_time": "2021-07-29T21:57:15.300Z"
    }
   },
   "outputs": [],
   "source": [
    "gridding = Gridding(measurements)"
   ]
  },
  {
   "cell_type": "code",
   "execution_count": null,
   "id": "426e7512",
   "metadata": {
    "ExecuteTime": {
     "end_time": "2021-07-29T21:57:15.920627Z",
     "start_time": "2021-07-29T21:57:15.300Z"
    }
   },
   "outputs": [],
   "source": [
    "gridded_data = gridding.run()"
   ]
  },
  {
   "cell_type": "code",
   "execution_count": null,
   "id": "65728594",
   "metadata": {
    "ExecuteTime": {
     "end_time": "2021-07-29T21:57:15.920941Z",
     "start_time": "2021-07-29T21:57:15.300Z"
    }
   },
   "outputs": [],
   "source": [
    "np.mean(measurements.residual.real)"
   ]
  },
  {
   "cell_type": "code",
   "execution_count": null,
   "id": "05e603e1",
   "metadata": {
    "ExecuteTime": {
     "end_time": "2021-07-29T21:57:15.921236Z",
     "start_time": "2021-07-29T21:57:15.300Z"
    }
   },
   "outputs": [],
   "source": [
    "np.mean(measurements.residual.imag)"
   ]
  },
  {
   "cell_type": "code",
   "execution_count": null,
   "id": "0c0d22a5",
   "metadata": {
    "ExecuteTime": {
     "end_time": "2021-07-29T21:57:15.921538Z",
     "start_time": "2021-07-29T21:57:15.300Z"
    }
   },
   "outputs": [],
   "source": [
    "hist_real,bins_real,hist_imag,bins_imag = gridded_data.histogram_residuals()"
   ]
  },
  {
   "cell_type": "code",
   "execution_count": null,
   "id": "e4487749",
   "metadata": {
    "ExecuteTime": {
     "end_time": "2021-07-29T21:57:15.921899Z",
     "start_time": "2021-07-29T21:57:15.300Z"
    }
   },
   "outputs": [],
   "source": [
    "plt.bar(bins_real[:-1], hist_real, width=np.diff(bins_real), edgecolor=\"black\", align=\"edge\")"
   ]
  },
  {
   "cell_type": "code",
   "execution_count": null,
   "id": "97ed1b86",
   "metadata": {
    "ExecuteTime": {
     "end_time": "2021-07-29T21:57:15.922197Z",
     "start_time": "2021-07-29T21:57:15.300Z"
    }
   },
   "outputs": [],
   "source": [
    "F_residual = nufft.backward(measurements.residual)\n",
    "plt.plot(parameter.phi, F_residual.real, 'c--', label=r\"Stokes $Q$\")\n",
    "plt.plot(parameter.phi, F_residual.imag, 'c:', label=r\"Stokes $U$\")\n",
    "plt.plot(parameter.phi, np.abs(F_residual), 'k-', label=r\"$|P|$\")\n",
    "plt.xlim([-1000,1000])"
   ]
  },
  {
   "cell_type": "code",
   "execution_count": null,
   "id": "b17d3f5c",
   "metadata": {
    "ExecuteTime": {
     "end_time": "2021-07-29T21:57:15.922503Z",
     "start_time": "2021-07-29T21:57:15.300Z"
    }
   },
   "outputs": [],
   "source": [
    "lags, autocorr_res, bound, percentage_real_in, percentage_imag_in = measurements.assess_residuals()"
   ]
  },
  {
   "cell_type": "code",
   "execution_count": null,
   "id": "c0f5c9c0",
   "metadata": {
    "ExecuteTime": {
     "end_time": "2021-07-29T21:57:15.922806Z",
     "start_time": "2021-07-29T21:57:15.300Z"
    }
   },
   "outputs": [],
   "source": [
    "plt.plot(lags, autocorr_res.real, 'c-', label=r\"Real part\")\n",
    "plt.plot(lags, autocorr_res.imag, 'c--', label=r\"Imaginary part\")\n",
    "plt.axhline(-bound)\n",
    "plt.axhline(bound)\n",
    "plt.axhline(-bound)\n",
    "plt.axhline(bound)\n",
    "plt.grid()\n",
    "plt.grid()"
   ]
  },
  {
   "cell_type": "code",
   "execution_count": null,
   "id": "35bc8791",
   "metadata": {
    "ExecuteTime": {
     "end_time": "2021-07-29T21:57:15.923105Z",
     "start_time": "2021-07-29T21:57:15.300Z"
    }
   },
   "outputs": [],
   "source": [
    "percentage_real_in, percentage_imag_in"
   ]
  },
  {
   "cell_type": "code",
   "execution_count": null,
   "id": "8238fa5a",
   "metadata": {
    "ExecuteTime": {
     "end_time": "2021-07-29T21:57:15.923422Z",
     "start_time": "2021-07-29T21:57:15.300Z"
    }
   },
   "outputs": [],
   "source": [
    "conv_model = X.convolve() + F_residual"
   ]
  },
  {
   "cell_type": "code",
   "execution_count": null,
   "id": "299ff5c5",
   "metadata": {
    "ExecuteTime": {
     "end_time": "2021-07-29T21:57:15.923766Z",
     "start_time": "2021-07-29T21:57:15.300Z"
    }
   },
   "outputs": [],
   "source": [
    "plt.plot(parameter.phi, conv_model.real, 'c--', label=r\"Stokes $Q$\")\n",
    "plt.plot(parameter.phi, conv_model.imag, 'c:', label=r\"Stokes $U$\")\n",
    "plt.plot(parameter.phi, np.abs(conv_model), 'k-', label=r\"$|P|$\")\n",
    "plt.xlim([-1000,1000])\n",
    "plt.xlabel(r'$\\phi$[rad m$^{-2}$]')\n",
    "plt.ylabel(r'Jy/beam m$^2$ rad$^{-1}$ rmtf$^{-1}$')\n",
    "plt.legend(loc='upper right')\n",
    "plt.tight_layout()\n",
    "plt.savefig(\"restored.png\", dpi=100)"
   ]
  },
  {
   "cell_type": "code",
   "execution_count": null,
   "id": "53ff545d",
   "metadata": {},
   "outputs": [],
   "source": []
  }
 ],
 "metadata": {
  "kernelspec": {
   "display_name": "Python 3",
   "language": "python",
   "name": "python3"
  },
  "language_info": {
   "codemirror_mode": {
    "name": "ipython",
    "version": 3
   },
   "file_extension": ".py",
   "mimetype": "text/x-python",
   "name": "python",
   "nbconvert_exporter": "python",
   "pygments_lexer": "ipython3",
   "version": "3.9.6"
  },
  "latex_envs": {
   "LaTeX_envs_menu_present": true,
   "autoclose": false,
   "autocomplete": true,
   "bibliofile": "biblio.bib",
   "cite_by": "apalike",
   "current_citInitial": 1,
   "eqLabelWithNumbers": true,
   "eqNumInitial": 1,
   "hotkeys": {
    "equation": "Ctrl-E",
    "itemize": "Ctrl-I"
   },
   "labels_anchors": false,
   "latex_user_defs": false,
   "report_style_numbering": false,
   "user_envs_cfg": false
  }
 },
 "nbformat": 4,
 "nbformat_minor": 5
}
