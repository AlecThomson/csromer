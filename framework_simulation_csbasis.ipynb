{
 "cells": [
  {
   "cell_type": "code",
   "execution_count": null,
   "id": "02a019e2",
   "metadata": {
    "ExecuteTime": {
     "end_time": "2021-10-07T15:48:36.024844Z",
     "start_time": "2021-10-07T15:48:35.307061Z"
    }
   },
   "outputs": [],
   "source": [
    "from framework.simulation import FaradayThinSource,FaradayThickSource\n",
    "from framework.reconstruction import Parameter\n",
    "import numpy as np\n",
    "from IPython.display import clear_output\n",
    "from framework.io import Reader, Writer\n",
    "from framework.base import Dataset\n",
    "from framework.transformers import DFT1D, NUFFT1D\n",
    "import matplotlib.pyplot as plt\n",
    "from framework.objectivefunction import OFunction\n",
    "from framework.utils import real_to_complex, complex_to_real, find_pixel\n",
    "from framework.objectivefunction import TSV, TV, L1, Chi2\n",
    "from framework.optimization import FISTA, ADMM, SDMM, GradientBasedMethod\n",
    "from framework.utils import Gaussian\n",
    "from framework.dictionaries.discrete import DiscreteWavelet\n",
    "from framework.dictionaries.undecimated import UndecimatedWavelet\n",
    "from framework.transformers import Gridding\n",
    "from scipy.constants import c\n",
    "from pynufft import NUFFT\n",
    "from scipy import signal as sci_signal\n",
    "import itertools"
   ]
  },
  {
   "cell_type": "code",
   "execution_count": null,
   "id": "80c014ee",
   "metadata": {
    "ExecuteTime": {
     "end_time": "2021-10-07T15:48:36.027541Z",
     "start_time": "2021-10-07T15:48:36.025492Z"
    }
   },
   "outputs": [],
   "source": [
    "def chi2_calc(residuals):\n",
    "    if residuals.dtype == np.complex64 or residuals.dtype == np.complex128:\n",
    "        data = (residuals.real * residuals.real) + (residuals.imag * residuals.imag)\n",
    "    else:\n",
    "        data = residuals**2\n",
    "    return np.sum(data)"
   ]
  },
  {
   "cell_type": "code",
   "execution_count": null,
   "id": "321a6cec",
   "metadata": {
    "ExecuteTime": {
     "end_time": "2021-10-07T15:48:36.086326Z",
     "start_time": "2021-10-07T15:48:36.028595Z"
    }
   },
   "outputs": [],
   "source": [
    "def aicbic(residuals_coeffs, x_coeffs):\n",
    "    rss = chi2_calc(residuals)\n",
    "    if x.dtype == np.complex64 or x.dtype == np.complex128:\n",
    "        df = np.count_nonzero(x.real) + np.count_nonzero(x.imag)\n",
    "    else:     \n",
    "        df = np.count_nonzero(x)\n",
    "    l = len(residuals)\n",
    "    return l*np.log(rss/l) + 2*df, l*np.log(rss/l) + df*np.log(l)"
   ]
  },
  {
   "cell_type": "code",
   "execution_count": null,
   "id": "4a51affc",
   "metadata": {
    "ExecuteTime": {
     "end_time": "2021-10-07T15:48:36.134857Z",
     "start_time": "2021-10-07T15:48:36.086934Z"
    }
   },
   "outputs": [],
   "source": [
    "np.random.seed(666)"
   ]
  },
  {
   "cell_type": "code",
   "execution_count": null,
   "id": "5d3755c2",
   "metadata": {
    "ExecuteTime": {
     "end_time": "2021-10-07T15:48:36.182809Z",
     "start_time": "2021-10-07T15:48:36.135450Z"
    }
   },
   "outputs": [],
   "source": [
    "# JVLA 1.008e9 - 2.031e9 1000\n",
    "nu = np.linspace(start=0.88e9, stop=1.680e9, num=2000)"
   ]
  },
  {
   "cell_type": "code",
   "execution_count": null,
   "id": "e7f8cedb",
   "metadata": {
    "ExecuteTime": {
     "end_time": "2021-10-07T15:48:36.231476Z",
     "start_time": "2021-10-07T15:48:36.183481Z"
    }
   },
   "outputs": [],
   "source": [
    "peak_thinsource = 0.0035\n",
    "peak_thicksource = 0.0035"
   ]
  },
  {
   "cell_type": "code",
   "execution_count": null,
   "id": "551f8de4",
   "metadata": {
    "ExecuteTime": {
     "end_time": "2021-10-07T15:48:36.280657Z",
     "start_time": "2021-10-07T15:48:36.232160Z"
    }
   },
   "outputs": [],
   "source": [
    "thinsource = FaradayThinSource(nu=nu, s_nu=peak_thinsource, phi_gal=-200, spectral_idx=1.0)"
   ]
  },
  {
   "cell_type": "code",
   "execution_count": null,
   "id": "a888dfb7",
   "metadata": {
    "ExecuteTime": {
     "end_time": "2021-10-07T15:48:36.328481Z",
     "start_time": "2021-10-07T15:48:36.281388Z"
    }
   },
   "outputs": [],
   "source": [
    "#140 JVLA\n",
    "# 95 MeerKAT\n",
    "thicksource = FaradayThickSource(nu=nu, s_nu=peak_thicksource, phi_fg=90, phi_center=200, spectral_idx=1.0)"
   ]
  },
  {
   "cell_type": "code",
   "execution_count": null,
   "id": "34e5160c",
   "metadata": {
    "ExecuteTime": {
     "end_time": "2021-10-07T15:48:36.377096Z",
     "start_time": "2021-10-07T15:48:36.329163Z"
    }
   },
   "outputs": [],
   "source": [
    "thinsource.simulate()\n",
    "thicksource.simulate()"
   ]
  },
  {
   "cell_type": "code",
   "execution_count": null,
   "id": "3e4af45f",
   "metadata": {
    "ExecuteTime": {
     "end_time": "2021-10-07T15:48:36.424577Z",
     "start_time": "2021-10-07T15:48:36.377814Z"
    }
   },
   "outputs": [],
   "source": [
    "measurements = thinsource + thicksource"
   ]
  },
  {
   "cell_type": "code",
   "execution_count": null,
   "id": "c5c98539",
   "metadata": {
    "ExecuteTime": {
     "end_time": "2021-10-07T15:48:36.483471Z",
     "start_time": "2021-10-07T15:48:36.425276Z"
    }
   },
   "outputs": [],
   "source": [
    "measurements.remove_channels(0.2, chunksize=100)"
   ]
  },
  {
   "cell_type": "code",
   "execution_count": null,
   "id": "2587d285",
   "metadata": {
    "ExecuteTime": {
     "end_time": "2021-10-07T15:48:36.521864Z",
     "start_time": "2021-10-07T15:48:36.485001Z"
    }
   },
   "outputs": [],
   "source": [
    "measurements.apply_noise(peak_thinsource*0.1)"
   ]
  },
  {
   "cell_type": "code",
   "execution_count": null,
   "id": "e3b2b9d8",
   "metadata": {
    "ExecuteTime": {
     "end_time": "2021-10-07T15:48:36.926196Z",
     "start_time": "2021-10-07T15:48:36.522439Z"
    }
   },
   "outputs": [],
   "source": [
    "plt.plot(measurements.lambda2, measurements.data.real, 'k.', label=r\"Stokes $Q$\")\n",
    "plt.plot(measurements.lambda2, measurements.data.imag, 'c.', label=r\"Stokes $U$\")\n",
    "plt.plot(measurements.lambda2, np.abs(measurements.data), 'g.', label=r\"$|P|$\")\n",
    "plt.xlabel(r'$\\lambda^2$[m$^{2}$]')\n",
    "plt.ylabel(r'Jy/beam')\n",
    "#plt.legend(loc='upper right')\n",
    "plt.tight_layout()\n",
    "plt.savefig('polarized.png', dpi=100, bbox_inches='tight')"
   ]
  },
  {
   "cell_type": "code",
   "execution_count": null,
   "id": "811f0a33",
   "metadata": {
    "ExecuteTime": {
     "end_time": "2021-10-07T15:48:36.928779Z",
     "start_time": "2021-10-07T15:48:36.927083Z"
    }
   },
   "outputs": [],
   "source": [
    "parameter = Parameter()"
   ]
  },
  {
   "cell_type": "code",
   "execution_count": null,
   "id": "43aca9d5",
   "metadata": {
    "ExecuteTime": {
     "end_time": "2021-10-07T15:48:36.979465Z",
     "start_time": "2021-10-07T15:48:36.929553Z"
    }
   },
   "outputs": [],
   "source": [
    "parameter.calculate_cellsize(dataset=measurements)"
   ]
  },
  {
   "cell_type": "code",
   "execution_count": null,
   "id": "5e80ae80",
   "metadata": {
    "ExecuteTime": {
     "end_time": "2021-10-07T15:48:37.416739Z",
     "start_time": "2021-10-07T15:48:36.980364Z"
    }
   },
   "outputs": [],
   "source": [
    "nufft = NUFFT1D(dataset=measurements, parameter=parameter, solve=True)"
   ]
  },
  {
   "cell_type": "code",
   "execution_count": null,
   "id": "06f999e3",
   "metadata": {
    "ExecuteTime": {
     "end_time": "2021-10-07T15:48:37.449030Z",
     "start_time": "2021-10-07T15:48:37.417515Z"
    }
   },
   "outputs": [],
   "source": [
    "dft = DFT1D(dataset=measurements, parameter=parameter)"
   ]
  },
  {
   "cell_type": "code",
   "execution_count": null,
   "id": "6fbfe204",
   "metadata": {
    "ExecuteTime": {
     "end_time": "2021-10-07T15:48:37.871300Z",
     "start_time": "2021-10-07T15:48:37.449782Z"
    }
   },
   "outputs": [],
   "source": [
    "F_dirty = dft.backward(measurements.data)"
   ]
  },
  {
   "cell_type": "code",
   "execution_count": null,
   "id": "3a352517",
   "metadata": {
    "ExecuteTime": {
     "end_time": "2021-10-07T15:48:38.105599Z",
     "start_time": "2021-10-07T15:48:37.872079Z"
    }
   },
   "outputs": [],
   "source": [
    "plt.plot(parameter.phi, F_dirty.real, 'c--', label=r\"Stokes $Q$\")\n",
    "plt.plot(parameter.phi, F_dirty.imag, 'c:', label=r\"Stokes $U$\")\n",
    "plt.plot(parameter.phi, np.abs(F_dirty), 'k-', label=r\"|P|\")\n",
    "plt.xlabel(r'$\\phi$[rad m$^{-2}$]')\n",
    "plt.ylabel(r'Jy/beam m$^2$ rad$^{-1}$ rmtf$^{-1}$')\n",
    "plt.legend(loc='upper right')\n",
    "plt.xlim([-1000,1000])\n",
    "plt.tight_layout()\n",
    "plt.savefig('fdirty.png', dpi=100, bbox_inches='tight')"
   ]
  },
  {
   "cell_type": "code",
   "execution_count": null,
   "id": "e4716fa8",
   "metadata": {
    "ExecuteTime": {
     "end_time": "2021-10-07T15:48:38.108934Z",
     "start_time": "2021-10-07T15:48:38.106242Z"
    }
   },
   "outputs": [],
   "source": [
    "idx_noise = np.where(np.abs(parameter.phi)>20000)\n",
    "noise_F = np.std(0.5*(F_dirty[idx_noise].real + F_dirty[idx_noise].imag))\n",
    "noise_F"
   ]
  },
  {
   "cell_type": "code",
   "execution_count": null,
   "id": "8c3f7945",
   "metadata": {
    "ExecuteTime": {
     "end_time": "2021-10-07T15:48:38.167748Z",
     "start_time": "2021-10-07T15:48:38.109557Z"
    }
   },
   "outputs": [],
   "source": [
    "P_back = nufft.forward_normalized(F_dirty)"
   ]
  },
  {
   "cell_type": "code",
   "execution_count": null,
   "id": "46dc6fa0",
   "metadata": {
    "ExecuteTime": {
     "end_time": "2021-10-07T15:48:38.286652Z",
     "start_time": "2021-10-07T15:48:38.168399Z"
    }
   },
   "outputs": [],
   "source": [
    "plt.plot(measurements.lambda2, P_back.real, 'k.', label=r\"Stokes $Q$\")\n",
    "plt.plot(measurements.lambda2, P_back.imag, 'c.', label=r\"Stokes $U$\")\n",
    "plt.plot(measurements.lambda2, np.abs(P_back), 'g.', label=r\"$|P|$\")"
   ]
  },
  {
   "cell_type": "code",
   "execution_count": null,
   "id": "bff21db9",
   "metadata": {
    "ExecuteTime": {
     "end_time": "2021-10-07T15:48:38.290143Z",
     "start_time": "2021-10-07T15:48:38.287351Z"
    }
   },
   "outputs": [],
   "source": [
    "F_back = nufft.backward(measurements.data)"
   ]
  },
  {
   "cell_type": "code",
   "execution_count": null,
   "id": "4ca9f6d9",
   "metadata": {
    "ExecuteTime": {
     "end_time": "2021-10-07T15:48:38.408660Z",
     "start_time": "2021-10-07T15:48:38.290781Z"
    }
   },
   "outputs": [],
   "source": [
    "plt.plot(parameter.phi, F_back.real, 'c--', label=r\"Real part\")\n",
    "plt.plot(parameter.phi, F_back.imag, 'c:', label=r\"Imaginary part\")\n",
    "plt.plot(parameter.phi, np.abs(F_back), 'k-', label=r\"Amplitude\")\n",
    "plt.xlim([-1000,1000])"
   ]
  },
  {
   "cell_type": "code",
   "execution_count": null,
   "id": "faac2ca0",
   "metadata": {
    "ExecuteTime": {
     "end_time": "2021-10-07T15:48:38.475074Z",
     "start_time": "2021-10-07T15:48:38.409325Z"
    }
   },
   "outputs": [],
   "source": [
    "P_back = nufft.forward_normalized(F_back)\n",
    "plt.plot(measurements.lambda2, P_back.real, 'k.', label=r\"Stokes $Q$\")\n",
    "plt.plot(measurements.lambda2, P_back.imag, 'c.', label=r\"Stokes $U$\")\n",
    "plt.plot(measurements.lambda2, np.abs(P_back), 'g.', label=r\"$|P|$\")"
   ]
  },
  {
   "cell_type": "code",
   "execution_count": null,
   "id": "1221a52e",
   "metadata": {
    "ExecuteTime": {
     "end_time": "2021-10-07T15:48:38.477295Z",
     "start_time": "2021-10-07T15:48:38.475739Z"
    }
   },
   "outputs": [],
   "source": [
    "#wav = DiscreteWavelet(wavelet_name=\"rbio5.5\", mode=\"periodization\")\n",
    "wav = UndecimatedWavelet(wavelet_name=\"haar\")"
   ]
  },
  {
   "cell_type": "code",
   "execution_count": null,
   "id": "34cd510f",
   "metadata": {
    "ExecuteTime": {
     "end_time": "2021-10-07T15:48:38.536547Z",
     "start_time": "2021-10-07T15:48:38.477871Z"
    }
   },
   "outputs": [],
   "source": [
    "lambda_l1 = np.sqrt(2 * len(measurements.data) + 4 * np.sqrt(len(measurements.data))) * noise_F * np.sqrt(0.5)\n",
    "#lambda_l1 = np.sqrt(len(measurements.data)) * noise_F\n",
    "#lambda_l1 /= 10\n",
    "#lambda_l1=0.5\n",
    "lambda_tsv = 0.0\n",
    "chi2 = Chi2(dft_obj=nufft, wavelet=wav)\n",
    "l1 = L1(reg=lambda_l1)\n",
    "tsv = TSV(reg=lambda_tsv)\n",
    "# F_func = [chi2(P, dft, W), L1(lambda_l1)]\n",
    "F_func = [chi2, l1, tsv]\n",
    "f_func = [chi2]\n",
    "g_func = [l1, tsv]\n",
    "\n",
    "F_obj = OFunction(F_func)\n",
    "f_obj = OFunction(f_func)\n",
    "g_obj = OFunction(g_func)"
   ]
  },
  {
   "cell_type": "code",
   "execution_count": null,
   "id": "d275a94f",
   "metadata": {
    "ExecuteTime": {
     "end_time": "2021-10-07T15:48:38.591089Z",
     "start_time": "2021-10-07T15:48:38.537216Z"
    }
   },
   "outputs": [],
   "source": [
    "len(F_back)"
   ]
  },
  {
   "cell_type": "code",
   "execution_count": null,
   "id": "5fa2effb",
   "metadata": {
    "ExecuteTime": {
     "end_time": "2021-10-07T15:48:38.647588Z",
     "start_time": "2021-10-07T15:48:38.591687Z"
    }
   },
   "outputs": [],
   "source": [
    "len(parameter.data)"
   ]
  },
  {
   "cell_type": "code",
   "execution_count": null,
   "id": "bee5eadc",
   "metadata": {
    "ExecuteTime": {
     "end_time": "2021-10-07T15:48:38.702376Z",
     "start_time": "2021-10-07T15:48:38.648170Z"
    }
   },
   "outputs": [],
   "source": [
    "parameter.data = F_dirty"
   ]
  },
  {
   "cell_type": "code",
   "execution_count": null,
   "id": "5c54c375",
   "metadata": {
    "ExecuteTime": {
     "end_time": "2021-10-07T15:48:38.781806Z",
     "start_time": "2021-10-07T15:48:38.703021Z"
    }
   },
   "outputs": [],
   "source": [
    "parameter.complex_data_to_real()"
   ]
  },
  {
   "cell_type": "code",
   "execution_count": null,
   "id": "00682fea",
   "metadata": {
    "ExecuteTime": {
     "end_time": "2021-10-07T15:48:38.842100Z",
     "start_time": "2021-10-07T15:48:38.782435Z"
    }
   },
   "outputs": [],
   "source": [
    "wav.calculate_max_level(parameter.data)"
   ]
  },
  {
   "cell_type": "code",
   "execution_count": null,
   "id": "6859c385",
   "metadata": {
    "ExecuteTime": {
     "end_time": "2021-10-07T15:48:38.901872Z",
     "start_time": "2021-10-07T15:48:38.842659Z"
    }
   },
   "outputs": [],
   "source": [
    "parameter.data = wav.decompose(parameter.data)"
   ]
  },
  {
   "cell_type": "code",
   "execution_count": null,
   "id": "2de03816",
   "metadata": {
    "ExecuteTime": {
     "end_time": "2021-10-07T15:48:38.965053Z",
     "start_time": "2021-10-07T15:48:38.902514Z"
    }
   },
   "outputs": [],
   "source": [
    "parameter.n"
   ]
  },
  {
   "cell_type": "code",
   "execution_count": null,
   "id": "217b5cb3",
   "metadata": {
    "ExecuteTime": {
     "end_time": "2021-10-07T15:48:39.028253Z",
     "start_time": "2021-10-07T15:48:38.965642Z"
    }
   },
   "outputs": [],
   "source": [
    "nufft.parameter.n"
   ]
  },
  {
   "cell_type": "code",
   "execution_count": null,
   "id": "e8d816dc",
   "metadata": {
    "ExecuteTime": {
     "end_time": "2021-10-07T15:48:39.092296Z",
     "start_time": "2021-10-07T15:48:39.028840Z"
    }
   },
   "outputs": [],
   "source": [
    "parameter.n"
   ]
  },
  {
   "cell_type": "code",
   "execution_count": null,
   "id": "21f9256d",
   "metadata": {
    "ExecuteTime": {
     "end_time": "2021-10-07T15:48:39.637431Z",
     "start_time": "2021-10-07T15:48:39.092882Z"
    }
   },
   "outputs": [],
   "source": [
    "opt = FISTA(guess_param=parameter, F_obj=F_obj, fx=chi2, gx=g_obj, noise=noise_F, verbose=True)\n",
    "#opt = FISTA(i_guess=F_real, F_obj=F_obj, fx=chi2, gx=g_obj, maxiter=1000, noise=1e-5, verbose=True)\n",
    "obj, X = opt.run()"
   ]
  },
  {
   "cell_type": "code",
   "execution_count": null,
   "id": "2515ca30",
   "metadata": {
    "ExecuteTime": {
     "end_time": "2021-10-07T15:48:39.698356Z",
     "start_time": "2021-10-07T15:48:39.638119Z"
    }
   },
   "outputs": [],
   "source": [
    "# Coefficients\n",
    "plt.plot(X.data)"
   ]
  },
  {
   "cell_type": "code",
   "execution_count": null,
   "id": "3cc5dd8d",
   "metadata": {
    "ExecuteTime": {
     "end_time": "2021-10-07T15:48:39.715222Z",
     "start_time": "2021-10-07T15:48:39.701779Z"
    }
   },
   "outputs": [],
   "source": [
    "print(X.calculate_sparsity()) # 99.9977453102453 542\n",
    "print(np.count_nonzero(X.data)) # wavelet 99.98422464111059 42"
   ]
  },
  {
   "cell_type": "code",
   "execution_count": null,
   "id": "a9d61cc5",
   "metadata": {
    "ExecuteTime": {
     "end_time": "2021-10-07T15:48:39.780851Z",
     "start_time": "2021-10-07T15:48:39.715878Z"
    }
   },
   "outputs": [],
   "source": [
    "X.data = wav.reconstruct(X.data)"
   ]
  },
  {
   "cell_type": "code",
   "execution_count": null,
   "id": "1ed855ac",
   "metadata": {
    "ExecuteTime": {
     "end_time": "2021-10-07T15:48:39.956473Z",
     "start_time": "2021-10-07T15:48:39.781627Z"
    }
   },
   "outputs": [],
   "source": [
    "X.real_data_to_complex()\n",
    "\n",
    "plt.plot(parameter.phi, X.data.real, 'c--', label=r\"Stokes $Q$\")\n",
    "plt.plot(parameter.phi, X.data.imag, 'c:', label=r\"Stokes $U$\")\n",
    "plt.plot(parameter.phi, np.abs(X.data), 'k-', label=r\"$|P|$\")\n",
    "plt.xlabel(r'$\\phi$[rad m$^{-2}$]')\n",
    "plt.ylabel(r'Jy/beam m$^2$ rad$^{-1}$ pix$^{-1}$')\n",
    "plt.legend(loc='upper right')\n",
    "plt.tight_layout()\n",
    "plt.xlim([-1000,1000])"
   ]
  },
  {
   "cell_type": "code",
   "execution_count": null,
   "id": "ca65ef0a",
   "metadata": {
    "ExecuteTime": {
     "end_time": "2021-10-07T15:48:40.025218Z",
     "start_time": "2021-10-07T15:48:39.957237Z"
    }
   },
   "outputs": [],
   "source": [
    "plt.plot(measurements.lambda2, measurements.model_data.real, 'k.', label=r\"Stokes $Q$\")\n",
    "plt.plot(measurements.lambda2, measurements.model_data.imag, 'c.', label=r\"Stokes $U$\")\n",
    "plt.plot(measurements.lambda2, np.abs(measurements.model_data), 'g.', label=r\"$|P|$\")\n",
    "#plt.ylim([-0.007,0.008])"
   ]
  },
  {
   "cell_type": "code",
   "execution_count": null,
   "id": "04c78f2d",
   "metadata": {
    "ExecuteTime": {
     "end_time": "2021-10-07T15:48:40.140559Z",
     "start_time": "2021-10-07T15:48:40.026138Z"
    }
   },
   "outputs": [],
   "source": [
    "plt.plot(measurements.lambda2, measurements.residual.real, 'k.', label=r\"Stokes $Q$\")\n",
    "plt.plot(measurements.lambda2, measurements.residual.imag, 'c.', label=r\"Stokes $U$\")\n",
    "plt.plot(measurements.lambda2, np.abs(measurements.residual), 'g.', label=r\"$|P|$\")"
   ]
  },
  {
   "cell_type": "code",
   "execution_count": null,
   "id": "97ed1b86",
   "metadata": {
    "ExecuteTime": {
     "end_time": "2021-10-07T15:48:40.274652Z",
     "start_time": "2021-10-07T15:48:40.141202Z"
    }
   },
   "outputs": [],
   "source": [
    "F_residual = nufft.backward(measurements.residual)\n",
    "plt.plot(parameter.phi, F_residual.real, 'c--', label=r\"Stokes $Q$\")\n",
    "plt.plot(parameter.phi, F_residual.imag, 'c:', label=r\"Stokes $U$\")\n",
    "plt.plot(parameter.phi, np.abs(F_residual), 'k-', label=r\"$|P|$\")\n",
    "plt.xlim([-1000,1000])"
   ]
  },
  {
   "cell_type": "code",
   "execution_count": null,
   "id": "b17d3f5c",
   "metadata": {
    "ExecuteTime": {
     "end_time": "2021-10-07T15:48:40.279624Z",
     "start_time": "2021-10-07T15:48:40.275467Z"
    }
   },
   "outputs": [],
   "source": [
    "lags, autocorr_res, autocorr_res_sq, bound, percentage_real_in, percentage_imag_in, percentage_real_in_sq, percentage_imag_in_sq = measurements.assess_residuals()"
   ]
  },
  {
   "cell_type": "code",
   "execution_count": null,
   "id": "c0f5c9c0",
   "metadata": {
    "ExecuteTime": {
     "end_time": "2021-10-07T15:48:40.432494Z",
     "start_time": "2021-10-07T15:48:40.280244Z"
    }
   },
   "outputs": [],
   "source": [
    "plt.plot(lags, autocorr_res.real, 'c-', label=r\"Real part\")\n",
    "plt.plot(lags, autocorr_res.imag, 'c--', label=r\"Imaginary part\")\n",
    "plt.axhline(-bound)\n",
    "plt.axhline(bound)\n",
    "plt.grid()"
   ]
  },
  {
   "cell_type": "code",
   "execution_count": null,
   "id": "980cfb16",
   "metadata": {
    "ExecuteTime": {
     "end_time": "2021-10-07T15:48:40.512319Z",
     "start_time": "2021-10-07T15:48:40.433227Z"
    }
   },
   "outputs": [],
   "source": [
    "plt.plot(lags, autocorr_res_sq.real, 'c-', label=r\"Real part\")\n",
    "plt.plot(lags, autocorr_res_sq.imag, 'c--', label=r\"Imaginary part\")\n",
    "plt.axhline(-bound)\n",
    "plt.axhline(bound)\n",
    "plt.grid()"
   ]
  },
  {
   "cell_type": "code",
   "execution_count": null,
   "id": "35bc8791",
   "metadata": {
    "ExecuteTime": {
     "end_time": "2021-10-07T15:48:40.543197Z",
     "start_time": "2021-10-07T15:48:40.512972Z"
    }
   },
   "outputs": [],
   "source": [
    "percentage_real_in, percentage_imag_in"
   ]
  },
  {
   "cell_type": "code",
   "execution_count": null,
   "id": "1086a7e9",
   "metadata": {
    "ExecuteTime": {
     "end_time": "2021-10-07T15:48:40.606417Z",
     "start_time": "2021-10-07T15:48:40.543741Z"
    }
   },
   "outputs": [],
   "source": [
    "percentage_real_in_sq, percentage_imag_in_sq"
   ]
  },
  {
   "cell_type": "code",
   "execution_count": null,
   "id": "d51ccc07",
   "metadata": {
    "ExecuteTime": {
     "end_time": "2021-10-07T15:48:40.673916Z",
     "start_time": "2021-10-07T15:48:40.607028Z"
    }
   },
   "outputs": [],
   "source": [
    "\"\"\"\n",
    "from statsmodels.tsa.stattools import pacf\n",
    "from statsmodels.graphics.tsaplots import plot_pacf\n",
    "arr_real = pacf(x=measurements.residual.real, nlags=len(measurements.residual.real)//2 - 1, method=\"ols-adjusted\")\n",
    "arr_imag = pacf(x=measurements.residual.imag, nlags=len(measurements.residual.imag)//2 - 1, method=\"ols-adjusted\")\n",
    "plt.plot(arr_real, '.')\n",
    "plt.plot(arr_imag, '.')\n",
    "plt.axhline(-bound)\n",
    "plt.axhline(bound)\n",
    "plt.grid()\n",
    "\"\"\""
   ]
  },
  {
   "cell_type": "code",
   "execution_count": null,
   "id": "8238fa5a",
   "metadata": {
    "ExecuteTime": {
     "end_time": "2021-10-07T15:48:40.741669Z",
     "start_time": "2021-10-07T15:48:40.674546Z"
    }
   },
   "outputs": [],
   "source": [
    "conv_model = X.convolve(normalized=True) + F_residual"
   ]
  },
  {
   "cell_type": "code",
   "execution_count": null,
   "id": "299ff5c5",
   "metadata": {
    "ExecuteTime": {
     "end_time": "2021-10-07T15:48:40.983384Z",
     "start_time": "2021-10-07T15:48:40.742363Z"
    }
   },
   "outputs": [],
   "source": [
    "plt.plot(parameter.phi, conv_model.real, 'c--', label=r\"Stokes $Q$\")\n",
    "plt.plot(parameter.phi, conv_model.imag, 'c:', label=r\"Stokes $U$\")\n",
    "plt.plot(parameter.phi, np.abs(conv_model), 'k-', label=r\"$|P|$\")\n",
    "plt.xlim([-1000,1000])\n",
    "plt.xlabel(r'$\\phi$[rad m$^{-2}$]')\n",
    "plt.ylabel(r'Jy/beam m$^2$ rad$^{-1}$ rmtf$^{-1}$')\n",
    "plt.legend(loc='upper right')\n",
    "plt.tight_layout()\n",
    "plt.savefig(\"restored.png\", dpi=100)"
   ]
  },
  {
   "cell_type": "code",
   "execution_count": null,
   "id": "53ff545d",
   "metadata": {
    "ExecuteTime": {
     "end_time": "2021-10-07T15:48:41.450573Z",
     "start_time": "2021-10-07T15:48:40.984113Z"
    }
   },
   "outputs": [],
   "source": [
    "fig, ax = plt.subplots(nrows=2, ncols=4, sharey='row', figsize=(18, 5))\n",
    "\n",
    "# Data\n",
    "ax[0,0].plot(measurements.lambda2, measurements.data.real, 'k.', label=r\"Stokes $Q$\")\n",
    "ax[0,0].plot(measurements.lambda2, measurements.data.imag, 'c.', label=r\"Stokes $U$\")\n",
    "ax[0,0].plot(measurements.lambda2, np.abs(measurements.data), 'g.', label=r\"$|P|$\")\n",
    "ax[0,0].set_xlabel(r'$\\lambda^2$[m$^{2}$]')\n",
    "ax[0,0].set_ylabel(r'Jy/beam')\n",
    "ax[0,0].title.set_text(\"Data\")\n",
    "\n",
    "ax[1,0].plot(parameter.phi, F_dirty.real, 'c--', label=r\"Stokes $Q$\")\n",
    "ax[1,0].plot(parameter.phi, F_dirty.imag, 'c:', label=r\"Stokes $U$\")\n",
    "ax[1,0].plot(parameter.phi, np.abs(F_dirty), 'k-', label=r\"|P|\")\n",
    "ax[1,0].set_xlabel(r'$\\phi$[rad m$^{-2}$]')\n",
    "ax[1,0].set_ylabel(r'Jy/beam m$^2$ rad$^{-1}$ rmtf$^{-1}$')\n",
    "ax[1,0].set_xlim([-1000,1000])\n",
    "\n",
    "# Model\n",
    "ax[0,1].plot(measurements.lambda2, measurements.model_data.real, 'k.', label=r\"Stokes $Q$\")\n",
    "ax[0,1].plot(measurements.lambda2, measurements.model_data.imag, 'c.', label=r\"Stokes $U$\")\n",
    "ax[0,1].plot(measurements.lambda2, np.abs(measurements.model_data), 'g.', label=r\"$|P|$\")\n",
    "ax[0,1].set_xlabel(r'$\\lambda^2$[m$^{2}$]')\n",
    "ax[0,1].set_ylabel(r'Jy/beam')\n",
    "ax[0,1].title.set_text(\"Model\")\n",
    "\n",
    "ax[1,1].plot(parameter.phi, X.data.real, 'c--', label=r\"Stokes $Q$\")\n",
    "ax[1,1].plot(parameter.phi, X.data.imag, 'c:', label=r\"Stokes $U$\")\n",
    "ax[1,1].plot(parameter.phi, np.abs(X.data), 'k-', label=r\"$|P|$\")\n",
    "ax[1,1].set_xlabel(r'$\\phi$[rad m$^{-2}$]')\n",
    "ax[1,1].set_ylabel(r'Jy/beam m$^2$ rad$^{-1}$ pix$^{-1}$')\n",
    "ax[1,1].set_xlim([-1000,1000])\n",
    "\n",
    "# Residual\n",
    "\n",
    "# Model\n",
    "ax[0,2].plot(measurements.lambda2, measurements.residual.real, 'k.', label=r\"Stokes $Q$\")\n",
    "ax[0,2].plot(measurements.lambda2, measurements.residual.imag, 'c.', label=r\"Stokes $U$\")\n",
    "ax[0,2].plot(measurements.lambda2, np.abs(measurements.residual), 'g.', label=r\"$|P|$\")\n",
    "ax[0,2].set_xlabel(r'$\\lambda^2$[m$^{2}$]')\n",
    "ax[0,2].set_ylabel(r'Jy/beam')\n",
    "ax[0,2].title.set_text(\"Residual\")\n",
    "\n",
    "ax[1,2].plot(parameter.phi, F_residual.real, 'c--', label=r\"Stokes $Q$\")\n",
    "ax[1,2].plot(parameter.phi, F_residual.imag, 'c:', label=r\"Stokes $U$\")\n",
    "ax[1,2].plot(parameter.phi, np.abs(F_residual), 'k-', label=r\"$|P|$\")\n",
    "ax[1,2].set_xlabel(r'$\\phi$[rad m$^{-2}$]')\n",
    "ax[1,2].set_ylabel(r'Jy/beam m$^2$ rad$^{-1}$ rmtf$^{-1}$')\n",
    "ax[1,2].set_xlim([-1000,1000])\n",
    "fig.tight_layout()\n",
    "\n",
    "ax[1,3].plot(parameter.phi, conv_model.real, 'c--', label=r\"Stokes $Q$\")\n",
    "ax[1,3].plot(parameter.phi, conv_model.imag, 'c:', label=r\"Stokes $U$\")\n",
    "ax[1,3].plot(parameter.phi, np.abs(conv_model), 'k-', label=r\"$|P|$\")\n",
    "ax[1,3].set_xlim([-1000,1000])\n",
    "ax[1,3].set_xlabel(r'$\\phi$[rad m$^{-2}$]')\n",
    "ax[1,3].set_ylabel(r'Jy/beam m$^2$ rad$^{-1}$ rmtf$^{-1}$')\n",
    "ax[1,3].title.set_text(\"Restored\")"
   ]
  },
  {
   "cell_type": "code",
   "execution_count": null,
   "id": "c3626bad",
   "metadata": {},
   "outputs": [],
   "source": []
  },
  {
   "cell_type": "code",
   "execution_count": null,
   "id": "3f18f1a8",
   "metadata": {},
   "outputs": [],
   "source": []
  }
 ],
 "metadata": {
  "kernelspec": {
   "display_name": "Python 3 (ipykernel)",
   "language": "python",
   "name": "python3"
  },
  "language_info": {
   "codemirror_mode": {
    "name": "ipython",
    "version": 3
   },
   "file_extension": ".py",
   "mimetype": "text/x-python",
   "name": "python",
   "nbconvert_exporter": "python",
   "pygments_lexer": "ipython3",
   "version": "3.9.7"
  },
  "latex_envs": {
   "LaTeX_envs_menu_present": true,
   "autoclose": false,
   "autocomplete": true,
   "bibliofile": "biblio.bib",
   "cite_by": "apalike",
   "current_citInitial": 1,
   "eqLabelWithNumbers": true,
   "eqNumInitial": 1,
   "hotkeys": {
    "equation": "Ctrl-E",
    "itemize": "Ctrl-I"
   },
   "labels_anchors": false,
   "latex_user_defs": false,
   "report_style_numbering": false,
   "user_envs_cfg": false
  },
  "varInspector": {
   "cols": {
    "lenName": 16,
    "lenType": 16,
    "lenVar": 40
   },
   "kernels_config": {
    "python": {
     "delete_cmd_postfix": "",
     "delete_cmd_prefix": "del ",
     "library": "var_list.py",
     "varRefreshCmd": "print(var_dic_list())"
    },
    "r": {
     "delete_cmd_postfix": ") ",
     "delete_cmd_prefix": "rm(",
     "library": "var_list.r",
     "varRefreshCmd": "cat(var_dic_list()) "
    }
   },
   "types_to_exclude": [
    "module",
    "function",
    "builtin_function_or_method",
    "instance",
    "_Feature"
   ],
   "window_display": false
  }
 },
 "nbformat": 4,
 "nbformat_minor": 5
}
