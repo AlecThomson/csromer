{
 "cells": [
  {
   "cell_type": "code",
   "execution_count": 1,
   "id": "bf18aa88",
   "metadata": {
    "ExecuteTime": {
     "end_time": "2021-12-02T16:59:06.800651Z",
     "start_time": "2021-12-02T16:59:05.985829Z"
    }
   },
   "outputs": [],
   "source": [
    "from framework.simulation import FaradayThinSource,FaradayThickSource\n",
    "from framework.reconstruction import Parameter\n",
    "import numpy as np\n",
    "from IPython.display import clear_output\n",
    "from framework.io import Reader, Writer\n",
    "from framework.base import Dataset\n",
    "from framework.transformers import DFT1D, NUFFT1D\n",
    "import matplotlib.pyplot as plt\n",
    "from framework.objectivefunction import OFunction\n",
    "from framework.utils import real_to_complex, complex_to_real\n",
    "from framework.objectivefunction import TSV, TV, L1, Chi2\n",
    "from framework.optimization import FISTA, ADMM, SDMM, GradientBasedMethod\n",
    "from framework.utils import Gaussian\n",
    "from framework.dictionaries.discrete import DiscreteWavelet\n",
    "from framework.dictionaries.undecimated import UndecimatedWavelet\n",
    "from framework.transformers import Gridding, MeanFlagger, HampelFlagger\n",
    "from scipy.constants import c\n",
    "from pynufft import NUFFT\n",
    "from scipy import signal as sci_signal\n",
    "import itertools\n",
    "from astropy.io import fits\n",
    "from astropy.coordinates import SkyCoord\n",
    "from astropy.wcs import WCS\n",
    "import astropy.units as un\n",
    "from astropy.stats import sigma_clipped_stats\n",
    "import pandas as pd"
   ]
  },
  {
   "cell_type": "code",
   "execution_count": 2,
   "id": "62cfa6c3",
   "metadata": {
    "ExecuteTime": {
     "end_time": "2021-12-02T16:59:07.079027Z",
     "start_time": "2021-12-02T16:59:07.075754Z"
    }
   },
   "outputs": [],
   "source": [
    "# Read cubes\n",
    "Q_name = \"/home/miguel/Documents/datasets/A1314_JVLA/cubes/A1314_Q_corrected.fits\"\n",
    "U_name = \"/home/miguel/Documents/datasets/A1314_JVLA/cubes/A1314_U_corrected.fits\"\n",
    "\n",
    "hdul_q = fits.open(Q_name, memmap=True)\n",
    "hdul_u = fits.open(U_name, memmap=True)"
   ]
  },
  {
   "cell_type": "code",
   "execution_count": 3,
   "id": "3a2b6e8b",
   "metadata": {
    "ExecuteTime": {
     "end_time": "2021-12-02T16:59:07.358576Z",
     "start_time": "2021-12-02T16:59:07.356229Z"
    }
   },
   "outputs": [],
   "source": [
    "# Read spectral index\n",
    "spc_idx_name = \"/home/miguel/Documents/datasets/A1314_JVLA/cubes/alpha_0.fits\"\n",
    "hdul_alpha = fits.open(spc_idx_name, memmap=True)"
   ]
  },
  {
   "cell_type": "code",
   "execution_count": 4,
   "id": "35f449d2",
   "metadata": {
    "ExecuteTime": {
     "end_time": "2021-12-02T16:59:07.656210Z",
     "start_time": "2021-12-02T16:59:07.654443Z"
    }
   },
   "outputs": [],
   "source": [
    "# Read frequencies\n",
    "freq_name = \"/home/miguel/Documents/datasets/A1314_JVLA/cubes/freqs.npy\"\n",
    "freqs = np.load(freq_name)"
   ]
  },
  {
   "cell_type": "code",
   "execution_count": null,
   "id": "be98dde9",
   "metadata": {
    "ExecuteTime": {
     "end_time": "2021-12-02T16:55:37.728046Z",
     "start_time": "2021-12-02T16:55:37.669964Z"
    }
   },
   "outputs": [],
   "source": [
    "# Get LOS\n",
    "coord = SkyCoord(\"11:33:59.1755+49:03:44.108\", unit=(un.hourangle, un.deg), frame=\"fk5\")"
   ]
  },
  {
   "cell_type": "code",
   "execution_count": null,
   "id": "c86df204",
   "metadata": {
    "ExecuteTime": {
     "end_time": "2021-12-02T16:55:37.781639Z",
     "start_time": "2021-12-02T16:55:37.728769Z"
    }
   },
   "outputs": [],
   "source": [
    "# Get WCS\n",
    "wcs = WCS(hdul_q[0].header)"
   ]
  },
  {
   "cell_type": "code",
   "execution_count": null,
   "id": "6d52d0f0",
   "metadata": {
    "ExecuteTime": {
     "end_time": "2021-12-02T16:55:37.832924Z",
     "start_time": "2021-12-02T16:55:37.782540Z"
    }
   },
   "outputs": [],
   "source": [
    "# Get pixel\n",
    "x,y = coord.to_pixel(wcs, origin=0)\n",
    "x = int(x)\n",
    "y = int(y)"
   ]
  },
  {
   "cell_type": "code",
   "execution_count": null,
   "id": "3f07140e",
   "metadata": {
    "ExecuteTime": {
     "end_time": "2021-12-02T16:55:37.903119Z",
     "start_time": "2021-12-02T16:55:37.833817Z"
    }
   },
   "outputs": [],
   "source": [
    "q_data = hdul_q[0].data\n",
    "u_data = hdul_u[0].data"
   ]
  },
  {
   "cell_type": "code",
   "execution_count": null,
   "id": "28451774",
   "metadata": {
    "ExecuteTime": {
     "end_time": "2021-12-02T16:55:47.961757Z",
     "start_time": "2021-12-02T16:55:37.903987Z"
    },
    "scrolled": false
   },
   "outputs": [],
   "source": [
    "# Get sigma\n",
    "mean_q, median_q, std_q = sigma_clipped_stats(q_data[:, 0:300, 0:300], sigma=3, axis=(1,2))\n",
    "mean_u, median_u, std_u = sigma_clipped_stats(u_data[:, 0:300, 0:300], sigma=3, axis=(1,2))\n",
    "#std_q = np.nanstd(q_data[:, 0:100, 0:100], axis=(1, 2))\n",
    "#std_u = np.nanstd(u_data[:, 0:100, 0:100], axis=(1, 2))"
   ]
  },
  {
   "cell_type": "code",
   "execution_count": null,
   "id": "81b43697",
   "metadata": {
    "ExecuteTime": {
     "end_time": "2021-12-02T16:55:47.964220Z",
     "start_time": "2021-12-02T16:55:47.962544Z"
    }
   },
   "outputs": [],
   "source": [
    "sigma_qu = 0.5*(std_q + std_u)"
   ]
  },
  {
   "cell_type": "code",
   "execution_count": null,
   "id": "984c3967",
   "metadata": {
    "ExecuteTime": {
     "end_time": "2021-12-02T16:55:48.020013Z",
     "start_time": "2021-12-02T16:55:47.965629Z"
    }
   },
   "outputs": [],
   "source": [
    "data = q_data[:,y,x] + 1j * u_data[:,y,x]\n",
    "alpha = hdul_alpha[0].data[y,x]"
   ]
  },
  {
   "cell_type": "code",
   "execution_count": null,
   "id": "9c184938",
   "metadata": {
    "ExecuteTime": {
     "end_time": "2021-12-02T16:55:48.066460Z",
     "start_time": "2021-12-02T16:55:48.020666Z"
    }
   },
   "outputs": [],
   "source": [
    "data = np.flipud(data)\n",
    "sigma_qu = sigma_qu[::-1]"
   ]
  },
  {
   "cell_type": "code",
   "execution_count": null,
   "id": "85ff24ae",
   "metadata": {
    "ExecuteTime": {
     "end_time": "2021-12-02T16:55:48.332308Z",
     "start_time": "2021-12-02T16:55:48.067129Z"
    }
   },
   "outputs": [],
   "source": [
    "measurements = Dataset(nu=freqs, data=data, sigma=sigma_qu, spectral_idx=alpha)"
   ]
  },
  {
   "cell_type": "code",
   "execution_count": null,
   "id": "ce1a18f9",
   "metadata": {
    "ExecuteTime": {
     "end_time": "2021-12-02T16:55:48.798281Z",
     "start_time": "2021-12-02T16:55:48.332988Z"
    }
   },
   "outputs": [],
   "source": [
    "plt.plot(measurements.lambda2, measurements.data.real, 'k.', label=r\"Stokes $Q$\")\n",
    "plt.plot(measurements.lambda2, measurements.data.imag, 'c.', label=r\"Stokes $U$\")\n",
    "plt.plot(measurements.lambda2, np.abs(measurements.data), 'g.', label=r\"$|P|$\")\n",
    "plt.xlabel(r'$\\lambda^2$[m$^{2}$]')\n",
    "plt.ylabel(r'Jy/beam')\n",
    "#plt.legend(loc='upper right')\n",
    "plt.tight_layout()\n",
    "#plt.savefig('polarized.png', dpi=100, bbox_inches='tight')"
   ]
  },
  {
   "cell_type": "code",
   "execution_count": null,
   "id": "da64dc72",
   "metadata": {
    "ExecuteTime": {
     "end_time": "2021-12-02T16:55:48.928765Z",
     "start_time": "2021-12-02T16:55:48.798954Z"
    }
   },
   "outputs": [],
   "source": [
    "plt.plot(measurements.lambda2, measurements.sigma, 'k.', label=r\"$\\sigma$\")\n",
    "plt.xlabel(r'$\\lambda^2$[m$^{2}$]')\n",
    "plt.ylabel(r'1/(Jy/beam)$^2$')"
   ]
  },
  {
   "cell_type": "code",
   "execution_count": null,
   "id": "927e91f0",
   "metadata": {
    "ExecuteTime": {
     "end_time": "2021-12-02T16:55:48.946698Z",
     "start_time": "2021-12-02T16:55:48.929450Z"
    }
   },
   "outputs": [],
   "source": [
    "## Flagging dataset ##\n",
    "normal_flagger = MeanFlagger(data=measurements, nsigma=5.0, delete_channels=True)\n",
    "idxs, outliers_idxs = normal_flagger.run()\n",
    "\n",
    "hampel_flagger = HampelFlagger(data=measurements, nsigma=5.0, delete_channels=True)\n",
    "idxs, outliers_idxs = hampel_flagger.run()"
   ]
  },
  {
   "cell_type": "code",
   "execution_count": null,
   "id": "44b2ae8f",
   "metadata": {
    "ExecuteTime": {
     "end_time": "2021-12-02T16:55:49.071848Z",
     "start_time": "2021-12-02T16:55:48.947400Z"
    }
   },
   "outputs": [],
   "source": [
    "plt.plot(measurements.lambda2, measurements.data.real, 'k.', label=r\"Stokes $Q$\")\n",
    "plt.plot(measurements.lambda2, measurements.data.imag, 'c.', label=r\"Stokes $U$\")\n",
    "plt.plot(measurements.lambda2, np.abs(measurements.data), 'g.', label=r\"$|P|$\")\n",
    "plt.xlabel(r'$\\lambda^2$[m$^{2}$]')\n",
    "plt.ylabel(r'Jy/beam')\n",
    "#plt.legend(loc='upper right')\n",
    "plt.tight_layout()\n",
    "#plt.savefig('polarized.png', dpi=100, bbox_inches='tight')"
   ]
  },
  {
   "cell_type": "code",
   "execution_count": null,
   "id": "4f75ed49",
   "metadata": {
    "ExecuteTime": {
     "end_time": "2021-12-02T16:55:49.184499Z",
     "start_time": "2021-12-02T16:55:49.072502Z"
    }
   },
   "outputs": [],
   "source": [
    "plt.plot(measurements.lambda2, measurements.sigma, 'k.', label=r\"$\\sigma$\")\n",
    "plt.xlabel(r'$\\lambda^2$[m$^{2}$]')\n",
    "plt.ylabel(r'Jy/beam')"
   ]
  },
  {
   "cell_type": "code",
   "execution_count": null,
   "id": "ac61a951",
   "metadata": {
    "ExecuteTime": {
     "end_time": "2021-12-02T16:55:49.186601Z",
     "start_time": "2021-12-02T16:55:49.185136Z"
    }
   },
   "outputs": [],
   "source": [
    "parameter = Parameter()"
   ]
  },
  {
   "cell_type": "code",
   "execution_count": null,
   "id": "cf4da55d",
   "metadata": {
    "ExecuteTime": {
     "end_time": "2021-12-02T16:55:49.311917Z",
     "start_time": "2021-12-02T16:55:49.187133Z"
    }
   },
   "outputs": [],
   "source": [
    "parameter.calculate_cellsize(dataset=measurements)"
   ]
  },
  {
   "cell_type": "code",
   "execution_count": null,
   "id": "c43f4e1c",
   "metadata": {
    "ExecuteTime": {
     "end_time": "2021-12-02T16:55:49.379363Z",
     "start_time": "2021-12-02T16:55:49.312498Z"
    }
   },
   "outputs": [],
   "source": [
    "nufft = NUFFT1D(dataset=measurements, parameter=parameter, solve=True)"
   ]
  },
  {
   "cell_type": "code",
   "execution_count": null,
   "id": "903a3b8d",
   "metadata": {
    "ExecuteTime": {
     "end_time": "2021-12-02T16:55:49.421945Z",
     "start_time": "2021-12-02T16:55:49.379953Z"
    }
   },
   "outputs": [],
   "source": [
    "dft = DFT1D(dataset=measurements, parameter=parameter)"
   ]
  },
  {
   "cell_type": "code",
   "execution_count": null,
   "id": "4096bae2",
   "metadata": {
    "ExecuteTime": {
     "end_time": "2021-12-02T16:55:49.500750Z",
     "start_time": "2021-12-02T16:55:49.422495Z"
    }
   },
   "outputs": [],
   "source": [
    "F_dirty = dft.backward(measurements.data)"
   ]
  },
  {
   "cell_type": "code",
   "execution_count": null,
   "id": "0599b4f8",
   "metadata": {
    "ExecuteTime": {
     "end_time": "2021-12-02T16:55:49.747464Z",
     "start_time": "2021-12-02T16:55:49.501327Z"
    }
   },
   "outputs": [],
   "source": [
    "plt.plot(parameter.phi, F_dirty.real, 'c--', label=r\"Stokes $Q$\")\n",
    "plt.plot(parameter.phi, F_dirty.imag, 'c:', label=r\"Stokes $U$\")\n",
    "plt.plot(parameter.phi, np.abs(F_dirty), 'k-', label=r\"|P|\")\n",
    "plt.xlabel(r'$\\phi$[rad m$^{-2}$]')\n",
    "plt.ylabel(r'Jy/beam m$^2$ rad$^{-1}$ rmtf$^{-1}$')\n",
    "plt.legend(loc='upper right')\n",
    "plt.xlim([-1000,1000])\n",
    "plt.tight_layout()\n",
    "plt.savefig('fdirty.png', dpi=100, bbox_inches='tight')"
   ]
  },
  {
   "cell_type": "code",
   "execution_count": null,
   "id": "56e9f5b8",
   "metadata": {
    "ExecuteTime": {
     "end_time": "2021-12-02T16:55:49.750180Z",
     "start_time": "2021-12-02T16:55:49.748082Z"
    }
   },
   "outputs": [],
   "source": [
    "noise_weights = 1/np.sqrt(np.sum(measurements.w))\n",
    "noise_weights"
   ]
  },
  {
   "cell_type": "code",
   "execution_count": null,
   "id": "202bf356",
   "metadata": {
    "ExecuteTime": {
     "end_time": "2021-12-02T16:55:49.812298Z",
     "start_time": "2021-12-02T16:55:49.750738Z"
    }
   },
   "outputs": [],
   "source": [
    "parameter.data = F_dirty"
   ]
  },
  {
   "cell_type": "code",
   "execution_count": null,
   "id": "ce7b46e2",
   "metadata": {
    "ExecuteTime": {
     "end_time": "2021-12-02T16:55:49.867788Z",
     "start_time": "2021-12-02T16:55:49.812794Z"
    }
   },
   "outputs": [],
   "source": [
    "parameter.complex_data_to_real()"
   ]
  },
  {
   "cell_type": "code",
   "execution_count": null,
   "id": "9abc346e",
   "metadata": {
    "ExecuteTime": {
     "end_time": "2021-12-02T16:55:49.925253Z",
     "start_time": "2021-12-02T16:55:49.868357Z"
    }
   },
   "outputs": [],
   "source": [
    "lambda_l1 = np.sqrt(2 * len(measurements.data) + np.sqrt(4 * len(measurements.data))) * noise_weights\n",
    "#lambda_l1 = np.sqrt(len(measurements.data)) * noise_F\n",
    "#lambda_l1 /= 10\n",
    "#lambda_l1=0.5\n",
    "lambda_tsv = 0.0\n",
    "chi2 = Chi2(dft_obj=nufft)\n",
    "l1 = L1(reg=lambda_l1)\n",
    "tsv = TSV(reg=lambda_tsv)\n",
    "# F_func = [chi2(P, dft, W), L1(lambda_l1)]\n",
    "F_func = [chi2, l1, tsv]\n",
    "f_func = [chi2]\n",
    "g_func = [l1, tsv]\n",
    "\n",
    "F_obj = OFunction(F_func)\n",
    "f_obj = OFunction(f_func)\n",
    "g_obj = OFunction(g_func)"
   ]
  },
  {
   "cell_type": "code",
   "execution_count": null,
   "id": "36583fc4",
   "metadata": {
    "ExecuteTime": {
     "end_time": "2021-12-02T16:55:49.999751Z",
     "start_time": "2021-12-02T16:55:49.925771Z"
    }
   },
   "outputs": [],
   "source": [
    "opt = FISTA(guess_param=parameter, F_obj=F_obj, fx=chi2, gx=g_obj, noise=noise_weights, verbose=True)\n",
    "#opt = FISTA(i_guess=F_real, F_obj=F_obj, fx=chi2, gx=g_obj, maxiter=1000, noise=1e-5, verbose=True)\n",
    "obj, X = opt.run()"
   ]
  },
  {
   "cell_type": "code",
   "execution_count": null,
   "id": "3cc804c3",
   "metadata": {
    "ExecuteTime": {
     "end_time": "2021-12-02T16:55:50.036117Z",
     "start_time": "2021-12-02T16:55:50.000292Z"
    }
   },
   "outputs": [],
   "source": [
    "X.real_data_to_complex()"
   ]
  },
  {
   "cell_type": "code",
   "execution_count": null,
   "id": "898d5e5d",
   "metadata": {
    "ExecuteTime": {
     "end_time": "2021-12-02T16:55:50.276431Z",
     "start_time": "2021-12-02T16:55:50.036728Z"
    }
   },
   "outputs": [],
   "source": [
    "plt.plot(parameter.phi, X.data.real, 'c--', label=r\"Stokes $Q$\")\n",
    "plt.plot(parameter.phi, X.data.imag, 'c:', label=r\"Stokes $U$\")\n",
    "plt.plot(parameter.phi, np.abs(X.data), 'k-', label=r\"$|P|$\")\n",
    "plt.xlabel(r'$\\phi$[rad m$^{-2}$]')\n",
    "plt.ylabel(r'Jy/beam m$^2$ rad$^{-1}$ pix$^{-1}$')\n",
    "plt.legend(loc='upper right')\n",
    "plt.tight_layout()\n",
    "plt.xlim([-1000,1000])"
   ]
  },
  {
   "cell_type": "code",
   "execution_count": null,
   "id": "d7f96623",
   "metadata": {
    "ExecuteTime": {
     "end_time": "2021-12-02T16:55:50.364154Z",
     "start_time": "2021-12-02T16:55:50.277039Z"
    }
   },
   "outputs": [],
   "source": [
    "plt.plot(measurements.lambda2, measurements.model_data.real, 'k.', label=r\"Stokes $Q$\")\n",
    "plt.plot(measurements.lambda2, measurements.model_data.imag, 'c.', label=r\"Stokes $U$\")\n",
    "plt.plot(measurements.lambda2, np.abs(measurements.model_data), 'g.', label=r\"$|P|$\")\n",
    "#plt.ylim([-0.007,0.008])"
   ]
  },
  {
   "cell_type": "code",
   "execution_count": null,
   "id": "42b304ea",
   "metadata": {
    "ExecuteTime": {
     "end_time": "2021-12-02T16:55:50.428645Z",
     "start_time": "2021-12-02T16:55:50.364883Z"
    }
   },
   "outputs": [],
   "source": [
    "F_residual = nufft.backward(measurements.residual)\n",
    "plt.plot(parameter.phi, F_residual.real, 'c--', label=r\"Stokes $Q$\")\n",
    "plt.plot(parameter.phi, F_residual.imag, 'c:', label=r\"Stokes $U$\")\n",
    "plt.plot(parameter.phi, np.abs(F_residual), 'k-', label=r\"$|P|$\")\n",
    "plt.xlim([-1000,1000])"
   ]
  },
  {
   "cell_type": "code",
   "execution_count": null,
   "id": "5dd335b3",
   "metadata": {
    "ExecuteTime": {
     "end_time": "2021-12-02T16:55:50.431104Z",
     "start_time": "2021-12-02T16:55:50.429246Z"
    }
   },
   "outputs": [],
   "source": [
    "conv_model = X.convolve(normalized=True) + F_residual"
   ]
  },
  {
   "cell_type": "code",
   "execution_count": null,
   "id": "56c67f39",
   "metadata": {
    "ExecuteTime": {
     "end_time": "2021-12-02T16:55:50.611130Z",
     "start_time": "2021-12-02T16:55:50.433875Z"
    }
   },
   "outputs": [],
   "source": [
    "plt.plot(parameter.phi, conv_model.real, 'c--', label=r\"Stokes $Q$\")\n",
    "plt.plot(parameter.phi, conv_model.imag, 'c:', label=r\"Stokes $U$\")\n",
    "plt.plot(parameter.phi, np.abs(conv_model), 'k-', label=r\"$|P|$\")\n",
    "plt.xlim([-1000,1000])\n",
    "#plt.axhline (y = noise_weights, color = 'b')\n",
    "#plt.axhline (y = -noise_weights, color = 'b')\n",
    "plt.xlabel(r'$\\phi$[rad m$^{-2}$]')\n",
    "plt.ylabel(r'Jy/beam m$^2$ rad$^{-1}$ rmtf$^{-1}$')\n",
    "plt.legend(loc='upper right')\n",
    "plt.tight_layout()"
   ]
  },
  {
   "cell_type": "code",
   "execution_count": null,
   "id": "e955152d",
   "metadata": {
    "ExecuteTime": {
     "end_time": "2021-12-02T16:55:50.614006Z",
     "start_time": "2021-12-02T16:55:50.611791Z"
    }
   },
   "outputs": [],
   "source": [
    "phi_idx = np.argmax(np.abs(conv_model))\n",
    "parameter.phi[phi_idx]"
   ]
  },
  {
   "cell_type": "code",
   "execution_count": null,
   "id": "90202cf2",
   "metadata": {
    "ExecuteTime": {
     "end_time": "2021-12-02T16:55:50.683139Z",
     "start_time": "2021-12-02T16:55:50.614618Z"
    }
   },
   "outputs": [],
   "source": [
    "np.max(np.abs(conv_model))"
   ]
  },
  {
   "cell_type": "code",
   "execution_count": null,
   "id": "b5f3090d",
   "metadata": {},
   "outputs": [],
   "source": []
  },
  {
   "cell_type": "code",
   "execution_count": null,
   "id": "9ca485d2",
   "metadata": {},
   "outputs": [],
   "source": []
  }
 ],
 "metadata": {
  "kernelspec": {
   "display_name": "Python 3 (ipykernel)",
   "language": "python",
   "name": "python3"
  },
  "language_info": {
   "codemirror_mode": {
    "name": "ipython",
    "version": 3
   },
   "file_extension": ".py",
   "mimetype": "text/x-python",
   "name": "python",
   "nbconvert_exporter": "python",
   "pygments_lexer": "ipython3",
   "version": "3.9.7"
  },
  "latex_envs": {
   "LaTeX_envs_menu_present": true,
   "autoclose": false,
   "autocomplete": true,
   "bibliofile": "biblio.bib",
   "cite_by": "apalike",
   "current_citInitial": 1,
   "eqLabelWithNumbers": true,
   "eqNumInitial": 1,
   "hotkeys": {
    "equation": "Ctrl-E",
    "itemize": "Ctrl-I"
   },
   "labels_anchors": false,
   "latex_user_defs": false,
   "report_style_numbering": false,
   "user_envs_cfg": false
  },
  "toc": {
   "base_numbering": 1,
   "nav_menu": {},
   "number_sections": true,
   "sideBar": true,
   "skip_h1_title": false,
   "title_cell": "Table of Contents",
   "title_sidebar": "Contents",
   "toc_cell": false,
   "toc_position": {},
   "toc_section_display": true,
   "toc_window_display": false
  },
  "varInspector": {
   "cols": {
    "lenName": 16,
    "lenType": 16,
    "lenVar": 40
   },
   "kernels_config": {
    "python": {
     "delete_cmd_postfix": "",
     "delete_cmd_prefix": "del ",
     "library": "var_list.py",
     "varRefreshCmd": "print(var_dic_list())"
    },
    "r": {
     "delete_cmd_postfix": ") ",
     "delete_cmd_prefix": "rm(",
     "library": "var_list.r",
     "varRefreshCmd": "cat(var_dic_list()) "
    }
   },
   "types_to_exclude": [
    "module",
    "function",
    "builtin_function_or_method",
    "instance",
    "_Feature"
   ],
   "window_display": false
  }
 },
 "nbformat": 4,
 "nbformat_minor": 5
}
