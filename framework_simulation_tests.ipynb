{
 "cells": [
  {
   "cell_type": "code",
   "execution_count": 1,
   "id": "024c325a",
   "metadata": {
    "ExecuteTime": {
     "end_time": "2021-09-16T12:21:58.640306Z",
     "start_time": "2021-09-16T12:21:57.969201Z"
    }
   },
   "outputs": [],
   "source": [
    "from framework.simulation import FaradayThinSource,FaradayThickSource\n",
    "from framework.reconstruction import Parameter\n",
    "import numpy as np\n",
    "from IPython.display import clear_output\n",
    "from framework.io import Reader, Writer\n",
    "from framework.base import Dataset\n",
    "from framework.transformers import DFT1D, NUFFT1D\n",
    "import matplotlib.pyplot as plt\n",
    "from framework.objectivefunction import OFunction\n",
    "from framework.utils import real_to_complex, complex_to_real, find_pixel\n",
    "from framework.objectivefunction import TSV, TV, L1, Chi2\n",
    "from framework.optimization import FISTA, ADMM, SDMM, GradientBasedMethod\n",
    "from framework.utils import Gaussian\n",
    "from framework.dictionaries.discrete import DiscreteWavelet\n",
    "from framework.dictionaries.undecimated import UndecimatedWavelet\n",
    "from framework.transformers import Gridding\n",
    "from scipy.constants import c\n",
    "from pynufft import NUFFT\n",
    "from scipy import signal as sci_signal\n",
    "import itertools\n",
    "import copy\n",
    "\n",
    "np.random.seed(666)"
   ]
  },
  {
   "cell_type": "code",
   "execution_count": 2,
   "id": "74c19991",
   "metadata": {
    "ExecuteTime": {
     "end_time": "2021-09-16T12:21:58.703906Z",
     "start_time": "2021-09-16T12:21:58.641448Z"
    }
   },
   "outputs": [],
   "source": [
    "class Test:\n",
    "    def __init__(self, nu_min=None, nu_max=None, nchannels=None, noise_frac=None, remove_frac=None, use_gridding=False, ftransform=\"nufft\", use_wavelet=None, source_1=None, source_2=None, scenario=1):\n",
    "        self.nu_min = nu_min\n",
    "        self.nu_max = nu_max\n",
    "        self.nchannels = nchannels\n",
    "        self.noise_frac = noise_frac\n",
    "        self.remove_frac = remove_frac\n",
    "        self.use_gridding=use_gridding\n",
    "        self.use_wavelet = use_wavelet\n",
    "        self.ftransform = ftransform\n",
    "        self.scenario = scenario\n",
    "        self.nu = np.linspace(start=nu_min, stop=nu_max, num=nchannels)\n",
    "        self.source_1 = copy.deepcopy(source_1)\n",
    "        self.source_2 = copy.deepcopy(source_2)\n",
    "\n",
    "        if self.source_1 is not None:\n",
    "            self.source_1.nu = self.nu\n",
    "            self.source_1.simulate()\n",
    "                \n",
    "        if self.source_2 is not None:\n",
    "            self.source_2.nu = self.nu\n",
    "            self.source_2.simulate()\n",
    "                \n",
    "        if scenario == 1:\n",
    "            self.source = self.source_1\n",
    "        elif scenario == 2:\n",
    "            self.source = self.source_2\n",
    "        else:\n",
    "            self.source = self.source_1 + self.source_2\n",
    "            \n",
    "        if remove_frac:\n",
    "            self.source.remove_channels(remove_frac)\n",
    "        \n",
    "        self.noiseless_source = copy.deepcopy(self.source)\n",
    "        \n",
    "        if noise_frac:\n",
    "            if scenario == 1:\n",
    "                self.avg_signal = np.abs(self.source_1.s_nu)\n",
    "            elif scenario == 2:\n",
    "                self.avg_signal = np.abs(self.source_2.s_nu)\n",
    "            else:\n",
    "                self.avg_signal = (np.abs(self.source_1.s_nu) + np.abs(self.source_2.s_nu))/2.0\n",
    "            self.source.apply_noise(self.avg_signal/self.noise_frac)\n",
    "                \n",
    "        if use_gridding:\n",
    "            gridding = Gridding(self.source)\n",
    "            gridding_noiseless = Gridding(self.noiseless_source)\n",
    "            self.source = gridding.run()\n",
    "            self.noiseless_source = gridding_noiseless.run()\n",
    "            \n",
    "    def run(self, lambda_tv:float=None, lambda_tsv:float=None):\n",
    "        self.parameter = Parameter()\n",
    "        self.parameter.calculate_cellsize(dataset=self.source)\n",
    "        \n",
    "        dft = DFT1D(dataset=self.source, parameter=self.parameter)\n",
    "        \n",
    "        self.F_dirty = dft.backward(self.source.data)\n",
    "        \n",
    "        idx_noise = np.where(np.abs(self.parameter.phi)>self.parameter.max_faraday_depth/1.5)\n",
    "        \n",
    "        self.noise = 0.5*(np.std(self.F_dirty[idx_noise].real) + np.std(self.F_dirty[idx_noise].imag))\n",
    "        \n",
    "        if self.use_wavelet:\n",
    "            #self.wavelet = DiscreteWavelet(wavelet_name=self.use_wavelet, mode=\"periodization\")\n",
    "            self.wavelet = UndecimatedWavelet(wavelet_name=self.use_wavelet)\n",
    "        \n",
    "        self.lambda_l1 = np.sqrt(2.0 * len(self.source.data) + 4.0 * np.sqrt(len(self.source.data)))*self.noise*0.5\n",
    "        #lambda_l1 =np.sqrt(len(self.source.data) + np.sqrt(len(self.source.data)))*self.noise\n",
    "        \n",
    "        \n",
    "        if lambda_tv is None:\n",
    "            lambda_tv = 0.0\n",
    "        \n",
    "        if lambda_tsv is None:\n",
    "            lambda_tsv = 0.0\n",
    "            \n",
    "        if self.ftransform == \"nufft\":\n",
    "            nufft = NUFFT1D(dataset=self.source, parameter=self.parameter, solve=True)\n",
    "            if self.use_wavelet:\n",
    "                chi2 = Chi2(dft_obj=nufft, wavelet=self.wavelet)\n",
    "            else:\n",
    "                chi2 = Chi2(dft_obj=nufft)\n",
    "        else:\n",
    "            if self.use_wavelet:\n",
    "                chi2 = Chi2(dft_obj=dft, wavelet=self.wavelet)\n",
    "            else:\n",
    "                chi2 = Chi2(dft_obj=dft)\n",
    "            \n",
    "        l1 = L1(reg=self.lambda_l1)\n",
    "        tsv = TSV(reg=lambda_tsv)\n",
    "        tv = TV(reg=lambda_tv)\n",
    "        F_func = [chi2, l1, tsv]\n",
    "        f_func = [chi2]\n",
    "        g_func = [l1, tsv]\n",
    "\n",
    "        F_obj = OFunction(F_func)\n",
    "        f_obj = OFunction(f_func)\n",
    "        g_obj = OFunction(g_func)\n",
    "        \n",
    "        self.parameter.data = self.F_dirty\n",
    "        \n",
    "        self.parameter.complex_data_to_real()\n",
    "        \n",
    "        if self.use_wavelet:\n",
    "            self.parameter.data = self.wavelet.decompose(self.parameter.data)\n",
    "        \n",
    "        opt = FISTA(guess_param=self.parameter, F_obj=F_obj, fx=chi2, gx=g_obj, noise=self.noise, verbose=True)\n",
    "        self.obj, self.X = opt.run()\n",
    "        \n",
    "        if self.use_wavelet is not None:\n",
    "            self.coeffs = copy.deepcopy(self.X.data)\n",
    "            self.sparsity = len(np.nonzero(self.coeffs))/len(self.coeffs)\n",
    "            self.X.data = self.wavelet.reconstruct(self.X.data)\n",
    "        else:\n",
    "            self.sparsity = len(np.nonzero(self.X.data))/ len(self.X.data)\n",
    "            \n",
    "        \n",
    "        self.X.real_data_to_complex()\n",
    "        \n",
    "        self.X_residual = dft.backward(self.source.residual)\n",
    "        \n",
    "        self.X_restored = self.X.convolve() + self.X_residual\n",
    "        \n",
    "        self.res_noise = 0.5*(np.std(self.X_residual.real) + np.std(self.X_residual.imag))\n",
    "        meaningful_signal = np.where(np.abs(self.parameter.phi) < self.parameter.max_faraday_depth)\n",
    "        self.signal = np.mean(np.abs(self.X_restored[meaningful_signal]))\n",
    "        self.peak_signal = np.max(np.abs(self.X_restored))\n",
    "        self.rmse = np.sqrt(np.mean(self.res_noise**2))\n",
    "        \n",
    "        self.snr = self.signal / self.res_noise\n",
    "        self.psnr = self.peak_signal / self.res_noise\n",
    "        \n",
    "        print(\"Signal-to-noise ratio: {0}\".format(self.snr))\n",
    "        print(\"Peak Signal-to-noise ratio: {0}\".format(self.psnr))\n",
    "        print(\"Normalized Root Mean Squared Error: {0}\".format(self.rmse))\n",
    "        \n",
    "        self.lags, self.autocorr_res, self.autocorr_res_sq, self.bound, self.percentage_real_in, self.percentage_imag_in, self.percentage_real_in_sq, self.percentage_imag_in_sq = self.source.assess_residuals()\n",
    "        \n",
    "        self.residual_comparison = self.noiseless_source.data - self.source.model_data\n",
    "        \n",
    "        self.fig, self.ax = plt.subplots(nrows=2, ncols=4, sharey='row', figsize=(18, 5))\n",
    "\n",
    "        # Data\n",
    "        self.ax[0,0].plot(self.source.lambda2, self.source.data.real, 'k.', label=r\"Stokes $Q$\")\n",
    "        self.ax[0,0].plot(self.source.lambda2, self.source.data.imag, 'c.', label=r\"Stokes $U$\")\n",
    "        self.ax[0,0].plot(self.source.lambda2, np.abs(self.source.data), 'g.', label=r\"$|P|$\")\n",
    "        self.ax[0,0].set_xlabel(r'$\\lambda^2$[m$^{2}$]')\n",
    "        self.ax[0,0].set_ylabel(r'Jy/beam')\n",
    "        self.ax[0,0].title.set_text(\"Data\")\n",
    "\n",
    "        self.ax[1,0].plot(self.parameter.phi, self.F_dirty.real, 'c--', label=r\"Stokes $Q$\")\n",
    "        self.ax[1,0].plot(self.parameter.phi, self.F_dirty.imag, 'c:', label=r\"Stokes $U$\")\n",
    "        self.ax[1,0].plot(self.parameter.phi, np.abs(self.F_dirty), 'k-', label=r\"|P|\")\n",
    "        self.ax[1,0].set_xlabel(r'$\\phi$[rad m$^{-2}$]')\n",
    "        self.ax[1,0].set_ylabel(r'Jy/beam m$^2$ rad$^{-1}$ rmtf$^{-1}$')\n",
    "        self.ax[1,0].set_xlim([-1000,1000])\n",
    "\n",
    "        # Model\n",
    "        self.ax[0,1].plot(self.source.lambda2, self.source.model_data.real, 'k.', label=r\"Stokes $Q$\")\n",
    "        self.ax[0,1].plot(self.source.lambda2, self.source.model_data.imag, 'c.', label=r\"Stokes $U$\")\n",
    "        self.ax[0,1].plot(self.source.lambda2, np.abs(self.source.model_data), 'g.', label=r\"$|P|$\")\n",
    "        self.ax[0,1].set_xlabel(r'$\\lambda^2$[m$^{2}$]')\n",
    "        self.ax[0,1].set_ylabel(r'Jy/beam')\n",
    "        self.ax[0,1].title.set_text(\"Model\")\n",
    "\n",
    "        self.ax[1,1].plot(self.parameter.phi, self.X.data.real, 'c--', label=r\"Stokes $Q$\")\n",
    "        self.ax[1,1].plot(self.parameter.phi, self.X.data.imag, 'c:', label=r\"Stokes $U$\")\n",
    "        self.ax[1,1].plot(self.parameter.phi, np.abs(self.X.data), 'k-', label=r\"$|P|$\")\n",
    "        self.ax[1,1].set_xlabel(r'$\\phi$[rad m$^{-2}$]')\n",
    "        self.ax[1,1].set_ylabel(r'Jy/beam m$^2$ rad$^{-1}$ pix$^{-1}$')\n",
    "        self.ax[1,1].set_xlim([-1000,1000])\n",
    "\n",
    "        # Residual\n",
    "\n",
    "        # Model\n",
    "        self.ax[0,2].plot(self.source.lambda2, self.source.residual.real, 'k.', label=r\"Stokes $Q$\")\n",
    "        self.ax[0,2].plot(self.source.lambda2, self.source.residual.imag, 'c.', label=r\"Stokes $U$\")\n",
    "        self.ax[0,2].plot(self.source.lambda2, np.abs(self.source.residual), 'g.', label=r\"$|P|$\")\n",
    "        self.ax[0,2].set_xlabel(r'$\\lambda^2$[m$^{2}$]')\n",
    "        self.ax[0,2].set_ylabel(r'Jy/beam')\n",
    "        self.ax[0,2].title.set_text(\"Residual\")\n",
    "\n",
    "        self.ax[1,2].plot(self.parameter.phi, self.X_residual.real, 'c--', label=r\"Stokes $Q$\")\n",
    "        self.ax[1,2].plot(self.parameter.phi, self.X_residual.imag, 'c:', label=r\"Stokes $U$\")\n",
    "        self.ax[1,2].plot(self.parameter.phi, np.abs(self.X_residual), 'k-', label=r\"$|P|$\")\n",
    "        self.ax[1,2].set_xlabel(r'$\\phi$[rad m$^{-2}$]')\n",
    "        self.ax[1,2].set_ylabel(r'Jy/beam m$^2$ rad$^{-1}$ rmtf$^{-1}$')\n",
    "        self.ax[1,2].set_xlim([-1000,1000])\n",
    "        \n",
    "        if self.use_wavelet:\n",
    "            self.ax[0,3].plot(self.coeffs)\n",
    "            self.ax[0,3].title.set_text(\"Coefficients\")\n",
    "\n",
    "        self.ax[1,3].plot(self.parameter.phi, self.X_restored.real, 'c--', label=r\"Stokes $Q$\")\n",
    "        self.ax[1,3].plot(self.parameter.phi, self.X_restored.imag, 'c:', label=r\"Stokes $U$\")\n",
    "        self.ax[1,3].plot(self.parameter.phi, np.abs(self.X_restored), 'k-', label=r\"$|P|$\")\n",
    "        self.ax[1,3].set_xlim([-1000,1000])\n",
    "        self.ax[1,3].set_xlabel(r'$\\phi$[rad m$^{-2}$]')\n",
    "        self.ax[1,3].set_ylabel(r'Jy/beam m$^2$ rad$^{-1}$ rmtf$^{-1}$')\n",
    "        self.ax[1,3].title.set_text(\"Restored\")\n",
    "        \n",
    "        self.fig.tight_layout()"
   ]
  },
  {
   "cell_type": "code",
   "execution_count": 3,
   "id": "2df5426b",
   "metadata": {
    "ExecuteTime": {
     "end_time": "2021-09-16T12:21:58.763498Z",
     "start_time": "2021-09-16T12:21:58.704567Z"
    }
   },
   "outputs": [],
   "source": [
    "source_1 = FaradayThinSource(s_nu=0.0035, phi_gal=-200, spectral_idx=1.0)\n",
    "source_2 = FaradayThickSource(s_nu=0.0035, phi_fg=140, phi_center=200, spectral_idx=1.0)"
   ]
  },
  {
   "cell_type": "code",
   "execution_count": 4,
   "id": "e7e34513",
   "metadata": {
    "ExecuteTime": {
     "end_time": "2021-09-16T12:21:58.811264Z",
     "start_time": "2021-09-16T12:21:58.764090Z"
    }
   },
   "outputs": [],
   "source": [
    "nsigma = [2.0, 3.0, 4.0, 5.0, 6.0, 7.0, 8.0, 9.0, 10.0]\n",
    "remove_frac = [0.0, 0.1, 0.2, 0.3, 0.4, 0.5, 0.6, 0.7]"
   ]
  },
  {
   "cell_type": "code",
   "execution_count": 5,
   "id": "0d33c246",
   "metadata": {
    "ExecuteTime": {
     "end_time": "2021-09-16T12:21:59.003467Z",
     "start_time": "2021-09-16T12:21:58.811851Z"
    }
   },
   "outputs": [],
   "source": [
    "test_objs = []\n",
    "for nsig in nsigma:\n",
    "    for remv_frac in remove_frac:\n",
    "        test_objs.append(Test(nu_min=1.008e9, nu_max=2.031e9, nchannels=1000, noise_frac=nsig, remove_frac=remv_frac, scenario=1, source_1=source_1, source_2=source_2))"
   ]
  },
  {
   "cell_type": "code",
   "execution_count": 6,
   "id": "e69f7c1f",
   "metadata": {
    "ExecuteTime": {
     "end_time": "2021-09-16T12:22:52.558101Z",
     "start_time": "2021-09-16T12:21:59.004318Z"
    }
   },
   "outputs": [
    {
     "name": "stdout",
     "output_type": "stream",
     "text": [
      "FWHM of the main peak of the RMTF: 51.962 rad/m^2\n",
      "Maximum recovered width structure: 144.188 rad/m^2\n",
      "Maximum Faraday Depth to which one has more than 50% sensitivity: 25954.896\n",
      "Iterations set to 23\n",
      "Iteration:  0  objective function value: 0.00682\n",
      "Signal-to-noise ratio: 1.3528829005770375\n",
      "Peak Signal-to-noise ratio: 63.03979164903818\n",
      "Normalized Root Mean Squared Error: 5.31883561052382e-05\n",
      "FWHM of the main peak of the RMTF: 52.102 rad/m^2\n",
      "Maximum recovered width structure: 144.188 rad/m^2\n",
      "Maximum Faraday Depth to which one has more than 50% sensitivity: 23419.848\n",
      "Iterations set to 21\n",
      "Iteration:  0  objective function value: 0.00760\n",
      "Signal-to-noise ratio: 1.322867487058602\n",
      "Peak Signal-to-noise ratio: 59.37577507994971\n",
      "Normalized Root Mean Squared Error: 5.8522829931462184e-05\n",
      "FWHM of the main peak of the RMTF: 54.537 rad/m^2\n",
      "Maximum recovered width structure: 144.188 rad/m^2\n",
      "Maximum Faraday Depth to which one has more than 50% sensitivity: 21787.658\n",
      "Iterations set to 20\n",
      "Iteration:  0  objective function value: 0.00698\n",
      "Signal-to-noise ratio: 1.3270156094425998\n",
      "Peak Signal-to-noise ratio: 53.40973198844924\n",
      "Normalized Root Mean Squared Error: 6.428027700167149e-05\n",
      "FWHM of the main peak of the RMTF: 53.851 rad/m^2\n",
      "Maximum recovered width structure: 137.293 rad/m^2\n",
      "Maximum Faraday Depth to which one has more than 50% sensitivity: 18820.948\n",
      "Iterations set to 19\n",
      "Iteration:  0  objective function value: 0.00528\n",
      "Signal-to-noise ratio: 1.3198406692559768\n",
      "Peak Signal-to-noise ratio: 47.694952673214246\n",
      "Normalized Root Mean Squared Error: 6.553935236297548e-05\n",
      "FWHM of the main peak of the RMTF: 53.174 rad/m^2\n",
      "Maximum recovered width structure: 140.145 rad/m^2\n",
      "Maximum Faraday Depth to which one has more than 50% sensitivity: 15925.719\n",
      "Iterations set to 18\n",
      "Iteration:  0  objective function value: 0.00537\n",
      "Exit due to tolerance:  0.0  <  1e-15\n",
      "Iterations:  3\n",
      "Signal-to-noise ratio: 0.8439049649084656\n",
      "Peak Signal-to-noise ratio: 21.789936496268886\n",
      "Normalized Root Mean Squared Error: 0.0001697635161690414\n",
      "FWHM of the main peak of the RMTF: 68.260 rad/m^2\n",
      "Maximum recovered width structure: 142.737 rad/m^2\n",
      "Maximum Faraday Depth to which one has more than 50% sensitivity: 17030.990\n",
      "Iterations set to 16\n",
      "Iteration:  0  objective function value: 0.00440\n",
      "Signal-to-noise ratio: 1.3386443017687002\n",
      "Peak Signal-to-noise ratio: 41.682905099303326\n",
      "Normalized Root Mean Squared Error: 8.201933087548241e-05\n",
      "FWHM of the main peak of the RMTF: 66.721 rad/m^2\n",
      "Maximum recovered width structure: 107.854 rad/m^2\n",
      "Maximum Faraday Depth to which one has more than 50% sensitivity: 13310.931\n",
      "Iterations set to 14\n",
      "Iteration:  0  objective function value: 0.00307\n",
      "Signal-to-noise ratio: 1.3594395748749475\n",
      "Peak Signal-to-noise ratio: 41.73553489996257\n",
      "Normalized Root Mean Squared Error: 8.78623322932981e-05\n",
      "FWHM of the main peak of the RMTF: 56.585 rad/m^2\n",
      "Maximum recovered width structure: 138.146 rad/m^2\n",
      "Maximum Faraday Depth to which one has more than 50% sensitivity: 8459.450\n",
      "Iterations set to 12\n",
      "Iteration:  0  objective function value: 0.00265\n",
      "Exit due to tolerance:  0.0  <  1e-15\n",
      "Iterations:  1\n",
      "Signal-to-noise ratio: 0.9578486965673021\n",
      "Peak Signal-to-noise ratio: 11.78086644310396\n",
      "Normalized Root Mean Squared Error: 0.0002765901735983789\n",
      "FWHM of the main peak of the RMTF: 51.962 rad/m^2\n",
      "Maximum recovered width structure: 144.188 rad/m^2\n",
      "Maximum Faraday Depth to which one has more than 50% sensitivity: 25954.896\n",
      "Iterations set to 23\n",
      "Iteration:  0  objective function value: 0.00472\n",
      "Signal-to-noise ratio: 1.349948629005724\n",
      "Peak Signal-to-noise ratio: 91.88666906494477\n",
      "Normalized Root Mean Squared Error: 3.697792999446392e-05\n",
      "FWHM of the main peak of the RMTF: 52.258 rad/m^2\n",
      "Maximum recovered width structure: 142.882 rad/m^2\n",
      "Maximum Faraday Depth to which one has more than 50% sensitivity: 23490.189\n",
      "Iterations set to 21\n",
      "Iteration:  0  objective function value: 0.00510\n",
      "Signal-to-noise ratio: 1.337651102823593\n",
      "Peak Signal-to-noise ratio: 84.88620635672397\n",
      "Normalized Root Mean Squared Error: 4.091937080374919e-05\n",
      "FWHM of the main peak of the RMTF: 52.898 rad/m^2\n",
      "Maximum recovered width structure: 137.861 rad/m^2\n",
      "Maximum Faraday Depth to which one has more than 50% sensitivity: 21132.554\n",
      "Iterations set to 20\n",
      "Iteration:  0  objective function value: 0.00389\n",
      "Signal-to-noise ratio: 1.348145843858451\n",
      "Peak Signal-to-noise ratio: 76.99996388041795\n",
      "Normalized Root Mean Squared Error: 4.371010436443612e-05\n",
      "FWHM of the main peak of the RMTF: 57.225 rad/m^2\n",
      "Maximum recovered width structure: 144.188 rad/m^2\n",
      "Maximum Faraday Depth to which one has more than 50% sensitivity: 20000.130\n",
      "Iterations set to 19\n",
      "Iteration:  0  objective function value: 0.00334\n",
      "Signal-to-noise ratio: 1.363279056788092\n",
      "Peak Signal-to-noise ratio: 75.95444314451744\n",
      "Normalized Root Mean Squared Error: 4.211260238662362e-05\n",
      "FWHM of the main peak of the RMTF: 52.102 rad/m^2\n",
      "Maximum recovered width structure: 144.188 rad/m^2\n",
      "Maximum Faraday Depth to which one has more than 50% sensitivity: 15604.548\n",
      "Iterations set to 18\n",
      "Iteration:  0  objective function value: 0.00365\n",
      "Signal-to-noise ratio: 1.3707700644220735\n",
      "Peak Signal-to-noise ratio: 67.96536020165534\n",
      "Normalized Root Mean Squared Error: 5.103459989186376e-05\n",
      "FWHM of the main peak of the RMTF: 68.683 rad/m^2\n",
      "Maximum recovered width structure: 144.188 rad/m^2\n",
      "Maximum Faraday Depth to which one has more than 50% sensitivity: 17136.329\n",
      "Iterations set to 16\n",
      "Iteration:  0  objective function value: 0.00305\n",
      "Signal-to-noise ratio: 1.3574817958245184\n",
      "Peak Signal-to-noise ratio: 55.81430722913773\n",
      "Normalized Root Mean Squared Error: 5.5446100304834545e-05\n",
      "FWHM of the main peak of the RMTF: 65.906 rad/m^2\n",
      "Maximum recovered width structure: 143.897 rad/m^2\n",
      "Maximum Faraday Depth to which one has more than 50% sensitivity: 13148.159\n",
      "Iterations set to 14\n",
      "Iteration:  0  objective function value: 0.00278\n",
      "Signal-to-noise ratio: 1.2406382757701602\n",
      "Peak Signal-to-noise ratio: 43.25362695068744\n",
      "Normalized Root Mean Squared Error: 7.866915257181972e-05\n",
      "FWHM of the main peak of the RMTF: 99.114 rad/m^2\n",
      "Maximum recovered width structure: 138.430 rad/m^2\n",
      "Maximum Faraday Depth to which one has more than 50% sensitivity: 14817.490\n",
      "Iterations set to 12\n",
      "Iteration:  0  objective function value: 0.00183\n",
      "Signal-to-noise ratio: 1.239209046230887\n",
      "Peak Signal-to-noise ratio: 32.0828698219497\n",
      "Normalized Root Mean Squared Error: 8.678138692630455e-05\n",
      "FWHM of the main peak of the RMTF: 51.962 rad/m^2\n",
      "Maximum recovered width structure: 144.188 rad/m^2\n",
      "Maximum Faraday Depth to which one has more than 50% sensitivity: 25954.896\n",
      "Iterations set to 23\n",
      "Iteration:  0  objective function value: 0.00393\n",
      "Signal-to-noise ratio: 1.3862296208074274\n",
      "Peak Signal-to-noise ratio: 125.62447436653117\n",
      "Normalized Root Mean Squared Error: 2.7217611204832792e-05\n",
      "FWHM of the main peak of the RMTF: 57.378 rad/m^2\n",
      "Maximum recovered width structure: 144.188 rad/m^2\n",
      "Maximum Faraday Depth to which one has more than 50% sensitivity: 25791.276\n",
      "Iterations set to 21\n",
      "Iteration:  0  objective function value: 0.00421\n",
      "Signal-to-noise ratio: 1.3727583581395892\n",
      "Peak Signal-to-noise ratio: 114.99595519022782\n",
      "Normalized Root Mean Squared Error: 3.0112199965515174e-05\n",
      "FWHM of the main peak of the RMTF: 58.147 rad/m^2\n",
      "Maximum recovered width structure: 144.188 rad/m^2\n",
      "Maximum Faraday Depth to which one has more than 50% sensitivity: 23229.654\n",
      "Iterations set to 20\n",
      "Iteration:  0  objective function value: 0.00367\n",
      "Signal-to-noise ratio: 1.3748254916502443\n",
      "Peak Signal-to-noise ratio: 107.24519169054886\n",
      "Normalized Root Mean Squared Error: 3.143676440231502e-05\n",
      "FWHM of the main peak of the RMTF: 52.102 rad/m^2\n",
      "Maximum recovered width structure: 144.188 rad/m^2\n",
      "Maximum Faraday Depth to which one has more than 50% sensitivity: 18209.648\n",
      "Iterations set to 19\n",
      "Iteration:  0  objective function value: 0.00270\n",
      "Signal-to-noise ratio: 1.3988980362929457\n",
      "Peak Signal-to-noise ratio: 103.26484876693969\n",
      "Normalized Root Mean Squared Error: 3.451161319389939e-05\n",
      "FWHM of the main peak of the RMTF: 52.294 rad/m^2\n",
      "Maximum recovered width structure: 142.593 rad/m^2\n",
      "Maximum Faraday Depth to which one has more than 50% sensitivity: 15661.957\n",
      "Iterations set to 18\n",
      "Iteration:  0  objective function value: 0.00247\n",
      "Signal-to-noise ratio: 1.4343699670798506\n",
      "Peak Signal-to-noise ratio: 94.75952728315967\n",
      "Normalized Root Mean Squared Error: 3.547978849383071e-05\n"
     ]
    },
    {
     "name": "stderr",
     "output_type": "stream",
     "text": [
      "/tmp/ipykernel_115925/2774269971.py:141: RuntimeWarning: More than 20 figures have been opened. Figures created through the pyplot interface (`matplotlib.pyplot.figure`) are retained until explicitly closed and may consume too much memory. (To control this warning, see the rcParam `figure.max_open_warning`).\n",
      "  self.fig, self.ax = plt.subplots(nrows=2, ncols=4, sharey='row', figsize=(18, 5))\n"
     ]
    },
    {
     "name": "stdout",
     "output_type": "stream",
     "text": [
      "FWHM of the main peak of the RMTF: 67.611 rad/m^2\n",
      "Maximum recovered width structure: 130.153 rad/m^2\n",
      "Maximum Faraday Depth to which one has more than 50% sensitivity: 16868.880\n",
      "Iterations set to 16\n",
      "Iteration:  0  objective function value: 0.00211\n",
      "Signal-to-noise ratio: 1.4090681492070432\n",
      "Peak Signal-to-noise ratio: 81.6551167749814\n",
      "Normalized Root Mean Squared Error: 4.1131028410745785e-05\n",
      "FWHM of the main peak of the RMTF: 65.042 rad/m^2\n",
      "Maximum recovered width structure: 143.897 rad/m^2\n",
      "Maximum Faraday Depth to which one has more than 50% sensitivity: 12975.851\n",
      "Iterations set to 14\n",
      "Iteration:  0  objective function value: 0.00209\n",
      "Signal-to-noise ratio: 1.2821766492936253\n",
      "Peak Signal-to-noise ratio: 60.0069876976284\n",
      "Normalized Root Mean Squared Error: 4.9644797400105745e-05\n",
      "FWHM of the main peak of the RMTF: 55.903 rad/m^2\n",
      "Maximum recovered width structure: 128.912 rad/m^2\n",
      "Maximum Faraday Depth to which one has more than 50% sensitivity: 8357.440\n",
      "Iterations set to 12\n",
      "Iteration:  0  objective function value: 0.00218\n",
      "Exit due to tolerance:  0.0  <  1e-15\n",
      "Iterations:  2\n",
      "Signal-to-noise ratio: 0.8441251263000739\n",
      "Peak Signal-to-noise ratio: 13.527570411611615\n",
      "Normalized Root Mean Squared Error: 0.0002589827054180205\n",
      "FWHM of the ma"
     ]
    },
    {
     "data": {
      "text/html": [
       "<b>limit_output extension: Maximum message size of 10000 exceeded with 10233 characters</b>"
      ]
     },
     "metadata": {},
     "output_type": "display_data"
    }
   ],
   "source": [
    "nid = len(nsigma)*len(remove_frac)\n",
    "for _id in range(0, nid):\n",
    "    test_objs[_id].run()"
   ]
  },
  {
   "cell_type": "code",
   "execution_count": 7,
   "id": "5a559cd8",
   "metadata": {
    "ExecuteTime": {
     "end_time": "2021-09-16T12:22:52.560317Z",
     "start_time": "2021-09-16T12:22:52.558726Z"
    }
   },
   "outputs": [],
   "source": [
    "selected_test = test_objs[7]"
   ]
  },
  {
   "cell_type": "code",
   "execution_count": 8,
   "id": "2c69e796",
   "metadata": {
    "ExecuteTime": {
     "end_time": "2021-09-16T12:22:52.838738Z",
     "start_time": "2021-09-16T12:22:52.561456Z"
    }
   },
   "outputs": [
    {
     "data": {
      "text/plain": [
       "0.7"
      ]
     },
     "execution_count": 8,
     "metadata": {},
     "output_type": "execute_result"
    }
   ],
   "source": [
    "selected_test.remove_frac"
   ]
  },
  {
   "cell_type": "code",
   "execution_count": 9,
   "id": "fffc7688",
   "metadata": {
    "ExecuteTime": {
     "end_time": "2021-09-16T12:22:53.192577Z",
     "start_time": "2021-09-16T12:22:52.839341Z"
    }
   },
   "outputs": [
    {
     "data": {
      "image/png": "[encoded data removed]",
      "text/plain": [
       "<Figure size 1296x360 with 8 Axes>"
      ]
     },
     "execution_count": 9,
     "metadata": {},
     "output_type": "execute_result"
    }
   ],
   "source": [
    "selected_test.fig"
   ]
  },
  {
   "cell_type": "code",
   "execution_count": 10,
   "id": "356c6193",
   "metadata": {
    "ExecuteTime": {
     "end_time": "2021-09-16T12:22:53.259926Z",
     "start_time": "2021-09-16T12:22:53.193250Z"
    }
   },
   "outputs": [
    {
     "data": {
      "image/png": "[encoded data removed]",
      "text/plain": [
       "<Figure size 432x288 with 1 Axes>"
      ]
     },
     "metadata": {
      "needs_background": "light"
     },
     "output_type": "display_data"
    }
   ],
   "source": [
    "plt.plot(selected_test.lags, selected_test.autocorr_res.real, '|-', c=\"black\", label=r\"Real part\")\n",
    "plt.plot(selected_test.lags, selected_test.autocorr_res.imag, '|-', c=\"cyan\", label=r\"Imaginary part\")\n",
    "plt.axhline(-selected_test.bound)\n",
    "plt.axhline(selected_test.bound)\n",
    "plt.grid()"
   ]
  },
  {
   "cell_type": "code",
   "execution_count": 11,
   "id": "f2aa60dd",
   "metadata": {
    "ExecuteTime": {
     "end_time": "2021-09-16T12:22:53.262491Z",
     "start_time": "2021-09-16T12:22:53.260587Z"
    }
   },
   "outputs": [],
   "source": [
    "#from framework.base import boxpierce, ljungbox\n",
    "#ljungbox(selected_test.autocorr_res.real, [1, 400, len(selected_test.lags)-1])"
   ]
  },
  {
   "cell_type": "code",
   "execution_count": 12,
   "id": "5147a1be",
   "metadata": {
    "ExecuteTime": {
     "end_time": "2021-09-16T12:22:53.311083Z",
     "start_time": "2021-09-16T12:22:53.263001Z"
    }
   },
   "outputs": [],
   "source": [
    "#boxpierce(selected_test.autocorr_res.real, [1, 400, len(selected_test.lags)-1])"
   ]
  },
  {
   "cell_type": "code",
   "execution_count": 13,
   "id": "5a6de0ba",
   "metadata": {
    "ExecuteTime": {
     "end_time": "2021-09-16T12:22:53.420009Z",
     "start_time": "2021-09-16T12:22:53.311600Z"
    }
   },
   "outputs": [
    {
     "data": {
      "image/png": "[encoded data removed]",
      "text/plain": [
       "<Figure size 432x288 with 1 Axes>"
      ]
     },
     "metadata": {
      "needs_background": "light"
     },
     "output_type": "display_data"
    }
   ],
   "source": [
    "plt.plot(selected_test.lags, selected_test.autocorr_res_sq.real, '|-', c=\"black\", label=r\"Real part\")\n",
    "plt.plot(selected_test.lags, selected_test.autocorr_res_sq.imag, '|-', c=\"cyan\", label=r\"Imaginary part\")\n",
    "plt.axhline(-selected_test.bound)\n",
    "plt.axhline(selected_test.bound)\n",
    "plt.grid()"
   ]
  },
  {
   "cell_type": "code",
   "execution_count": 14,
   "id": "64679db9",
   "metadata": {
    "ExecuteTime": {
     "end_time": "2021-09-16T12:22:53.422579Z",
     "start_time": "2021-09-16T12:22:53.420587Z"
    }
   },
   "outputs": [
    {
     "data": {
      "text/plain": [
       "(72.74939172749392, 80.5352798053528)"
      ]
     },
     "execution_count": 14,
     "metadata": {},
     "output_type": "execute_result"
    }
   ],
   "source": [
    "selected_test.percentage_real_in, selected_test.percentage_imag_in"
   ]
  },
  {
   "cell_type": "code",
   "execution_count": 15,
   "id": "9b49cfa2",
   "metadata": {
    "ExecuteTime": {
     "end_time": "2021-09-16T12:22:53.472500Z",
     "start_time": "2021-09-16T12:22:53.423194Z"
    }
   },
   "outputs": [
    {
     "name": "stdout",
     "output_type": "stream",
     "text": [
      "0.002648214694875201\n"
     ]
    }
   ],
   "source": [
    "std_res_real = np.std(selected_test.source.residual.real)\n",
    "print(std_res_real)"
   ]
  },
  {
   "cell_type": "code",
   "execution_count": 16,
   "id": "8042e7ed",
   "metadata": {
    "ExecuteTime": {
     "end_time": "2021-09-16T12:22:53.521193Z",
     "start_time": "2021-09-16T12:22:53.473124Z"
    }
   },
   "outputs": [
    {
     "name": "stdout",
     "output_type": "stream",
     "text": [
      "0.0028148064307869395\n"
     ]
    }
   ],
   "source": [
    "std_res_imag = np.std(selected_test.source.residual.imag)\n",
    "print(std_res_imag)"
   ]
  },
  {
   "cell_type": "code",
   "execution_count": 17,
   "id": "c32e76c0",
   "metadata": {
    "ExecuteTime": {
     "end_time": "2021-09-16T12:22:53.570375Z",
     "start_time": "2021-09-16T12:22:53.521816Z"
    }
   },
   "outputs": [
    {
     "data": {
      "text/plain": [
       "0.00175"
      ]
     },
     "execution_count": 17,
     "metadata": {},
     "output_type": "execute_result"
    }
   ],
   "source": [
    "selected_test.avg_signal/selected_test.noise_frac"
   ]
  },
  {
   "cell_type": "code",
   "execution_count": 18,
   "id": "48737ac5",
   "metadata": {
    "ExecuteTime": {
     "end_time": "2021-09-16T12:22:54.246553Z",
     "start_time": "2021-09-16T12:22:53.571021Z"
    }
   },
   "outputs": [],
   "source": [
    "import pandas as pd"
   ]
  },
  {
   "cell_type": "code",
   "execution_count": 19,
   "id": "b179ce99",
   "metadata": {
    "ExecuteTime": {
     "end_time": "2021-09-16T12:22:54.268160Z",
     "start_time": "2021-09-16T12:22:54.247185Z"
    }
   },
   "outputs": [
    {
     "ename": "TypeError",
     "evalue": "unsupported operand type(s) for /: 'int' and 'list'",
     "output_type": "error",
     "traceback": [
      "\u001b[0;31m---------------------------------------------------------------------------\u001b[0m",
      "\u001b[0;31mTypeError\u001b[0m                                 Traceback (most recent call last)",
      "\u001b[0;32m/tmp/ipykernel_115925/4169905942.py\u001b[0m in \u001b[0;36m<module>\u001b[0;34m\u001b[0m\n\u001b[0;32m----> 1\u001b[0;31m \u001b[0mpd\u001b[0m\u001b[0;34m.\u001b[0m\u001b[0mDataFrame\u001b[0m\u001b[0;34m(\u001b[0m\u001b[0mnp\u001b[0m\u001b[0;34m.\u001b[0m\u001b[0marray_split\u001b[0m\u001b[0;34m(\u001b[0m\u001b[0;34m[\u001b[0m\u001b[0mx\u001b[0m\u001b[0;34m.\u001b[0m\u001b[0mpsnr\u001b[0m \u001b[0;32mfor\u001b[0m \u001b[0mx\u001b[0m \u001b[0;32min\u001b[0m \u001b[0mtest_objs\u001b[0m\u001b[0;34m]\u001b[0m\u001b[0;34m,\u001b[0m \u001b[0mlen\u001b[0m\u001b[0;34m(\u001b[0m\u001b[0mnsigma\u001b[0m\u001b[0;34m)\u001b[0m\u001b[0;34m)\u001b[0m\u001b[0;34m,\u001b[0m \u001b[0mcolumns\u001b[0m\u001b[0;34m=\u001b[0m\u001b[0mremove_frac\u001b[0m\u001b[0;34m,\u001b[0m \u001b[0mindex\u001b[0m\u001b[0;34m=\u001b[0m\u001b[0;36m1\u001b[0m\u001b[0;34m/\u001b[0m\u001b[0mnsigma\u001b[0m\u001b[0;34m)\u001b[0m\u001b[0;34m\u001b[0m\u001b[0;34m\u001b[0m\u001b[0m\n\u001b[0m",
      "\u001b[0;31mTypeError\u001b[0m: unsupported operand type(s) for /: 'int' and 'list'"
     ]
    }
   ],
   "source": [
    "pd.DataFrame(np.array_split([x.psnr for x in test_objs], len(nsigma)), columns=remove_frac, index=1/nsigma)"
   ]
  },
  {
   "cell_type": "code",
   "execution_count": null,
   "id": "6e1f583f",
   "metadata": {
    "ExecuteTime": {
     "end_time": "2021-09-16T12:22:54.278411Z",
     "start_time": "2021-09-16T12:22:54.278404Z"
    }
   },
   "outputs": [],
   "source": [
    "pd.DataFrame(np.array_split([x.rmse for x in test_objs], len(nsigma)), columns=remove_frac, index=1/nsigma)"
   ]
  },
  {
   "cell_type": "code",
   "execution_count": null,
   "id": "ae90c722",
   "metadata": {
    "ExecuteTime": {
     "end_time": "2021-09-16T12:22:54.278868Z",
     "start_time": "2021-09-16T12:22:54.278861Z"
    }
   },
   "outputs": [],
   "source": [
    "pd.DataFrame(np.array_split([x.sparsity*100.0 for x in test_objs], len(nsigma)), columns=remove_frac, index=1/nsigma)"
   ]
  },
  {
   "cell_type": "code",
   "execution_count": null,
   "id": "5d8b6913",
   "metadata": {
    "ExecuteTime": {
     "end_time": "2021-09-16T12:22:54.279261Z",
     "start_time": "2021-09-16T12:22:54.279255Z"
    }
   },
   "outputs": [],
   "source": [
    "# [0.2, 0.5, 0.7] Removal fraction [2, 5, 7]\n",
    "# [2.0, 6.0, 10.0] Noise # [0, 4, 8]\n",
    "\"\"\"\n",
    "for i in [0, 4, 8]:\n",
    "    for j in [2, 5, 7]:\n",
    "        idx = len(remove_frac)*i + j\n",
    "        #print(idx)\n",
    "        selected_test = test_objs[idx]\n",
    "        print(np.max(selected_test.source.lambda2))\n",
    "        plt.clf()\n",
    "        plt.plot(selected_test.source.lambda2, selected_test.source.data.real, 'k.', label=r\"Stokes $Q$\")\n",
    "        plt.plot(selected_test.source.lambda2, selected_test.source.data.imag, 'c.', label=r\"Stokes $U$\")\n",
    "        plt.plot(selected_test.source.lambda2, np.abs(selected_test.source.data), 'g.', label=r\"$|P|$\")\n",
    "        if i==8:\n",
    "            plt.xlabel(r'$\\lambda^2$[m$^{2}$]')\n",
    "        else:\n",
    "            plt.xticks([])\n",
    "        if j==2:\n",
    "            plt.ylabel(r'Jy/beam')\n",
    "        else:\n",
    "            plt.yticks([])\n",
    "        #plt.legend(loc=(1.04, 0.755), fancybox=True, shadow=True)\n",
    "        plt.xlim([0.0,0.09])\n",
    "        plt.ylim([-0.01,0.01])\n",
    "        plt.tight_layout()\n",
    "        plt.savefig(\"pol_sim_rem_\"+str(remove_frac[j])+\"_noise_\"+str(nsigma[i])+\"_\"+str(idx)+\".png\", dpi=100)\n",
    "\"\"\""
   ]
  },
  {
   "cell_type": "code",
   "execution_count": null,
   "id": "11f619b2",
   "metadata": {},
   "outputs": [],
   "source": []
  },
  {
   "cell_type": "code",
   "execution_count": null,
   "id": "0bfa5569",
   "metadata": {},
   "outputs": [],
   "source": []
  }
 ],
 "metadata": {
  "kernelspec": {
   "display_name": "Python 3 (ipykernel)",
   "language": "python",
   "name": "python3"
  },
  "language_info": {
   "codemirror_mode": {
    "name": "ipython",
    "version": 3
   },
   "file_extension": ".py",
   "mimetype": "text/x-python",
   "name": "python",
   "nbconvert_exporter": "python",
   "pygments_lexer": "ipython3",
   "version": "3.9.6"
  },
  "latex_envs": {
   "LaTeX_envs_menu_present": true,
   "autoclose": false,
   "autocomplete": true,
   "bibliofile": "biblio.bib",
   "cite_by": "apalike",
   "current_citInitial": 1,
   "eqLabelWithNumbers": true,
   "eqNumInitial": 1,
   "hotkeys": {
    "equation": "Ctrl-E",
    "itemize": "Ctrl-I"
   },
   "labels_anchors": false,
   "latex_user_defs": false,
   "report_style_numbering": false,
   "user_envs_cfg": false
  },
  "toc": {
   "base_numbering": 1,
   "nav_menu": {},
   "number_sections": true,
   "sideBar": true,
   "skip_h1_title": false,
   "title_cell": "Table of Contents",
   "title_sidebar": "Contents",
   "toc_cell": false,
   "toc_position": {},
   "toc_section_display": true,
   "toc_window_display": false
  },
  "varInspector": {
   "cols": {
    "lenName": 16,
    "lenType": 16,
    "lenVar": 40
   },
   "kernels_config": {
    "python": {
     "delete_cmd_postfix": "",
     "delete_cmd_prefix": "del ",
     "library": "var_list.py",
     "varRefreshCmd": "print(var_dic_list())"
    },
    "r": {
     "delete_cmd_postfix": ") ",
     "delete_cmd_prefix": "rm(",
     "library": "var_list.r",
     "varRefreshCmd": "cat(var_dic_list()) "
    }
   },
   "types_to_exclude": [
    "module",
    "function",
    "builtin_function_or_method",
    "instance",
    "_Feature"
   ],
   "window_display": false
  }
 },
 "nbformat": 4,
 "nbformat_minor": 5
}
