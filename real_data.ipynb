{
 "cells": [
  {
   "cell_type": "code",
   "execution_count": 1,
   "id": "bda7aa8c",
   "metadata": {
    "ExecuteTime": {
     "end_time": "2021-07-14T10:40:53.604270Z",
     "start_time": "2021-07-14T10:40:53.328202Z"
    }
   },
   "outputs": [
    {
     "ename": "ModuleNotFoundError",
     "evalue": "No module named 'framework.pre_processing'",
     "output_type": "error",
     "traceback": [
      "\u001b[0;31m---------------------------------------------------------------------------\u001b[0m",
      "\u001b[0;31mModuleNotFoundError\u001b[0m                       Traceback (most recent call last)",
      "\u001b[0;32m<ipython-input-1-2ab1a66658e9>\u001b[0m in \u001b[0;36m<module>\u001b[0;34m\u001b[0m\n\u001b[1;32m      2\u001b[0m \u001b[0;32mimport\u001b[0m \u001b[0mnumpy\u001b[0m \u001b[0;32mas\u001b[0m \u001b[0mnp\u001b[0m\u001b[0;34m\u001b[0m\u001b[0;34m\u001b[0m\u001b[0m\n\u001b[1;32m      3\u001b[0m \u001b[0;32mfrom\u001b[0m \u001b[0mframework\u001b[0m\u001b[0;34m.\u001b[0m\u001b[0mio_functions\u001b[0m \u001b[0;32mimport\u001b[0m \u001b[0mReader\u001b[0m\u001b[0;34m,\u001b[0m \u001b[0mWriter\u001b[0m\u001b[0;34m\u001b[0m\u001b[0;34m\u001b[0m\u001b[0m\n\u001b[0;32m----> 4\u001b[0;31m \u001b[0;32mfrom\u001b[0m \u001b[0mframework\u001b[0m\u001b[0;34m.\u001b[0m\u001b[0mpre_processing\u001b[0m \u001b[0;32mimport\u001b[0m \u001b[0mPreProcessor\u001b[0m\u001b[0;34m\u001b[0m\u001b[0;34m\u001b[0m\u001b[0m\n\u001b[0m\u001b[1;32m      5\u001b[0m \u001b[0;32mfrom\u001b[0m \u001b[0mframework\u001b[0m\u001b[0;34m.\u001b[0m\u001b[0mdfts\u001b[0m \u001b[0;32mimport\u001b[0m \u001b[0mDFT1D\u001b[0m\u001b[0;34m,\u001b[0m \u001b[0mNUFFT1D\u001b[0m\u001b[0;34m\u001b[0m\u001b[0;34m\u001b[0m\u001b[0m\n\u001b[1;32m      6\u001b[0m \u001b[0;32mimport\u001b[0m \u001b[0mmatplotlib\u001b[0m\u001b[0;34m.\u001b[0m\u001b[0mpyplot\u001b[0m \u001b[0;32mas\u001b[0m \u001b[0mplt\u001b[0m\u001b[0;34m\u001b[0m\u001b[0;34m\u001b[0m\u001b[0m\n",
      "\u001b[0;31mModuleNotFoundError\u001b[0m: No module named 'framework.pre_processing'"
     ]
    }
   ],
   "source": [
    "from IPython.display import clear_output\n",
    "import numpy as np\n",
    "from framework.io_functions import Reader, Writer\n",
    "from framework.pre_processing import PreProcessor\n",
    "from framework.dfts import DFT1D, NUFFT1D\n",
    "import matplotlib.pyplot as plt\n",
    "from framework.ofunction import OFunction\n",
    "from framework.utilities import real_to_complex, complex_to_real, find_pixel\n",
    "from framework.priors import TSV, TV, L1, Chi2\n",
    "from framework.optimizer import FISTA, ADMM, SDMM, GradientBasedMethod\n",
    "from framework.analytical_functions import Gaussian\n",
    "from scipy.constants import c\n",
    "from pynufft import NUFFT\n",
    "from scipy import signal as sci_signal\n",
    "import itertools"
   ]
  },
  {
   "cell_type": "code",
   "execution_count": null,
   "id": "0432eb9d",
   "metadata": {
    "ExecuteTime": {
     "end_time": "2021-07-14T10:40:53.605448Z",
     "start_time": "2021-07-14T10:40:53.300Z"
    }
   },
   "outputs": [],
   "source": [
    "# Read data\n",
    "P = np.load(\"polarized_emission.npy\")\n",
    "sigma = np.load(\"sigmas.npy\")\n",
    "nu = np.load(\"freqs.npy\")"
   ]
  },
  {
   "cell_type": "code",
   "execution_count": null,
   "id": "dd1b046c",
   "metadata": {
    "ExecuteTime": {
     "end_time": "2021-07-14T10:40:53.605758Z",
     "start_time": "2021-07-14T10:40:53.300Z"
    }
   },
   "outputs": [],
   "source": [
    "t1 = c/nu\n",
    "t1 = t1[::-1]"
   ]
  },
  {
   "cell_type": "code",
   "execution_count": null,
   "id": "30ff7c28",
   "metadata": {
    "ExecuteTime": {
     "end_time": "2021-07-14T10:40:53.606072Z",
     "start_time": "2021-07-14T10:40:53.300Z"
    }
   },
   "outputs": [],
   "source": [
    "pre_proc = PreProcessor(freqs=nu)\n",
    "\n",
    "W, K = pre_proc.calculate_W_K(sigma=sigma)\n",
    "#W, K = pre_proc.calculate_W_K()\n",
    "l2, l2_ref, phi, phi_r = pre_proc.calculate_phi(W, K, times=8, verbose=True)\n",
    "n = len(phi)\n",
    "m = len(l2)"
   ]
  },
  {
   "cell_type": "code",
   "execution_count": null,
   "id": "50cbed77",
   "metadata": {
    "ExecuteTime": {
     "end_time": "2021-07-14T10:40:53.606413Z",
     "start_time": "2021-07-14T10:40:53.300Z"
    }
   },
   "outputs": [],
   "source": [
    "plt.plot(l2, P.real, 'k.', label=r\"Stokes $Q$\")\n",
    "plt.plot(l2, P.imag, 'c.', label=r\"Stokes $U$\")\n",
    "plt.plot(l2, np.abs(P), 'g.', label=r\"$|P|$\")\n",
    "plt.xlabel(r'$\\lambda^2$[m$^{2}$]')\n",
    "plt.ylabel(r'Jy/beam')\n",
    "plt.legend(loc='upper right')\n",
    "plt.tight_layout()\n",
    "plt.savefig('polarized.png', dpi=100, bbox_inches='tight')"
   ]
  },
  {
   "cell_type": "code",
   "execution_count": null,
   "id": "bd95aad3",
   "metadata": {
    "ExecuteTime": {
     "end_time": "2021-07-14T10:40:53.606767Z",
     "start_time": "2021-07-14T10:40:53.300Z"
    }
   },
   "outputs": [],
   "source": [
    "nufft = NUFFT1D(W=W, lambda2=l2, lambda2_ref=l2_ref, phi=phi)"
   ]
  },
  {
   "cell_type": "code",
   "execution_count": null,
   "id": "52f8b09e",
   "metadata": {
    "ExecuteTime": {
     "end_time": "2021-07-14T10:40:53.607080Z",
     "start_time": "2021-07-14T10:40:53.300Z"
    }
   },
   "outputs": [],
   "source": [
    "dft = DFT1D(W=W, lambda2=l2, lambda2_ref=l2_ref, phi=phi)"
   ]
  },
  {
   "cell_type": "code",
   "execution_count": null,
   "id": "80fbae40",
   "metadata": {
    "ExecuteTime": {
     "end_time": "2021-07-14T10:40:53.607404Z",
     "start_time": "2021-07-14T10:40:53.300Z"
    }
   },
   "outputs": [],
   "source": [
    "F_dirty = dft.backward(P)"
   ]
  },
  {
   "cell_type": "code",
   "execution_count": null,
   "id": "eef98ed8",
   "metadata": {
    "ExecuteTime": {
     "end_time": "2021-07-14T10:40:53.607743Z",
     "start_time": "2021-07-14T10:40:53.300Z"
    }
   },
   "outputs": [],
   "source": [
    "plt.plot(phi, F_dirty.real, 'c--', label=r\"Stokes $Q$\")\n",
    "plt.plot(phi, F_dirty.imag, 'c:', label=r\"Stokes $U$\")\n",
    "plt.plot(phi, np.abs(F_dirty), 'k-', label=r\"|P|\")\n",
    "plt.xlabel(r'$\\phi$[rad m$^{-2}$]')\n",
    "plt.ylabel(r'Jy/beam m$^2$ rad$^{-1}$ rmtf$^{-1}$')\n",
    "plt.legend(loc='upper right')\n",
    "plt.xlim([-1000,1000])\n",
    "plt.tight_layout()\n",
    "plt.savefig('fdirty.png', dpi=100, bbox_inches='tight')"
   ]
  },
  {
   "cell_type": "code",
   "execution_count": null,
   "id": "60e31e36",
   "metadata": {
    "ExecuteTime": {
     "end_time": "2021-07-14T10:40:53.608070Z",
     "start_time": "2021-07-14T10:40:53.300Z"
    }
   },
   "outputs": [],
   "source": [
    "idx_noise = np.where(np.abs(phi)>14000)\n",
    "noise_F = np.std(0.5*(F_dirty[idx_noise].real + F_dirty[idx_noise].imag))\n",
    "noise_F"
   ]
  },
  {
   "cell_type": "code",
   "execution_count": null,
   "id": "c1f55aab",
   "metadata": {
    "ExecuteTime": {
     "end_time": "2021-07-14T10:40:53.608370Z",
     "start_time": "2021-07-14T10:40:53.300Z"
    }
   },
   "outputs": [],
   "source": [
    "P_back = nufft.forward_normalized(F_dirty)"
   ]
  },
  {
   "cell_type": "code",
   "execution_count": null,
   "id": "35bf1ebc",
   "metadata": {
    "ExecuteTime": {
     "end_time": "2021-07-14T10:40:53.608686Z",
     "start_time": "2021-07-14T10:40:53.300Z"
    }
   },
   "outputs": [],
   "source": [
    "plt.plot(l2, P_back.real, 'k.', label=r\"Stokes $Q$\")\n",
    "plt.plot(l2, P_back.imag, 'c.', label=r\"Stokes $U$\")\n",
    "plt.plot(l2, np.abs(P_back), 'g.', label=r\"$|P|$\")"
   ]
  },
  {
   "cell_type": "code",
   "execution_count": null,
   "id": "ffa5bbf0",
   "metadata": {
    "ExecuteTime": {
     "end_time": "2021-07-14T10:40:53.609037Z",
     "start_time": "2021-07-14T10:40:53.300Z"
    }
   },
   "outputs": [],
   "source": [
    "F_back = nufft.backward(P)"
   ]
  },
  {
   "cell_type": "code",
   "execution_count": null,
   "id": "0566a37d",
   "metadata": {
    "ExecuteTime": {
     "end_time": "2021-07-14T10:40:53.609366Z",
     "start_time": "2021-07-14T10:40:53.300Z"
    }
   },
   "outputs": [],
   "source": [
    "plt.plot(phi, F_back.real, 'c--', label=r\"Real part\")\n",
    "plt.plot(phi, F_back.imag, 'c:', label=r\"Imaginary part\")\n",
    "plt.plot(phi, np.abs(F_back), 'k-', label=r\"Amplitude\")\n",
    "plt.xlim([-1000,1000])"
   ]
  },
  {
   "cell_type": "code",
   "execution_count": null,
   "id": "85590b95",
   "metadata": {
    "ExecuteTime": {
     "end_time": "2021-07-14T10:40:53.609708Z",
     "start_time": "2021-07-14T10:40:53.300Z"
    }
   },
   "outputs": [],
   "source": [
    "P_back = nufft.forward_normalized(F_back)\n",
    "plt.plot(l2, P_back.real, 'k.', label=r\"Stokes $Q$\")\n",
    "plt.plot(l2, P_back.imag, 'c.', label=r\"Stokes $U$\")\n",
    "plt.plot(l2, np.abs(P_back), 'g.', label=r\"$|P|$\")"
   ]
  },
  {
   "cell_type": "code",
   "execution_count": null,
   "id": "2e7bf872",
   "metadata": {
    "ExecuteTime": {
     "end_time": "2021-07-14T10:40:53.610059Z",
     "start_time": "2021-07-14T10:40:53.300Z"
    }
   },
   "outputs": [],
   "source": [
    "lambda_l1 = np.sqrt(2 * len(P) + 4 * np.sqrt(len(P)))*noise_F\n",
    "#lambda_l1 /= 10\n",
    "#lambda_l1=0.5\n",
    "lambda_tsv = 0.0\n",
    "chi2 = Chi2(b=P, dft_obj=nufft, w=W)\n",
    "l1 = L1(reg=lambda_l1)\n",
    "tsv = TSV(reg=lambda_tsv)\n",
    "# F_func = [chi2(P, dft, W), L1(lambda_l1)]\n",
    "F_func = [chi2, l1, tsv]\n",
    "f_func = [chi2]\n",
    "g_func = [l1, tsv]\n",
    "\n",
    "F_obj = OFunction(F_func)\n",
    "f_obj = OFunction(f_func)\n",
    "g_obj = OFunction(g_func)\n",
    "\n",
    "F_real = complex_to_real(F_back)"
   ]
  },
  {
   "cell_type": "code",
   "execution_count": null,
   "id": "200b3cf1",
   "metadata": {
    "ExecuteTime": {
     "end_time": "2021-07-14T10:40:53.610389Z",
     "start_time": "2021-07-14T10:40:53.300Z"
    }
   },
   "outputs": [],
   "source": [
    "opt = FISTA(i_guess=F_real, F_obj=F_obj, fx=chi2, gx=g_obj, noise=noise_F, verbose=True)\n",
    "#opt = FISTA(i_guess=F_real, F_obj=F_obj, fx=chi2, gx=g_obj, maxiter=1000, noise=1e-5, verbose=True)\n",
    "obj, X = opt.run()\n",
    "X = real_to_complex(X)"
   ]
  },
  {
   "cell_type": "code",
   "execution_count": null,
   "id": "8ec3d019",
   "metadata": {
    "ExecuteTime": {
     "end_time": "2021-07-14T10:40:53.610742Z",
     "start_time": "2021-07-14T10:40:53.300Z"
    }
   },
   "outputs": [],
   "source": [
    "X_recon = X\n",
    "plt.plot(phi, X_recon.real, 'c--', label=r\"Stokes $Q$\")\n",
    "plt.plot(phi, X_recon.imag, 'c:', label=r\"Stokes $U$\")\n",
    "plt.plot(phi, np.abs(X_recon), 'k-', label=r\"$|P|$\")\n",
    "plt.xlabel(r'$\\phi$[rad m$^{-2}$]')\n",
    "plt.ylabel(r'Jy/beam m$^2$ rad$^{-1}$ pix$^{-1}$')\n",
    "plt.legend(loc='upper right')\n",
    "plt.tight_layout()\n",
    "plt.xlim([-1000,1000])"
   ]
  },
  {
   "cell_type": "code",
   "execution_count": null,
   "id": "8c469e73",
   "metadata": {
    "ExecuteTime": {
     "end_time": "2021-07-14T10:40:53.611046Z",
     "start_time": "2021-07-14T10:40:53.300Z"
    }
   },
   "outputs": [],
   "source": [
    "P_back = nufft.forward_normalized(X)\n",
    "plt.plot(l2, P_back.real, 'k.', label=r\"Stokes $Q$\")\n",
    "plt.plot(l2, P_back.imag, 'c.', label=r\"Stokes $U$\")\n",
    "plt.plot(l2, np.abs(P_back), 'g.', label=r\"$|P|$\")\n",
    "plt.ylim([-0.007,0.008])"
   ]
  },
  {
   "cell_type": "code",
   "execution_count": null,
   "id": "32f0f03f",
   "metadata": {
    "ExecuteTime": {
     "end_time": "2021-07-14T10:40:53.611349Z",
     "start_time": "2021-07-14T10:40:53.300Z"
    }
   },
   "outputs": [],
   "source": [
    "residual = P - P_back\n",
    "plt.plot(l2, residual.real, 'k.', label=r\"Stokes $Q$\")\n",
    "plt.plot(l2, residual.imag, 'c.', label=r\"Stokes $U$\")\n",
    "plt.plot(l2, np.abs(residual), 'g.', label=r\"$|P|$\")"
   ]
  },
  {
   "cell_type": "code",
   "execution_count": null,
   "id": "f68c3e61",
   "metadata": {
    "ExecuteTime": {
     "end_time": "2021-07-14T10:40:53.611663Z",
     "start_time": "2021-07-14T10:40:53.300Z"
    }
   },
   "outputs": [],
   "source": [
    "F_residual = nufft.backward(residual)\n",
    "plt.plot(phi, F_residual.real, 'c--', label=r\"Stokes $Q$\")\n",
    "plt.plot(phi, F_residual.imag, 'c:', label=r\"Stokes $U$\")\n",
    "plt.plot(phi, np.abs(F_residual), 'k-', label=r\"$|P|$\")\n",
    "plt.xlim([-1000,1000])"
   ]
  },
  {
   "cell_type": "code",
   "execution_count": null,
   "id": "18b8386e",
   "metadata": {
    "ExecuteTime": {
     "end_time": "2021-07-14T10:40:53.611964Z",
     "start_time": "2021-07-14T10:40:53.300Z"
    }
   },
   "outputs": [],
   "source": [
    "idx = np.argmax(np.abs(X))\n",
    "max_phi = phi[idx]"
   ]
  },
  {
   "cell_type": "code",
   "execution_count": null,
   "id": "542833d9",
   "metadata": {
    "ExecuteTime": {
     "end_time": "2021-07-14T10:40:53.612285Z",
     "start_time": "2021-07-14T10:40:53.300Z"
    }
   },
   "outputs": [],
   "source": [
    "# Convolution\n",
    "gauss_rmtf = Gaussian(x=phi, mu=0.0, fwhm=pre_proc.rmtf_fwhm)\n",
    "gauss_rmtf_array = gauss_rmtf.run(normalized=True)\n",
    "print(len(X)) # Even\n",
    "F_conv = sci_signal.convolve(X, gauss_rmtf_array, mode='full', method='auto') \n",
    "F_restored = F_conv[n//2:(n//2)+n] + F_residual"
   ]
  },
  {
   "cell_type": "code",
   "execution_count": null,
   "id": "49083612",
   "metadata": {
    "ExecuteTime": {
     "end_time": "2021-07-14T10:40:53.612700Z",
     "start_time": "2021-07-14T10:40:53.300Z"
    }
   },
   "outputs": [],
   "source": [
    "plt.plot(phi, gauss_rmtf_array, 'k-', label=r\"$|P|$\")\n",
    "plt.legend(loc='upper right')\n",
    "plt.tight_layout()\n",
    "plt.xlim([-1000,1000])"
   ]
  },
  {
   "cell_type": "code",
   "execution_count": null,
   "id": "9f1c9351",
   "metadata": {
    "ExecuteTime": {
     "end_time": "2021-07-14T10:40:53.613036Z",
     "start_time": "2021-07-14T10:40:53.300Z"
    }
   },
   "outputs": [],
   "source": [
    "plt.plot(phi, F_restored.real, 'c--', label=r\"Stokes $Q$\")\n",
    "plt.plot(phi, F_restored.imag, 'c:', label=r\"Stokes $U$\")\n",
    "plt.plot(phi, np.abs(F_restored), 'k-', label=r\"$|P|$\")\n",
    "plt.xlabel(r'$\\phi$[rad m$^{-2}$]')\n",
    "plt.ylabel(r'Jy/beam m$^2$ rad$^{-1}$ rmtf$^{-1}$')\n",
    "plt.legend(loc='upper right')\n",
    "plt.tight_layout()\n",
    "plt.xlim([-1000,1000])"
   ]
  },
  {
   "cell_type": "code",
   "execution_count": null,
   "id": "9e0c9506",
   "metadata": {
    "ExecuteTime": {
     "end_time": "2021-07-14T10:40:53.613321Z",
     "start_time": "2021-07-14T10:40:53.300Z"
    }
   },
   "outputs": [],
   "source": [
    "P_back = nufft.forward_normalized(F_restored)\n",
    "plt.plot(l2, P_back.real, 'k.', label=r\"Stokes $Q$\")\n",
    "plt.plot(l2, P_back.imag, 'c.', label=r\"Stokes $U$\")\n",
    "plt.plot(l2, np.abs(P_back), 'g.', label=r\"$|P|$\")\n",
    "#plt.ylim([-0.007,0.008])"
   ]
  },
  {
   "cell_type": "code",
   "execution_count": null,
   "id": "7ca26849",
   "metadata": {
    "ExecuteTime": {
     "end_time": "2021-07-14T10:40:53.613637Z",
     "start_time": "2021-07-14T10:40:53.300Z"
    }
   },
   "outputs": [],
   "source": [
    "fig, ax = plt.subplots(1, 2, figsize=(12,6), tight_layout=True, sharey=True, squeeze=True)\n",
    "ax[0].plot(phi, F_dirty.real, 'c--', label=r\"Stokes $Q$\")\n",
    "ax[0].plot(phi, F_dirty.imag, 'c:', label=r\"Stokes $U$\")\n",
    "ax[0].plot(phi, np.abs(F_dirty), 'k-', label=r\"|P|\")\n",
    "ax[0].set_xlabel(r'$\\phi$[rad m$^{-2}$]')\n",
    "ax[0].set_ylabel(r'Jy/beam m$^2$ rad$^{-1}$ rmtf$^{-1}$')\n",
    "ax[0].legend(loc='upper right')\n",
    "ax[0].set_xlim([-1000,1000])\n",
    "#plt.tight_layout()\n",
    "\n",
    "ax[1].plot(phi, F_restored.real, 'c--', label=r\"Stokes $Q$\")\n",
    "ax[1].plot(phi, F_restored.imag, 'c:', label=r\"Stokes $U$\")\n",
    "ax[1].plot(phi, np.abs(F_restored), 'k-', label=r\"|P|\")\n",
    "ax[1].set_xlabel(r'$\\phi$[rad m$^{-2}$]')\n",
    "ax[1].set_ylabel(r'Jy/beam m$^2$ rad$^{-1}$ rmtf$^{-1}$')\n",
    "ax[1].legend(loc='upper right')\n",
    "ax[1].set_xlim([-1000,1000])\n",
    "plt.savefig('dirty-restored-comparison.png', dpi=100, bbox_inches='tight')"
   ]
  },
  {
   "cell_type": "code",
   "execution_count": null,
   "id": "eed9ffb3",
   "metadata": {
    "ExecuteTime": {
     "end_time": "2021-07-14T10:40:53.613959Z",
     "start_time": "2021-07-14T10:40:53.300Z"
    }
   },
   "outputs": [],
   "source": [
    "idx = np.argmax(np.abs(F_restored))\n",
    "phi[idx]"
   ]
  },
  {
   "cell_type": "code",
   "execution_count": null,
   "id": "6abdf82c",
   "metadata": {
    "ExecuteTime": {
     "end_time": "2021-07-14T10:40:53.614277Z",
     "start_time": "2021-07-14T10:40:53.300Z"
    }
   },
   "outputs": [],
   "source": [
    "idx = np.argmax(np.abs(F_dirty))\n",
    "phi[idx]"
   ]
  },
  {
   "cell_type": "code",
   "execution_count": null,
   "id": "919ca864",
   "metadata": {},
   "outputs": [],
   "source": []
  }
 ],
 "metadata": {
  "kernelspec": {
   "display_name": "Python 3",
   "language": "python",
   "name": "python3"
  },
  "language_info": {
   "codemirror_mode": {
    "name": "ipython",
    "version": 3
   },
   "file_extension": ".py",
   "mimetype": "text/x-python",
   "name": "python",
   "nbconvert_exporter": "python",
   "pygments_lexer": "ipython3",
   "version": "3.9.6"
  },
  "latex_envs": {
   "LaTeX_envs_menu_present": true,
   "autoclose": false,
   "autocomplete": true,
   "bibliofile": "biblio.bib",
   "cite_by": "apalike",
   "current_citInitial": 1,
   "eqLabelWithNumbers": true,
   "eqNumInitial": 1,
   "hotkeys": {
    "equation": "Ctrl-E",
    "itemize": "Ctrl-I"
   },
   "labels_anchors": false,
   "latex_user_defs": false,
   "report_style_numbering": false,
   "user_envs_cfg": false
  }
 },
 "nbformat": 4,
 "nbformat_minor": 5
}
