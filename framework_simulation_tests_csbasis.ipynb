{
 "cells": [
  {
   "cell_type": "code",
   "execution_count": 1,
   "id": "024c325a",
   "metadata": {
    "ExecuteTime": {
     "end_time": "2021-09-16T12:13:07.244920Z",
     "start_time": "2021-09-16T12:13:06.556662Z"
    }
   },
   "outputs": [],
   "source": [
    "from framework.simulation import FaradayThinSource,FaradayThickSource\n",
    "from framework.reconstruction import Parameter\n",
    "import numpy as np\n",
    "from IPython.display import clear_output\n",
    "from framework.io import Reader, Writer\n",
    "from framework.base import Dataset\n",
    "from framework.transformers import DFT1D, NUFFT1D\n",
    "import matplotlib.pyplot as plt\n",
    "from framework.objectivefunction import OFunction\n",
    "from framework.utils import real_to_complex, complex_to_real, find_pixel\n",
    "from framework.objectivefunction import TSV, TV, L1, Chi2\n",
    "from framework.optimization import FISTA, ADMM, SDMM, GradientBasedMethod\n",
    "from framework.utils import Gaussian\n",
    "from framework.dictionaries.discrete import DiscreteWavelet\n",
    "from framework.dictionaries.undecimated import UndecimatedWavelet\n",
    "from framework.transformers import Gridding\n",
    "from scipy.constants import c\n",
    "from pynufft import NUFFT\n",
    "from scipy import signal as sci_signal\n",
    "import itertools\n",
    "import copy\n",
    "\n",
    "np.random.seed(666)"
   ]
  },
  {
   "cell_type": "code",
   "execution_count": 2,
   "id": "74c19991",
   "metadata": {
    "ExecuteTime": {
     "end_time": "2021-09-16T12:13:07.307266Z",
     "start_time": "2021-09-16T12:13:07.245640Z"
    }
   },
   "outputs": [],
   "source": [
    "class Test:\n",
    "    def __init__(self, nu_min=None, nu_max=None, nchannels=None, noise_frac=None, remove_frac=None, use_gridding=False, ftransform=\"nufft\", use_wavelet=None, source_1=None, source_2=None, scenario=1):\n",
    "        self.nu_min = nu_min\n",
    "        self.nu_max = nu_max\n",
    "        self.nchannels = nchannels\n",
    "        self.noise_frac = noise_frac\n",
    "        self.remove_frac = remove_frac\n",
    "        self.use_gridding=use_gridding\n",
    "        self.use_wavelet = use_wavelet\n",
    "        self.ftransform = ftransform\n",
    "        self.scenario = scenario\n",
    "        self.nu = np.linspace(start=nu_min, stop=nu_max, num=nchannels)\n",
    "        self.source_1 = copy.deepcopy(source_1)\n",
    "        self.source_2 = copy.deepcopy(source_2)\n",
    "\n",
    "        if self.source_1 is not None:\n",
    "            self.source_1.nu = self.nu\n",
    "            self.source_1.simulate()\n",
    "                \n",
    "        if self.source_2 is not None:\n",
    "            self.source_2.nu = self.nu\n",
    "            self.source_2.simulate()\n",
    "                \n",
    "        if scenario == 1:\n",
    "            self.source = self.source_1\n",
    "        elif scenario == 2:\n",
    "            self.source = self.source_2\n",
    "        else:\n",
    "            self.source = self.source_1 + self.source_2\n",
    "            \n",
    "        if remove_frac:\n",
    "            self.source.remove_channels(remove_frac)\n",
    "        \n",
    "        self.noiseless_source = copy.deepcopy(self.source)\n",
    "        \n",
    "        if noise_frac:\n",
    "            if scenario == 1:\n",
    "                self.avg_signal = np.abs(self.source_1.s_nu)\n",
    "            elif scenario == 2:\n",
    "                self.avg_signal = np.abs(self.source_2.s_nu)\n",
    "            else:\n",
    "                self.avg_signal = (np.abs(self.source_1.s_nu) + np.abs(self.source_2.s_nu))/2.0\n",
    "            self.source.apply_noise(self.avg_signal/self.noise_frac)\n",
    "                \n",
    "        if use_gridding:\n",
    "            gridding = Gridding(self.source)\n",
    "            gridding_noiseless = Gridding(self.noiseless_source)\n",
    "            self.source = gridding.run()\n",
    "            self.noiseless_source = gridding_noiseless.run()\n",
    "            \n",
    "    def run(self, lambda_tv:float=None, lambda_tsv:float=None):\n",
    "        self.parameter = Parameter()\n",
    "        self.parameter.calculate_cellsize(dataset=self.source)\n",
    "        \n",
    "        dft = DFT1D(dataset=self.source, parameter=self.parameter)\n",
    "        \n",
    "        self.F_dirty = dft.backward(self.source.data)\n",
    "        \n",
    "        idx_noise = np.where(np.abs(self.parameter.phi)>self.parameter.max_faraday_depth/1.5)\n",
    "        \n",
    "        self.noise = np.std(0.5*(self.F_dirty[idx_noise].real + self.F_dirty[idx_noise].imag))\n",
    "        \n",
    "        if self.use_wavelet:\n",
    "            #self.wavelet = DiscreteWavelet(wavelet_name=self.use_wavelet, mode=\"periodization\")\n",
    "            self.wavelet = UndecimatedWavelet(wavelet_name=self.use_wavelet)\n",
    "        \n",
    "        self.lambda_l1 = np.sqrt(2.0 * len(self.source.data) + 4.0 * np.sqrt(len(self.source.data)))*self.noise*0.5\n",
    "        #lambda_l1 =np.sqrt(len(self.source.data) + np.sqrt(len(self.source.data)))*self.noise\n",
    "        \n",
    "        \n",
    "        if lambda_tv is None:\n",
    "            lambda_tv = 0.0\n",
    "        \n",
    "        if lambda_tsv is None:\n",
    "            lambda_tsv = 0.0\n",
    "            \n",
    "        if self.ftransform == \"nufft\":\n",
    "            nufft = NUFFT1D(dataset=self.source, parameter=self.parameter, solve=True)\n",
    "            if self.use_wavelet:\n",
    "                chi2 = Chi2(dft_obj=nufft, wavelet=self.wavelet)\n",
    "            else:\n",
    "                chi2 = Chi2(dft_obj=nufft)\n",
    "        else:\n",
    "            if self.use_wavelet:\n",
    "                chi2 = Chi2(dft_obj=dft, wavelet=self.wavelet)\n",
    "            else:\n",
    "                chi2 = Chi2(dft_obj=dft)\n",
    "            \n",
    "        l1 = L1(reg=self.lambda_l1)\n",
    "        tsv = TSV(reg=lambda_tsv)\n",
    "        tv = TV(reg=lambda_tv)\n",
    "        F_func = [chi2, l1, tsv]\n",
    "        f_func = [chi2]\n",
    "        g_func = [l1, tsv]\n",
    "\n",
    "        F_obj = OFunction(F_func)\n",
    "        f_obj = OFunction(f_func)\n",
    "        g_obj = OFunction(g_func)\n",
    "        \n",
    "        self.parameter.data = self.F_dirty\n",
    "        \n",
    "        self.parameter.complex_data_to_real()\n",
    "        \n",
    "        if self.use_wavelet:\n",
    "            self.parameter.data = self.wavelet.decompose(self.parameter.data)\n",
    "        \n",
    "        opt = FISTA(guess_param=self.parameter, F_obj=F_obj, fx=chi2, gx=g_obj, noise=self.noise, verbose=True)\n",
    "        self.obj, self.X = opt.run()\n",
    "        \n",
    "        if self.use_wavelet is not None:\n",
    "            self.coeffs = copy.deepcopy(self.X.data)\n",
    "            self.sparsity = len(np.nonzero(self.coeffs))/len(self.coeffs)\n",
    "            self.X.data = self.wavelet.reconstruct(self.X.data)\n",
    "        else:\n",
    "            self.sparsity = len(np.nonzero(self.X.data))/ len(self.X.data)\n",
    "        \n",
    "        self.X.real_data_to_complex()\n",
    "        \n",
    "        self.X_residual = dft.backward(self.source.residual)\n",
    "        \n",
    "        self.X_restored = self.X.convolve() + self.X_residual\n",
    "        \n",
    "        self.res_noise = 0.5*(np.std(self.X_residual.real) + np.std(self.X_residual.imag))\n",
    "        meaningful_signal = np.where(np.abs(self.parameter.phi) < self.parameter.max_faraday_depth)\n",
    "        self.signal = np.mean(np.abs(self.X_restored[meaningful_signal]))\n",
    "        self.peak_signal = np.max(np.abs(self.X_restored))\n",
    "        self.rmse = np.sqrt(np.mean(self.res_noise**2))\n",
    "        \n",
    "        self.snr = self.signal / self.res_noise\n",
    "        self.psnr = self.peak_signal / self.res_noise\n",
    "        \n",
    "        print(\"Signal-to-noise ratio: {0}\".format(self.snr))\n",
    "        print(\"Peak Signal-to-noise ratio: {0}\".format(self.psnr))\n",
    "        print(\"Normalized Root Mean Squared Error: {0}\".format(self.rmse))\n",
    "        \n",
    "        self.lags, self.autocorr_res, self.autocorr_res_sq, self.bound, self.percentage_real_in, self.percentage_imag_in, self.percentage_real_in_sq, self.percentage_imag_in_sq = self.source.assess_residuals()\n",
    "        \n",
    "        self.residual_comparison = self.noiseless_source.data - self.source.model_data\n",
    "        \n",
    "        self.fig, self.ax = plt.subplots(nrows=2, ncols=4, sharey='row', figsize=(18, 5))\n",
    "\n",
    "        # Data\n",
    "        self.ax[0,0].plot(self.source.lambda2, self.source.data.real, 'k.', label=r\"Stokes $Q$\")\n",
    "        self.ax[0,0].plot(self.source.lambda2, self.source.data.imag, 'c.', label=r\"Stokes $U$\")\n",
    "        self.ax[0,0].plot(self.source.lambda2, np.abs(self.source.data), 'g.', label=r\"$|P|$\")\n",
    "        self.ax[0,0].set_xlabel(r'$\\lambda^2$[m$^{2}$]')\n",
    "        self.ax[0,0].set_ylabel(r'Jy/beam')\n",
    "        self.ax[0,0].title.set_text(\"Data\")\n",
    "\n",
    "        self.ax[1,0].plot(self.parameter.phi, self.F_dirty.real, 'c--', label=r\"Stokes $Q$\")\n",
    "        self.ax[1,0].plot(self.parameter.phi, self.F_dirty.imag, 'c:', label=r\"Stokes $U$\")\n",
    "        self.ax[1,0].plot(self.parameter.phi, np.abs(self.F_dirty), 'k-', label=r\"|P|\")\n",
    "        self.ax[1,0].set_xlabel(r'$\\phi$[rad m$^{-2}$]')\n",
    "        self.ax[1,0].set_ylabel(r'Jy/beam m$^2$ rad$^{-1}$ rmtf$^{-1}$')\n",
    "        self.ax[1,0].set_xlim([-1000,1000])\n",
    "\n",
    "        # Model\n",
    "        self.ax[0,1].plot(self.source.lambda2, self.source.model_data.real, 'k.', label=r\"Stokes $Q$\")\n",
    "        self.ax[0,1].plot(self.source.lambda2, self.source.model_data.imag, 'c.', label=r\"Stokes $U$\")\n",
    "        self.ax[0,1].plot(self.source.lambda2, np.abs(self.source.model_data), 'g.', label=r\"$|P|$\")\n",
    "        self.ax[0,1].set_xlabel(r'$\\lambda^2$[m$^{2}$]')\n",
    "        self.ax[0,1].set_ylabel(r'Jy/beam')\n",
    "        self.ax[0,1].title.set_text(\"Model\")\n",
    "\n",
    "        self.ax[1,1].plot(self.parameter.phi, self.X.data.real, 'c--', label=r\"Stokes $Q$\")\n",
    "        self.ax[1,1].plot(self.parameter.phi, self.X.data.imag, 'c:', label=r\"Stokes $U$\")\n",
    "        self.ax[1,1].plot(self.parameter.phi, np.abs(self.X.data), 'k-', label=r\"$|P|$\")\n",
    "        self.ax[1,1].set_xlabel(r'$\\phi$[rad m$^{-2}$]')\n",
    "        self.ax[1,1].set_ylabel(r'Jy/beam m$^2$ rad$^{-1}$ pix$^{-1}$')\n",
    "        self.ax[1,1].set_xlim([-1000,1000])\n",
    "\n",
    "        # Residual\n",
    "\n",
    "        # Model\n",
    "        self.ax[0,2].plot(self.source.lambda2, self.source.residual.real, 'k.', label=r\"Stokes $Q$\")\n",
    "        self.ax[0,2].plot(self.source.lambda2, self.source.residual.imag, 'c.', label=r\"Stokes $U$\")\n",
    "        self.ax[0,2].plot(self.source.lambda2, np.abs(self.source.residual), 'g.', label=r\"$|P|$\")\n",
    "        self.ax[0,2].set_xlabel(r'$\\lambda^2$[m$^{2}$]')\n",
    "        self.ax[0,2].set_ylabel(r'Jy/beam')\n",
    "        self.ax[0,2].title.set_text(\"Residual\")\n",
    "\n",
    "        self.ax[1,2].plot(self.parameter.phi, self.X_residual.real, 'c--', label=r\"Stokes $Q$\")\n",
    "        self.ax[1,2].plot(self.parameter.phi, self.X_residual.imag, 'c:', label=r\"Stokes $U$\")\n",
    "        self.ax[1,2].plot(self.parameter.phi, np.abs(self.X_residual), 'k-', label=r\"$|P|$\")\n",
    "        self.ax[1,2].set_xlabel(r'$\\phi$[rad m$^{-2}$]')\n",
    "        self.ax[1,2].set_ylabel(r'Jy/beam m$^2$ rad$^{-1}$ rmtf$^{-1}$')\n",
    "        self.ax[1,2].set_xlim([-1000,1000])\n",
    "        \n",
    "        if self.use_wavelet:\n",
    "            self.ax[0,3].plot(self.coeffs)\n",
    "            self.ax[0,3].title.set_text(\"Coefficients\")\n",
    "\n",
    "        self.ax[1,3].plot(self.parameter.phi, self.X_restored.real, 'c--', label=r\"Stokes $Q$\")\n",
    "        self.ax[1,3].plot(self.parameter.phi, self.X_restored.imag, 'c:', label=r\"Stokes $U$\")\n",
    "        self.ax[1,3].plot(self.parameter.phi, np.abs(self.X_restored), 'k-', label=r\"$|P|$\")\n",
    "        self.ax[1,3].set_xlim([-1000,1000])\n",
    "        self.ax[1,3].set_xlabel(r'$\\phi$[rad m$^{-2}$]')\n",
    "        self.ax[1,3].set_ylabel(r'Jy/beam m$^2$ rad$^{-1}$ rmtf$^{-1}$')\n",
    "        self.ax[1,3].title.set_text(\"Restored\")\n",
    "        \n",
    "        self.fig.tight_layout()"
   ]
  },
  {
   "cell_type": "code",
   "execution_count": 3,
   "id": "2df5426b",
   "metadata": {
    "ExecuteTime": {
     "end_time": "2021-09-16T12:13:07.380900Z",
     "start_time": "2021-09-16T12:13:07.308313Z"
    }
   },
   "outputs": [],
   "source": [
    "source_1 = FaradayThinSource(s_nu=0.0035, phi_gal=-200, spectral_idx=1.0)\n",
    "source_2 = FaradayThickSource(s_nu=0.0035, phi_fg=140, phi_center=200, spectral_idx=1.0)"
   ]
  },
  {
   "cell_type": "code",
   "execution_count": 4,
   "id": "e7e34513",
   "metadata": {
    "ExecuteTime": {
     "end_time": "2021-09-16T12:13:07.437165Z",
     "start_time": "2021-09-16T12:13:07.381538Z"
    }
   },
   "outputs": [],
   "source": [
    "nsigma = [2.0, 3.0, 4.0, 5.0, 6.0, 7.0, 8.0, 9.0, 10.0]\n",
    "remove_frac = [0.0, 0.1, 0.2, 0.3, 0.4, 0.5, 0.6, 0.7, 0.8]"
   ]
  },
  {
   "cell_type": "code",
   "execution_count": 5,
   "id": "0d33c246",
   "metadata": {
    "ExecuteTime": {
     "end_time": "2021-09-16T12:13:07.652330Z",
     "start_time": "2021-09-16T12:13:07.437766Z"
    }
   },
   "outputs": [],
   "source": [
    "test_objs = []\n",
    "for nsig in nsigma:\n",
    "    for remv_frac in remove_frac:\n",
    "        test_objs.append(Test(nu_min=1.008e9, nu_max=2.031e9, nchannels=1000, noise_frac=nsig, remove_frac=remv_frac, scenario=1, use_wavelet=\"db4\", source_1=source_1, source_2=source_2))"
   ]
  },
  {
   "cell_type": "code",
   "execution_count": 6,
   "id": "e69f7c1f",
   "metadata": {
    "ExecuteTime": {
     "end_time": "2021-09-16T12:14:24.362854Z",
     "start_time": "2021-09-16T12:13:07.653044Z"
    }
   },
   "outputs": [
    {
     "name": "stdout",
     "output_type": "stream",
     "text": [
      "FWHM of the main peak of the RMTF: 51.962 rad/m^2\n",
      "Maximum recovered width structure: 144.188 rad/m^2\n",
      "Maximum Faraday Depth to which one has more than 50% sensitivity: 25954.896\n",
      "Iterations set to 23\n",
      "Iteration:  0  objective function value: 0.00669\n",
      "Signal-to-noise ratio: 1.6401985494622302\n",
      "Peak Signal-to-noise ratio: 81.43044991336326\n",
      "Normalized Root Mean Squared Error: 3.809067857218906e-05\n",
      "FWHM of the main peak of the RMTF: 52.102 rad/m^2\n",
      "Maximum recovered width structure: 144.188 rad/m^2\n",
      "Maximum Faraday Depth to which one has more than 50% sensitivity: 23419.848\n",
      "Iterations set to 21\n",
      "Iteration:  0  objective function value: 0.00702\n",
      "Signal-to-noise ratio: 1.411181737011413\n",
      "Peak Signal-to-noise ratio: 59.30200964970331\n",
      "Normalized Root Mean Squared Error: 5.256169970380142e-05\n",
      "FWHM of the main peak of the RMTF: 54.537 rad/m^2\n",
      "Maximum recovered width structure: 144.188 rad/m^2\n",
      "Maximum Faraday Depth to which one has more than 50% sensitivity: 21787.658\n",
      "Iterations set to 20\n",
      "Iteration:  0  objective function value: 0.00652\n",
      "Signal-to-noise ratio: 1.4369461218272397\n",
      "Peak Signal-to-noise ratio: 55.6401909577788\n",
      "Normalized Root Mean Squared Error: 5.550478454097174e-05\n",
      "FWHM of the main peak of the RMTF: 53.851 rad/m^2\n",
      "Maximum recovered width structure: 137.293 rad/m^2\n",
      "Maximum Faraday Depth to which one has more than 50% sensitivity: 18820.948\n",
      "Iterations set to 19\n",
      "Iteration:  0  objective function value: 0.00459\n",
      "Signal-to-noise ratio: 1.4517766714749318\n",
      "Peak Signal-to-noise ratio: 45.914777764651475\n",
      "Normalized Root Mean Squared Error: 5.393724495661445e-05\n",
      "FWHM of the main peak of the RMTF: 53.174 rad/m^2\n",
      "Maximum recovered width structure: 140.145 rad/m^2\n",
      "Maximum Faraday Depth to which one has more than 50% sensitivity: 15925.719\n",
      "Iterations set to 18\n",
      "Iteration:  0  objective function value: 0.00462\n",
      "Signal-to-noise ratio: 1.5392101834140057\n",
      "Peak Signal-to-noise ratio: 45.88424926280311\n",
      "Normalized Root Mean Squared Error: 5.6227308959933e-05\n",
      "FWHM of the main peak of the RMTF: 68.260 rad/m^2\n",
      "Maximum recovered width structure: 142.737 rad/m^2\n",
      "Maximum Faraday Depth to which one has more than 50% sensitivity: 17030.990\n",
      "Iterations set to 16\n",
      "Iteration:  0  objective function value: 0.00372\n",
      "Signal-to-noise ratio: 1.4809244594284363\n",
      "Peak Signal-to-noise ratio: 37.90363045569105\n",
      "Normalized Root Mean Squared Error: 6.884204049129039e-05\n",
      "FWHM of the main peak of the RMTF: 66.721 rad/m^2\n",
      "Maximum recovered width structure: 107.854 rad/m^2\n",
      "Maximum Faraday Depth to which one has more than 50% sensitivity: 13310.931\n",
      "Iterations set to 14\n",
      "Iteration:  0  objective function value: 0.00258\n",
      "Signal-to-noise ratio: 1.5240893138965832\n",
      "Peak Signal-to-noise ratio: 38.10210178565503\n",
      "Normalized Root Mean Squared Error: 7.550526061095297e-05\n",
      "FWHM of the main peak of the RMTF: 56.585 rad/m^2\n",
      "Maximum recovered width structure: 138.146 rad/m^2\n",
      "Maximum Faraday Depth to which one has more than 50% sensitivity: 8459.450\n",
      "Iterations set to 12\n",
      "Iteration:  0  objective function value: 0.00239\n",
      "Signal-to-noise ratio: 1.3233593337558986\n",
      "Peak Signal-to-noise ratio: 14.067733160579511\n",
      "Normalized Root Mean Squared Error: 0.0001191848423331976\n",
      "FWHM of the main peak of the RMTF: 70.091 rad/m^2\n",
      "Maximum recovered width structure: 130.844 rad/m^2\n",
      "Maximum Faraday Depth to which one has more than 50% sensitivity: 6939.038\n",
      "Iterations set to 10\n",
      "Iteration:  0  objective function value: 0.00202\n",
      "Signal-to-noise ratio: 1.2887442600586638\n",
      "Peak Signal-to-noise ratio: 12.270191190975378\n",
      "Normalized Root Mean Squared Error: 0.00018901663133874536\n",
      "FWHM of the main peak of the RMTF: 51.962 rad/m^2\n",
      "Maximum recovered width structure: 144.188 rad/m^2\n",
      "Maximum Faraday Depth to which one has more than 50% sensitivity: 25954.896\n",
      "Iterations set to 23\n",
      "Iteration:  0  objective function value: 0.00514\n",
      "Signal-to-noise ratio: 1.5319870424576234\n",
      "Peak Signal-to-noise ratio: 107.55051021948064\n",
      "Normalized Root Mean Squared Error: 3.0267055990407243e-05\n",
      "FWHM of the main peak of the RMTF: 53.667 rad/m^2\n",
      "Maximum recovered width structure: 144.188 rad/m^2\n",
      "Maximum Faraday Depth to which one has more than 50% sensitivity: 24123.150\n",
      "Iterations set to 21\n",
      "Iteration:  0  objective function value: 0.00470\n",
      "Signal-to-noise ratio: 1.4761465802476381\n",
      "Peak Signal-to-noise ratio: 80.91934395187667\n",
      "Normalized Root Mean Squared Error: 3.596641181502491e-05\n",
      "FWHM of the main peak of the RMTF: 52.102 rad/m^2\n",
      "Maximum recovered width structure: 144.188 rad/m^2\n",
      "Maximum Faraday Depth to which one has more than 50% sensitivity: 20814.748\n",
      "Iterations set to 20\n",
      "Iteration:  0  objective function value: 0.00419\n",
      "Signal-to-noise ratio: 1.4359620629307366\n",
      "Peak Signal-to-noise ratio: 64.21275221625717\n",
      "Normalized Root Mean Squared Error: 3.9189140807138756e-05\n",
      "FWHM of the main peak of the RMTF: 52.102 rad/m^2\n",
      "Maximum recovered width structure: 144.188 rad/m^2\n",
      "Maximum Faraday Depth to which one has more than 50% sensitivity: 18209.648\n",
      "Iterations set to 19\n",
      "Iteration:  0  objective function value: 0.00337\n",
      "Signal-to-noise ratio: 1.4974053756383081\n",
      "Peak Signal-to-noise ratio: 72.50047120856598\n",
      "Normalized Root Mean Squared Error: 3.754950739676133e-05\n",
      "FWHM of the main peak of the RMTF: 57.378 rad/m^2\n",
      "Maximum recovered width structure: 144.188 rad/m^2\n",
      "Maximum Faraday Depth to which one has more than 50% sensitivity: 17184.621\n",
      "Iterations set to 18\n",
      "Iteration:  0  objective function value: 0.00309\n",
      "Signal-to-noise ratio: 1.618445468032074\n",
      "Peak Signal-to-noise ratio: 73.92899745689016\n",
      "Normalized Root Mean Squared Error: 3.872173329000361e-05\n",
      "FWHM of the main peak of the RMTF: 63.463 rad/m^2\n",
      "Maximum recovered width structure: 144.188 rad/m^2\n",
      "Maximum Faraday Depth to which one has more than 50% sensitivity: 15833.921\n",
      "Iterations set to 16\n",
      "Iteration:  0  objective function value: 0.00196\n",
      "Signal-to-noise ratio: 1.5173532133272636\n",
      "Peak Signal-to-noise ratio: 43.15504423150378\n",
      "Normalized Root Mean Squared Error: 4.7295379772549495e-05\n",
      "FWHM of the main peak of the RMTF: 77.696 rad/m^2\n",
      "Maximum recovered width structure: 144.188 rad/m^2\n",
      "Maximum Faraday Depth to which one has more than 50% sensitivity: 15500.328\n",
      "Iterations set to 14\n",
      "Iteration:  0  objective function value: 0.00169\n",
      "Signal-to-noise ratio: 1.5736150685160268\n",
      "Peak Signal-to-noise ratio: 39.49850965943107\n",
      "Normalized Root Mean Squared Error: 5.577961201197468e-05\n",
      "FWHM of the main peak of the RMTF: 52.599 rad/m^2\n",
      "Maximum recovered width structure: 140.145 rad/m^2\n",
      "Maximum Faraday Depth to which one has more than 50% sensitivity: 7863.579\n",
      "Iterations set to 12\n",
      "Iteration:  0  objective function value: 0.00170\n",
      "Signal-to-noise ratio: 1.38237582748095\n",
      "Peak Signal-to-noise ratio: 27.50112310246033\n",
      "Normalized Root Mean Squared Error: 8.04166920715943e-05\n",
      "FWHM of the main peak of the RMTF: 52.418 rad/m^2\n",
      "Maximum recovered width structure: 141.582 rad/m^2\n",
      "Maximum Faraday Depth to which one has more than 50% sensitivity: 5189.391\n",
      "Iterations set to 10\n",
      "Iteration:  0  objective function value: 0.00099\n",
      "Signal-to-noise ratio: 1.1243165437220413\n",
      "Peak Signal-to-noise ratio: 10.050462060946174\n",
      "Normalized Root Mean Squared Error: 0.0001792752300389111\n",
      "FWHM of the main peak of the RMTF: 51.962 rad/m^2\n",
      "Maximum recovered width structure: 144.188 rad/m^2\n",
      "Maximum Faraday Depth to which one has more than 50% sensitivity: 25954.896\n",
      "Iterations set to 23\n",
      "Iteration:  0  objective function value: 0.00409\n",
      "Signal-to-noise ratio: 1.5071866945991739\n",
      "Peak Signal-to-noise ratio: 129.58544203731051\n",
      "Normalized Root Mean Squared Error: 2.458662129356526e-05\n",
      "FWHM of the main peak of the RMTF: 52.102 rad/m^2\n",
      "Maximum recovered width structure: 144.188 rad/m^2\n",
      "Maximum Faraday Depth to which one has more than 50% sensitivity: 23419.848\n",
      "Iterations set to 21\n",
      "Iteration:  0  objective function value: 0.00416\n",
      "Signal-to-noise ratio: 1.399190827724715\n",
      "Peak Signal-to-noise ratio: 104.62116150435497\n",
      "Normalized Root Mean Squared Error: 2.9711243769270368e-05\n",
      "FWHM of the main peak of the RMTF: 52.102 rad/m^2\n",
      "Maximum recovered width structure: 144.188 rad/m^2\n",
      "Maximum Faraday Depth to which one has more than 50% sensitivity: 20814.748\n",
      "Iterations set to 20\n",
      "Iteration:  0  objective function value: 0.00352\n",
      "Signal-to-noise ratio: 1.4565581917245274\n",
      "Peak Signal-to-noise ratio: 92.13139675756915\n",
      "Normalized Root Mean Squared Error: 3.13388227368705e-05\n",
      "FWHM of the main peak of the RMTF: 52.102 rad/m^2\n",
      "Maximum recovered width structure: 144.188 rad/m^2\n",
      "Maximum Faraday Depth to which one has more than 50% sensitivity: 18209.648\n"
     ]
    },
    {
     "name": "stderr",
     "output_type": "stream",
     "text": [
      "/tmp/ipykernel_114172/1269299935.py:140: RuntimeWarning: More than 20 figures have been opened. Figures created through the pyplot interface (`matplotlib.pyplot.figure`) are retained until explicitly closed and may consume too much memory. (To control this warning, see the rcParam `figure.max_open_warning`).\n",
      "  self.fig, self.ax = plt.subplots(nrows=2, ncols=4, sharey='row', figsize=(18, 5))\n"
     ]
    },
    {
     "name": "stdout",
     "output_type": "stream",
     "text": [
      "Iterations set to 19\n",
      "Iteration:  0  objective function value: 0.00285\n",
      "Signal-to-noise ratio: 1.5240768703432648\n",
      "Peak Signal-to-noise ratio: 105.84667169472301\n",
      "Normalized Root Mean Squared Error: 3.011893932125531e-05\n",
      "FWHM of the main peak of the RMTF: 57.319 rad/m^2\n",
      "Maximum recovered width structure: 131.677 rad/m^2\n",
      "Maximum Faraday Depth to which one has more than 50% sensitivity: 17166.998\n",
      "Iterations set to 18\n",
      "Iteration:  0  objective function value: 0.00231\n",
      "Signal-to-noise ratio: 1.6457137990823387\n",
      "Peak Signal-to-noise ratio: 112.69839267454022\n",
      "Normalized Root Mean Squared Error: 2.8858223231509328e-05\n",
      "FWHM of the main peak of the RMTF: 58.835 rad/m^2\n",
      "Maximum recovered width structure: 143.752 rad/m^2\n",
      "Maximum Faraday Depth to which one has more than 50% sensitivity: 14679.265\n",
      "Iterations set to 16\n",
      "Iteration:  0  objective function value: 0.00160\n",
      "Signal-to-noise ratio: 1.5529375980925069\n",
      "Peak Signal-to-noise ratio: 42.18356902886122\n",
      "Normalized Root Mean Squared Error: 3.6838711821474135e-05\n",
      "FWHM of the main peak of the RMTF: 54.298 rad/m^2\n",
      "Maximum recovered width structure: 134.189 rad/m^2\n",
      "Maximum Faraday Depth to which one has more than 50% sensitivity: 10832"
     ]
    },
    {
     "data": {
      "text/html": [
       "<b>limit_output extension: Maximum message size of 10000 exceeded with 10005 characters</b>"
      ]
     },
     "metadata": {},
     "output_type": "display_data"
    }
   ],
   "source": [
    "nid = len(nsigma)*len(remove_frac)\n",
    "for _id in range(0, nid):\n",
    "    test_objs[_id].run()"
   ]
  },
  {
   "cell_type": "code",
   "execution_count": 24,
   "id": "5a559cd8",
   "metadata": {
    "ExecuteTime": {
     "end_time": "2021-09-16T12:23:44.650284Z",
     "start_time": "2021-09-16T12:23:44.648773Z"
    }
   },
   "outputs": [],
   "source": [
    "selected_test = test_objs[7]"
   ]
  },
  {
   "cell_type": "code",
   "execution_count": 25,
   "id": "2c69e796",
   "metadata": {
    "ExecuteTime": {
     "end_time": "2021-09-16T12:23:45.017742Z",
     "start_time": "2021-09-16T12:23:45.015711Z"
    }
   },
   "outputs": [
    {
     "data": {
      "text/plain": [
       "0.7"
      ]
     },
     "execution_count": 25,
     "metadata": {},
     "output_type": "execute_result"
    }
   ],
   "source": [
    "selected_test.remove_frac"
   ]
  },
  {
   "cell_type": "code",
   "execution_count": 26,
   "id": "fffc7688",
   "metadata": {
    "ExecuteTime": {
     "end_time": "2021-09-16T12:23:45.812811Z",
     "start_time": "2021-09-16T12:23:45.497134Z"
    }
   },
   "outputs": [
    {
     "data": {
      "image/png": "[encoded data removed]",
      "text/plain": [
       "<Figure size 1296x360 with 8 Axes>"
      ]
     },
     "execution_count": 26,
     "metadata": {},
     "output_type": "execute_result"
    }
   ],
   "source": [
    "selected_test.fig"
   ]
  },
  {
   "cell_type": "code",
   "execution_count": 10,
   "id": "356c6193",
   "metadata": {
    "ExecuteTime": {
     "end_time": "2021-09-16T12:14:24.874252Z",
     "start_time": "2021-09-16T12:14:24.804895Z"
    }
   },
   "outputs": [
    {
     "data": {
      "image/png": "[encoded data removed]",
      "text/plain": [
       "<Figure size 432x288 with 1 Axes>"
      ]
     },
     "metadata": {
      "needs_background": "light"
     },
     "output_type": "display_data"
    }
   ],
   "source": [
    "plt.plot(selected_test.lags, selected_test.autocorr_res.real, '|-', c=\"black\", label=r\"Real part\")\n",
    "plt.plot(selected_test.lags, selected_test.autocorr_res.imag, '|-', c=\"cyan\", label=r\"Imaginary part\")\n",
    "plt.axhline(-selected_test.bound)\n",
    "plt.axhline(selected_test.bound)\n",
    "plt.grid()"
   ]
  },
  {
   "cell_type": "code",
   "execution_count": 11,
   "id": "f2aa60dd",
   "metadata": {
    "ExecuteTime": {
     "end_time": "2021-09-16T12:14:24.889582Z",
     "start_time": "2021-09-16T12:14:24.874974Z"
    }
   },
   "outputs": [],
   "source": [
    "#from framework.base import boxpierce, ljungbox\n",
    "#ljungbox(selected_test.autocorr_res.real, [1, 400, 600, 800, 1000, 1200, len(selected_test.lags)-1])"
   ]
  },
  {
   "cell_type": "code",
   "execution_count": 12,
   "id": "5147a1be",
   "metadata": {
    "ExecuteTime": {
     "end_time": "2021-09-16T12:14:24.938199Z",
     "start_time": "2021-09-16T12:14:24.891261Z"
    }
   },
   "outputs": [],
   "source": [
    "#boxpierce(selected_test.autocorr_res.real, [1, 400, 600, 800, 1000, 1200, len(selected_test.lags)-1])"
   ]
  },
  {
   "cell_type": "code",
   "execution_count": 13,
   "id": "5a6de0ba",
   "metadata": {
    "ExecuteTime": {
     "end_time": "2021-09-16T12:14:25.048518Z",
     "start_time": "2021-09-16T12:14:24.938813Z"
    }
   },
   "outputs": [
    {
     "data": {
      "image/png": "[encoded data removed]",
      "text/plain": [
       "<Figure size 432x288 with 1 Axes>"
      ]
     },
     "metadata": {
      "needs_background": "light"
     },
     "output_type": "display_data"
    }
   ],
   "source": [
    "plt.plot(selected_test.lags, selected_test.autocorr_res_sq.real, '|-', c=\"black\", label=r\"Real part\")\n",
    "plt.plot(selected_test.lags, selected_test.autocorr_res_sq.imag, '|-', c=\"cyan\", label=r\"Imaginary part\")\n",
    "plt.axhline(-selected_test.bound)\n",
    "plt.axhline(selected_test.bound)\n",
    "plt.grid()"
   ]
  },
  {
   "cell_type": "code",
   "execution_count": 14,
   "id": "64679db9",
   "metadata": {
    "ExecuteTime": {
     "end_time": "2021-09-16T12:14:25.051561Z",
     "start_time": "2021-09-16T12:14:25.049246Z"
    }
   },
   "outputs": [
    {
     "data": {
      "text/plain": [
       "(96.83544303797468, 96.83544303797468)"
      ]
     },
     "execution_count": 14,
     "metadata": {},
     "output_type": "execute_result"
    }
   ],
   "source": [
    "selected_test.percentage_real_in, selected_test.percentage_imag_in"
   ]
  },
  {
   "cell_type": "code",
   "execution_count": 15,
   "id": "9b49cfa2",
   "metadata": {
    "ExecuteTime": {
     "end_time": "2021-09-16T12:14:25.099998Z",
     "start_time": "2021-09-16T12:14:25.052257Z"
    }
   },
   "outputs": [
    {
     "name": "stdout",
     "output_type": "stream",
     "text": [
      "0.0016628280915141696\n"
     ]
    }
   ],
   "source": [
    "std_res_real = np.std(selected_test.source.residual.real)\n",
    "print(std_res_real)"
   ]
  },
  {
   "cell_type": "code",
   "execution_count": 16,
   "id": "8042e7ed",
   "metadata": {
    "ExecuteTime": {
     "end_time": "2021-09-16T12:14:25.148443Z",
     "start_time": "2021-09-16T12:14:25.100748Z"
    }
   },
   "outputs": [
    {
     "name": "stdout",
     "output_type": "stream",
     "text": [
      "0.001661041088322438\n"
     ]
    }
   ],
   "source": [
    "std_res_imag = np.std(selected_test.source.residual.imag)\n",
    "print(std_res_imag)"
   ]
  },
  {
   "cell_type": "code",
   "execution_count": 17,
   "id": "c32e76c0",
   "metadata": {
    "ExecuteTime": {
     "end_time": "2021-09-16T12:14:25.197300Z",
     "start_time": "2021-09-16T12:14:25.149129Z"
    }
   },
   "outputs": [
    {
     "data": {
      "text/plain": [
       "0.00175"
      ]
     },
     "execution_count": 17,
     "metadata": {},
     "output_type": "execute_result"
    }
   ],
   "source": [
    "selected_test.avg_signal/selected_test.noise_frac"
   ]
  },
  {
   "cell_type": "code",
   "execution_count": 18,
   "id": "eaacd91b",
   "metadata": {
    "ExecuteTime": {
     "end_time": "2021-09-16T12:14:25.245032Z",
     "start_time": "2021-09-16T12:14:25.197965Z"
    }
   },
   "outputs": [
    {
     "data": {
      "text/plain": [
       "45.914777764651475"
      ]
     },
     "execution_count": 18,
     "metadata": {},
     "output_type": "execute_result"
    }
   ],
   "source": [
    "selected_test.psnr"
   ]
  },
  {
   "cell_type": "code",
   "execution_count": 19,
   "id": "e6b7f52e",
   "metadata": {
    "ExecuteTime": {
     "end_time": "2021-09-16T12:14:25.293694Z",
     "start_time": "2021-09-16T12:14:25.245636Z"
    }
   },
   "outputs": [
    {
     "data": {
      "text/plain": [
       "3.0267055990407243e-05"
      ]
     },
     "execution_count": 19,
     "metadata": {},
     "output_type": "execute_result"
    }
   ],
   "source": [
    "test_objs[9].rmse"
   ]
  },
  {
   "cell_type": "code",
   "execution_count": 20,
   "id": "0bc53df9",
   "metadata": {
    "ExecuteTime": {
     "end_time": "2021-09-16T12:14:25.429122Z",
     "start_time": "2021-09-16T12:14:25.294464Z"
    }
   },
   "outputs": [],
   "source": [
    "import pandas as pd"
   ]
  },
  {
   "cell_type": "code",
   "execution_count": 21,
   "id": "e696a551",
   "metadata": {
    "ExecuteTime": {
     "end_time": "2021-09-16T12:14:25.439616Z",
     "start_time": "2021-09-16T12:14:25.429861Z"
    }
   },
   "outputs": [
    {
     "data": {
      "text/html": [
       "<div>\n",
       "<style scoped>\n",
       "    .dataframe tbody tr th:only-of-type {\n",
       "        vertical-align: middle;\n",
       "    }\n",
       "\n",
       "    .dataframe tbody tr th {\n",
       "        vertical-align: top;\n",
       "    }\n",
       "\n",
       "    .dataframe thead th {\n",
       "        text-align: right;\n",
       "    }\n",
       "</style>\n",
       "<table border=\"1\" class=\"dataframe\">\n",
       "  <thead>\n",
       "    <tr style=\"text-align: right;\">\n",
       "      <th></th>\n",
       "      <th>0.0</th>\n",
       "      <th>0.1</th>\n",
       "      <th>0.2</th>\n",
       "      <th>0.3</th>\n",
       "      <th>0.4</th>\n",
       "      <th>0.5</th>\n",
       "      <th>0.6</th>\n",
       "      <th>0.7</th>\n",
       "      <th>0.8</th>\n",
       "    </tr>\n",
       "  </thead>\n",
       "  <tbody>\n",
       "    <tr>\n",
       "      <th>2.0</th>\n",
       "      <td>81.430450</td>\n",
       "      <td>59.302010</td>\n",
       "      <td>55.640191</td>\n",
       "      <td>45.914778</td>\n",
       "      <td>45.884249</td>\n",
       "      <td>37.903630</td>\n",
       "      <td>38.102102</td>\n",
       "      <td>14.067733</td>\n",
       "      <td>12.270191</td>\n",
       "    </tr>\n",
       "    <tr>\n",
       "      <th>3.0</th>\n",
       "      <td>107.550510</td>\n",
       "      <td>80.919344</td>\n",
       "      <td>64.212752</td>\n",
       "      <td>72.500471</td>\n",
       "      <td>73.928997</td>\n",
       "      <td>43.155044</td>\n",
       "      <td>39.498510</td>\n",
       "      <td>27.501123</td>\n",
       "      <td>10.050462</td>\n",
       "    </tr>\n",
       "    <tr>\n",
       "      <th>4.0</th>\n",
       "      <td>129.585442</td>\n",
       "      <td>104.621162</td>\n",
       "      <td>92.131397</td>\n",
       "      <td>105.846672</td>\n",
       "      <td>112.698393</td>\n",
       "      <td>42.183569</td>\n",
       "      <td>54.993778</td>\n",
       "      <td>22.319566</td>\n",
       "      <td>19.138881</td>\n",
       "    </tr>\n",
       "    <tr>\n",
       "      <th>5.0</th>\n",
       "      <td>160.145321</td>\n",
       "      <td>128.882189</td>\n",
       "      <td>129.891803</td>\n",
       "      <td>134.121279</td>\n",
       "      <td>96.846148</td>\n",
       "      <td>79.804810</td>\n",
       "      <td>63.806382</td>\n",
       "      <td>72.989262</td>\n",
       "      <td>34.120029</td>\n",
       "    </tr>\n",
       "    <tr>\n",
       "      <th>6.0</th>\n",
       "      <td>188.115746</td>\n",
       "      <td>144.540356</td>\n",
       "      <td>127.055077</td>\n",
       "      <td>144.938092</td>\n",
       "      <td>137.477502</td>\n",
       "      <td>66.455760</td>\n",
       "      <td>94.516786</td>\n",
       "      <td>37.587801</td>\n",
       "      <td>26.798636</td>\n",
       "    </tr>\n",
       "    <tr>\n",
       "      <th>7.0</th>\n",
       "      <td>200.466059</td>\n",
       "      <td>149.794403</td>\n",
       "      <td>148.573609</td>\n",
       "      <td>185.543370</td>\n",
       "      <td>155.393915</td>\n",
       "      <td>88.271878</td>\n",
       "      <td>77.343398</td>\n",
       "      <td>50.724559</td>\n",
       "      <td>24.385294</td>\n",
       "    </tr>\n",
       "    <tr>\n",
       "      <th>8.0</th>\n",
       "      <td>231.192573</td>\n",
       "      <td>188.091470</td>\n",
       "      <td>169.205401</td>\n",
       "      <td>166.046803</td>\n",
       "      <td>226.543198</td>\n",
       "      <td>87.608389</td>\n",
       "      <td>69.798913</td>\n",
       "      <td>37.689355</td>\n",
       "      <td>39.230503</td>\n",
       "    </tr>\n",
       "    <tr>\n",
       "      <th>9.0</th>\n",
       "      <td>257.037636</td>\n",
       "      <td>215.909552</td>\n",
       "      <td>195.084155</td>\n",
       "      <td>180.884950</td>\n",
       "      <td>156.564098</td>\n",
       "      <td>140.801963</td>\n",
       "      <td>85.742508</td>\n",
       "      <td>39.175263</td>\n",
       "      <td>48.554259</td>\n",
       "    </tr>\n",
       "    <tr>\n",
       "      <th>10.0</th>\n",
       "      <td>269.136834</td>\n",
       "      <td>201.039268</td>\n",
       "      <td>200.050066</td>\n",
       "      <td>169.533633</td>\n",
       "      <td>147.450600</td>\n",
       "      <td>178.622066</td>\n",
       "      <td>124.745291</td>\n",
       "      <td>48.044958</td>\n",
       "      <td>11.959257</td>\n",
       "    </tr>\n",
       "  </tbody>\n",
       "</table>\n",
       "</div>"
      ],
      "text/plain": [
       "             0.0         0.1         0.2         0.3         0.4         0.5  \\\n",
       "2.0    81.430450   59.302010   55.640191   45.914778   45.884249   37.903630   \n",
       "3.0   107.550510   80.919344   64.212752   72.500471   73.928997   43.155044   \n",
       "4.0   129.585442  104.621162   92.131397  105.846672  112.698393   42.183569   \n",
       "5.0   160.145321  128.882189  129.891803  134.121279   96.846148   79.804810   \n",
       "6.0   188.115746  144.540356  127.055077  144.938092  137.477502   66.455760   \n",
       "7.0   200.466059  149.794403  148.573609  185.543370  155.393915   88.271878   \n",
       "8.0   231.192573  188.091470  169.205401  166.046803  226.543198   87.608389   \n",
       "9.0   257.037636  215.909552  195.084155  180.884950  156.564098  140.801963   \n",
       "10.0  269.136834  201.039268  200.050066  169.533633  147.450600  178.622066   \n",
       "\n",
       "             0.6        0.7        0.8  \n",
       "2.0    38.102102  14.067733  12.270191  \n",
       "3.0    39.498510  27.501123  10.050462  \n",
       "4.0    54.993778  22.319566  19.138881  \n",
       "5.0    63.806382  72.989262  34.120029  \n",
       "6.0    94.516786  37.587801  26.798636  \n",
       "7.0    77.343398  50.724559  24.385294  \n",
       "8.0    69.798913  37.689355  39.230503  \n",
       "9.0    85.742508  39.175263  48.554259  \n",
       "10.0  124.745291  48.044958  11.959257  "
      ]
     },
     "execution_count": 21,
     "metadata": {},
     "output_type": "execute_result"
    }
   ],
   "source": [
    "pd.DataFrame(np.array_split([x.psnr for x in test_objs], len(remove_frac)), columns=remove_frac, index=1/nsigma)"
   ]
  },
  {
   "cell_type": "code",
   "execution_count": 22,
   "id": "b86a1737",
   "metadata": {
    "ExecuteTime": {
     "end_time": "2021-09-16T12:14:25.490181Z",
     "start_time": "2021-09-16T12:14:25.440421Z"
    }
   },
   "outputs": [
    {
     "data": {
      "text/html": [
       "<div>\n",
       "<style scoped>\n",
       "    .dataframe tbody tr th:only-of-type {\n",
       "        vertical-align: middle;\n",
       "    }\n",
       "\n",
       "    .dataframe tbody tr th {\n",
       "        vertical-align: top;\n",
       "    }\n",
       "\n",
       "    .dataframe thead th {\n",
       "        text-align: right;\n",
       "    }\n",
       "</style>\n",
       "<table border=\"1\" class=\"dataframe\">\n",
       "  <thead>\n",
       "    <tr style=\"text-align: right;\">\n",
       "      <th></th>\n",
       "      <th>0.0</th>\n",
       "      <th>0.1</th>\n",
       "      <th>0.2</th>\n",
       "      <th>0.3</th>\n",
       "      <th>0.4</th>\n",
       "      <th>0.5</th>\n",
       "      <th>0.6</th>\n",
       "      <th>0.7</th>\n",
       "      <th>0.8</th>\n",
       "    </tr>\n",
       "  </thead>\n",
       "  <tbody>\n",
       "    <tr>\n",
       "      <th>2.0</th>\n",
       "      <td>0.000038</td>\n",
       "      <td>0.000053</td>\n",
       "      <td>0.000056</td>\n",
       "      <td>0.000054</td>\n",
       "      <td>0.000056</td>\n",
       "      <td>0.000069</td>\n",
       "      <td>0.000076</td>\n",
       "      <td>0.000119</td>\n",
       "      <td>0.000189</td>\n",
       "    </tr>\n",
       "    <tr>\n",
       "      <th>3.0</th>\n",
       "      <td>0.000030</td>\n",
       "      <td>0.000036</td>\n",
       "      <td>0.000039</td>\n",
       "      <td>0.000038</td>\n",
       "      <td>0.000039</td>\n",
       "      <td>0.000047</td>\n",
       "      <td>0.000056</td>\n",
       "      <td>0.000080</td>\n",
       "      <td>0.000179</td>\n",
       "    </tr>\n",
       "    <tr>\n",
       "      <th>4.0</th>\n",
       "      <td>0.000025</td>\n",
       "      <td>0.000030</td>\n",
       "      <td>0.000031</td>\n",
       "      <td>0.000030</td>\n",
       "      <td>0.000029</td>\n",
       "      <td>0.000037</td>\n",
       "      <td>0.000055</td>\n",
       "      <td>0.000065</td>\n",
       "      <td>0.000076</td>\n",
       "    </tr>\n",
       "    <tr>\n",
       "      <th>5.0</th>\n",
       "      <td>0.000020</td>\n",
       "      <td>0.000024</td>\n",
       "      <td>0.000026</td>\n",
       "      <td>0.000024</td>\n",
       "      <td>0.000023</td>\n",
       "      <td>0.000026</td>\n",
       "      <td>0.000039</td>\n",
       "      <td>0.000039</td>\n",
       "      <td>0.000052</td>\n",
       "    </tr>\n",
       "    <tr>\n",
       "      <th>6.0</th>\n",
       "      <td>0.000017</td>\n",
       "      <td>0.000021</td>\n",
       "      <td>0.000021</td>\n",
       "      <td>0.000021</td>\n",
       "      <td>0.000021</td>\n",
       "      <td>0.000028</td>\n",
       "      <td>0.000033</td>\n",
       "      <td>0.000060</td>\n",
       "      <td>0.000051</td>\n",
       "    </tr>\n",
       "    <tr>\n",
       "      <th>7.0</th>\n",
       "      <td>0.000016</td>\n",
       "      <td>0.000019</td>\n",
       "      <td>0.000019</td>\n",
       "      <td>0.000019</td>\n",
       "      <td>0.000018</td>\n",
       "      <td>0.000022</td>\n",
       "      <td>0.000027</td>\n",
       "      <td>0.000055</td>\n",
       "      <td>0.000072</td>\n",
       "    </tr>\n",
       "    <tr>\n",
       "      <th>8.0</th>\n",
       "      <td>0.000014</td>\n",
       "      <td>0.000017</td>\n",
       "      <td>0.000017</td>\n",
       "      <td>0.000018</td>\n",
       "      <td>0.000016</td>\n",
       "      <td>0.000021</td>\n",
       "      <td>0.000026</td>\n",
       "      <td>0.000059</td>\n",
       "      <td>0.000042</td>\n",
       "    </tr>\n",
       "    <tr>\n",
       "      <th>9.0</th>\n",
       "      <td>0.000013</td>\n",
       "      <td>0.000015</td>\n",
       "      <td>0.000016</td>\n",
       "      <td>0.000013</td>\n",
       "      <td>0.000016</td>\n",
       "      <td>0.000016</td>\n",
       "      <td>0.000025</td>\n",
       "      <td>0.000043</td>\n",
       "      <td>0.000054</td>\n",
       "    </tr>\n",
       "    <tr>\n",
       "      <th>10.0</th>\n",
       "      <td>0.000012</td>\n",
       "      <td>0.000015</td>\n",
       "      <td>0.000015</td>\n",
       "      <td>0.000015</td>\n",
       "      <td>0.000013</td>\n",
       "      <td>0.000018</td>\n",
       "      <td>0.000023</td>\n",
       "      <td>0.000038</td>\n",
       "      <td>0.000194</td>\n",
       "    </tr>\n",
       "  </tbody>\n",
       "</table>\n",
       "</div>"
      ],
      "text/plain": [
       "           0.0       0.1       0.2       0.3       0.4       0.5       0.6  \\\n",
       "2.0   0.000038  0.000053  0.000056  0.000054  0.000056  0.000069  0.000076   \n",
       "3.0   0.000030  0.000036  0.000039  0.000038  0.000039  0.000047  0.000056   \n",
       "4.0   0.000025  0.000030  0.000031  0.000030  0.000029  0.000037  0.000055   \n",
       "5.0   0.000020  0.000024  0.000026  0.000024  0.000023  0.000026  0.000039   \n",
       "6.0   0.000017  0.000021  0.000021  0.000021  0.000021  0.000028  0.000033   \n",
       "7.0   0.000016  0.000019  0.000019  0.000019  0.000018  0.000022  0.000027   \n",
       "8.0   0.000014  0.000017  0.000017  0.000018  0.000016  0.000021  0.000026   \n",
       "9.0   0.000013  0.000015  0.000016  0.000013  0.000016  0.000016  0.000025   \n",
       "10.0  0.000012  0.000015  0.000015  0.000015  0.000013  0.000018  0.000023   \n",
       "\n",
       "           0.7       0.8  \n",
       "2.0   0.000119  0.000189  \n",
       "3.0   0.000080  0.000179  \n",
       "4.0   0.000065  0.000076  \n",
       "5.0   0.000039  0.000052  \n",
       "6.0   0.000060  0.000051  \n",
       "7.0   0.000055  0.000072  \n",
       "8.0   0.000059  0.000042  \n",
       "9.0   0.000043  0.000054  \n",
       "10.0  0.000038  0.000194  "
      ]
     },
     "execution_count": 22,
     "metadata": {},
     "output_type": "execute_result"
    }
   ],
   "source": [
    "pd.DataFrame(np.array_split([x.rmse for x in test_objs], len(remove_frac)), columns=remove_frac, index=1/nsigma)"
   ]
  },
  {
   "cell_type": "code",
   "execution_count": 23,
   "id": "6bdf4dbf",
   "metadata": {
    "ExecuteTime": {
     "end_time": "2021-09-16T12:14:25.554190Z",
     "start_time": "2021-09-16T12:14:25.491053Z"
    }
   },
   "outputs": [
    {
     "data": {
      "text/html": [
       "<div>\n",
       "<style scoped>\n",
       "    .dataframe tbody tr th:only-of-type {\n",
       "        vertical-align: middle;\n",
       "    }\n",
       "\n",
       "    .dataframe tbody tr th {\n",
       "        vertical-align: top;\n",
       "    }\n",
       "\n",
       "    .dataframe thead th {\n",
       "        text-align: right;\n",
       "    }\n",
       "</style>\n",
       "<table border=\"1\" class=\"dataframe\">\n",
       "  <thead>\n",
       "    <tr style=\"text-align: right;\">\n",
       "      <th></th>\n",
       "      <th>0.0</th>\n",
       "      <th>0.1</th>\n",
       "      <th>0.2</th>\n",
       "      <th>0.3</th>\n",
       "      <th>0.4</th>\n",
       "      <th>0.5</th>\n",
       "      <th>0.6</th>\n",
       "      <th>0.7</th>\n",
       "      <th>0.8</th>\n",
       "    </tr>\n",
       "  </thead>\n",
       "  <tbody>\n",
       "    <tr>\n",
       "      <th>2.0</th>\n",
       "      <td>0.0014</td>\n",
       "      <td>0.001268</td>\n",
       "      <td>0.002255</td>\n",
       "      <td>0.002566</td>\n",
       "      <td>0.002639</td>\n",
       "      <td>0.00315</td>\n",
       "      <td>0.004555</td>\n",
       "      <td>0.006033</td>\n",
       "      <td>0.00651</td>\n",
       "    </tr>\n",
       "    <tr>\n",
       "      <th>3.0</th>\n",
       "      <td>0.0014</td>\n",
       "      <td>0.001268</td>\n",
       "      <td>0.002255</td>\n",
       "      <td>0.002566</td>\n",
       "      <td>0.002639</td>\n",
       "      <td>0.00315</td>\n",
       "      <td>0.004555</td>\n",
       "      <td>0.006033</td>\n",
       "      <td>0.00651</td>\n",
       "    </tr>\n",
       "    <tr>\n",
       "      <th>4.0</th>\n",
       "      <td>0.0014</td>\n",
       "      <td>0.001268</td>\n",
       "      <td>0.002255</td>\n",
       "      <td>0.002566</td>\n",
       "      <td>0.002639</td>\n",
       "      <td>0.00315</td>\n",
       "      <td>0.004555</td>\n",
       "      <td>0.006033</td>\n",
       "      <td>0.00651</td>\n",
       "    </tr>\n",
       "    <tr>\n",
       "      <th>5.0</th>\n",
       "      <td>0.0014</td>\n",
       "      <td>0.001268</td>\n",
       "      <td>0.002255</td>\n",
       "      <td>0.002566</td>\n",
       "      <td>0.002639</td>\n",
       "      <td>0.00315</td>\n",
       "      <td>0.004555</td>\n",
       "      <td>0.002959</td>\n",
       "      <td>0.00651</td>\n",
       "    </tr>\n",
       "    <tr>\n",
       "      <th>6.0</th>\n",
       "      <td>0.0014</td>\n",
       "      <td>0.001268</td>\n",
       "      <td>0.002255</td>\n",
       "      <td>0.002566</td>\n",
       "      <td>0.002639</td>\n",
       "      <td>0.00315</td>\n",
       "      <td>0.004555</td>\n",
       "      <td>0.006033</td>\n",
       "      <td>0.00651</td>\n",
       "    </tr>\n",
       "    <tr>\n",
       "      <th>7.0</th>\n",
       "      <td>0.0014</td>\n",
       "      <td>0.001268</td>\n",
       "      <td>0.002255</td>\n",
       "      <td>0.002566</td>\n",
       "      <td>0.002639</td>\n",
       "      <td>0.00315</td>\n",
       "      <td>0.004555</td>\n",
       "      <td>0.006033</td>\n",
       "      <td>0.00651</td>\n",
       "    </tr>\n",
       "    <tr>\n",
       "      <th>8.0</th>\n",
       "      <td>0.0014</td>\n",
       "      <td>0.001268</td>\n",
       "      <td>0.002255</td>\n",
       "      <td>0.002566</td>\n",
       "      <td>0.002639</td>\n",
       "      <td>0.00315</td>\n",
       "      <td>0.004555</td>\n",
       "      <td>0.006033</td>\n",
       "      <td>0.00651</td>\n",
       "    </tr>\n",
       "    <tr>\n",
       "      <th>9.0</th>\n",
       "      <td>0.0014</td>\n",
       "      <td>0.001268</td>\n",
       "      <td>0.002255</td>\n",
       "      <td>0.002566</td>\n",
       "      <td>0.002639</td>\n",
       "      <td>0.00315</td>\n",
       "      <td>0.004555</td>\n",
       "      <td>0.006033</td>\n",
       "      <td>0.00651</td>\n",
       "    </tr>\n",
       "    <tr>\n",
       "      <th>10.0</th>\n",
       "      <td>0.0014</td>\n",
       "      <td>0.001268</td>\n",
       "      <td>0.002255</td>\n",
       "      <td>0.002566</td>\n",
       "      <td>0.002639</td>\n",
       "      <td>0.00315</td>\n",
       "      <td>0.004555</td>\n",
       "      <td>0.006033</td>\n",
       "      <td>0.00651</td>\n",
       "    </tr>\n",
       "  </tbody>\n",
       "</table>\n",
       "</div>"
      ],
      "text/plain": [
       "         0.0       0.1       0.2       0.3       0.4      0.5       0.6  \\\n",
       "2.0   0.0014  0.001268  0.002255  0.002566  0.002639  0.00315  0.004555   \n",
       "3.0   0.0014  0.001268  0.002255  0.002566  0.002639  0.00315  0.004555   \n",
       "4.0   0.0014  0.001268  0.002255  0.002566  0.002639  0.00315  0.004555   \n",
       "5.0   0.0014  0.001268  0.002255  0.002566  0.002639  0.00315  0.004555   \n",
       "6.0   0.0014  0.001268  0.002255  0.002566  0.002639  0.00315  0.004555   \n",
       "7.0   0.0014  0.001268  0.002255  0.002566  0.002639  0.00315  0.004555   \n",
       "8.0   0.0014  0.001268  0.002255  0.002566  0.002639  0.00315  0.004555   \n",
       "9.0   0.0014  0.001268  0.002255  0.002566  0.002639  0.00315  0.004555   \n",
       "10.0  0.0014  0.001268  0.002255  0.002566  0.002639  0.00315  0.004555   \n",
       "\n",
       "           0.7      0.8  \n",
       "2.0   0.006033  0.00651  \n",
       "3.0   0.006033  0.00651  \n",
       "4.0   0.006033  0.00651  \n",
       "5.0   0.002959  0.00651  \n",
       "6.0   0.006033  0.00651  \n",
       "7.0   0.006033  0.00651  \n",
       "8.0   0.006033  0.00651  \n",
       "9.0   0.006033  0.00651  \n",
       "10.0  0.006033  0.00651  "
      ]
     },
     "execution_count": 23,
     "metadata": {},
     "output_type": "execute_result"
    }
   ],
   "source": [
    "pd.DataFrame(np.array_split([x.sparsity*100.0 for x in test_objs], len(remove_frac)), columns=remove_frac, index=1/nsigma)"
   ]
  },
  {
   "cell_type": "code",
   "execution_count": null,
   "id": "6c1e3d7e",
   "metadata": {},
   "outputs": [],
   "source": []
  }
 ],
 "metadata": {
  "kernelspec": {
   "display_name": "Python 3 (ipykernel)",
   "language": "python",
   "name": "python3"
  },
  "language_info": {
   "codemirror_mode": {
    "name": "ipython",
    "version": 3
   },
   "file_extension": ".py",
   "mimetype": "text/x-python",
   "name": "python",
   "nbconvert_exporter": "python",
   "pygments_lexer": "ipython3",
   "version": "3.9.6"
  },
  "latex_envs": {
   "LaTeX_envs_menu_present": true,
   "autoclose": false,
   "autocomplete": true,
   "bibliofile": "biblio.bib",
   "cite_by": "apalike",
   "current_citInitial": 1,
   "eqLabelWithNumbers": true,
   "eqNumInitial": 1,
   "hotkeys": {
    "equation": "Ctrl-E",
    "itemize": "Ctrl-I"
   },
   "labels_anchors": false,
   "latex_user_defs": false,
   "report_style_numbering": false,
   "user_envs_cfg": false
  },
  "toc": {
   "base_numbering": 1,
   "nav_menu": {},
   "number_sections": true,
   "sideBar": true,
   "skip_h1_title": false,
   "title_cell": "Table of Contents",
   "title_sidebar": "Contents",
   "toc_cell": false,
   "toc_position": {},
   "toc_section_display": true,
   "toc_window_display": false
  },
  "varInspector": {
   "cols": {
    "lenName": 16,
    "lenType": 16,
    "lenVar": 40
   },
   "kernels_config": {
    "python": {
     "delete_cmd_postfix": "",
     "delete_cmd_prefix": "del ",
     "library": "var_list.py",
     "varRefreshCmd": "print(var_dic_list())"
    },
    "r": {
     "delete_cmd_postfix": ") ",
     "delete_cmd_prefix": "rm(",
     "library": "var_list.r",
     "varRefreshCmd": "cat(var_dic_list()) "
    }
   },
   "types_to_exclude": [
    "module",
    "function",
    "builtin_function_or_method",
    "instance",
    "_Feature"
   ],
   "window_display": false
  }
 },
 "nbformat": 4,
 "nbformat_minor": 5
}
